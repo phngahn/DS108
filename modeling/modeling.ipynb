{
 "cells": [
  {
   "cell_type": "code",
   "execution_count": 18,
   "metadata": {},
   "outputs": [],
   "source": [
    "import pandas as pd\n",
    "from datetime import datetime\n",
    "import calendar\n",
    "import matplotlib.pyplot as plt\n",
    "import numpy as np\n",
    "import re"
   ]
  },
  {
   "cell_type": "code",
   "execution_count": 19,
   "metadata": {},
   "outputs": [],
   "source": [
    "data = pd.read_csv(r'..\\preprocessing\\tidy_data.csv', encoding = 'utf-8-sig')"
   ]
  },
  {
   "cell_type": "code",
   "execution_count": 20,
   "metadata": {},
   "outputs": [
    {
     "data": {
      "text/plain": [
       "(11372, 27)"
      ]
     },
     "execution_count": 20,
     "metadata": {},
     "output_type": "execute_result"
    }
   ],
   "source": [
    "# Số dòng và cột của dữ liệu\n",
    "data.shape"
   ]
  },
  {
   "cell_type": "code",
   "execution_count": 21,
   "metadata": {},
   "outputs": [
    {
     "data": {
      "text/plain": [
       "Index(['name', 'brand', 'condition', 'price_old', 'price_new', 'warranty',\n",
       "       'CPU', 'RAM', 'capacity', 'time', 'battery', 'screen_size',\n",
       "       'operating_system', 'display_technology', 'weight', 'bluetooth',\n",
       "       'refresh_rate', 'GPU', 'color', 'image', 'resolution_width',\n",
       "       'resolution_height', 'has_nano_sim', 'has_esim', 'height', 'width',\n",
       "       'depth'],\n",
       "      dtype='object')"
      ]
     },
     "execution_count": 21,
     "metadata": {},
     "output_type": "execute_result"
    }
   ],
   "source": [
    "# Các thuộc tính của dữ liệu\n",
    "data.columns"
   ]
  },
  {
   "cell_type": "code",
   "execution_count": 22,
   "metadata": {},
   "outputs": [
    {
     "data": {
      "text/html": [
       "<div>\n",
       "<style scoped>\n",
       "    .dataframe tbody tr th:only-of-type {\n",
       "        vertical-align: middle;\n",
       "    }\n",
       "\n",
       "    .dataframe tbody tr th {\n",
       "        vertical-align: top;\n",
       "    }\n",
       "\n",
       "    .dataframe thead th {\n",
       "        text-align: right;\n",
       "    }\n",
       "</style>\n",
       "<table border=\"1\" class=\"dataframe\">\n",
       "  <thead>\n",
       "    <tr style=\"text-align: right;\">\n",
       "      <th></th>\n",
       "      <th>price_old</th>\n",
       "      <th>price_new</th>\n",
       "      <th>RAM</th>\n",
       "      <th>capacity</th>\n",
       "      <th>battery</th>\n",
       "      <th>screen_size</th>\n",
       "      <th>weight</th>\n",
       "      <th>refresh_rate</th>\n",
       "      <th>resolution_width</th>\n",
       "      <th>resolution_height</th>\n",
       "      <th>has_nano_sim</th>\n",
       "      <th>has_esim</th>\n",
       "      <th>height</th>\n",
       "      <th>width</th>\n",
       "      <th>depth</th>\n",
       "    </tr>\n",
       "  </thead>\n",
       "  <tbody>\n",
       "    <tr>\n",
       "      <th>count</th>\n",
       "      <td>1.137200e+04</td>\n",
       "      <td>1.137200e+04</td>\n",
       "      <td>11372.000000</td>\n",
       "      <td>11372.00000</td>\n",
       "      <td>11372.000000</td>\n",
       "      <td>11372.000000</td>\n",
       "      <td>11372.000000</td>\n",
       "      <td>11372.000000</td>\n",
       "      <td>11372.000000</td>\n",
       "      <td>11372.000000</td>\n",
       "      <td>11372.0</td>\n",
       "      <td>11372.000000</td>\n",
       "      <td>11372.000000</td>\n",
       "      <td>11372.000000</td>\n",
       "      <td>11372.000000</td>\n",
       "    </tr>\n",
       "    <tr>\n",
       "      <th>mean</th>\n",
       "      <td>8.355523e+06</td>\n",
       "      <td>1.334013e+07</td>\n",
       "      <td>7.421452</td>\n",
       "      <td>214.50809</td>\n",
       "      <td>4447.771632</td>\n",
       "      <td>6.128236</td>\n",
       "      <td>186.271808</td>\n",
       "      <td>95.453394</td>\n",
       "      <td>1061.372494</td>\n",
       "      <td>2051.085385</td>\n",
       "      <td>1.0</td>\n",
       "      <td>0.390960</td>\n",
       "      <td>156.283723</td>\n",
       "      <td>74.292399</td>\n",
       "      <td>11.336518</td>\n",
       "    </tr>\n",
       "    <tr>\n",
       "      <th>std</th>\n",
       "      <td>7.042468e+06</td>\n",
       "      <td>1.116572e+07</td>\n",
       "      <td>3.704754</td>\n",
       "      <td>155.06699</td>\n",
       "      <td>1275.740093</td>\n",
       "      <td>1.452865</td>\n",
       "      <td>27.832768</td>\n",
       "      <td>31.303219</td>\n",
       "      <td>514.678978</td>\n",
       "      <td>799.069121</td>\n",
       "      <td>0.0</td>\n",
       "      <td>0.487987</td>\n",
       "      <td>14.644492</td>\n",
       "      <td>12.286937</td>\n",
       "      <td>12.939470</td>\n",
       "    </tr>\n",
       "    <tr>\n",
       "      <th>min</th>\n",
       "      <td>1.500000e+05</td>\n",
       "      <td>4.100000e+05</td>\n",
       "      <td>0.046875</td>\n",
       "      <td>0.12500</td>\n",
       "      <td>1000.000000</td>\n",
       "      <td>1.770000</td>\n",
       "      <td>75.000000</td>\n",
       "      <td>30.000000</td>\n",
       "      <td>120.000000</td>\n",
       "      <td>160.000000</td>\n",
       "      <td>1.0</td>\n",
       "      <td>0.000000</td>\n",
       "      <td>71.500000</td>\n",
       "      <td>7.000000</td>\n",
       "      <td>5.000000</td>\n",
       "    </tr>\n",
       "    <tr>\n",
       "      <th>25%</th>\n",
       "      <td>2.750000e+06</td>\n",
       "      <td>4.290000e+06</td>\n",
       "      <td>6.000000</td>\n",
       "      <td>128.00000</td>\n",
       "      <td>4000.000000</td>\n",
       "      <td>6.360000</td>\n",
       "      <td>181.000000</td>\n",
       "      <td>90.000000</td>\n",
       "      <td>720.000000</td>\n",
       "      <td>1604.000000</td>\n",
       "      <td>1.0</td>\n",
       "      <td>0.000000</td>\n",
       "      <td>152.800000</td>\n",
       "      <td>71.600000</td>\n",
       "      <td>7.700000</td>\n",
       "    </tr>\n",
       "    <tr>\n",
       "      <th>50%</th>\n",
       "      <td>6.410000e+06</td>\n",
       "      <td>9.990000e+06</td>\n",
       "      <td>8.000000</td>\n",
       "      <td>256.00000</td>\n",
       "      <td>5000.000000</td>\n",
       "      <td>6.670000</td>\n",
       "      <td>191.000000</td>\n",
       "      <td>90.000000</td>\n",
       "      <td>1080.000000</td>\n",
       "      <td>2392.000000</td>\n",
       "      <td>1.0</td>\n",
       "      <td>0.000000</td>\n",
       "      <td>162.200000</td>\n",
       "      <td>75.900000</td>\n",
       "      <td>7.990000</td>\n",
       "    </tr>\n",
       "    <tr>\n",
       "      <th>75%</th>\n",
       "      <td>1.237000e+07</td>\n",
       "      <td>2.099000e+07</td>\n",
       "      <td>12.000000</td>\n",
       "      <td>256.00000</td>\n",
       "      <td>5030.000000</td>\n",
       "      <td>6.700000</td>\n",
       "      <td>198.000000</td>\n",
       "      <td>120.000000</td>\n",
       "      <td>1200.000000</td>\n",
       "      <td>2532.000000</td>\n",
       "      <td>1.0</td>\n",
       "      <td>1.000000</td>\n",
       "      <td>165.100000</td>\n",
       "      <td>77.100000</td>\n",
       "      <td>8.300000</td>\n",
       "    </tr>\n",
       "    <tr>\n",
       "      <th>max</th>\n",
       "      <td>3.707000e+07</td>\n",
       "      <td>4.799000e+07</td>\n",
       "      <td>16.000000</td>\n",
       "      <td>1024.00000</td>\n",
       "      <td>6600.000000</td>\n",
       "      <td>7.600000</td>\n",
       "      <td>240.000000</td>\n",
       "      <td>144.000000</td>\n",
       "      <td>3200.000000</td>\n",
       "      <td>3200.000000</td>\n",
       "      <td>1.0</td>\n",
       "      <td>1.000000</td>\n",
       "      <td>191.900000</td>\n",
       "      <td>132.600000</td>\n",
       "      <td>88.900000</td>\n",
       "    </tr>\n",
       "  </tbody>\n",
       "</table>\n",
       "</div>"
      ],
      "text/plain": [
       "          price_old     price_new           RAM     capacity       battery  \\\n",
       "count  1.137200e+04  1.137200e+04  11372.000000  11372.00000  11372.000000   \n",
       "mean   8.355523e+06  1.334013e+07      7.421452    214.50809   4447.771632   \n",
       "std    7.042468e+06  1.116572e+07      3.704754    155.06699   1275.740093   \n",
       "min    1.500000e+05  4.100000e+05      0.046875      0.12500   1000.000000   \n",
       "25%    2.750000e+06  4.290000e+06      6.000000    128.00000   4000.000000   \n",
       "50%    6.410000e+06  9.990000e+06      8.000000    256.00000   5000.000000   \n",
       "75%    1.237000e+07  2.099000e+07     12.000000    256.00000   5030.000000   \n",
       "max    3.707000e+07  4.799000e+07     16.000000   1024.00000   6600.000000   \n",
       "\n",
       "        screen_size        weight  refresh_rate  resolution_width  \\\n",
       "count  11372.000000  11372.000000  11372.000000      11372.000000   \n",
       "mean       6.128236    186.271808     95.453394       1061.372494   \n",
       "std        1.452865     27.832768     31.303219        514.678978   \n",
       "min        1.770000     75.000000     30.000000        120.000000   \n",
       "25%        6.360000    181.000000     90.000000        720.000000   \n",
       "50%        6.670000    191.000000     90.000000       1080.000000   \n",
       "75%        6.700000    198.000000    120.000000       1200.000000   \n",
       "max        7.600000    240.000000    144.000000       3200.000000   \n",
       "\n",
       "       resolution_height  has_nano_sim      has_esim        height  \\\n",
       "count       11372.000000       11372.0  11372.000000  11372.000000   \n",
       "mean         2051.085385           1.0      0.390960    156.283723   \n",
       "std           799.069121           0.0      0.487987     14.644492   \n",
       "min           160.000000           1.0      0.000000     71.500000   \n",
       "25%          1604.000000           1.0      0.000000    152.800000   \n",
       "50%          2392.000000           1.0      0.000000    162.200000   \n",
       "75%          2532.000000           1.0      1.000000    165.100000   \n",
       "max          3200.000000           1.0      1.000000    191.900000   \n",
       "\n",
       "              width         depth  \n",
       "count  11372.000000  11372.000000  \n",
       "mean      74.292399     11.336518  \n",
       "std       12.286937     12.939470  \n",
       "min        7.000000      5.000000  \n",
       "25%       71.600000      7.700000  \n",
       "50%       75.900000      7.990000  \n",
       "75%       77.100000      8.300000  \n",
       "max      132.600000     88.900000  "
      ]
     },
     "execution_count": 22,
     "metadata": {},
     "output_type": "execute_result"
    }
   ],
   "source": [
    "data.describe()"
   ]
  },
  {
   "cell_type": "markdown",
   "metadata": {},
   "source": [
    "# Tính khoảng thời gian điện thoại đã ra mắt"
   ]
  },
  {
   "cell_type": "code",
   "execution_count": 23,
   "metadata": {},
   "outputs": [],
   "source": [
    "data['time'] = pd.to_datetime(data['time'])"
   ]
  },
  {
   "cell_type": "code",
   "execution_count": 24,
   "metadata": {},
   "outputs": [],
   "source": [
    "# Tính toán khoảng thời gian hiện tại - 'time'\n",
    "data['time_difference'] = datetime.now() - data['time']\n",
    "data['time_difference'] = data['time_difference'].dt.days"
   ]
  },
  {
   "cell_type": "code",
   "execution_count": 25,
   "metadata": {},
   "outputs": [],
   "source": [
    "data.drop(columns=['time'], inplace=True)"
   ]
  },
  {
   "cell_type": "markdown",
   "metadata": {},
   "source": [
    "# Tính thời gian hết bảo hành"
   ]
  },
  {
   "cell_type": "code",
   "execution_count": 26,
   "metadata": {},
   "outputs": [],
   "source": [
    "processed_results = []\n",
    "current_date = datetime.now() # Lấy ngày và giờ hiện tại\n",
    "\n",
    "for index, item in data['warranty'].items():\n",
    "    item = str(item).strip() # Đảm bảo item là chuỗi và loại bỏ khoảng trắng\n",
    "\n",
    "    # Kiểm tra nếu có chứa \"tháng\"\n",
    "    if \"tháng\" in item:\n",
    "        num_months_str = item.replace(\"tháng\", \"\").strip()\n",
    "        num_months = int(num_months_str)\n",
    "\n",
    "        # Xử lý cộng tháng\n",
    "        year = current_date.year\n",
    "        month = current_date.month + num_months\n",
    "        day = current_date.day\n",
    "\n",
    "        while month > 12:\n",
    "            month -= 12\n",
    "            year += 1\n",
    "                \n",
    "        # Xử lý trường hợp ngày không hợp lệ sau khi cộng tháng\n",
    "        try:\n",
    "            new_date = datetime(year, month, day)\n",
    "        except ValueError:\n",
    "            # Nếu ngày không hợp lệ, lấy ngày cuối cùng của tháng đó\n",
    "            last_day_of_month = calendar.monthrange(year, month)[1]\n",
    "            new_date = datetime(year, month, last_day_of_month)\n",
    "\n",
    "        # Cập nhật giá trị\n",
    "        data.loc[index, 'warranty'] = new_date.strftime(\"%d/%m/%Y\")\n",
    "    else:\n",
    "            datetime.strptime(item, \"%d/%m/%Y\")\n",
    "            data.loc[index, 'warranty'] = item \n",
    "\n",
    "# Chuyển dữ liệu sang kiểu datetime\n",
    "data['warranty'] = pd.to_datetime(data['warranty'], format='%d/%m/%Y', errors='coerce')"
   ]
  },
  {
   "cell_type": "code",
   "execution_count": 27,
   "metadata": {},
   "outputs": [],
   "source": [
    "# Tạo một Series mới cho current_date\n",
    "current_date_series = pd.Series([current_date] * len(data))\n",
    "\n",
    "# Tính hiệu số ngày\n",
    "time_remaining = data['warranty'] - current_date_series\n",
    "\n",
    "# Lưu vào một cột mới\n",
    "data['day_remaining_warranty'] = time_remaining.dt.days + 1"
   ]
  },
  {
   "cell_type": "code",
   "execution_count": 28,
   "metadata": {},
   "outputs": [],
   "source": [
    "data.drop(columns=['warranty'], inplace=True)"
   ]
  },
  {
   "cell_type": "markdown",
   "metadata": {},
   "source": [
    "# Encoding"
   ]
  },
  {
   "cell_type": "markdown",
   "metadata": {},
   "source": [
    "## Xử lí operating system"
   ]
  },
  {
   "cell_type": "markdown",
   "metadata": {},
   "source": [
    "Gom nhóm thành 4 nhóm hệ điều hành: iOS, Android, Feature OS và Other. Sau đó dùng LabelEncoder để encode "
   ]
  },
  {
   "cell_type": "code",
   "execution_count": 29,
   "metadata": {},
   "outputs": [],
   "source": [
    "# Hàm nhóm hệ điều hành vào các loại chính\n",
    "def map_os_family(os):\n",
    "    if pd.isnull(os):\n",
    "        return 'Unknown'\n",
    "    os = os.lower()\n",
    "    if 'ios' in os:\n",
    "        return 'iOS'\n",
    "    elif 'android' in os:\n",
    "        return 'Android'\n",
    "    elif 'coloros' in os:\n",
    "        return 'Android'\n",
    "    elif 'miui' in os:\n",
    "        return 'Android'\n",
    "    elif 'hyperos' in os:\n",
    "        return 'Android'\n",
    "    elif 'funtouch' in os:\n",
    "        return 'Android'\n",
    "    elif 'oxygenos' in os:\n",
    "        return 'Android'\n",
    "    elif 'realme ui' in os:\n",
    "        return 'Android'\n",
    "    elif 'xos' in os:\n",
    "        return 'Android'\n",
    "    elif 'mocor' in os:\n",
    "        return 'Android'\n",
    "    elif 'series 30' in os or 's30' in os:\n",
    "        return 'Feature OS'\n",
    "    else:\n",
    "        return 'Other'\n",
    "\n",
    "# Tạo cột os\n",
    "data['os'] = data['operating_system'].apply(map_os_family)\n",
    "\n",
    "from sklearn.preprocessing import LabelEncoder\n",
    "\n",
    "encoder = LabelEncoder()\n",
    "data['os'] = encoder.fit_transform(data['os'])\n",
    "data = data.drop(columns = ['operating_system'])\n",
    "\n"
   ]
  },
  {
   "cell_type": "markdown",
   "metadata": {},
   "source": [
    "## Xử lí CPU"
   ]
  },
  {
   "cell_type": "markdown",
   "metadata": {},
   "source": [
    "Gom nhóm CPU thành các nhóm: Apple, Snapdragon, MediaTek, Exynos, Unisoc và dùng LabelEncoder để encode"
   ]
  },
  {
   "cell_type": "code",
   "execution_count": 30,
   "metadata": {},
   "outputs": [],
   "source": [
    "data['chip'] = data['CPU'].str.extract(r'(Apple|Snapdragon|MediaTek|Exynos|Unisoc)', expand=False)\n",
    "\n",
    "from sklearn.preprocessing import LabelEncoder\n",
    "\n",
    "encoder = LabelEncoder()\n",
    "data['chip'] = encoder.fit_transform(data['chip'])\n",
    "data = data.drop(columns = ['CPU'])\n"
   ]
  },
  {
   "cell_type": "markdown",
   "metadata": {},
   "source": [
    "## Xử lí display technology"
   ]
  },
  {
   "cell_type": "markdown",
   "metadata": {},
   "source": [
    "Phân loại thành 3 công nghệ chính: LCD, OLED, và hybrid"
   ]
  },
  {
   "cell_type": "code",
   "execution_count": 31,
   "metadata": {},
   "outputs": [],
   "source": [
    "import numpy as np\n",
    "\n",
    "LCD = data['display_technology'].str.lower().str.contains(\n",
    "    'lcd|tn|liquid', na=False)\n",
    "\n",
    "OLED = data['display_technology'].str.lower().str.contains(\n",
    "    'oled|amoled|super retina xdr', na=False)\n",
    "\n",
    "no_display_technology = data['display_technology'].isna() | (data['display_technology'].str.lower() == 'unknown')\n",
    "\n",
    "conditions = [no_display_technology, OLED, LCD]\n",
    "choices = ['0', '2', '1']\n",
    "\n",
    "data['display_technology'] = np.select(conditions, choices, default='1')\n",
    "data['display_technology'] = pd.to_numeric(data['display_technology'])"
   ]
  },
  {
   "cell_type": "markdown",
   "metadata": {},
   "source": [
    "## Xử lí condition"
   ]
  },
  {
   "cell_type": "markdown",
   "metadata": {},
   "source": [
    "Gắn nhãn thủ công cho tình trạng của máy"
   ]
  },
  {
   "cell_type": "code",
   "execution_count": 32,
   "metadata": {},
   "outputs": [],
   "source": [
    "# Định nghĩa các tình trạng và nhãn số tương ứng của chúng\n",
    "condition_mapping = {\n",
    "    'Cũ trầy xước cấn': 0,\n",
    "    'Cũ trầy xước': 1,\n",
    "    'Cũ': 2,\n",
    "    'Cũ đẹp': 3,\n",
    "}\n",
    "\n",
    "# Ánh xạ mô tả thành các nhãn\n",
    "data['condition'] = data['condition'].map(condition_mapping)"
   ]
  },
  {
   "cell_type": "markdown",
   "metadata": {},
   "source": [
    "## Xử lí brand"
   ]
  },
  {
   "cell_type": "markdown",
   "metadata": {},
   "source": [
    "Gắn nhãn thủ công cho nhãn dựa trên mức độ phổ biến và phân khúc thị trường của thương hiệu"
   ]
  },
  {
   "cell_type": "code",
   "execution_count": 33,
   "metadata": {},
   "outputs": [
    {
     "name": "stdout",
     "output_type": "stream",
     "text": [
      "['apple' 'samsung' 'oppo' 'realme' 'xiaomi' 'vivo' 'tecno' 'masstel'\n",
      " 'honor' 'mobell' 'nokia' 'tcl' 'viettel']\n"
     ]
    }
   ],
   "source": [
    "print(data['brand'].unique())"
   ]
  },
  {
   "cell_type": "code",
   "execution_count": 34,
   "metadata": {},
   "outputs": [],
   "source": [
    "# Định nghĩa thương hiệu và nhãn số tương ứng của chúng\n",
    "brand_mapping = {\n",
    "    'apple': 3,\n",
    "    'samsung': 3,\n",
    "\n",
    "    'honor': 2,\n",
    "    'oppo': 2,\n",
    "    'xiaomi': 2,\n",
    "    'vivo': 2,\n",
    "    \n",
    "    'realme': 1,\n",
    "    'tecno': 1,\n",
    "    'nokia': 1,\n",
    "    'tcl': 1,\n",
    "\n",
    "    'mobell': 0,\n",
    "    'viettel': 0,\n",
    "    'masstel': 0\n",
    "}\n",
    "\n",
    "# Ánh xạ nhãn cho cột 'brand'\n",
    "data['brand'] = data['brand'].map(brand_mapping)"
   ]
  },
  {
   "cell_type": "markdown",
   "metadata": {},
   "source": [
    "## Xử lí name và color"
   ]
  },
  {
   "cell_type": "markdown",
   "metadata": {},
   "source": [
    "Dùng LabelEncoder để encode cho name và color"
   ]
  },
  {
   "cell_type": "code",
   "execution_count": 35,
   "metadata": {},
   "outputs": [],
   "source": [
    "from sklearn.preprocessing import LabelEncoder\n",
    "\n",
    "label_encoder = LabelEncoder()\n",
    "data['name'] = encoder.fit_transform(data['name'])\n",
    "data['color'] = encoder.fit_transform(data['color'])\n",
    "\n"
   ]
  },
  {
   "cell_type": "code",
   "execution_count": 36,
   "metadata": {},
   "outputs": [
    {
     "data": {
      "text/plain": [
       "53"
      ]
     },
     "execution_count": 36,
     "metadata": {},
     "output_type": "execute_result"
    }
   ],
   "source": [
    "data['color'].nunique()"
   ]
  },
  {
   "cell_type": "markdown",
   "metadata": {},
   "source": [
    "## Xử lí GPU"
   ]
  },
  {
   "cell_type": "markdown",
   "metadata": {},
   "source": [
    "Dựa vào hiệu năng để gắn nhãn cho các dòng GPU"
   ]
  },
  {
   "cell_type": "code",
   "execution_count": 37,
   "metadata": {},
   "outputs": [],
   "source": [
    "high_cond = data['GPU'].str.lower().str.contains(\n",
    "    'adreno-7|adreno-8|mali-g7|mali-g76|mali-g77|mali-g78|apple-gpu 6|apple-gpu 5|immortalis|xclipse|powervr-series7xt', na=False)\n",
    "\n",
    "low_cond = data['GPU'].str.lower().str.contains(\n",
    "    'adreno-6|adreno-5|adreno-4|mali-g6|mali-g57|mali-g68|mali-g52|powervr-ge8320|xclipse-920|apple-gpu 4|adreno-619|adreno-644|adreno-670', na=False)\n",
    "\n",
    "no_gpu_cond = data['GPU'].isna() | (data['GPU'].str.lower() == 'unknown')\n",
    "\n",
    "conditions = [no_gpu_cond, high_cond, low_cond]\n",
    "choices = ['0', '2', '1']\n",
    "\n",
    "data['GPU'] = np.select(conditions, choices, default='1')\n",
    "data['GPU'] = pd.to_numeric(data['GPU'])\n"
   ]
  },
  {
   "cell_type": "markdown",
   "metadata": {},
   "source": [
    "## Xử lí bluetooth"
   ]
  },
  {
   "cell_type": "markdown",
   "metadata": {},
   "source": [
    "Dựa vào phiên bản và các tính năng để gắn trọng số"
   ]
  },
  {
   "cell_type": "code",
   "execution_count": 38,
   "metadata": {},
   "outputs": [],
   "source": [
    "# Bảng điểm version\n",
    "version_score_map = {\n",
    "    '2.1': 1.0,\n",
    "    '4.2': 2.0,\n",
    "    '5.0': 3.0,\n",
    "    '5.1': 3.2,\n",
    "    '5.2': 3.4,\n",
    "    '5.3': 3.6,\n",
    "    '5.4': 3.8,\n",
    "    '6.0': 4.0\n",
    "}\n",
    "\n",
    "# Trọng số profile\n",
    "profile_points = {\n",
    "    'apt-X Adaptive': 0.2,\n",
    "    'apt-X HD': 0.15,\n",
    "    'LHDC': 0.15,\n",
    "    'apt-X': 0.1,\n",
    "    'A2DP': 0.1,\n",
    "    'LE': 0.1,\n",
    "    'BLE': 0.05\n",
    "}\n",
    "\n",
    "# Hàm mã hóa\n",
    "def encode_bluetooth_weighted(bluetooth_str):\n",
    "    if pd.isna(bluetooth_str):\n",
    "        return np.nan\n",
    "\n",
    "    # Tìm version\n",
    "    version_match = re.findall(r'v(\\d\\.\\d)', bluetooth_str)\n",
    "    version = version_score_map.get(version_match[0], 0) if version_match else 0\n",
    "\n",
    "    # Tính điểm profile\n",
    "    profile_score = sum(pt for profile, pt in profile_points.items() if profile in bluetooth_str)\n",
    "\n",
    "    return round(version + profile_score, 2)\n",
    "\n",
    "# Áp dụng vào cột\n",
    "data['bluetooth'] = data['bluetooth'].apply(encode_bluetooth_weighted)"
   ]
  },
  {
   "cell_type": "code",
   "execution_count": 39,
   "metadata": {},
   "outputs": [
    {
     "data": {
      "text/plain": [
       "depth\n",
       "5.00      36\n",
       "5.60      25\n",
       "6.00      65\n",
       "6.78       1\n",
       "6.90      31\n",
       "7.00      85\n",
       "7.12       7\n",
       "7.20      33\n",
       "7.24     280\n",
       "7.30      44\n",
       "7.40     486\n",
       "7.45       7\n",
       "7.49     321\n",
       "7.55      42\n",
       "7.57     169\n",
       "7.58      89\n",
       "7.59      80\n",
       "7.60     262\n",
       "7.64       3\n",
       "7.65     277\n",
       "7.67       1\n",
       "7.68     403\n",
       "7.69      17\n",
       "7.70     462\n",
       "7.74      77\n",
       "7.75      48\n",
       "7.76     568\n",
       "7.79      48\n",
       "7.80     954\n",
       "7.84     104\n",
       "7.85      45\n",
       "7.88       4\n",
       "7.89       1\n",
       "7.90     448\n",
       "7.92      52\n",
       "7.93       5\n",
       "7.95       2\n",
       "7.97      18\n",
       "7.98      40\n",
       "7.99     561\n",
       "8.00     340\n",
       "8.04       5\n",
       "8.07       8\n",
       "8.08      89\n",
       "8.09     114\n",
       "8.10      87\n",
       "8.16     170\n",
       "8.19      23\n",
       "8.20     455\n",
       "8.22      44\n",
       "8.24      84\n",
       "8.25     331\n",
       "8.26      32\n",
       "8.28       1\n",
       "8.30     584\n",
       "8.32     154\n",
       "8.35      23\n",
       "8.39     287\n",
       "8.40     119\n",
       "8.55       5\n",
       "8.60     116\n",
       "8.70      34\n",
       "8.80      56\n",
       "8.90      99\n",
       "8.99       4\n",
       "9.00      93\n",
       "9.10      47\n",
       "9.20       8\n",
       "9.30       5\n",
       "9.35      13\n",
       "12.00     99\n",
       "12.50     79\n",
       "12.80    137\n",
       "13.00    146\n",
       "13.40      1\n",
       "14.00    332\n",
       "14.40    117\n",
       "15.00     81\n",
       "15.20    147\n",
       "17.00     89\n",
       "24.00      4\n",
       "68.10    229\n",
       "71.90    274\n",
       "77.00      2\n",
       "88.90      4\n",
       "Name: count, dtype: int64"
      ]
     },
     "execution_count": 39,
     "metadata": {},
     "output_type": "execute_result"
    }
   ],
   "source": [
    "pd.set_option('display.max_rows', None)\n",
    "data['depth'].value_counts().sort_index(ascending=True)\n"
   ]
  },
  {
   "cell_type": "markdown",
   "metadata": {},
   "source": [
    "# Chọn thuộc tính"
   ]
  },
  {
   "cell_type": "code",
   "execution_count": 40,
   "metadata": {},
   "outputs": [],
   "source": [
    "data = data.drop(columns = ['image'])"
   ]
  },
  {
   "cell_type": "code",
   "execution_count": 41,
   "metadata": {},
   "outputs": [
    {
     "name": "stdout",
     "output_type": "stream",
     "text": [
      "Độ tương quan Spearman của 'price_old' với các thuộc tính khác (sắp xếp giảm dần):\n",
      "price_new                 0.984637\n",
      "resolution_width          0.881789\n",
      "display_technology        0.814347\n",
      "has_esim                  0.802087\n",
      "GPU                       0.801387\n",
      "brand                     0.718125\n",
      "capacity                  0.665957\n",
      "RAM                       0.654045\n",
      "resolution_height         0.647558\n",
      "refresh_rate              0.565811\n",
      "bluetooth                 0.484787\n",
      "weight                    0.432068\n",
      "os                        0.381271\n",
      "screen_size               0.223064\n",
      "width                     0.221503\n",
      "condition                 0.120525\n",
      "name                     -0.058563\n",
      "battery                  -0.071693\n",
      "time_difference          -0.085195\n",
      "day_remaining_warranty   -0.182620\n",
      "height                   -0.223749\n",
      "depth                    -0.272341\n",
      "color                    -0.281781\n",
      "chip                     -0.531051\n",
      "Name: price_old, dtype: float64\n"
     ]
    }
   ],
   "source": [
    "# Lấy ra tất cả các cột có kiểu dữ liệu là số\n",
    "numerical_cols = data.select_dtypes(include=np.number).columns.tolist()\n",
    "\n",
    "# Độ tương quan Spearman của các thuộc tính số\n",
    "correlation_matrix = data[numerical_cols].corr(method='spearman')\n",
    "target_column = 'price_old'\n",
    "\n",
    "# Sắp xếp và hiển thị kết quả\n",
    "correlation_with_target = correlation_matrix[target_column]\n",
    "correlation_spearman_filtered = correlation_with_target.drop(target_column, errors='ignore').dropna()\n",
    "sorted_correlation = correlation_spearman_filtered.sort_values(ascending=False)\n",
    "print(f\"Độ tương quan Spearman của '{target_column}' với các thuộc tính khác (sắp xếp giảm dần):\")\n",
    "print(sorted_correlation)"
   ]
  },
  {
   "cell_type": "code",
   "execution_count": 42,
   "metadata": {},
   "outputs": [
    {
     "name": "stdout",
     "output_type": "stream",
     "text": [
      "Các thuộc tính có độ tương quan Spearman dưới 0.05:\n",
      "Series([], Name: price_old, dtype: float64)\n"
     ]
    }
   ],
   "source": [
    "# Lọc các thuộc tính có độ tương quan dưới 0.05\n",
    "low_correlation_features = sorted_correlation[abs(sorted_correlation) < 0.05]\n",
    "\n",
    "print(\"Các thuộc tính có độ tương quan Spearman dưới 0.05:\")\n",
    "print(low_correlation_features)\n"
   ]
  },
  {
   "cell_type": "code",
   "execution_count": 43,
   "metadata": {},
   "outputs": [
    {
     "name": "stdout",
     "output_type": "stream",
     "text": [
      "                   Feature      F-Score  p-Value\n",
      "7              screen_size  1382.481352      0.0\n",
      "3                price_new   798.498176      0.0\n",
      "20                   depth   280.194143      0.0\n",
      "19                   width   221.859154      0.0\n",
      "18                  height   192.189049      0.0\n",
      "6                  battery   172.223118      0.0\n",
      "15       resolution_height   149.765065      0.0\n",
      "12                     GPU   143.084484      0.0\n",
      "4                      RAM   132.572017      0.0\n",
      "17                has_esim   126.327245      0.0\n",
      "14        resolution_width   117.107730      0.0\n",
      "8       display_technology   115.167656      0.0\n",
      "9                   weight   103.909912      0.0\n",
      "11            refresh_rate    93.801543      0.0\n",
      "1                    brand    89.256235      0.0\n",
      "23                      os    58.585173      0.0\n",
      "5                 capacity    57.032616      0.0\n",
      "10               bluetooth    55.966248      0.0\n",
      "24                    chip    47.362529      0.0\n",
      "22  day_remaining_warranty    43.594363      0.0\n",
      "0                     name    40.788261      0.0\n",
      "21         time_difference    31.952700      0.0\n",
      "2                condition    13.918409      0.0\n",
      "13                   color     7.740882      0.0\n",
      "16            has_nano_sim          NaN      NaN\n"
     ]
    },
    {
     "name": "stderr",
     "output_type": "stream",
     "text": [
      "c:\\Users\\Admin\\anaconda3\\Lib\\site-packages\\sklearn\\feature_selection\\_univariate_selection.py:112: UserWarning: Features [16] are constant.\n",
      "  warnings.warn(\"Features %s are constant.\" % constant_features_idx, UserWarning)\n",
      "c:\\Users\\Admin\\anaconda3\\Lib\\site-packages\\sklearn\\feature_selection\\_univariate_selection.py:113: RuntimeWarning: invalid value encountered in divide\n",
      "  f = msb / msw\n"
     ]
    }
   ],
   "source": [
    "from sklearn.feature_selection import f_classif\n",
    "\n",
    "# Tách features (X) và target (y)\n",
    "X = data.select_dtypes(include=['number']).drop(columns=['price_old'])\n",
    "X = X.fillna(0)\n",
    "y = data['price_old']\n",
    "\n",
    "# Tính ANOVA F-test\n",
    "f_values, p_values = f_classif(X, y)\n",
    "\n",
    "# Gộp kết quả vào một DataFrame\n",
    "anova_results = pd.DataFrame({\n",
    "    'Feature': X.columns,\n",
    "    'F-Score': f_values,\n",
    "    'p-Value': p_values\n",
    "})\n",
    "\n",
    "# Sắp xếp theo F-Score giảm dần\n",
    "anova_results = anova_results.sort_values(by='F-Score', ascending=False)\n",
    "\n",
    "print(anova_results)"
   ]
  },
  {
   "cell_type": "code",
   "execution_count": 44,
   "metadata": {},
   "outputs": [
    {
     "name": "stdout",
     "output_type": "stream",
     "text": [
      "Các thuộc tính có giá trị p lớn hơn 0.05:\n",
      "Empty DataFrame\n",
      "Columns: [Feature, F-Score, p-Value]\n",
      "Index: []\n"
     ]
    }
   ],
   "source": [
    "# Lọc các thuộc tính có p-value trên 0.05\n",
    "anova_filtered = anova_results[abs(anova_results['p-Value']) > 0.05]\n",
    "\n",
    "print(\"Các thuộc tính có giá trị p lớn hơn 0.05:\")\n",
    "print(anova_filtered)\n"
   ]
  },
  {
   "cell_type": "markdown",
   "metadata": {},
   "source": [
    "Loại bỏ các dòng có missing values"
   ]
  },
  {
   "cell_type": "code",
   "execution_count": null,
   "metadata": {},
   "outputs": [],
   "source": [
    "data = data.dropna()"
   ]
  },
  {
   "cell_type": "markdown",
   "metadata": {},
   "source": [
    "Chuyển đổi đơn vị của price old và price new từ đồng sang ngàn đồng"
   ]
  },
  {
   "cell_type": "code",
   "execution_count": null,
   "metadata": {},
   "outputs": [],
   "source": [
    "data['price_old'] = data['price_old']/1000\n",
    "data['price_new'] = data['price_new']/1000"
   ]
  },
  {
   "cell_type": "code",
   "execution_count": null,
   "metadata": {},
   "outputs": [],
   "source": [
    "import matplotlib.pyplot as plt\n",
    "\n",
    "# Lấy danh sách các cột số (ngoại trừ price_old)\n",
    "numerical_cols = data.select_dtypes(include=['number']).columns.tolist()\n",
    "numerical_cols.remove(\"price_old\")  # Loại bỏ target khỏi danh sách\n",
    "\n",
    "# Vẽ tất cả các biểu đồ scatter\n",
    "fig, axes = plt.subplots(nrows=6, ncols=4, figsize=(15, len(numerical_cols)))\n",
    "axes = axes.flatten()\n",
    "\n",
    "for i, col in enumerate(numerical_cols):\n",
    "    axes[i].scatter(data[col], data[\"price_old\"], alpha=0.5)\n",
    "    axes[i].set_xlabel(col)\n",
    "    axes[i].set_ylabel(\"price_old\")\n",
    "    axes[i].set_title(f\"Tương quan giữa {col} và price_old\")\n",
    "\n",
    "plt.tight_layout()\n",
    "plt.show()"
   ]
  },
  {
   "cell_type": "code",
   "execution_count": null,
   "metadata": {},
   "outputs": [],
   "source": [
    "data = data.drop(columns=['has_nano_sim', 'color', 'day_remaining_warranty'])"
   ]
  },
  {
   "cell_type": "code",
   "execution_count": null,
   "metadata": {},
   "outputs": [],
   "source": [
    "from sklearn.cluster import KMeans\n",
    "import numpy as np\n",
    "\n",
    "# Khởi tạo mô hình K-Means với k cụm\n",
    "k = 3\n",
    "kmeans = KMeans(n_clusters=k, random_state=42)\n",
    "\n",
    "# Huấn luyện mô hình\n",
    "kmeans.fit(np.array(data))\n",
    "\n",
    "# Nhận nhãn cụm và tâm cụm\n",
    "labels = kmeans.labels_\n",
    "centroids = kmeans.cluster_centers_\n",
    "\n",
    "print(\"Nhóm:\", labels)\n",
    "print(\"Tâm cụm:\", centroids)"
   ]
  },
  {
   "cell_type": "code",
   "execution_count": null,
   "metadata": {},
   "outputs": [],
   "source": [
    "data_clustered = pd.DataFrame(data)\n",
    "data_clustered[\"Cluster\"] = labels\n",
    "\n",
    "# Hiển thị danh sách price_old theo từng cụm\n",
    "print(data_clustered.groupby(\"Cluster\")[\"price_old\"].describe())\n"
   ]
  },
  {
   "cell_type": "code",
   "execution_count": null,
   "metadata": {},
   "outputs": [],
   "source": [
    "import matplotlib.pyplot as plt\n",
    "\n",
    "# Lấy danh sách các cột số (ngoại trừ price_old)\n",
    "numerical_cols = data_clustered.select_dtypes(include=['number']).columns.tolist()\n",
    "numerical_cols.remove(\"price_old\")  # Loại bỏ target khỏi danh sách\n",
    "\n",
    "# Vẽ tất cả các biểu đồ scatter\n",
    "fig, axes = plt.subplots(nrows=6, ncols=4, figsize=(15, len(numerical_cols)))\n",
    "axes = axes.flatten()\n",
    "\n",
    "for i, col in enumerate(numerical_cols):\n",
    "    axes[i].scatter(data_clustered[col], data[\"price_old\"], alpha=0.5)\n",
    "    axes[i].set_xlabel(col)\n",
    "    axes[i].set_ylabel(\"price_old\")\n",
    "    axes[i].set_title(f\"Tương quan giữa {col} và price_old\")\n",
    "\n",
    "plt.tight_layout()\n",
    "plt.show()"
   ]
  },
  {
   "cell_type": "code",
   "execution_count": null,
   "metadata": {},
   "outputs": [],
   "source": [
    "data_clustered.duplicated().sum()"
   ]
  },
  {
   "cell_type": "code",
   "execution_count": null,
   "metadata": {},
   "outputs": [],
   "source": [
    "data_clustered = data_clustered.drop_duplicates()"
   ]
  },
  {
   "cell_type": "code",
   "execution_count": null,
   "metadata": {},
   "outputs": [],
   "source": [
    "data_clustered.shape"
   ]
  },
  {
   "cell_type": "markdown",
   "metadata": {},
   "source": [
    "# Chia tập dữ liệu"
   ]
  },
  {
   "cell_type": "code",
   "execution_count": null,
   "metadata": {},
   "outputs": [],
   "source": [
    "from sklearn.model_selection import train_test_split\n",
    "\n",
    "# Chia dữ liệu thành tập huấn luyện và tập dev + test theo tỷ lệ 60:40\n",
    "X_train, X_temp, y_train, y_temp = train_test_split(data_clustered.drop(columns=['price_old']), data_clustered[\"price_old\"], test_size=0.4, random_state=42)\n",
    "\n",
    "# Chia tiếp tập dev + test thành tập dev (20%) và tập test (20%)\n",
    "X_dev, X_test, y_dev, y_test = train_test_split(X_temp, y_temp, test_size=0.5, random_state=42)\n"
   ]
  },
  {
   "cell_type": "markdown",
   "metadata": {},
   "source": [
    "## Lưu các dữ liệu sau chia tập"
   ]
  },
  {
   "cell_type": "code",
   "execution_count": null,
   "metadata": {},
   "outputs": [],
   "source": [
    "train_data = pd.concat([X_train, y_train], axis=1)\n",
    "train_data.to_csv(\"train.csv\")"
   ]
  },
  {
   "cell_type": "code",
   "execution_count": null,
   "metadata": {},
   "outputs": [],
   "source": [
    "dev_data = pd.concat([X_dev, y_dev], axis=1)\n",
    "dev_data.to_csv(\"dev.csv\")"
   ]
  },
  {
   "cell_type": "code",
   "execution_count": null,
   "metadata": {},
   "outputs": [],
   "source": [
    "test_data = pd.concat([X_test, y_test], axis=1)\n",
    "test_data.to_csv(\"test.csv\")"
   ]
  },
  {
   "cell_type": "markdown",
   "metadata": {},
   "source": [
    "# Huấn luyện mô hình"
   ]
  },
  {
   "cell_type": "code",
   "execution_count": null,
   "metadata": {},
   "outputs": [],
   "source": [
    "from sklearn.metrics import mean_absolute_percentage_error\n",
    "from sklearn.model_selection import RandomizedSearchCV\n",
    "from scipy.stats import uniform, randint\n",
    "from sklearn.metrics import mean_squared_error, r2_score\n",
    "from sklearn.model_selection import GridSearchCV"
   ]
  },
  {
   "cell_type": "markdown",
   "metadata": {},
   "source": [
    "## XGBRegressor"
   ]
  },
  {
   "cell_type": "code",
   "execution_count": null,
   "metadata": {},
   "outputs": [],
   "source": [
    "from xgboost import XGBRegressor\n",
    "\n",
    "param_dist = {\n",
    "    'n_estimators': randint(100, 500),\n",
    "    'max_depth': randint(3, 10),\n",
    "    'learning_rate': uniform(0.01, 0.2),\n",
    "    'subsample': uniform(0.7, 0.3),\n",
    "    'colsample_bytree': uniform(0.7, 0.3)\n",
    "}\n",
    "\n",
    "xgb = RandomizedSearchCV(\n",
    "    estimator=XGBRegressor(objective='reg:squarederror', random_state=42),\n",
    "    param_distributions=param_dist,\n",
    "    n_iter=30,\n",
    "    scoring='neg_mean_squared_error',\n",
    "    cv=3,\n",
    "    verbose=1,\n",
    "    n_jobs=-1\n",
    ")\n",
    "\n",
    "xgb.fit(X_train, y_train)\n",
    "\n",
    "print(\"Các siêu tham số tối ưu: \", xgb.best_params_)\n",
    "print(\"MSE tốt nhất:\", -xgb.best_score_)\n",
    "print(\"RMSE tốt nhất:\", np.sqrt(-xgb.best_score_))\n"
   ]
  },
  {
   "cell_type": "code",
   "execution_count": null,
   "metadata": {},
   "outputs": [],
   "source": [
    "xgb_regressor = xgb.best_estimator_\n",
    "\n",
    "# Huấn luyện mô hình trên tập train\n",
    "xgb_regressor.fit(X_train, y_train)\n",
    "\n",
    "# Dự đoán trên tập dev\n",
    "y_pred_xgb = xgb_regressor.predict(X_dev)\n",
    "\n",
    "# Đánh giá mô hình bằng MSE và RMSE trên tập dev\n",
    "mse_dev = mean_squared_error(y_dev, y_pred_xgb)\n",
    "rmse_dev = np.sqrt(mse_dev)\n",
    "mape = mean_absolute_percentage_error(y_dev, y_pred_xgb)\n",
    "r2 = r2_score(y_dev, y_pred_xgb)\n",
    "\n",
    "print(f\"MSE trên tập dev: {mse_dev}\")\n",
    "print(f\"RMSE trên tập dev: {rmse_dev}\")\n",
    "print(f\"MAPE trên tập dev: {mape}\")\n",
    "print(f\"R² trên tập dev: {r2:.4f}\")"
   ]
  },
  {
   "cell_type": "code",
   "execution_count": null,
   "metadata": {},
   "outputs": [],
   "source": [
    "# Lấy và hiển thị độ quan trọng của từng đặc trưng\n",
    "df_importance = pd.DataFrame({'Feature': X_train.columns,\n",
    "                              'Importance': xgb_regressor.feature_importances_}).sort_values(by='Importance', ascending=False)\n",
    "\n",
    "# Trực quan hóa\n",
    "plt.barh(df_importance['Feature'], df_importance['Importance'])\n",
    "plt.xlabel('Importance')\n",
    "plt.ylabel('Feature')\n",
    "plt.title('Feature Importance for XGBRegressor')\n",
    "plt.show()\n"
   ]
  },
  {
   "cell_type": "markdown",
   "metadata": {},
   "source": [
    "## LGBMRegressor"
   ]
  },
  {
   "cell_type": "code",
   "execution_count": null,
   "metadata": {},
   "outputs": [],
   "source": [
    "import lightgbm as lgb\n",
    "from lightgbm import LGBMRegressor\n",
    "\n",
    "# Tìm số lượng cây tối ưu cho mô hình bởi Early Stopping\n",
    "lgbm = LGBMRegressor(\n",
    "    objective='regression',\n",
    "    n_estimators=5000,\n",
    "    learning_rate=0.1,\n",
    "    num_leaves=31,\n",
    "    max_depth=20,\n",
    "    random_state=42\n",
    ")\n",
    "\n",
    "lgbm.fit(\n",
    "    X_train, y_train,\n",
    "    eval_set=[(X_test, y_test)],\n",
    "    eval_metric='rmse',\n",
    "    callbacks=[lgb.early_stopping(\n",
    "        stopping_rounds=50,\n",
    "        verbose=False\n",
    "    )],\n",
    ")\n",
    "\n",
    "# Số lượng cây tối ưu được chọn bởi Early Stopping\n",
    "n = lgbm.best_iteration_\n",
    "print(f\"\\nSố lượng cây tối ưu (n_estimators) được chọn bởi Early Stopping: {lgbm.best_iteration_}\")"
   ]
  },
  {
   "cell_type": "code",
   "execution_count": null,
   "metadata": {},
   "outputs": [],
   "source": [
    "# Định nghĩa không gian tham số (param_grid)\n",
    "param_grid = {\n",
    "    'n_estimators': [n],\n",
    "    'learning_rate': [0.01, 0.05, 0.1],\n",
    "    'num_leaves': [20, 31, 40],\n",
    "    'max_depth': [-1, 10, 20],\n",
    "}\n",
    "\n",
    "lgbm = GridSearchCV(\n",
    "    estimator=LGBMRegressor(random_state=42),\n",
    "    param_grid=param_grid,\n",
    "    cv=5,\n",
    "    scoring='neg_mean_squared_error',\n",
    "    verbose=1,\n",
    "    n_jobs=-1\n",
    ")\n",
    "\n",
    "lgbm.fit(X_train, y_train)\n",
    "\n",
    "# Lấy kết quả tốt nhất\n",
    "print(\"Tham số tốt nhất:\", lgbm.best_params_)\n",
    "print(\"MSE tốt nhất:\", -lgbm.best_score_)\n",
    "print(\"RMSE tốt nhất:\", np.sqrt(-lgbm.best_score_))"
   ]
  },
  {
   "cell_type": "code",
   "execution_count": null,
   "metadata": {},
   "outputs": [],
   "source": [
    "# Khởi tạo mô hình với các tham số được tinh chỉnh\n",
    "lgbm_regressor = lgbm.best_estimator_\n",
    "\n",
    "# Huấn luyện\n",
    "lgbm_regressor.fit(X_train, y_train)\n",
    "\n",
    "# Dự đoán\n",
    "y_pred_lgbm = lgbm_regressor.predict(X_dev)\n",
    "\n",
    "# Đánh giá mô hình bằng MSE và RMSE trên tập dev\n",
    "mse_dev = mean_squared_error(y_dev, y_pred_lgbm)\n",
    "rmse_dev = np.sqrt(mse_dev)\n",
    "mape = mean_absolute_percentage_error(y_dev, y_pred_lgbm)\n",
    "r2 = r2_score(y_dev, y_pred_lgbm)\n",
    "\n",
    "print(f\"MSE trên tập dev: {mse_dev}\")\n",
    "print(f\"RMSE trên tập dev: {rmse_dev}\")\n",
    "print(f\"MAPE trên tập dev: {mape}\")\n",
    "print(f\"R² trên tập dev: {r2:.4f}\")"
   ]
  },
  {
   "cell_type": "code",
   "execution_count": null,
   "metadata": {},
   "outputs": [],
   "source": [
    "# Lấy và hiển thị độ quan trọng của từng đặc trưng\n",
    "df_importance = pd.DataFrame({'Feature': X_train.columns,\n",
    "                              'Importance': lgbm_regressor.feature_importances_}).sort_values(by='Importance', ascending=False)\n",
    "\n",
    "# Trực quan hóa\n",
    "plt.barh(df_importance['Feature'], df_importance['Importance'])\n",
    "plt.xlabel('Importance')\n",
    "plt.ylabel('Feature')\n",
    "plt.title('Feature Importance for LGBMRegressor')\n",
    "plt.show()"
   ]
  },
  {
   "cell_type": "markdown",
   "metadata": {},
   "source": [
    "## RandomForestRegressor"
   ]
  },
  {
   "cell_type": "code",
   "execution_count": null,
   "metadata": {},
   "outputs": [],
   "source": [
    "from sklearn.ensemble import RandomForestRegressor\n",
    "\n",
    "# Thiết lập grid search với các giá trị siêu tham số cần thử nghiệm\n",
    "param_grid = {\n",
    "    \"n_estimators\": [100, 200, 300],  # Số lượng cây trong rừng\n",
    "    \"max_depth\": [None, 10, 20],      # Độ sâu tối đa của cây\n",
    "    \"min_samples_split\": [2, 5, 10],  # Số mẫu tối thiểu để chia nút\n",
    "    \"min_samples_leaf\": [1, 2, 4],    # Số mẫu tối thiểu ở nút lá\n",
    "    \"max_features\": [\"sqrt\", \"log2\"]  # Số lượng đặc trưng được chọn ngẫu nhiên\n",
    "}\n",
    "\n",
    "# Grid Search với cross-validation 5-fold\n",
    "rf= GridSearchCV(RandomForestRegressor(random_state=42),\n",
    "                param_grid = param_grid,\n",
    "                cv=5,\n",
    "                scoring=\"neg_root_mean_squared_error\",\n",
    "                n_jobs=-1,\n",
    "                verbose=2)\n",
    "\n",
    "# Huấn luyện\n",
    "rf.fit(X_train, y_train)\n",
    "\n",
    "# Kết quả tốt nhất\n",
    "print(\"Tham số tốt nhất:\", rf.best_params_)\n",
    "print(\"MSE tốt nhất:\", -rf.best_score_)\n",
    "print(\"RMSE tốt nhất:\", np.sqrt(-rf.best_score_))"
   ]
  },
  {
   "cell_type": "code",
   "execution_count": null,
   "metadata": {},
   "outputs": [],
   "source": [
    "rf_regressor = rf.best_estimator_\n",
    "\n",
    "# Dự đoán\n",
    "y_pred_rf = rf_regressor.predict(X_dev)\n",
    "\n",
    "# Đánh giá mô hình bằng MSE và RMSE trên tập dev\n",
    "mse_dev = mean_squared_error(y_dev, y_pred_rf)\n",
    "rmse_dev = np.sqrt(mse_dev)\n",
    "mape = mean_absolute_percentage_error(y_dev, y_pred_rf)\n",
    "r2 = r2_score(y_dev, y_pred_rf)\n",
    "\n",
    "print(f\"MSE trên tập dev: {mse_dev}\")\n",
    "print(f\"RMSE trên tập dev: {rmse_dev}\")\n",
    "print(f\"MAPE trên tập dev: {mape}\")\n",
    "print(f\"R² trên tập dev: {r2:.4f}\")"
   ]
  },
  {
   "cell_type": "code",
   "execution_count": null,
   "metadata": {},
   "outputs": [],
   "source": [
    "# Lấy và hiển thị độ quan trọng của từng đặc trưng\n",
    "df_importance = pd.DataFrame({'Feature': X_train.columns,\n",
    "                              'Importance': rf_regressor.feature_importances_}).sort_values(by='Importance', ascending=False)\n",
    "\n",
    "# Trực quan hóa\n",
    "plt.barh(df_importance['Feature'], df_importance['Importance'])\n",
    "plt.xlabel('Importance')\n",
    "plt.ylabel('Feature')\n",
    "plt.title('Feature Importance for RandomForestRegressor')\n",
    "plt.show()"
   ]
  },
  {
   "cell_type": "markdown",
   "metadata": {},
   "source": [
    "## CatBoostRegressor"
   ]
  },
  {
   "cell_type": "code",
   "execution_count": null,
   "metadata": {},
   "outputs": [],
   "source": [
    "from catboost import CatBoostRegressor\n",
    "\n",
    "# Định nghĩa không gian tham số\n",
    "param_dist = {\n",
    "    'iterations': randint(100, 1000),\n",
    "    'learning_rate': uniform(loc=0.01, scale=0.15),\n",
    "    'depth': randint(4, 10),\n",
    "    'l2_leaf_reg': uniform(loc=1, scale=5),\n",
    "}\n",
    "\n",
    "# Khởi tạo mô hình CatBoostRegressor\n",
    "cat_model_base = CatBoostRegressor(\n",
    "    random_state=42,\n",
    "    loss_function='RMSE',\n",
    "    eval_metric='R2',\n",
    "    early_stopping_rounds=50,\n",
    "    verbose=0,\n",
    ")\n",
    "\n",
    "# Khởi tạo RandomizedSearchCV\n",
    "random_search_catboost = RandomizedSearchCV(estimator=cat_model_base,\n",
    "                                            param_distributions=param_dist,\n",
    "                                            n_iter=30,\n",
    "                                            cv=5,\n",
    "                                            scoring='r2',\n",
    "                                            verbose=1,\n",
    "                                            random_state=42,\n",
    "                                            n_jobs=-1)\n",
    "\n",
    "# Huấn luyện mô hình CatBoost với RandomizedSearchCV\n",
    "random_search_catboost.fit(X_train, y_train,\n",
    "                           eval_set=(X_dev, y_dev),\n",
    "                           early_stopping_rounds=50,\n",
    "                           verbose=100\n",
    "                           )\n",
    "\n",
    "# Kết quả tốt nhất\n",
    "print(\"Tham số tốt nhất:\", random_search_catboost.best_params_)\n",
    "print(\"MSE tốt nhất:\", random_search_catboost.best_score_)\n",
    "print(\"RMSE tốt nhất:\", np.sqrt(random_search_catboost.best_score_))"
   ]
  },
  {
   "cell_type": "code",
   "execution_count": null,
   "metadata": {},
   "outputs": [],
   "source": [
    "# Lấy mô hình CatBoost tốt nhất đã được huấn luyện\n",
    "cb_regressor = random_search_catboost.best_estimator_\n",
    "\n",
    "# Dự đoán trên tập dev\n",
    "y_pred_cb = cb_regressor.predict(X_dev)\n",
    "\n",
    "# Đánh giá mô hình bằng MSE và RMSE trên tập dev\n",
    "mse_dev = mean_squared_error(y_dev, y_pred_cb)\n",
    "rmse_dev = np.sqrt(mse_dev)\n",
    "mape = mean_absolute_percentage_error(y_dev, y_pred_cb)\n",
    "r2 = r2_score(y_dev, y_pred_cb)\n",
    "\n",
    "print(f\"MSE trên tập dev: {mse_dev}\")\n",
    "print(f\"RMSE trên tập dev: {rmse_dev}\")\n",
    "print(f\"MAPE trên tập dev: {mape}\")\n",
    "print(f\"R² trên tập dev: {r2:.4f}\")"
   ]
  },
  {
   "cell_type": "code",
   "execution_count": null,
   "metadata": {},
   "outputs": [],
   "source": [
    "# Lấy và hiển thị độ quan trọng của từng đặc trưng\n",
    "df_importance = pd.DataFrame({'Feature': X_train.columns,\n",
    "                              'Importance': cb_regressor.feature_importances_}).sort_values(by='Importance', ascending=False)\n",
    "\n",
    "# Trực quan hóa\n",
    "plt.barh(df_importance['Feature'], df_importance['Importance'])\n",
    "plt.xlabel('Importance')\n",
    "plt.ylabel('Feature')\n",
    "plt.title('Feature Importance for CatBoostRegressor')\n",
    "plt.show()"
   ]
  },
  {
   "cell_type": "markdown",
   "metadata": {},
   "source": [
    "# Kiểm định"
   ]
  },
  {
   "cell_type": "markdown",
   "metadata": {},
   "source": [
    "## XGBRegressor"
   ]
  },
  {
   "cell_type": "code",
   "execution_count": null,
   "metadata": {},
   "outputs": [],
   "source": [
    "# Dự đoán\n",
    "y_pred_xgb = xgb_regressor.predict(X_test)\n",
    "\n",
    "# Đánh giá mô hình bằng MSE và RMSE trên tập test\n",
    "mse_test = mean_squared_error(y_test, y_pred_xgb)\n",
    "rmse_test = np.sqrt(mse_test)\n",
    "mape = mean_absolute_percentage_error(y_test, y_pred_xgb)\n",
    "r2 = r2_score(y_test, y_pred_xgb)\n",
    "\n",
    "print(f\"MSE trên tập test: {mse_test}\")\n",
    "print(f\"RMSE trên tập test: {rmse_test}\")\n",
    "print(f\"MAPE trên tập test: {mape}\")\n",
    "print(f\"R² trên tập test: {r2:.4f}\")"
   ]
  },
  {
   "cell_type": "code",
   "execution_count": null,
   "metadata": {},
   "outputs": [],
   "source": [
    "plt.figure(figsize=(8, 6))\n",
    "plt.scatter(y_test, y_pred_xgb, alpha=0.5, color='blue')\n",
    "plt.plot([min(y_test), max(y_test)], [min(y_test), max(y_test)], color='red', linestyle='--', label=\"Perfect prediction\")\n",
    "plt.xlabel(\"Thực tế\")\n",
    "plt.ylabel(\"Dự đoán\")\n",
    "plt.title(\"XGBRegressor\")\n",
    "plt.legend()\n",
    "plt.grid()\n",
    "\n",
    "# Hiển thị biểu đồ\n",
    "plt.show()"
   ]
  },
  {
   "cell_type": "markdown",
   "metadata": {},
   "source": [
    "## LGBM Regressor"
   ]
  },
  {
   "cell_type": "code",
   "execution_count": null,
   "metadata": {},
   "outputs": [],
   "source": [
    "# Dự đoán\n",
    "y_pred_lgbm = lgbm_regressor.predict(X_test)\n",
    "\n",
    "# Đánh giá mô hình bằng MSE và RMSE trên tập test\n",
    "mse_test = mean_squared_error(y_test, y_pred_lgbm)\n",
    "rmse_test = np.sqrt(mse_test)\n",
    "mape = mean_absolute_percentage_error(y_test, y_pred_lgbm)\n",
    "r2 = r2_score(y_test, y_pred_lgbm)\n",
    "\n",
    "print(f\"MSE trên tập test: {mse_test}\")\n",
    "print(f\"RMSE trên tập test: {rmse_test}\")\n",
    "print(f\"MAPE trên tập test: {mape}\")\n",
    "print(f\"R² trên tập test: {r2:.4f}\")"
   ]
  },
  {
   "cell_type": "code",
   "execution_count": null,
   "metadata": {},
   "outputs": [],
   "source": [
    "plt.figure(figsize=(8, 6))\n",
    "plt.scatter(y_test, y_pred_lgbm, alpha=0.5, color='blue')\n",
    "plt.plot([min(y_test), max(y_test)], [min(y_test), max(y_test)], color='red', linestyle='--', label=\"Perfect prediction\")\n",
    "plt.xlabel(\"Thực tế\")\n",
    "plt.ylabel(\"Dự đoán\")\n",
    "plt.title(\"LGBMRegressor\")\n",
    "plt.legend()\n",
    "plt.grid()\n",
    "\n",
    "# Hiển thị biểu đồ\n",
    "plt.show()"
   ]
  },
  {
   "cell_type": "markdown",
   "metadata": {},
   "source": [
    "## RandomForestRegressor"
   ]
  },
  {
   "cell_type": "code",
   "execution_count": null,
   "metadata": {},
   "outputs": [],
   "source": [
    "# Dự đoán\n",
    "y_pred_rf = rf_regressor.predict(X_test)\n",
    "\n",
    "# Đánh giá mô hình bằng MSE và RMSE trên tập test\n",
    "mse_test = mean_squared_error(y_test, y_pred_rf)\n",
    "rmse_test = np.sqrt(mse_test)\n",
    "mape = mean_absolute_percentage_error(y_test, y_pred_rf)\n",
    "r2 = r2_score(y_test, y_pred_rf)\n",
    "\n",
    "print(f\"MSE trên tập test: {mse_test}\")\n",
    "print(f\"RMSE trên tập test: {rmse_test}\")\n",
    "print(f\"MAPE trên tập test: {mape}\")\n",
    "print(f\"R² trên tập test: {r2:.4f}\")"
   ]
  },
  {
   "cell_type": "code",
   "execution_count": null,
   "metadata": {},
   "outputs": [],
   "source": [
    "plt.figure(figsize=(8, 6))\n",
    "plt.scatter(y_test, y_pred_rf, alpha=0.5, color='blue')\n",
    "plt.plot([min(y_test), max(y_test)], [min(y_test), max(y_test)], color='red', linestyle='--', label=\"Perfect prediction\")\n",
    "plt.xlabel(\"Thực tế\")\n",
    "plt.ylabel(\"Dự đoán\")\n",
    "plt.title(\"RandomForestRegressor\")\n",
    "plt.legend()\n",
    "plt.grid()\n",
    "\n",
    "# Hiển thị biểu đồ\n",
    "plt.show()"
   ]
  },
  {
   "cell_type": "markdown",
   "metadata": {},
   "source": [
    "## CatBoostRegressor"
   ]
  },
  {
   "cell_type": "code",
   "execution_count": null,
   "metadata": {},
   "outputs": [],
   "source": [
    "# Dự đoán\n",
    "y_pred_cb = cb_regressor.predict(X_test)\n",
    "\n",
    "# Đánh giá mô hình bằng MSE và RMSE trên tập test\n",
    "mse_test = mean_squared_error(y_test, y_pred_cb)\n",
    "rmse_test = np.sqrt(mse_test)\n",
    "mape = mean_absolute_percentage_error(y_test, y_pred_cb)\n",
    "r2 = r2_score(y_test, y_pred_cb)\n",
    "\n",
    "print(f\"MSE trên tập test: {mse_test}\")\n",
    "print(f\"RMSE trên tập test: {rmse_test}\")\n",
    "print(f\"MAPE trên tập test: {mape}\")\n",
    "print(f\"R² trên tập test: {r2:.4f}\")"
   ]
  },
  {
   "cell_type": "code",
   "execution_count": null,
   "metadata": {},
   "outputs": [],
   "source": [
    "plt.figure(figsize=(8, 6))\n",
    "plt.scatter(y_test, y_pred_cb, alpha=0.5, color='blue')\n",
    "plt.plot([min(y_test), max(y_test)], [min(y_test), max(y_test)], color='red', linestyle='--', label=\"Perfect prediction\")\n",
    "plt.xlabel(\"Thực tế\")\n",
    "plt.ylabel(\"Dự đoán\")\n",
    "plt.title(\"CatBoostRegressor\")\n",
    "plt.legend()\n",
    "plt.grid()\n",
    "\n",
    "# Hiển thị biểu đồ\n",
    "plt.show()"
   ]
  },
  {
   "cell_type": "markdown",
   "metadata": {},
   "source": [
    "# Lưu mô hình"
   ]
  },
  {
   "cell_type": "code",
   "execution_count": null,
   "metadata": {},
   "outputs": [],
   "source": [
    "import joblib\n",
    "\n",
    "joblib.dump(xgb_regressor, 'xgb_model.pkl')\n",
    "joblib.dump(lgbm_regressor, 'lgbm_model.pkl')\n",
    "joblib.dump(rf_regressor, 'rf_model.pkl')\n",
    "joblib.dump(cb_regressor, 'cb_model.pkl')"
   ]
  }
 ],
 "metadata": {
  "kernelspec": {
   "display_name": "base",
   "language": "python",
   "name": "python3"
  },
  "language_info": {
   "codemirror_mode": {
    "name": "ipython",
    "version": 3
   },
   "file_extension": ".py",
   "mimetype": "text/x-python",
   "name": "python",
   "nbconvert_exporter": "python",
   "pygments_lexer": "ipython3",
   "version": "3.12.3"
  }
 },
 "nbformat": 4,
 "nbformat_minor": 4
}
