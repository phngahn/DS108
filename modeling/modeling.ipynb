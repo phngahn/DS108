{
 "cells": [
  {
   "cell_type": "code",
   "execution_count": 1,
   "metadata": {},
   "outputs": [],
   "source": [
    "import pandas as pd\n",
    "from datetime import datetime\n",
    "import calendar\n",
    "import torch\n",
    "import torch.nn as nn"
   ]
  },
  {
   "cell_type": "code",
   "execution_count": 2,
   "metadata": {},
   "outputs": [],
   "source": [
    "data = pd.read_csv(r'D:\\Code\\DS108\\preprocessing\\tidy_data.csv', encoding = 'utf-8-sig')"
   ]
  },
  {
   "cell_type": "code",
   "execution_count": 3,
   "metadata": {},
   "outputs": [
    {
     "data": {
      "text/plain": [
       "(13224, 30)"
      ]
     },
     "execution_count": 3,
     "metadata": {},
     "output_type": "execute_result"
    }
   ],
   "source": [
    "# Số dòng và cột của dữ liệu\n",
    "data.shape"
   ]
  },
  {
   "cell_type": "code",
   "execution_count": 4,
   "metadata": {},
   "outputs": [
    {
     "data": {
      "text/plain": [
       "Index(['name', 'brand', 'condition', 'price_old', 'price_new', 'warranty',\n",
       "       'CPU', 'RAM', 'capacity', 'time', 'battery', 'screen_size',\n",
       "       'operating_system', 'display_technology', 'screen_resolution', 'SIM',\n",
       "       'size', 'weight', 'bluetooth', 'refresh_rate', 'GPU', 'color', 'image',\n",
       "       'resolution_width', 'resolution_height', 'has_nano_sim', 'has_esim',\n",
       "       'height', 'width', 'depth'],\n",
       "      dtype='object')"
      ]
     },
     "execution_count": 4,
     "metadata": {},
     "output_type": "execute_result"
    }
   ],
   "source": [
    "# Các thuộc tính của dữ liệu\n",
    "data.columns"
   ]
  },
  {
   "cell_type": "markdown",
   "metadata": {},
   "source": [
    "# Tính khoảng thời gian điện thoại đã ra mắt"
   ]
  },
  {
   "cell_type": "code",
   "execution_count": 5,
   "metadata": {},
   "outputs": [],
   "source": [
    "data['time'] = pd.to_datetime(data['time'])"
   ]
  },
  {
   "cell_type": "code",
   "execution_count": 6,
   "metadata": {},
   "outputs": [],
   "source": [
    "# Tính toán khoảng thời gian hiện tại - 'time'\n",
    "data['time_difference'] = datetime.now() - data['time']\n",
    "data['time_difference'] = data['time_difference'].dt.days"
   ]
  },
  {
   "cell_type": "code",
   "execution_count": 7,
   "metadata": {},
   "outputs": [],
   "source": [
    "data.drop(columns=['time'], inplace=True)"
   ]
  },
  {
   "cell_type": "markdown",
   "metadata": {},
   "source": [
    "# Tính thời gian hết bảo hành"
   ]
  },
  {
   "cell_type": "code",
   "execution_count": 8,
   "metadata": {},
   "outputs": [],
   "source": [
    "processed_results = []\n",
    "current_date = datetime.now() # Lấy ngày và giờ hiện tại\n",
    "\n",
    "for index, item in data['warranty'].items():\n",
    "    item = str(item).strip() # Đảm bảo item là chuỗi và loại bỏ khoảng trắng\n",
    "\n",
    "    # Kiểm tra nếu có chứa \"tháng\"\n",
    "    if \"tháng\" in item:\n",
    "        num_months_str = item.replace(\"tháng\", \"\").strip()\n",
    "        num_months = int(num_months_str)\n",
    "\n",
    "        # Xử lý cộng tháng\n",
    "        year = current_date.year\n",
    "        month = current_date.month + num_months\n",
    "        day = current_date.day\n",
    "\n",
    "        while month > 12:\n",
    "            month -= 12\n",
    "            year += 1\n",
    "                \n",
    "        # Xử lý trường hợp ngày không hợp lệ sau khi cộng tháng\n",
    "        try:\n",
    "            new_date = datetime(year, month, day)\n",
    "        except ValueError:\n",
    "            # Nếu ngày không hợp lệ, lấy ngày cuối cùng của tháng đó\n",
    "            last_day_of_month = calendar.monthrange(year, month)[1]\n",
    "            new_date = datetime(year, month, last_day_of_month)\n",
    "\n",
    "        # Cập nhật giá trị\n",
    "        data.loc[index, 'warranty'] = new_date.strftime(\"%d/%m/%Y\")\n",
    "    else:\n",
    "            datetime.strptime(item, \"%d/%m/%Y\")\n",
    "            data.loc[index, 'warranty'] = item \n",
    "\n",
    "# Chuyển dữ liệu sang kiểu datetime\n",
    "data['warranty'] = pd.to_datetime(data['warranty'], format='%d/%m/%Y', errors='coerce')"
   ]
  },
  {
   "cell_type": "code",
   "execution_count": 9,
   "metadata": {},
   "outputs": [],
   "source": [
    "# Tạo một Series mới cho current_date\n",
    "current_date_series = pd.Series([current_date] * len(data))\n",
    "\n",
    "# Tính hiệu số ngày\n",
    "time_remaining = data['warranty'] - current_date_series\n",
    "\n",
    "# Lưu vào một cột mới\n",
    "data['day_remaining_warranty'] = time_remaining.dt.days + 1"
   ]
  },
  {
   "cell_type": "code",
   "execution_count": 10,
   "metadata": {},
   "outputs": [],
   "source": [
    "data.drop(columns=['warranty'], inplace=True)"
   ]
  },
  {
   "cell_type": "markdown",
   "metadata": {},
   "source": [
    "# Chia dữ liệu tập train, dev và test "
   ]
  },
  {
   "cell_type": "code",
   "execution_count": 11,
   "metadata": {},
   "outputs": [],
   "source": [
    "from sklearn.model_selection import train_test_split\n",
    "\n",
    "# Chia tập dữ liệu thành train (60%), tạm thời còn lại 40% sẽ chia tiếp\n",
    "train, temp = train_test_split(data, test_size=0.4, random_state=42)\n",
    "\n",
    "# Chia tiếp tập còn lại thành dev (20%) và test (20%)\n",
    "dev, test = train_test_split(temp, test_size=0.5, random_state=42)\n"
   ]
  },
  {
   "cell_type": "markdown",
   "metadata": {},
   "source": [
    "# Encoding"
   ]
  },
  {
   "cell_type": "code",
   "execution_count": 12,
   "metadata": {},
   "outputs": [
    {
     "name": "stdout",
     "output_type": "stream",
     "text": [
      "['iOS 16' 'iOS 15' 'Android 13' 'Android 14' 'iOS 17' 'ColorOS 13.1' nan\n",
      " 'iOS 18' 'iOS 13' 'iOS 11' 'Android 12' 'iOS 12' 'iOS 14.1'\n",
      " 'Xiaomi HyperOS' 'Funtouch OS 13' 'Android 15' 'MIUI 14' 'ColorOS 15'\n",
      " 'Android 17' 'Xiaomi HyperOS 2' 'XOS 14' 'Android 11' 'ColorOS 14'\n",
      " 'Android 10' 'ColorOS 12.1' 'Android 16' 'MIUI 13' 'Android T' 'OxygenOS'\n",
      " 'Android 10.0' 'realme UI 4.0' 'Android U' 'Mocor' 'Android 9.0'\n",
      " 'Series 30' 'S30']\n"
     ]
    }
   ],
   "source": [
    "print(data['operating_system'].unique())"
   ]
  },
  {
   "cell_type": "code",
   "execution_count": 13,
   "metadata": {},
   "outputs": [],
   "source": [
    "# Hàm nhóm hệ điều hành vào các loại chính\n",
    "def map_os_family(os):\n",
    "    if pd.isnull(os):\n",
    "        return 'Unknown'\n",
    "    os = os.lower()\n",
    "    if 'ios' in os:\n",
    "        return 'iOS'\n",
    "    elif 'android' in os:\n",
    "        return 'Android'\n",
    "    elif 'coloros' in os:\n",
    "        return 'Android'\n",
    "    elif 'miui' in os:\n",
    "        return 'Android'\n",
    "    elif 'hyperos' in os:\n",
    "        return 'Android'\n",
    "    elif 'funtouch' in os:\n",
    "        return 'Android'\n",
    "    elif 'oxygenos' in os:\n",
    "        return 'Android'\n",
    "    elif 'realme ui' in os:\n",
    "        return 'Android'\n",
    "    elif 'xos' in os:\n",
    "        return 'Android'\n",
    "    elif 'mocor' in os:\n",
    "        return 'Android'\n",
    "    elif 'series 30' in os or 's30' in os:\n",
    "        return 'Feature OS'\n",
    "    else:\n",
    "        return 'Other'\n",
    "\n",
    "# Tạo cột os\n",
    "data['os'] = data['operating_system'].apply(map_os_family)\n",
    "\n",
    "\n"
   ]
  },
  {
   "cell_type": "code",
   "execution_count": 16,
   "metadata": {},
   "outputs": [],
   "source": [
    "from sklearn.preprocessing import LabelEncoder\n",
    "\n",
    "encoder = LabelEncoder()\n",
    "data['os'] = encoder.fit_transform(data['os'])"
   ]
  },
  {
   "cell_type": "code",
   "execution_count": 19,
   "metadata": {},
   "outputs": [],
   "source": [
    "data['chip'] = data['CPU'].str.extract(r'(Apple|Snapdragon|MediaTek|Exynos|Unisoc)', expand=False)\n"
   ]
  },
  {
   "cell_type": "code",
   "execution_count": 21,
   "metadata": {},
   "outputs": [],
   "source": [
    "from sklearn.preprocessing import LabelEncoder\n",
    "\n",
    "encoder = LabelEncoder()\n",
    "data['chip'] = encoder.fit_transform(data['chip'])"
   ]
  },
  {
   "cell_type": "code",
   "execution_count": 25,
   "metadata": {},
   "outputs": [],
   "source": [
    "data['GPU_brand'] = data['GPU'].str.extract(r'(Apple|Adreno|Mali|PowerVR|IMG|AMD|Xclipse|Immortalis)', expand=False)\n",
    "\n",
    "from sklearn.preprocessing import LabelEncoder\n",
    "\n",
    "encoder = LabelEncoder()\n",
    "data['chip'] = encoder.fit_transform(data['chip'])"
   ]
  }
 ],
 "metadata": {
  "kernelspec": {
   "display_name": "base",
   "language": "python",
   "name": "python3"
  },
  "language_info": {
   "codemirror_mode": {
    "name": "ipython",
    "version": 3
   },
   "file_extension": ".py",
   "mimetype": "text/x-python",
   "name": "python",
   "nbconvert_exporter": "python",
   "pygments_lexer": "ipython3",
   "version": "3.12.3"
  }
 },
 "nbformat": 4,
 "nbformat_minor": 2
}
