{
 "cells": [
  {
   "cell_type": "code",
   "execution_count": 33,
   "metadata": {},
   "outputs": [],
   "source": [
    "import pandas as pd\n",
    "from datetime import datetime\n",
    "import calendar\n",
    "import matplotlib.pyplot as plt\n",
    "import numpy as np\n",
    "import re"
   ]
  },
  {
   "cell_type": "code",
   "execution_count": 34,
   "metadata": {},
   "outputs": [],
   "source": [
    "data = pd.read_csv(r'..\\preprocessing\\tidy_data.csv', encoding = 'utf-8-sig')"
   ]
  },
  {
   "cell_type": "code",
   "execution_count": 35,
   "metadata": {},
   "outputs": [],
   "source": [
    "data = data.dropna()"
   ]
  },
  {
   "cell_type": "code",
   "execution_count": 36,
   "metadata": {},
   "outputs": [
    {
     "data": {
      "text/plain": [
       "(10928, 26)"
      ]
     },
     "execution_count": 36,
     "metadata": {},
     "output_type": "execute_result"
    }
   ],
   "source": [
    "# Số dòng và cột của dữ liệu\n",
    "data.shape"
   ]
  },
  {
   "cell_type": "code",
   "execution_count": 37,
   "metadata": {},
   "outputs": [
    {
     "data": {
      "text/plain": [
       "Index(['name', 'brand', 'condition', 'price_old', 'price_new', 'warranty',\n",
       "       'CPU', 'RAM', 'capacity', 'time', 'battery', 'screen_size',\n",
       "       'operating_system', 'display_technology', 'screen_resolution', 'weight',\n",
       "       'bluetooth', 'refresh_rate', 'GPU', 'color', 'image', 'has_nano_sim',\n",
       "       'has_esim', 'height', 'width', 'depth'],\n",
       "      dtype='object')"
      ]
     },
     "execution_count": 37,
     "metadata": {},
     "output_type": "execute_result"
    }
   ],
   "source": [
    "# Các thuộc tính của dữ liệu\n",
    "data.columns"
   ]
  },
  {
   "cell_type": "code",
   "execution_count": 38,
   "metadata": {},
   "outputs": [
    {
     "data": {
      "text/html": [
       "<div>\n",
       "<style scoped>\n",
       "    .dataframe tbody tr th:only-of-type {\n",
       "        vertical-align: middle;\n",
       "    }\n",
       "\n",
       "    .dataframe tbody tr th {\n",
       "        vertical-align: top;\n",
       "    }\n",
       "\n",
       "    .dataframe thead th {\n",
       "        text-align: right;\n",
       "    }\n",
       "</style>\n",
       "<table border=\"1\" class=\"dataframe\">\n",
       "  <thead>\n",
       "    <tr style=\"text-align: right;\">\n",
       "      <th></th>\n",
       "      <th>price_old</th>\n",
       "      <th>price_new</th>\n",
       "      <th>RAM</th>\n",
       "      <th>capacity</th>\n",
       "      <th>battery</th>\n",
       "      <th>screen_size</th>\n",
       "      <th>screen_resolution</th>\n",
       "      <th>weight</th>\n",
       "      <th>refresh_rate</th>\n",
       "      <th>has_nano_sim</th>\n",
       "      <th>has_esim</th>\n",
       "      <th>height</th>\n",
       "      <th>width</th>\n",
       "      <th>depth</th>\n",
       "    </tr>\n",
       "  </thead>\n",
       "  <tbody>\n",
       "    <tr>\n",
       "      <th>count</th>\n",
       "      <td>1.092800e+04</td>\n",
       "      <td>1.092800e+04</td>\n",
       "      <td>10928.000000</td>\n",
       "      <td>10928.000000</td>\n",
       "      <td>10928.000000</td>\n",
       "      <td>10928.000000</td>\n",
       "      <td>1.092800e+04</td>\n",
       "      <td>10928.000000</td>\n",
       "      <td>10928.000000</td>\n",
       "      <td>10928.0</td>\n",
       "      <td>10928.000000</td>\n",
       "      <td>10928.000000</td>\n",
       "      <td>10928.000000</td>\n",
       "      <td>10928.000000</td>\n",
       "    </tr>\n",
       "    <tr>\n",
       "      <th>mean</th>\n",
       "      <td>8.657490e+06</td>\n",
       "      <td>1.382425e+07</td>\n",
       "      <td>7.707952</td>\n",
       "      <td>222.773426</td>\n",
       "      <td>4579.718064</td>\n",
       "      <td>6.293948</td>\n",
       "      <td>2.457773e+06</td>\n",
       "      <td>187.993503</td>\n",
       "      <td>98.013909</td>\n",
       "      <td>1.0</td>\n",
       "      <td>0.405747</td>\n",
       "      <td>157.821568</td>\n",
       "      <td>75.272965</td>\n",
       "      <td>11.252679</td>\n",
       "    </tr>\n",
       "    <tr>\n",
       "      <th>std</th>\n",
       "      <td>6.970002e+06</td>\n",
       "      <td>1.106870e+07</td>\n",
       "      <td>3.468098</td>\n",
       "      <td>151.920992</td>\n",
       "      <td>1109.118893</td>\n",
       "      <td>1.209903</td>\n",
       "      <td>1.135541e+06</td>\n",
       "      <td>26.336526</td>\n",
       "      <td>29.036443</td>\n",
       "      <td>0.0</td>\n",
       "      <td>0.491058</td>\n",
       "      <td>12.572043</td>\n",
       "      <td>11.461572</td>\n",
       "      <td>13.190693</td>\n",
       "    </tr>\n",
       "    <tr>\n",
       "      <th>min</th>\n",
       "      <td>1.500000e+05</td>\n",
       "      <td>4.100000e+05</td>\n",
       "      <td>0.046875</td>\n",
       "      <td>0.125000</td>\n",
       "      <td>1000.000000</td>\n",
       "      <td>1.770000</td>\n",
       "      <td>1.920000e+04</td>\n",
       "      <td>75.000000</td>\n",
       "      <td>30.000000</td>\n",
       "      <td>1.0</td>\n",
       "      <td>0.000000</td>\n",
       "      <td>71.500000</td>\n",
       "      <td>7.000000</td>\n",
       "      <td>5.000000</td>\n",
       "    </tr>\n",
       "    <tr>\n",
       "      <th>25%</th>\n",
       "      <td>3.010000e+06</td>\n",
       "      <td>4.490000e+06</td>\n",
       "      <td>6.000000</td>\n",
       "      <td>128.000000</td>\n",
       "      <td>4383.000000</td>\n",
       "      <td>6.560000</td>\n",
       "      <td>1.180800e+06</td>\n",
       "      <td>182.000000</td>\n",
       "      <td>90.000000</td>\n",
       "      <td>1.0</td>\n",
       "      <td>0.000000</td>\n",
       "      <td>155.700000</td>\n",
       "      <td>74.420000</td>\n",
       "      <td>7.680000</td>\n",
       "    </tr>\n",
       "    <tr>\n",
       "      <th>50%</th>\n",
       "      <td>7.020000e+06</td>\n",
       "      <td>9.990000e+06</td>\n",
       "      <td>8.000000</td>\n",
       "      <td>256.000000</td>\n",
       "      <td>5000.000000</td>\n",
       "      <td>6.670000</td>\n",
       "      <td>2.592000e+06</td>\n",
       "      <td>192.000000</td>\n",
       "      <td>120.000000</td>\n",
       "      <td>1.0</td>\n",
       "      <td>0.000000</td>\n",
       "      <td>162.200000</td>\n",
       "      <td>75.940000</td>\n",
       "      <td>7.900000</td>\n",
       "    </tr>\n",
       "    <tr>\n",
       "      <th>75%</th>\n",
       "      <td>1.270000e+07</td>\n",
       "      <td>2.299000e+07</td>\n",
       "      <td>12.000000</td>\n",
       "      <td>256.000000</td>\n",
       "      <td>5030.000000</td>\n",
       "      <td>6.700000</td>\n",
       "      <td>3.204000e+06</td>\n",
       "      <td>198.000000</td>\n",
       "      <td>120.000000</td>\n",
       "      <td>1.0</td>\n",
       "      <td>1.000000</td>\n",
       "      <td>165.100000</td>\n",
       "      <td>77.300000</td>\n",
       "      <td>8.300000</td>\n",
       "    </tr>\n",
       "    <tr>\n",
       "      <th>max</th>\n",
       "      <td>3.707000e+07</td>\n",
       "      <td>4.799000e+07</td>\n",
       "      <td>16.000000</td>\n",
       "      <td>1024.000000</td>\n",
       "      <td>6600.000000</td>\n",
       "      <td>7.600000</td>\n",
       "      <td>4.608000e+06</td>\n",
       "      <td>240.000000</td>\n",
       "      <td>144.000000</td>\n",
       "      <td>1.0</td>\n",
       "      <td>1.000000</td>\n",
       "      <td>191.900000</td>\n",
       "      <td>132.600000</td>\n",
       "      <td>88.900000</td>\n",
       "    </tr>\n",
       "  </tbody>\n",
       "</table>\n",
       "</div>"
      ],
      "text/plain": [
       "          price_old     price_new           RAM      capacity       battery  \\\n",
       "count  1.092800e+04  1.092800e+04  10928.000000  10928.000000  10928.000000   \n",
       "mean   8.657490e+06  1.382425e+07      7.707952    222.773426   4579.718064   \n",
       "std    6.970002e+06  1.106870e+07      3.468098    151.920992   1109.118893   \n",
       "min    1.500000e+05  4.100000e+05      0.046875      0.125000   1000.000000   \n",
       "25%    3.010000e+06  4.490000e+06      6.000000    128.000000   4383.000000   \n",
       "50%    7.020000e+06  9.990000e+06      8.000000    256.000000   5000.000000   \n",
       "75%    1.270000e+07  2.299000e+07     12.000000    256.000000   5030.000000   \n",
       "max    3.707000e+07  4.799000e+07     16.000000   1024.000000   6600.000000   \n",
       "\n",
       "        screen_size  screen_resolution        weight  refresh_rate  \\\n",
       "count  10928.000000       1.092800e+04  10928.000000  10928.000000   \n",
       "mean       6.293948       2.457773e+06    187.993503     98.013909   \n",
       "std        1.209903       1.135541e+06     26.336526     29.036443   \n",
       "min        1.770000       1.920000e+04     75.000000     30.000000   \n",
       "25%        6.560000       1.180800e+06    182.000000     90.000000   \n",
       "50%        6.670000       2.592000e+06    192.000000    120.000000   \n",
       "75%        6.700000       3.204000e+06    198.000000    120.000000   \n",
       "max        7.600000       4.608000e+06    240.000000    144.000000   \n",
       "\n",
       "       has_nano_sim      has_esim        height         width         depth  \n",
       "count       10928.0  10928.000000  10928.000000  10928.000000  10928.000000  \n",
       "mean            1.0      0.405747    157.821568     75.272965     11.252679  \n",
       "std             0.0      0.491058     12.572043     11.461572     13.190693  \n",
       "min             1.0      0.000000     71.500000      7.000000      5.000000  \n",
       "25%             1.0      0.000000    155.700000     74.420000      7.680000  \n",
       "50%             1.0      0.000000    162.200000     75.940000      7.900000  \n",
       "75%             1.0      1.000000    165.100000     77.300000      8.300000  \n",
       "max             1.0      1.000000    191.900000    132.600000     88.900000  "
      ]
     },
     "execution_count": 38,
     "metadata": {},
     "output_type": "execute_result"
    }
   ],
   "source": [
    "data.describe()"
   ]
  },
  {
   "cell_type": "markdown",
   "metadata": {},
   "source": [
    "# Tính khoảng thời gian điện thoại đã ra mắt"
   ]
  },
  {
   "cell_type": "code",
   "execution_count": 39,
   "metadata": {},
   "outputs": [],
   "source": [
    "data['time'] = pd.to_datetime(data['time'])"
   ]
  },
  {
   "cell_type": "code",
   "execution_count": 40,
   "metadata": {},
   "outputs": [],
   "source": [
    "# Tính toán khoảng thời gian hiện tại - 'time'\n",
    "data['time_difference'] = datetime.now() - data['time']\n",
    "data['time_difference'] = data['time_difference'].dt.days"
   ]
  },
  {
   "cell_type": "code",
   "execution_count": 41,
   "metadata": {},
   "outputs": [],
   "source": [
    "data.drop(columns=['time'], inplace=True)"
   ]
  },
  {
   "cell_type": "markdown",
   "metadata": {},
   "source": [
    "# Tính thời gian hết bảo hành"
   ]
  },
  {
   "cell_type": "code",
   "execution_count": 42,
   "metadata": {},
   "outputs": [],
   "source": [
    "processed_results = []\n",
    "current_date = datetime.now() # Lấy ngày và giờ hiện tại\n",
    "\n",
    "for index, item in data['warranty'].items():\n",
    "    item = str(item).strip() # Đảm bảo item là chuỗi và loại bỏ khoảng trắng\n",
    "\n",
    "    # Kiểm tra nếu có chứa \"tháng\"\n",
    "    if \"tháng\" in item:\n",
    "        num_months_str = item.replace(\"tháng\", \"\").strip()\n",
    "        num_months = int(num_months_str)\n",
    "\n",
    "        # Xử lý cộng tháng\n",
    "        year = current_date.year\n",
    "        month = current_date.month + num_months\n",
    "        day = current_date.day\n",
    "\n",
    "        while month > 12:\n",
    "            month -= 12\n",
    "            year += 1\n",
    "                \n",
    "        # Xử lý trường hợp ngày không hợp lệ sau khi cộng tháng\n",
    "        try:\n",
    "            new_date = datetime(year, month, day)\n",
    "        except ValueError:\n",
    "            # Nếu ngày không hợp lệ, lấy ngày cuối cùng của tháng đó\n",
    "            last_day_of_month = calendar.monthrange(year, month)[1]\n",
    "            new_date = datetime(year, month, last_day_of_month)\n",
    "\n",
    "        # Cập nhật giá trị\n",
    "        data.loc[index, 'warranty'] = new_date.strftime(\"%d/%m/%Y\")\n",
    "    else:\n",
    "            datetime.strptime(item, \"%d/%m/%Y\")\n",
    "            data.loc[index, 'warranty'] = item \n",
    "\n",
    "# Chuyển dữ liệu sang kiểu datetime\n",
    "data['warranty'] = pd.to_datetime(data['warranty'], format='%d/%m/%Y', errors='coerce')"
   ]
  },
  {
   "cell_type": "code",
   "execution_count": 43,
   "metadata": {},
   "outputs": [],
   "source": [
    "# Tạo một Series mới cho current_date\n",
    "current_date_series = pd.Series([current_date] * len(data))\n",
    "\n",
    "# Tính hiệu số ngày\n",
    "time_remaining = data['warranty'] - current_date_series\n",
    "\n",
    "# Lưu vào một cột mới\n",
    "data['day_remaining_warranty'] = time_remaining.dt.days + 1"
   ]
  },
  {
   "cell_type": "code",
   "execution_count": 44,
   "metadata": {},
   "outputs": [],
   "source": [
    "data.drop(columns=['warranty'], inplace=True)"
   ]
  },
  {
   "cell_type": "markdown",
   "metadata": {},
   "source": [
    "# Kiểm tra các thuộc tính object"
   ]
  },
  {
   "cell_type": "code",
   "execution_count": 45,
   "metadata": {},
   "outputs": [
    {
     "name": "stdout",
     "output_type": "stream",
     "text": [
      "{'name': 6.440265615861786, 'brand': 2.828631465994293, 'condition': 0.46525072594469163, 'CPU': 5.127603546950079, 'operating_system': 2.4239292124843366, 'display_technology': 2.752689350603019, 'bluetooth': 2.3778052024057277, 'GPU': 4.269559741468382, 'color': 3.8914706322373793, 'image': 13.415741768290085}\n"
     ]
    }
   ],
   "source": [
    "from scipy.stats import entropy\n",
    "\n",
    "categorical_columns = data.select_dtypes(include=['object']).columns\n",
    "\n",
    "def calculate_entropy(data):\n",
    "    entropy_values = {}\n",
    "    for column in data.columns:\n",
    "        probabilities = data[column].dropna().value_counts(normalize=True)\n",
    "        entropy_values[column] = entropy(probabilities, base=2)\n",
    "    return entropy_values\n",
    "\n",
    "# Tính entropy cho từng thuộc tính\n",
    "entropy_results = calculate_entropy(data[categorical_columns])\n",
    "print(entropy_results)"
   ]
  },
  {
   "cell_type": "code",
   "execution_count": 46,
   "metadata": {},
   "outputs": [
    {
     "name": "stdout",
     "output_type": "stream",
     "text": [
      "{'name': 0.799679863770002, 'brand': 0.8619704799079416, 'condition': 0.7588928481081475, 'CPU': 0.7815367996070925, 'operating_system': 0.8826246966616209, 'display_technology': 0.7890983323422885, 'bluetooth': 0.7621177370923308, 'GPU': 0.8023542904267441, 'color': 0.6516187106934369, 'image': 1.0000000000000007}\n"
     ]
    }
   ],
   "source": [
    "import scipy.stats as stats\n",
    "\n",
    "def cramers_v(x, y):\n",
    "    confusion_matrix = pd.crosstab(x, y)\n",
    "    chi2 = stats.chi2_contingency(confusion_matrix)[0]\n",
    "    n = confusion_matrix.sum().sum()\n",
    "    phi2 = chi2 / n\n",
    "    r, k = confusion_matrix.shape\n",
    "    return np.sqrt(phi2 / min(r-1, k-1))\n",
    "\n",
    "categorical_columns = data.select_dtypes(include=['object']).columns\n",
    "\n",
    "# Tính Cramér's V giữa từng thuộc tính object và price_old\n",
    "cramer_results = {col: cramers_v(data[col], data['price_old']) for col in categorical_columns}\n",
    "print(cramer_results)"
   ]
  },
  {
   "cell_type": "code",
   "execution_count": 47,
   "metadata": {},
   "outputs": [
    {
     "name": "stdout",
     "output_type": "stream",
     "text": [
      "{'name': {'Statistic': 10815.388560331461, 'p-value': 0.0}, 'brand': {'Statistic': 5929.736335572413, 'p-value': 0.0}, 'condition': {'Statistic': 448.8753975244786, 'p-value': 5.713643819735046e-97}, 'CPU': {'Statistic': 10475.84564981027, 'p-value': 0.0}, 'operating_system': {'Statistic': 4487.563353340133, 'p-value': 0.0}, 'display_technology': {'Statistic': 9195.653350462535, 'p-value': 0.0}, 'bluetooth': {'Statistic': 4315.942562763112, 'p-value': 0.0}, 'GPU': {'Statistic': 9523.697456967806, 'p-value': 0.0}, 'color': {'Statistic': 3622.9055631683004, 'p-value': 0.0}, 'image': {'Statistic': 10927.000000000002, 'p-value': 0.49820090631630615}}\n"
     ]
    }
   ],
   "source": [
    "categorical_columns = data.select_dtypes(include=['object']).columns\n",
    "\n",
    "# Hàm kiểm định Kruskal-Wallis cho tất cả các biến phân loại với price_old\n",
    "def kruskal_test(df, target):\n",
    "    results = {}\n",
    "    for col in categorical_columns:\n",
    "        groups = [df[df[col] == cat][target] for cat in df[col].unique()]\n",
    "        if len(groups) > 1:  \n",
    "            kruskal_result = stats.kruskal(*groups)\n",
    "            results[col] = {'Statistic': kruskal_result.statistic, 'p-value': kruskal_result.pvalue}\n",
    "    return results\n",
    "\n",
    "# Thực hiện kiểm định\n",
    "kruskal_results = kruskal_test(data, 'price_old')\n",
    "print(kruskal_results)"
   ]
  },
  {
   "cell_type": "markdown",
   "metadata": {},
   "source": [
    "Biến image có p-value khá cao (0.498). Điều này có nghĩa là image không có mối liên hệ thống kê đáng kể với price_old. \n"
   ]
  },
  {
   "cell_type": "code",
   "execution_count": 48,
   "metadata": {},
   "outputs": [],
   "source": [
    "data = data.drop(columns = ['image'])"
   ]
  },
  {
   "cell_type": "markdown",
   "metadata": {},
   "source": [
    "## Kiểm tra các thuộc tính số"
   ]
  },
  {
   "cell_type": "code",
   "execution_count": null,
   "metadata": {},
   "outputs": [],
   "source": [
    "import seaborn as sns\n",
    "import matplotlib.pyplot as plt\n",
    "\n",
    "numeric_data = data.select_dtypes(include=np.number).drop('price_old', axis=1)\n",
    "\n",
    "correlation_matrix = numeric_data.corr(method='spearman')\n",
    "plt.figure(figsize=(15, 8))\n",
    "sns.heatmap(correlation_matrix, annot=True, cmap='coolwarm', fmt=\".2f\")\n",
    "plt.title(\"Ma trận tương quan giữa các thuộc tính số\")\n",
    "plt.show()"
   ]
  },
  {
   "cell_type": "code",
   "execution_count": null,
   "metadata": {},
   "outputs": [],
   "source": [
    "# Ngưỡng tương quan\n",
    "correlation_threshold = 0.8\n",
    "\n",
    "# Lọc các cặp có độ tương quan cao\n",
    "corr_series = correlation_matrix.unstack()\n",
    "high_corr_pairs = corr_series[\n",
    "    (corr_series.abs() > correlation_threshold) &\n",
    "    (corr_series.abs() < 1.0)\n",
    "]\n",
    "\n",
    "high_corr_pairs = high_corr_pairs.sort_values(ascending=False, key=abs)\n",
    "print(f\"Các cặp thuộc tính có độ tương quan tuyệt đối > {correlation_threshold}:\")\n",
    "printed_pairs = set()\n",
    "for (col1, col2), corr_value in high_corr_pairs.items():\n",
    "    pair = tuple(sorted((col1, col2)))\n",
    "    if pair not in printed_pairs:\n",
    "        print(f\"  - Cặp: {col1} - {col2}, Tương quan: {corr_value:.3f}\")\n",
    "        printed_pairs.add(pair)"
   ]
  },
  {
   "cell_type": "code",
   "execution_count": null,
   "metadata": {},
   "outputs": [],
   "source": [
    "from statsmodels.stats.outliers_influence import variance_inflation_factor\n",
    "from statsmodels.tools.tools import add_constant\n",
    "\n",
    "# Tính VIF cho từng thuộc tính\n",
    "X = add_constant(numeric_data)\n",
    "\n",
    "vif_data = pd.DataFrame()\n",
    "vif_data[\"feature\"] = X.columns\n",
    "vif_data[\"VIF\"] = [variance_inflation_factor(X.values, i) for i in range(X.shape[1])]\n",
    "vif_data = vif_data[vif_data['feature'] != 'const']\n",
    "\n",
    "print(\"Kết quả VIF cho các thuộc tính số:\")\n",
    "print(vif_data.sort_values(by='VIF', ascending=False))"
   ]
  },
  {
   "cell_type": "code",
   "execution_count": null,
   "metadata": {},
   "outputs": [],
   "source": [
    "data = data.drop(columns = ['has_nano_sim', 'battery'])"
   ]
  },
  {
   "cell_type": "markdown",
   "metadata": {},
   "source": [
    "Drop những thuộc tính VIF lớn 10."
   ]
  },
  {
   "cell_type": "markdown",
   "metadata": {},
   "source": [
    "# Encoding"
   ]
  },
  {
   "cell_type": "markdown",
   "metadata": {},
   "source": [
    "## Xử lí operating system"
   ]
  },
  {
   "cell_type": "markdown",
   "metadata": {},
   "source": [
    "Phân loại theo mức độ cập nhật hệ điều hành."
   ]
  },
  {
   "cell_type": "code",
   "execution_count": 49,
   "metadata": {},
   "outputs": [
    {
     "name": "stderr",
     "output_type": "stream",
     "text": [
      "C:\\Users\\Admin\\AppData\\Local\\Temp\\ipykernel_6012\\3561700581.py:22: FutureWarning: A value is trying to be set on a copy of a DataFrame or Series through chained assignment using an inplace method.\n",
      "The behavior will change in pandas 3.0. This inplace method will never work because the intermediate object on which we are setting values always behaves as a copy.\n",
      "\n",
      "For example, when doing 'df[col].method(value, inplace=True)', try using 'df.method({col: value}, inplace=True)' or df[col] = df[col].method(value) instead, to perform the operation inplace on the original object.\n",
      "\n",
      "\n",
      "  data['update_score'].fillna(mean_score, inplace=True)\n"
     ]
    }
   ],
   "source": [
    "def get_update_score(os_name):\n",
    "    if os_name.startswith(\"iOS\"):\n",
    "        match = re.search(r\"iOS\\s*(\\d+)\", os_name)\n",
    "        if match:\n",
    "            version = int(match.group(1))\n",
    "            return version / 18\n",
    "        return np.nan\n",
    "    elif os_name.startswith(\"Android\"):\n",
    "        match = re.search(r\"Android\\s*(\\d+)\", os_name)\n",
    "        if match:\n",
    "            version = int(match.group(1))\n",
    "            return version / 15\n",
    "        return np.nan\n",
    "    else:\n",
    "        return np.nan\n",
    "\n",
    "# Tính điểm cập nhật\n",
    "data['update_score'] = data['operating_system'].apply(get_update_score)\n",
    "\n",
    "# Gán NaN bằng giá trị trung bình\n",
    "mean_score = data['update_score'].mean()\n",
    "data['update_score'].fillna(mean_score, inplace=True)\n",
    "\n",
    "# Gán lại vào cột operating_system\n",
    "data['operating_system'] = data['update_score']\n",
    "\n",
    "# Xoá cột phụ\n",
    "data.drop(columns=['update_score'], inplace=True)\n"
   ]
  },
  {
   "cell_type": "markdown",
   "metadata": {},
   "source": [
    "## Xử lí CPU"
   ]
  },
  {
   "cell_type": "markdown",
   "metadata": {},
   "source": [
    "Gom nhóm CPU dựa trên hiệu năng"
   ]
  },
  {
   "cell_type": "code",
   "execution_count": 50,
   "metadata": {},
   "outputs": [],
   "source": [
    "# High performance\n",
    "high = data['CPU'].str.contains(\n",
    "    r'(?i)(?:a18|a17|a16|a15(?:\\sbionic)?|snapdragon\\s8(?:\\sgen\\s3|\\sgen\\s2|\\+?\\sgen\\s1)|8\\selite|exynos\\s2400(?:e)?|exynos\\s2200|dimensity\\s(?:9300\\+|9400|9200|8300))',\n",
    "    na=False\n",
    ")\n",
    "# Mid performance\n",
    "mid = data['CPU'].str.contains(\n",
    "    r'(?i)(?:a14(?:\\sbionic)?|a13(?:\\sbionic)?|snapdragon\\s(?:7(?:\\sgen\\s[13]|s\\sgen\\s2)|6\\sgen\\s[134]|6s\\s(?:gen\\s1|4g\\sgen\\s1))|exynos\\s(?:2100|15[80]|14[80]|13[80]|1280)|dimensity\\s(?:1080|7050|7025|7300|6300|6100\\+|6020|700|8350|d6300))',\n",
    "    na=False\n",
    ")\n",
    "# Low performance\n",
    "low = data['CPU'].str.contains(\n",
    "    r'(?i)(?:snapdragon\\s(?:6[895]|680(?:\\s4g)?|sm6225)|helio\\s(?:g(?:99|96|92|91|88|85|81|36|35)|p35|g100)|mt6762|unisoc\\s(?:t(?:7250|7225|615|612|606|107)|ums9117)|tiger\\s?t693)',\n",
    "    na=False\n",
    ")\n",
    "# Default for non-matching or missing values\n",
    "conditions = [high, mid, low]\n",
    "choices = ['3', '2', '1']  # 3: High, 2: Mid, 1: Low\n",
    "\n",
    "data['CPU'] = np.select(conditions, choices, default='1').astype(int)"
   ]
  },
  {
   "cell_type": "markdown",
   "metadata": {},
   "source": [
    "## Xử lí display technology"
   ]
  },
  {
   "cell_type": "markdown",
   "metadata": {},
   "source": [
    "Phân loại thành 3 công nghệ chính: LCD, OLED, và hybrid"
   ]
  },
  {
   "cell_type": "code",
   "execution_count": 51,
   "metadata": {},
   "outputs": [],
   "source": [
    "LCD = data['display_technology'].str.lower().str.contains(\n",
    "    'lcd|tn|liquid', na=False)\n",
    "\n",
    "OLED = data['display_technology'].str.lower().str.contains(\n",
    "    'oled|amoled|super retina xdr', na=False)\n",
    "\n",
    "no_display_technology = data['display_technology'].isna() | (data['display_technology'].str.lower() == 'unknown')\n",
    "\n",
    "conditions = [no_display_technology, LCD, OLED]\n",
    "choices = ['1', '2', '3']\n",
    "\n",
    "data['display_technology'] = np.select(conditions, choices, default='1')\n",
    "data['display_technology'] = pd.to_numeric(data['display_technology'])"
   ]
  },
  {
   "cell_type": "markdown",
   "metadata": {},
   "source": [
    "## Xử lí condition"
   ]
  },
  {
   "cell_type": "markdown",
   "metadata": {},
   "source": [
    "Gắn nhãn thủ công cho tình trạng của máy"
   ]
  },
  {
   "cell_type": "code",
   "execution_count": 52,
   "metadata": {},
   "outputs": [],
   "source": [
    "# Định nghĩa các tình trạng và nhãn số tương ứng của chúng\n",
    "condition_mapping = {\n",
    "    'Cũ trầy xước cấn': 1,\n",
    "    'Cũ trầy xước': 2,\n",
    "    'Cũ': 3,\n",
    "    'Cũ đẹp': 4,\n",
    "}\n",
    "\n",
    "# Ánh xạ mô tả thành các nhãn\n",
    "data['condition'] = data['condition'].map(condition_mapping)"
   ]
  },
  {
   "cell_type": "markdown",
   "metadata": {},
   "source": [
    "## Xử lí brand"
   ]
  },
  {
   "cell_type": "markdown",
   "metadata": {},
   "source": [
    "Gắn nhãn thủ công cho nhãn dựa trên mức độ phổ biến và phân khúc thị trường của thương hiệu"
   ]
  },
  {
   "cell_type": "code",
   "execution_count": 53,
   "metadata": {},
   "outputs": [
    {
     "name": "stdout",
     "output_type": "stream",
     "text": [
      "['apple' 'samsung' 'oppo' 'realme' 'xiaomi' 'vivo' 'tecno' 'honor'\n",
      " 'mobell' 'masstel' 'nokia' 'tcl']\n"
     ]
    }
   ],
   "source": [
    "print(data['brand'].unique())"
   ]
  },
  {
   "cell_type": "code",
   "execution_count": 54,
   "metadata": {},
   "outputs": [],
   "source": [
    "# Định nghĩa thương hiệu và nhãn số tương ứng của chúng\n",
    "brand_mapping = {\n",
    "    'apple': 4,\n",
    "    'samsung': 4,\n",
    "\n",
    "    'honor': 3,\n",
    "    'oppo': 3,\n",
    "    'xiaomi': 3,\n",
    "    'vivo': 3,\n",
    "    \n",
    "    'realme': 2,\n",
    "    'tecno': 2,\n",
    "    'nokia': 2,\n",
    "    'tcl': 2,\n",
    "\n",
    "    'mobell': 1,\n",
    "    'viettel': 1,\n",
    "    'masstel': 1\n",
    "}\n",
    "\n",
    "# Ánh xạ nhãn cho cột 'brand'\n",
    "data['brand'] = data['brand'].map(brand_mapping)"
   ]
  },
  {
   "cell_type": "markdown",
   "metadata": {},
   "source": [
    "## Xử lí name và color"
   ]
  },
  {
   "cell_type": "markdown",
   "metadata": {},
   "source": [
    "Dùng LabelEncoder để encode cho name và color"
   ]
  },
  {
   "cell_type": "code",
   "execution_count": 55,
   "metadata": {},
   "outputs": [
    {
     "ename": "NameError",
     "evalue": "name 'encoder' is not defined",
     "output_type": "error",
     "traceback": [
      "\u001b[1;31m---------------------------------------------------------------------------\u001b[0m",
      "\u001b[1;31mNameError\u001b[0m                                 Traceback (most recent call last)",
      "Cell \u001b[1;32mIn[55], line 4\u001b[0m\n\u001b[0;32m      1\u001b[0m \u001b[38;5;28;01mfrom\u001b[39;00m \u001b[38;5;21;01msklearn\u001b[39;00m\u001b[38;5;21;01m.\u001b[39;00m\u001b[38;5;21;01mpreprocessing\u001b[39;00m \u001b[38;5;28;01mimport\u001b[39;00m LabelEncoder\n\u001b[0;32m      3\u001b[0m label_encoder \u001b[38;5;241m=\u001b[39m LabelEncoder()\n\u001b[1;32m----> 4\u001b[0m data[\u001b[38;5;124m'\u001b[39m\u001b[38;5;124mname\u001b[39m\u001b[38;5;124m'\u001b[39m] \u001b[38;5;241m=\u001b[39m encoder\u001b[38;5;241m.\u001b[39mfit_transform(data[\u001b[38;5;124m'\u001b[39m\u001b[38;5;124mname\u001b[39m\u001b[38;5;124m'\u001b[39m])\n\u001b[0;32m      5\u001b[0m data[\u001b[38;5;124m'\u001b[39m\u001b[38;5;124mcolor\u001b[39m\u001b[38;5;124m'\u001b[39m] \u001b[38;5;241m=\u001b[39m encoder\u001b[38;5;241m.\u001b[39mfit_transform(data[\u001b[38;5;124m'\u001b[39m\u001b[38;5;124mcolor\u001b[39m\u001b[38;5;124m'\u001b[39m])\n",
      "\u001b[1;31mNameError\u001b[0m: name 'encoder' is not defined"
     ]
    }
   ],
   "source": [
    "from sklearn.preprocessing import LabelEncoder\n",
    "\n",
    "label_encoder = LabelEncoder()\n",
    "data['name'] = encoder.fit_transform(data['name'])\n",
    "data['color'] = encoder.fit_transform(data['color'])\n",
    "\n"
   ]
  },
  {
   "cell_type": "code",
   "execution_count": null,
   "metadata": {},
   "outputs": [],
   "source": [
    "data['color'].nunique()"
   ]
  },
  {
   "cell_type": "markdown",
   "metadata": {},
   "source": [
    "## Xử lí GPU"
   ]
  },
  {
   "cell_type": "markdown",
   "metadata": {},
   "source": [
    "Dựa vào hiệu năng để gắn nhãn cho các dòng GPU"
   ]
  },
  {
   "cell_type": "code",
   "execution_count": null,
   "metadata": {},
   "outputs": [],
   "source": [
    "high_cond = data['GPU'].str.lower().str.contains(\n",
    "    'adreno-7|adreno-8|mali-g7|mali-g76|mali-g77|mali-g78|apple-gpu 6|apple-gpu 5|immortalis|xclipse|powervr-series7xt', na=False)\n",
    "\n",
    "low_cond = data['GPU'].str.lower().str.contains(\n",
    "    'adreno-6|adreno-5|adreno-4|mali-g6|mali-g57|mali-g68|mali-g52|powervr-ge8320|xclipse-920|apple-gpu 4|adreno-619|adreno-644|adreno-670', na=False)\n",
    "\n",
    "no_gpu_cond = data['GPU'].isna() | (data['GPU'].str.lower() == 'unknown')\n",
    "\n",
    "conditions = [no_gpu_cond, high_cond, low_cond]\n",
    "choices = ['1', '3', '2']\n",
    "\n",
    "data['GPU'] = np.select(conditions, choices, default='1')\n",
    "data['GPU'] = pd.to_numeric(data['GPU'])\n"
   ]
  },
  {
   "cell_type": "markdown",
   "metadata": {},
   "source": [
    "## Xử lí bluetooth"
   ]
  },
  {
   "cell_type": "markdown",
   "metadata": {},
   "source": [
    "Dựa vào phiên bản và các tính năng để gắn trọng số"
   ]
  },
  {
   "cell_type": "code",
   "execution_count": null,
   "metadata": {},
   "outputs": [],
   "source": [
    "# Bảng điểm version\n",
    "version_score_map = {\n",
    "    '2.1': 1.0,\n",
    "    '4.2': 2.0,\n",
    "    '5.0': 3.0,\n",
    "    '5.1': 3.2,\n",
    "    '5.2': 3.4,\n",
    "    '5.3': 3.6,\n",
    "    '5.4': 3.8,\n",
    "    '6.0': 4.0\n",
    "}\n",
    "\n",
    "# Trọng số profile\n",
    "profile_points = {\n",
    "    'apt-X Adaptive': 0.2,\n",
    "    'apt-X HD': 0.15,\n",
    "    'LHDC': 0.15,\n",
    "    'apt-X': 0.1,\n",
    "    'A2DP': 0.1,\n",
    "    'LE': 0.1,\n",
    "    'BLE': 0.05\n",
    "}\n",
    "\n",
    "# Hàm mã hóa\n",
    "def encode_bluetooth_weighted(bluetooth_str):\n",
    "    if pd.isna(bluetooth_str):\n",
    "        return np.nan\n",
    "\n",
    "    # Tìm version\n",
    "    version_match = re.findall(r'v(\\d\\.\\d)', bluetooth_str)\n",
    "    version = version_score_map.get(version_match[0], 0) if version_match else 0\n",
    "\n",
    "    # Tính điểm profile\n",
    "    profile_score = sum(pt for profile, pt in profile_points.items() if profile in bluetooth_str)\n",
    "\n",
    "    return round(version + profile_score, 2)\n",
    "\n",
    "# Áp dụng vào cột\n",
    "data['bluetooth'] = data['bluetooth'].apply(encode_bluetooth_weighted)"
   ]
  },
  {
   "cell_type": "markdown",
   "metadata": {},
   "source": [
    "# Chọn thuộc tính"
   ]
  },
  {
   "cell_type": "code",
   "execution_count": null,
   "metadata": {},
   "outputs": [],
   "source": [
    "# Lấy ra tất cả các cột có kiểu dữ liệu là số\n",
    "numerical_cols = data.select_dtypes(include=np.number).columns.tolist()\n",
    "\n",
    "# Độ tương quan Spearman của các thuộc tính số\n",
    "correlation_matrix = data[numerical_cols].corr(method='spearman')\n",
    "target_column = 'price_old'\n",
    "\n",
    "# Sắp xếp và hiển thị kết quả\n",
    "correlation_with_target = correlation_matrix[target_column]\n",
    "correlation_spearman_filtered = correlation_with_target.drop(target_column, errors='ignore').dropna()\n",
    "sorted_correlation = correlation_spearman_filtered.sort_values(ascending=False)\n",
    "print(f\"Độ tương quan Spearman của '{target_column}' với các thuộc tính khác (sắp xếp giảm dần):\")\n",
    "print(sorted_correlation)"
   ]
  },
  {
   "cell_type": "code",
   "execution_count": null,
   "metadata": {},
   "outputs": [],
   "source": [
    "# Lọc các thuộc tính có độ tương quan dưới 0.05\n",
    "low_correlation_features = sorted_correlation[abs(sorted_correlation) < 0.05]\n",
    "\n",
    "print(\"Các thuộc tính có độ tương quan Spearman dưới 0.05:\")\n",
    "print(low_correlation_features)\n"
   ]
  },
  {
   "cell_type": "code",
   "execution_count": null,
   "metadata": {},
   "outputs": [],
   "source": [
    "from sklearn.feature_selection import f_classif\n",
    "\n",
    "# Tách features (X) và target (y)\n",
    "X = data.select_dtypes(include=['number']).drop(columns=['price_old'])\n",
    "X = X.fillna(0)\n",
    "y = data['price_old']\n",
    "\n",
    "# Tính ANOVA F-test\n",
    "f_values, p_values = f_classif(X, y)\n",
    "\n",
    "# Gộp kết quả vào một DataFrame\n",
    "anova_results = pd.DataFrame({\n",
    "    'Feature': X.columns,\n",
    "    'F-Score': f_values,\n",
    "    'p-Value': p_values\n",
    "})\n",
    "\n",
    "# Sắp xếp theo F-Score giảm dần\n",
    "anova_results = anova_results.sort_values(by='F-Score', ascending=False)\n",
    "\n",
    "print(anova_results)"
   ]
  },
  {
   "cell_type": "code",
   "execution_count": null,
   "metadata": {},
   "outputs": [],
   "source": [
    "# Lọc các thuộc tính có p-value trên 0.05\n",
    "anova_filtered = anova_results[abs(anova_results['p-Value']) > 0.05]\n",
    "\n",
    "print(\"Các thuộc tính có giá trị p lớn hơn 0.05:\")\n",
    "print(anova_filtered)\n"
   ]
  },
  {
   "cell_type": "markdown",
   "metadata": {},
   "source": [
    "Chuyển đổi đơn vị của price old và price new từ đồng sang ngàn đồng"
   ]
  },
  {
   "cell_type": "code",
   "execution_count": null,
   "metadata": {},
   "outputs": [],
   "source": [
    "data['price_old'] = data['price_old']/1000\n",
    "data['price_new'] = data['price_new']/1000"
   ]
  },
  {
   "cell_type": "code",
   "execution_count": null,
   "metadata": {},
   "outputs": [],
   "source": [
    "import matplotlib.pyplot as plt\n",
    "\n",
    "# Lấy danh sách các cột số, ngoại trừ price_old\n",
    "numerical_cols = data.select_dtypes(include=['number']).columns.tolist()\n",
    "numerical_cols.remove(\"price_old\")  # Loại bỏ target khỏi danh sách\n",
    "\n",
    "# Xác định số hàng phù hợp\n",
    "num_plots = len(numerical_cols)\n",
    "ncols = 4  # Số cột cố định\n",
    "nrows = (num_plots // ncols) + (1 if num_plots % ncols != 0 else 0)  # Điều chỉnh số hàng\n",
    "\n",
    "# Vẽ biểu đồ scatter\n",
    "fig, axes = plt.subplots(nrows=nrows, ncols=ncols, figsize=(15, nrows * 4))\n",
    "axes = axes.flatten()[:num_plots]  # Chỉ lấy đủ số subplot cần thiết\n",
    "\n",
    "for i, col in enumerate(numerical_cols):\n",
    "    axes[i].scatter(data[col], data[\"price_old\"], alpha=0.5)\n",
    "    axes[i].set_xlabel(col)\n",
    "    axes[i].set_ylabel(\"price_old\")\n",
    "    axes[i].set_title(f\"Tương quan giữa {col} và price_old\")\n",
    "\n",
    "# Ẩn các subplot thừa (nếu có)\n",
    "for j in range(i + 1, len(axes)):\n",
    "    fig.delaxes(axes[j])\n",
    "\n",
    "plt.tight_layout()\n",
    "plt.show()"
   ]
  },
  {
   "cell_type": "code",
   "execution_count": null,
   "metadata": {},
   "outputs": [],
   "source": [
    "data = data.drop(columns=['color', 'day_remaining_warranty'])"
   ]
  },
  {
   "cell_type": "code",
   "execution_count": null,
   "metadata": {},
   "outputs": [],
   "source": [
    "from sklearn.cluster import KMeans\n",
    "import numpy as np\n",
    "\n",
    "# Khởi tạo mô hình K-Means với k cụm\n",
    "k = 3\n",
    "kmeans = KMeans(n_clusters=k, random_state=42)\n",
    "\n",
    "# Huấn luyện mô hình\n",
    "kmeans.fit(np.array(data))\n",
    "\n",
    "# Nhận nhãn cụm và tâm cụm\n",
    "labels = kmeans.labels_\n",
    "centroids = kmeans.cluster_centers_\n",
    "\n",
    "print(\"Nhóm:\", labels)\n",
    "print(\"Tâm cụm:\", centroids)"
   ]
  },
  {
   "cell_type": "code",
   "execution_count": null,
   "metadata": {},
   "outputs": [],
   "source": [
    "data_clustered = pd.DataFrame(data)\n",
    "data_clustered[\"Cluster\"] = labels\n",
    "\n",
    "# Hiển thị danh sách price_old theo từng cụm\n",
    "print(data_clustered.groupby(\"Cluster\")[\"price_old\"].describe())\n"
   ]
  },
  {
   "cell_type": "code",
   "execution_count": null,
   "metadata": {},
   "outputs": [],
   "source": [
    "import matplotlib.pyplot as plt\n",
    "\n",
    "# Lấy danh sách các cột số (ngoại trừ price_old)\n",
    "numerical_cols = data_clustered.select_dtypes(include=['number']).columns.tolist()\n",
    "numerical_cols.remove(\"price_old\")  # Loại bỏ target khỏi danh sách\n",
    "\n",
    "# Vẽ tất cả các biểu đồ scatter\n",
    "fig, axes = plt.subplots(nrows=6, ncols=4, figsize=(15, len(numerical_cols)))\n",
    "axes = axes.flatten()\n",
    "\n",
    "for i, col in enumerate(numerical_cols):\n",
    "    axes[i].scatter(data_clustered[col], data[\"price_old\"], alpha=0.5)\n",
    "    axes[i].set_xlabel(col)\n",
    "    axes[i].set_ylabel(\"price_old\")\n",
    "    axes[i].set_title(f\"Tương quan giữa {col} và price_old\")\n",
    "\n",
    "plt.tight_layout()\n",
    "plt.show()"
   ]
  },
  {
   "cell_type": "code",
   "execution_count": null,
   "metadata": {},
   "outputs": [],
   "source": [
    "data_clustered.duplicated().sum()"
   ]
  },
  {
   "cell_type": "code",
   "execution_count": null,
   "metadata": {},
   "outputs": [],
   "source": [
    "data_clustered = data_clustered.drop_duplicates()"
   ]
  },
  {
   "cell_type": "code",
   "execution_count": null,
   "metadata": {},
   "outputs": [],
   "source": [
    "data_clustered.shape"
   ]
  },
  {
   "cell_type": "markdown",
   "metadata": {},
   "source": [
    "# Chia tập dữ liệu"
   ]
  },
  {
   "cell_type": "code",
   "execution_count": null,
   "metadata": {},
   "outputs": [],
   "source": [
    "from sklearn.model_selection import train_test_split\n",
    "\n",
    "# Chia dữ liệu thành tập huấn luyện và tập dev + test theo tỷ lệ 60:40\n",
    "X_train, X_temp, y_train, y_temp = train_test_split(data_clustered.drop(columns=['price_old']), data_clustered[\"price_old\"], test_size=0.4, random_state=42)\n",
    "\n",
    "# Chia tiếp tập dev + test thành tập dev (20%) và tập test (20%)\n",
    "X_dev, X_test, y_dev, y_test = train_test_split(X_temp, y_temp, test_size=0.5, random_state=42)\n"
   ]
  },
  {
   "cell_type": "markdown",
   "metadata": {},
   "source": [
    "## Lưu các dữ liệu sau chia tập"
   ]
  },
  {
   "cell_type": "code",
   "execution_count": null,
   "metadata": {},
   "outputs": [],
   "source": [
    "train_data = pd.concat([X_train, y_train], axis=1)\n",
    "train_data.to_csv(\"train.csv\")"
   ]
  },
  {
   "cell_type": "code",
   "execution_count": null,
   "metadata": {},
   "outputs": [],
   "source": [
    "dev_data = pd.concat([X_dev, y_dev], axis=1)\n",
    "dev_data.to_csv(\"dev.csv\")"
   ]
  },
  {
   "cell_type": "code",
   "execution_count": null,
   "metadata": {},
   "outputs": [],
   "source": [
    "test_data = pd.concat([X_test, y_test], axis=1)\n",
    "test_data.to_csv(\"test.csv\")"
   ]
  },
  {
   "cell_type": "markdown",
   "metadata": {},
   "source": [
    "# Huấn luyện mô hình"
   ]
  },
  {
   "cell_type": "code",
   "execution_count": null,
   "metadata": {},
   "outputs": [],
   "source": [
    "from sklearn.metrics import mean_absolute_percentage_error\n",
    "from sklearn.model_selection import RandomizedSearchCV\n",
    "from scipy.stats import uniform, randint\n",
    "from sklearn.metrics import mean_squared_error, r2_score\n",
    "from sklearn.model_selection import GridSearchCV"
   ]
  },
  {
   "cell_type": "markdown",
   "metadata": {},
   "source": [
    "## XGBRegressor"
   ]
  },
  {
   "cell_type": "code",
   "execution_count": null,
   "metadata": {},
   "outputs": [],
   "source": [
    "from xgboost import XGBRegressor\n",
    "\n",
    "param_dist = {\n",
    "    'n_estimators': randint(100, 500),\n",
    "    'max_depth': randint(3, 10),\n",
    "    'learning_rate': uniform(0.01, 0.2),\n",
    "    'subsample': uniform(0.7, 0.3),\n",
    "    'colsample_bytree': uniform(0.7, 0.3)\n",
    "}\n",
    "\n",
    "xgb = RandomizedSearchCV(\n",
    "    estimator=XGBRegressor(objective='reg:squarederror', random_state=42),\n",
    "    param_distributions=param_dist,\n",
    "    n_iter=30,\n",
    "    scoring='neg_mean_squared_error',\n",
    "    cv=3,\n",
    "    verbose=1,\n",
    "    n_jobs=-1\n",
    ")\n",
    "\n",
    "xgb.fit(X_train, y_train)\n",
    "\n",
    "print(\"Các siêu tham số tối ưu: \", xgb.best_params_)\n",
    "print(\"MSE tốt nhất:\", -xgb.best_score_)\n",
    "print(\"RMSE tốt nhất:\", np.sqrt(-xgb.best_score_))\n"
   ]
  },
  {
   "cell_type": "code",
   "execution_count": null,
   "metadata": {},
   "outputs": [],
   "source": [
    "xgb_regressor = xgb.best_estimator_\n",
    "\n",
    "# Huấn luyện mô hình trên tập train\n",
    "xgb_regressor.fit(X_train, y_train)\n",
    "\n",
    "# Dự đoán trên tập dev\n",
    "y_pred_xgb = xgb_regressor.predict(X_dev)\n",
    "\n",
    "# Đánh giá mô hình bằng MSE và RMSE trên tập dev\n",
    "mse_dev = mean_squared_error(y_dev, y_pred_xgb)\n",
    "rmse_dev = np.sqrt(mse_dev)\n",
    "mape = mean_absolute_percentage_error(y_dev, y_pred_xgb)\n",
    "r2 = r2_score(y_dev, y_pred_xgb)\n",
    "\n",
    "print(f\"MSE trên tập dev: {mse_dev}\")\n",
    "print(f\"RMSE trên tập dev: {rmse_dev}\")\n",
    "print(f\"MAPE trên tập dev: {mape}\")\n",
    "print(f\"R² trên tập dev: {r2:.4f}\")"
   ]
  },
  {
   "cell_type": "code",
   "execution_count": null,
   "metadata": {},
   "outputs": [],
   "source": [
    "# Lấy và hiển thị độ quan trọng của từng đặc trưng\n",
    "df_importance = pd.DataFrame({'Feature': X_train.columns,\n",
    "                              'Importance': xgb_regressor.feature_importances_}).sort_values(by='Importance', ascending=False)\n",
    "\n",
    "# Trực quan hóa\n",
    "plt.barh(df_importance['Feature'], df_importance['Importance'])\n",
    "plt.xlabel('Importance')\n",
    "plt.ylabel('Feature')\n",
    "plt.title('Feature Importance for XGBRegressor')\n",
    "plt.show()\n"
   ]
  },
  {
   "cell_type": "markdown",
   "metadata": {},
   "source": [
    "## LGBMRegressor"
   ]
  },
  {
   "cell_type": "code",
   "execution_count": null,
   "metadata": {},
   "outputs": [],
   "source": [
    "import lightgbm as lgb\n",
    "from lightgbm import LGBMRegressor\n",
    "\n",
    "# Tìm số lượng cây tối ưu cho mô hình bởi Early Stopping\n",
    "lgbm = LGBMRegressor(\n",
    "    objective='regression',\n",
    "    n_estimators=5000,\n",
    "    learning_rate=0.1,\n",
    "    num_leaves=31,\n",
    "    max_depth=20,\n",
    "    random_state=42\n",
    ")\n",
    "\n",
    "lgbm.fit(\n",
    "    X_train, y_train,\n",
    "    eval_set=[(X_test, y_test)],\n",
    "    eval_metric='rmse',\n",
    "    callbacks=[lgb.early_stopping(\n",
    "        stopping_rounds=50,\n",
    "        verbose=False\n",
    "    )],\n",
    ")\n",
    "\n",
    "# Số lượng cây tối ưu được chọn bởi Early Stopping\n",
    "n = lgbm.best_iteration_\n",
    "print(f\"\\nSố lượng cây tối ưu (n_estimators) được chọn bởi Early Stopping: {lgbm.best_iteration_}\")"
   ]
  },
  {
   "cell_type": "code",
   "execution_count": null,
   "metadata": {},
   "outputs": [],
   "source": [
    "# Định nghĩa không gian tham số (param_grid)\n",
    "param_grid = {\n",
    "    'n_estimators': [n],\n",
    "    'learning_rate': [0.01, 0.05, 0.1],\n",
    "    'num_leaves': [20, 31, 40],\n",
    "    'max_depth': [-1, 10, 20],\n",
    "}\n",
    "\n",
    "lgbm = GridSearchCV(\n",
    "    estimator=LGBMRegressor(random_state=42),\n",
    "    param_grid=param_grid,\n",
    "    cv=5,\n",
    "    scoring='neg_mean_squared_error',\n",
    "    verbose=1,\n",
    "    n_jobs=-1\n",
    ")\n",
    "\n",
    "lgbm.fit(X_train, y_train)\n",
    "\n",
    "# Lấy kết quả tốt nhất\n",
    "print(\"Tham số tốt nhất:\", lgbm.best_params_)\n",
    "print(\"MSE tốt nhất:\", -lgbm.best_score_)\n",
    "print(\"RMSE tốt nhất:\", np.sqrt(-lgbm.best_score_))"
   ]
  },
  {
   "cell_type": "code",
   "execution_count": null,
   "metadata": {},
   "outputs": [],
   "source": [
    "# Khởi tạo mô hình với các tham số được tinh chỉnh\n",
    "lgbm_regressor = lgbm.best_estimator_\n",
    "\n",
    "# Huấn luyện\n",
    "lgbm_regressor.fit(X_train, y_train)\n",
    "\n",
    "# Dự đoán\n",
    "y_pred_lgbm = lgbm_regressor.predict(X_dev)\n",
    "\n",
    "# Đánh giá mô hình bằng MSE và RMSE trên tập dev\n",
    "mse_dev = mean_squared_error(y_dev, y_pred_lgbm)\n",
    "rmse_dev = np.sqrt(mse_dev)\n",
    "mape = mean_absolute_percentage_error(y_dev, y_pred_lgbm)\n",
    "r2 = r2_score(y_dev, y_pred_lgbm)\n",
    "\n",
    "print(f\"MSE trên tập dev: {mse_dev}\")\n",
    "print(f\"RMSE trên tập dev: {rmse_dev}\")\n",
    "print(f\"MAPE trên tập dev: {mape}\")\n",
    "print(f\"R² trên tập dev: {r2:.4f}\")"
   ]
  },
  {
   "cell_type": "code",
   "execution_count": null,
   "metadata": {},
   "outputs": [],
   "source": [
    "# Lấy và hiển thị độ quan trọng của từng đặc trưng\n",
    "df_importance = pd.DataFrame({'Feature': X_train.columns,\n",
    "                              'Importance': lgbm_regressor.feature_importances_}).sort_values(by='Importance', ascending=False)\n",
    "\n",
    "# Trực quan hóa\n",
    "plt.barh(df_importance['Feature'], df_importance['Importance'])\n",
    "plt.xlabel('Importance')\n",
    "plt.ylabel('Feature')\n",
    "plt.title('Feature Importance for LGBMRegressor')\n",
    "plt.show()"
   ]
  },
  {
   "cell_type": "markdown",
   "metadata": {},
   "source": [
    "## RandomForestRegressor"
   ]
  },
  {
   "cell_type": "code",
   "execution_count": null,
   "metadata": {},
   "outputs": [],
   "source": [
    "from sklearn.ensemble import RandomForestRegressor\n",
    "\n",
    "# Thiết lập grid search với các giá trị siêu tham số cần thử nghiệm\n",
    "param_grid = {\n",
    "    \"n_estimators\": [100, 200, 300],  # Số lượng cây trong rừng\n",
    "    \"max_depth\": [None, 10, 20],      # Độ sâu tối đa của cây\n",
    "    \"min_samples_split\": [2, 5, 10],  # Số mẫu tối thiểu để chia nút\n",
    "    \"min_samples_leaf\": [1, 2, 4],    # Số mẫu tối thiểu ở nút lá\n",
    "    \"max_features\": [\"sqrt\", \"log2\"]  # Số lượng đặc trưng được chọn ngẫu nhiên\n",
    "}\n",
    "\n",
    "# Grid Search với cross-validation 5-fold\n",
    "rf= GridSearchCV(RandomForestRegressor(random_state=42),\n",
    "                param_grid = param_grid,\n",
    "                cv=5,\n",
    "                scoring=\"neg_root_mean_squared_error\",\n",
    "                n_jobs=-1,\n",
    "                verbose=2)\n",
    "\n",
    "# Huấn luyện\n",
    "rf.fit(X_train, y_train)\n",
    "\n",
    "# Kết quả tốt nhất\n",
    "print(\"Tham số tốt nhất:\", rf.best_params_)\n",
    "print(\"MSE tốt nhất:\", -rf.best_score_)\n",
    "print(\"RMSE tốt nhất:\", np.sqrt(-rf.best_score_))"
   ]
  },
  {
   "cell_type": "code",
   "execution_count": null,
   "metadata": {},
   "outputs": [],
   "source": [
    "rf_regressor = rf.best_estimator_\n",
    "\n",
    "# Dự đoán\n",
    "y_pred_rf = rf_regressor.predict(X_dev)\n",
    "\n",
    "# Đánh giá mô hình bằng MSE và RMSE trên tập dev\n",
    "mse_dev = mean_squared_error(y_dev, y_pred_rf)\n",
    "rmse_dev = np.sqrt(mse_dev)\n",
    "mape = mean_absolute_percentage_error(y_dev, y_pred_rf)\n",
    "r2 = r2_score(y_dev, y_pred_rf)\n",
    "\n",
    "print(f\"MSE trên tập dev: {mse_dev}\")\n",
    "print(f\"RMSE trên tập dev: {rmse_dev}\")\n",
    "print(f\"MAPE trên tập dev: {mape}\")\n",
    "print(f\"R² trên tập dev: {r2:.4f}\")"
   ]
  },
  {
   "cell_type": "code",
   "execution_count": null,
   "metadata": {},
   "outputs": [],
   "source": [
    "# Lấy và hiển thị độ quan trọng của từng đặc trưng\n",
    "df_importance = pd.DataFrame({'Feature': X_train.columns,\n",
    "                              'Importance': rf_regressor.feature_importances_}).sort_values(by='Importance', ascending=False)\n",
    "\n",
    "# Trực quan hóa\n",
    "plt.barh(df_importance['Feature'], df_importance['Importance'])\n",
    "plt.xlabel('Importance')\n",
    "plt.ylabel('Feature')\n",
    "plt.title('Feature Importance for RandomForestRegressor')\n",
    "plt.show()"
   ]
  },
  {
   "cell_type": "markdown",
   "metadata": {},
   "source": [
    "## CatBoostRegressor"
   ]
  },
  {
   "cell_type": "code",
   "execution_count": null,
   "metadata": {},
   "outputs": [],
   "source": [
    "from catboost import CatBoostRegressor\n",
    "\n",
    "# Định nghĩa không gian tham số\n",
    "param_dist = {\n",
    "    'iterations': randint(100, 1000),\n",
    "    'learning_rate': uniform(loc=0.01, scale=0.15),\n",
    "    'depth': randint(4, 10),\n",
    "    'l2_leaf_reg': uniform(loc=1, scale=5),\n",
    "}\n",
    "\n",
    "# Khởi tạo mô hình CatBoostRegressor\n",
    "cat_model_base = CatBoostRegressor(\n",
    "    random_state=42,\n",
    "    loss_function='RMSE',\n",
    "    eval_metric='R2',\n",
    "    early_stopping_rounds=50,\n",
    "    verbose=0,\n",
    ")\n",
    "\n",
    "# Khởi tạo RandomizedSearchCV\n",
    "random_search_catboost = RandomizedSearchCV(estimator=cat_model_base,\n",
    "                                            param_distributions=param_dist,\n",
    "                                            n_iter=30,\n",
    "                                            cv=5,\n",
    "                                            scoring='r2',\n",
    "                                            verbose=1,\n",
    "                                            random_state=42,\n",
    "                                            n_jobs=-1)\n",
    "\n",
    "# Huấn luyện mô hình CatBoost với RandomizedSearchCV\n",
    "random_search_catboost.fit(X_train, y_train,\n",
    "                           eval_set=(X_dev, y_dev),\n",
    "                           early_stopping_rounds=50,\n",
    "                           verbose=100\n",
    "                           )\n",
    "\n",
    "# Kết quả tốt nhất\n",
    "print(\"Tham số tốt nhất:\", random_search_catboost.best_params_)\n",
    "print(\"MSE tốt nhất:\", random_search_catboost.best_score_)\n",
    "print(\"RMSE tốt nhất:\", np.sqrt(random_search_catboost.best_score_))"
   ]
  },
  {
   "cell_type": "code",
   "execution_count": null,
   "metadata": {},
   "outputs": [],
   "source": [
    "# Lấy mô hình CatBoost tốt nhất đã được huấn luyện\n",
    "cb_regressor = random_search_catboost.best_estimator_\n",
    "\n",
    "# Dự đoán trên tập dev\n",
    "y_pred_cb = cb_regressor.predict(X_dev)\n",
    "\n",
    "# Đánh giá mô hình bằng MSE và RMSE trên tập dev\n",
    "mse_dev = mean_squared_error(y_dev, y_pred_cb)\n",
    "rmse_dev = np.sqrt(mse_dev)\n",
    "mape = mean_absolute_percentage_error(y_dev, y_pred_cb)\n",
    "r2 = r2_score(y_dev, y_pred_cb)\n",
    "\n",
    "print(f\"MSE trên tập dev: {mse_dev}\")\n",
    "print(f\"RMSE trên tập dev: {rmse_dev}\")\n",
    "print(f\"MAPE trên tập dev: {mape}\")\n",
    "print(f\"R² trên tập dev: {r2:.4f}\")"
   ]
  },
  {
   "cell_type": "code",
   "execution_count": null,
   "metadata": {},
   "outputs": [],
   "source": [
    "# Lấy và hiển thị độ quan trọng của từng đặc trưng\n",
    "df_importance = pd.DataFrame({'Feature': X_train.columns,\n",
    "                              'Importance': cb_regressor.feature_importances_}).sort_values(by='Importance', ascending=False)\n",
    "\n",
    "# Trực quan hóa\n",
    "plt.barh(df_importance['Feature'], df_importance['Importance'])\n",
    "plt.xlabel('Importance')\n",
    "plt.ylabel('Feature')\n",
    "plt.title('Feature Importance for CatBoostRegressor')\n",
    "plt.show()"
   ]
  },
  {
   "cell_type": "markdown",
   "metadata": {},
   "source": [
    "# Kiểm định"
   ]
  },
  {
   "cell_type": "markdown",
   "metadata": {},
   "source": [
    "## XGBRegressor"
   ]
  },
  {
   "cell_type": "code",
   "execution_count": null,
   "metadata": {},
   "outputs": [],
   "source": [
    "# Dự đoán\n",
    "y_pred_xgb = xgb_regressor.predict(X_test)\n",
    "\n",
    "# Đánh giá mô hình bằng MSE và RMSE trên tập test\n",
    "mse_test = mean_squared_error(y_test, y_pred_xgb)\n",
    "rmse_test = np.sqrt(mse_test)\n",
    "mape = mean_absolute_percentage_error(y_test, y_pred_xgb)\n",
    "r2 = r2_score(y_test, y_pred_xgb)\n",
    "\n",
    "print(f\"MSE trên tập test: {mse_test}\")\n",
    "print(f\"RMSE trên tập test: {rmse_test}\")\n",
    "print(f\"MAPE trên tập test: {mape}\")\n",
    "print(f\"R² trên tập test: {r2:.4f}\")"
   ]
  },
  {
   "cell_type": "code",
   "execution_count": null,
   "metadata": {},
   "outputs": [],
   "source": [
    "plt.figure(figsize=(8, 6))\n",
    "plt.scatter(y_test, y_pred_xgb, alpha=0.5, color='blue')\n",
    "plt.plot([min(y_test), max(y_test)], [min(y_test), max(y_test)], color='red', linestyle='--', label=\"Perfect prediction\")\n",
    "plt.xlabel(\"Thực tế\")\n",
    "plt.ylabel(\"Dự đoán\")\n",
    "plt.title(\"XGBRegressor\")\n",
    "plt.legend()\n",
    "plt.grid()\n",
    "\n",
    "# Hiển thị biểu đồ\n",
    "plt.show()"
   ]
  },
  {
   "cell_type": "markdown",
   "metadata": {},
   "source": [
    "## LGBM Regressor"
   ]
  },
  {
   "cell_type": "code",
   "execution_count": null,
   "metadata": {},
   "outputs": [],
   "source": [
    "# Dự đoán\n",
    "y_pred_lgbm = lgbm_regressor.predict(X_test)\n",
    "\n",
    "# Đánh giá mô hình bằng MSE và RMSE trên tập test\n",
    "mse_test = mean_squared_error(y_test, y_pred_lgbm)\n",
    "rmse_test = np.sqrt(mse_test)\n",
    "mape = mean_absolute_percentage_error(y_test, y_pred_lgbm)\n",
    "r2 = r2_score(y_test, y_pred_lgbm)\n",
    "\n",
    "print(f\"MSE trên tập test: {mse_test}\")\n",
    "print(f\"RMSE trên tập test: {rmse_test}\")\n",
    "print(f\"MAPE trên tập test: {mape}\")\n",
    "print(f\"R² trên tập test: {r2:.4f}\")"
   ]
  },
  {
   "cell_type": "code",
   "execution_count": null,
   "metadata": {},
   "outputs": [],
   "source": [
    "plt.figure(figsize=(8, 6))\n",
    "plt.scatter(y_test, y_pred_lgbm, alpha=0.5, color='blue')\n",
    "plt.plot([min(y_test), max(y_test)], [min(y_test), max(y_test)], color='red', linestyle='--', label=\"Perfect prediction\")\n",
    "plt.xlabel(\"Thực tế\")\n",
    "plt.ylabel(\"Dự đoán\")\n",
    "plt.title(\"LGBMRegressor\")\n",
    "plt.legend()\n",
    "plt.grid()\n",
    "\n",
    "# Hiển thị biểu đồ\n",
    "plt.show()"
   ]
  },
  {
   "cell_type": "markdown",
   "metadata": {},
   "source": [
    "## RandomForestRegressor"
   ]
  },
  {
   "cell_type": "code",
   "execution_count": null,
   "metadata": {},
   "outputs": [],
   "source": [
    "# Dự đoán\n",
    "y_pred_rf = rf_regressor.predict(X_test)\n",
    "\n",
    "# Đánh giá mô hình bằng MSE và RMSE trên tập test\n",
    "mse_test = mean_squared_error(y_test, y_pred_rf)\n",
    "rmse_test = np.sqrt(mse_test)\n",
    "mape = mean_absolute_percentage_error(y_test, y_pred_rf)\n",
    "r2 = r2_score(y_test, y_pred_rf)\n",
    "\n",
    "print(f\"MSE trên tập test: {mse_test}\")\n",
    "print(f\"RMSE trên tập test: {rmse_test}\")\n",
    "print(f\"MAPE trên tập test: {mape}\")\n",
    "print(f\"R² trên tập test: {r2:.4f}\")"
   ]
  },
  {
   "cell_type": "code",
   "execution_count": null,
   "metadata": {},
   "outputs": [],
   "source": [
    "plt.figure(figsize=(8, 6))\n",
    "plt.scatter(y_test, y_pred_rf, alpha=0.5, color='blue')\n",
    "plt.plot([min(y_test), max(y_test)], [min(y_test), max(y_test)], color='red', linestyle='--', label=\"Perfect prediction\")\n",
    "plt.xlabel(\"Thực tế\")\n",
    "plt.ylabel(\"Dự đoán\")\n",
    "plt.title(\"RandomForestRegressor\")\n",
    "plt.legend()\n",
    "plt.grid()\n",
    "\n",
    "# Hiển thị biểu đồ\n",
    "plt.show()"
   ]
  },
  {
   "cell_type": "markdown",
   "metadata": {},
   "source": [
    "## CatBoostRegressor"
   ]
  },
  {
   "cell_type": "code",
   "execution_count": null,
   "metadata": {},
   "outputs": [],
   "source": [
    "# Dự đoán\n",
    "y_pred_cb = cb_regressor.predict(X_test)\n",
    "\n",
    "# Đánh giá mô hình bằng MSE và RMSE trên tập test\n",
    "mse_test = mean_squared_error(y_test, y_pred_cb)\n",
    "rmse_test = np.sqrt(mse_test)\n",
    "mape = mean_absolute_percentage_error(y_test, y_pred_cb)\n",
    "r2 = r2_score(y_test, y_pred_cb)\n",
    "\n",
    "print(f\"MSE trên tập test: {mse_test}\")\n",
    "print(f\"RMSE trên tập test: {rmse_test}\")\n",
    "print(f\"MAPE trên tập test: {mape}\")\n",
    "print(f\"R² trên tập test: {r2:.4f}\")"
   ]
  },
  {
   "cell_type": "code",
   "execution_count": null,
   "metadata": {},
   "outputs": [],
   "source": [
    "plt.figure(figsize=(8, 6))\n",
    "plt.scatter(y_test, y_pred_cb, alpha=0.5, color='blue')\n",
    "plt.plot([min(y_test), max(y_test)], [min(y_test), max(y_test)], color='red', linestyle='--', label=\"Perfect prediction\")\n",
    "plt.xlabel(\"Thực tế\")\n",
    "plt.ylabel(\"Dự đoán\")\n",
    "plt.title(\"CatBoostRegressor\")\n",
    "plt.legend()\n",
    "plt.grid()\n",
    "\n",
    "# Hiển thị biểu đồ\n",
    "plt.show()"
   ]
  },
  {
   "cell_type": "markdown",
   "metadata": {},
   "source": [
    "# Lưu mô hình"
   ]
  },
  {
   "cell_type": "code",
   "execution_count": null,
   "metadata": {},
   "outputs": [],
   "source": [
    "import joblib\n",
    "\n",
    "joblib.dump(xgb_regressor, 'xgb_model.pkl')\n",
    "joblib.dump(lgbm_regressor, 'lgbm_model.pkl')\n",
    "joblib.dump(rf_regressor, 'rf_model.pkl')\n",
    "joblib.dump(cb_regressor, 'cb_model.pkl')"
   ]
  }
 ],
 "metadata": {
  "kernelspec": {
   "display_name": "Python 3 (ipykernel)",
   "language": "python",
   "name": "python3"
  },
  "language_info": {
   "codemirror_mode": {
    "name": "ipython",
    "version": 3
   },
   "file_extension": ".py",
   "mimetype": "text/x-python",
   "name": "python",
   "nbconvert_exporter": "python",
   "pygments_lexer": "ipython3",
   "version": "3.12.7"
  }
 },
 "nbformat": 4,
 "nbformat_minor": 4
}
