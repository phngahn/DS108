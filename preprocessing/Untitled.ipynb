{
 "cells": [
  {
   "cell_type": "code",
   "execution_count": null,
   "id": "769deb30-7a19-4800-98a9-4e6b5479b0f4",
   "metadata": {},
   "outputs": [],
   "source": [
    "import pandas as pd\n",
    "import numpy as np\n",
    "import re\n",
    "import ast"
   ]
  },
  {
   "cell_type": "code",
   "execution_count": null,
   "id": "b6d5e327-1722-4273-8ab6-de65669c04c1",
   "metadata": {},
   "outputs": [],
   "source": [
    "data = pd.read_csv('updated_data.csv', encoding='utf-8-sig')"
   ]
  },
  {
   "cell_type": "code",
   "execution_count": null,
   "id": "59c6c19e-e086-42ab-b894-176e073a9080",
   "metadata": {},
   "outputs": [],
   "source": [
    "# Kiểm tra số cột và dòng của dữ liệu\n",
    "print(data.shape)"
   ]
  },
  {
   "cell_type": "code",
   "execution_count": null,
   "id": "7027511b-7bed-4c3c-a540-24e59ba5257a",
   "metadata": {},
   "outputs": [],
   "source": [
    "# Kiểm tra tên các cột của dữ liệu\n",
    "print(data.columns)"
   ]
  },
  {
   "cell_type": "markdown",
   "id": "c5b2791d-7c42-4f45-8316-eaba29d2c4d7",
   "metadata": {},
   "source": [
    "# Chuyển đổi kiểu dữ liệu"
   ]
  },
  {
   "cell_type": "code",
   "execution_count": null,
   "id": "e9395550-3247-4edc-99a7-a48b91c6f1a5",
   "metadata": {},
   "outputs": [],
   "source": [
    "# Kiểu dữ liệu của thuộc tính\n",
    "data.info()"
   ]
  },
  {
   "cell_type": "code",
   "execution_count": null,
   "id": "223a2fd8-0323-48ca-b57f-5f3263481a98",
   "metadata": {},
   "outputs": [],
   "source": [
    "# Chuyển đổi cột 'price_old' từ object sang numeric\n",
    "data['price_old'] = data['price_old'].astype(str)\n",
    "data['price_old'] = data['price_old'].str.replace('.', '', regex=False)\n",
    "data['price_old'] = data['price_old'].str.replace('₫', '', regex=False)\n",
    "data['price_old'] = data['price_old'].str.replace('đ', '', regex=False)\n",
    "data['price_old'] = pd.to_numeric(data['price_old'], errors='coerce')"
   ]
  },
  {
   "cell_type": "code",
   "execution_count": null,
   "id": "9b0a5fa5-e349-457d-8e26-56eea7f1e029",
   "metadata": {},
   "outputs": [],
   "source": [
    "# Chuyển đổi cột 'price_new' từ object sang numeric\n",
    "data['price_new'] = data['price_new'].astype(str)\n",
    "data['price_new'] = data['price_new'].str.replace('.', '', regex=False)\n",
    "data['price_new'] = data['price_new'].str.replace('₫', '', regex=False)\n",
    "data['price_new'] = data['price_new'].str.replace('đ', '', regex=False)\n",
    "data['price_new'] = pd.to_numeric(data['price_new'], errors='coerce')\n"
   ]
  },
  {
   "cell_type": "markdown",
   "id": "1192c3ba",
   "metadata": {},
   "source": [
    "# Xử lí cột brand"
   ]
  },
  {
   "cell_type": "code",
   "execution_count": null,
   "id": "ddf8d42b-1bc1-421e-991d-f75aa27940c1",
   "metadata": {},
   "outputs": [],
   "source": [
    "print(data['brand'].unique())"
   ]
  },
  {
   "cell_type": "markdown",
   "id": "8f5c128c-ac58-4198-9f71-d059d4e03504",
   "metadata": {},
   "source": [
    "Cần thống nhất nội dung"
   ]
  },
  {
   "cell_type": "code",
   "execution_count": null,
   "id": "aa15dc78-f2ec-43f8-ae77-887e186251ef",
   "metadata": {},
   "outputs": [],
   "source": [
    "# Xử lí cột 'brand'\n",
    "data['brand'] = data['name'].str.split(' ').str[0]\n",
    "data.loc[data['brand'] == 'iPhone', 'brand'] = 'iPhone (Apple)'"
   ]
  },
  {
   "cell_type": "markdown",
   "id": "6f1f0b20-2c83-4090-9cda-8eec394f70d2",
   "metadata": {},
   "source": [
    "# Xử lí cột color và image"
   ]
  },
  {
   "cell_type": "code",
   "execution_count": null,
   "id": "80fbae96-775f-4767-8192-8e4e5210268a",
   "metadata": {
    "scrolled": true
   },
   "outputs": [],
   "source": [
    "print(data['color'].unique())"
   ]
  },
  {
   "cell_type": "code",
   "execution_count": null,
   "id": "f908f7f5-886c-4571-8b31-ad8e265242b3",
   "metadata": {},
   "outputs": [],
   "source": [
    "print(data['image'].unique())"
   ]
  },
  {
   "cell_type": "markdown",
   "id": "4d6cab09-25e3-452f-949e-34daca1c5eb5",
   "metadata": {},
   "source": [
    "Với dữ liệu lấy từ cellphones thì color và image là một list gốm nhiều màu và ảnh khác nhau -> Xử lí cột 'color' và 'image' bằng cách: với mỗi màu trong 1 mẫu điện thoại tạo một dòng dữ liệu mới kèm với hình ảnh tương ứng.  \n",
    "Với dữ liệu lấy từ thế giới di động, loại bỏ chuỗi \"Màu: \""
   ]
  },
  {
   "cell_type": "code",
   "execution_count": null,
   "id": "1e87b0ef-760f-42ab-987f-756f7b721638",
   "metadata": {},
   "outputs": [],
   "source": [
    "# Loại bỏ chuỗi \"Màu: \" trong cột 'color'\n",
    "data['color'] = data['color'].str.replace('Màu: ', '', regex=False)"
   ]
  },
  {
   "cell_type": "code",
   "execution_count": null,
   "id": "dddc59b5-6ff2-4658-867e-edfd14722150",
   "metadata": {},
   "outputs": [],
   "source": [
    "# Xử lý cột 'color' và 'image': với mỗi màu trong 1 mẫu điện thoại tạo một dòng dữ liệu mới kèm với hình ảnh tương ứng\n",
    "\n",
    "# Khởi tạo các cột mới để lưu các list đã parse\n",
    "data['parsed_color_list'] = [[] for _ in range(len(data))]\n",
    "data['parsed_image_list'] = [[] for _ in range(len(data))]\n",
    "\n",
    "\n",
    "for index, row in data.iterrows():\n",
    "    # Xử lý cột 'color'\n",
    "    color_str = str(row['color']).strip()\n",
    "    \n",
    "    if color_str.lower() in ['', 'nan', 'none']:\n",
    "        parsed_colors = []\n",
    "    elif color_str.startswith('[') and color_str.endswith(']'):\n",
    "        parsed_list = ast.literal_eval(color_str)\n",
    "        if isinstance(parsed_list, list):\n",
    "            cleaned_colors = [str(c).strip() for c in parsed_list if str(c).strip() != '']\n",
    "            parsed_colors = cleaned_colors\n",
    "        else:\n",
    "            parsed_colors = []\n",
    "    else:\n",
    "        parsed_colors = [c.strip() for c in color_str.split(',') if c.strip() != '']\n",
    "    data.at[index, 'parsed_color_list'] = parsed_colors\n",
    "\n",
    "    # Xử lý cột 'image'\n",
    "    img_url_str = str(row['image']).strip()\n",
    "\n",
    "    if img_url_str.lower() in ['', 'nan', 'none']:\n",
    "        parsed_images = []\n",
    "    elif img_url_str.startswith('[') and img_url_str.endswith(']'):\n",
    "        parsed_list = ast.literal_eval(img_url_str)\n",
    "        if isinstance(parsed_list, list):\n",
    "            cleaned_urls = [str(u).strip() for u in parsed_list if str(u).strip() != '']\n",
    "            parsed_images = cleaned_urls\n",
    "        else:\n",
    "            parsed_images = []\n",
    "    else:\n",
    "        urls = [u.strip() for u in img_url_str.split(',') if u.strip() != '']\n",
    "        parsed_images = urls\n",
    "    data.at[index, 'parsed_image_list'] = parsed_images\n",
    "\n",
    "# Tạo một cột tạm thời chứa các list of tuples\n",
    "data['color_image_list_of_tuples'] = [[] for _ in range(len(data))]\n",
    "\n",
    "for index, row in data.iterrows():\n",
    "    colors = row['parsed_color_list']\n",
    "    images = row['parsed_image_list']\n",
    "    \n",
    "    len_colors = len(colors)\n",
    "    len_images = len(images)\n",
    "\n",
    "    if len_colors == 0 and len_images == 0:\n",
    "        data.at[index, 'color_image_list_of_tuples'] = [(np.nan, np.nan)]\n",
    "    # Nếu chỉ có màu, điền NaN cho ảnh\n",
    "    elif len_colors > 0 and len_images == 0:\n",
    "        data.at[index, 'color_image_list_of_tuples'] = [(color, np.nan) for color in colors]\n",
    "    # Nếu chỉ có ảnh, điền NaN cho màu\n",
    "    elif len_images > 0 and len_colors == 0:\n",
    "        data.at[index, 'color_image_list_of_tuples'] = [(np.nan, image) for image in images]\n",
    "    # Độ dài không khớp:\n",
    "    else:\n",
    "        max_len = max(len_colors, len_images)\n",
    "        temp_tuples = []\n",
    "        for i in range(max_len):\n",
    "            color_val = colors[i] if i < len_colors else np.nan\n",
    "            image_val = images[i] if i < len_images else np.nan\n",
    "            temp_tuples.append((color_val, image_val))\n",
    "        data.at[index, 'color_image_list_of_tuples'] = temp_tuples\n",
    "\n",
    "# Explode cột chứa list các tuple\n",
    "data_exploded = data.explode('color_image_list_of_tuples')\n",
    "\n",
    "# Loại bỏ các cột không cần thiết\n",
    "data_exploded = data_exploded.drop(columns=[\n",
    "    'image',\n",
    "    'color',\n",
    "    'parsed_color_list',\n",
    "    'parsed_image_list',\n",
    "], errors='ignore')\n",
    "\n",
    "# Tạo các cột 'color' và 'image' mới từ cột tuple đã explode\n",
    "data_exploded['color'] = data_exploded['color_image_list_of_tuples'].apply(lambda x: x[0])\n",
    "data_exploded['image'] = data_exploded['color_image_list_of_tuples'].apply(lambda x: x[1])\n",
    "data_exploded = data_exploded.drop(columns='color_image_list_of_tuples')\n",
    "data = data_exploded.copy()"
   ]
  },
  {
   "cell_type": "markdown",
   "id": "92102b31-228d-49d1-8ebe-4bfe23adc511",
   "metadata": {},
   "source": [
    "# Xử lí cột condition"
   ]
  },
  {
   "cell_type": "code",
   "execution_count": null,
   "id": "2e3dd9c3-5638-4bf1-82d4-96273a2f8a0a",
   "metadata": {},
   "outputs": [],
   "source": [
    "print(data['condition'].unique())"
   ]
  },
  {
   "cell_type": "markdown",
   "id": "29ad78f7-25ca-4320-8e7a-137255068b07",
   "metadata": {},
   "source": [
    "Cần thống nhất nội dung trong thuộc tính"
   ]
  },
  {
   "cell_type": "code",
   "execution_count": null,
   "id": "5919c7ee-695c-42e0-8992-6d6413c56e7e",
   "metadata": {},
   "outputs": [],
   "source": [
    "condition_normalization_map = {\n",
    "    'cũ trầy xước': 'Cũ trầy xước',\n",
    "    'cũ xước cấn': 'Cũ trầy xước cấn',\n",
    "    'cũ đẹp': 'Cũ đẹp',\n",
    "    'hàng trưng bày': 'Hàng trưng bày',\n",
    "    'đã kích hoạt': 'Đã kích hoạt',\n",
    "    'chính hãng (vn/a) đã kích hoạt': 'Đã kích hoạt (Chính Hãng VN/A)',\n",
    "    'đã kích hoạt bảo hành vn/a': 'Đã kích hoạt (Bảo Hành VN/A)',\n",
    "    'đổi bảo hành': 'Đổi bảo hành',\n",
    "    'đổi bảo hành (vn/a)': 'Đổi Bảo Hành (VN/A)',\n",
    "    'đổi bảo hành vn/a': 'Đổi Bảo Hành (VN/A)',\n",
    "    'xước cấn': 'Cũ trầy xước cấn',\n",
    "    'cũ': 'Cũ',\n",
    "    'mới fullbox': 'Mới Fullbox',\n",
    "    'like new 99%': 'Like New 99%',\n",
    "    'chính hãng đã kích hoạt': 'Đã kích hoạt (Chính Hãng)',\n",
    "    '256gb)': 'Còn nguyên dung lượng lưu trữ',\n",
    "    '512gb)': 'Còn nguyên dung lượng lưu trữ',\n",
    "    '1tb)': 'Còn nguyên dung lượng lưu trữ',\n",
    "    '128gb)': 'Còn nguyên dung lượng lưu trữ',\n",
    "    'có trầy xước': 'Cũ trầy xước'\n",
    "}\n",
    "condition = data['condition']\n",
    "data['condition'] = data['condition'].astype(str).str.lower()\n",
    "data['condition'] = data['condition'].map(condition_normalization_map) \n",
    "data['condition'] = data['condition'].fillna(condition)\n",
    "data['condition'] = data['condition'].str.strip()"
   ]
  },
  {
   "cell_type": "markdown",
   "id": "a59f4550",
   "metadata": {},
   "source": [
    "# Xử lí cột time"
   ]
  },
  {
   "cell_type": "code",
   "execution_count": null,
   "id": "8ef9b31e",
   "metadata": {},
   "outputs": [],
   "source": [
    "print(data['time'].unique())"
   ]
  },
  {
   "cell_type": "code",
   "execution_count": null,
   "id": "a481c73f",
   "metadata": {},
   "outputs": [],
   "source": [
    "def convert_date(date_str):\n",
    "    try:\n",
    "        date_obj = pd.to_datetime(date_str, errors='coerce', dayfirst=True)\n",
    "        if pd.isna(date_obj):\n",
    "            return date_str  \n",
    "        return date_obj.strftime(\"%d/%m/%Y\") \n",
    "    except Exception as e:\n",
    "        return str(e)\n",
    "    \n",
    "data['time'] = data['time'].apply(convert_date)\n",
    "data['time'] = pd.to_datetime(data['time'], format=\"%d/%m/%Y\", errors='coerce')\n"
   ]
  },
  {
   "cell_type": "markdown",
   "id": "21af7a82-df7a-4fef-9d48-5d51384442d2",
   "metadata": {},
   "source": [
    "# Xử lí cột CPU"
   ]
  },
  {
   "cell_type": "code",
   "execution_count": null,
   "id": "4848ba1a-8aec-4642-ac00-cd0d2cbe8c81",
   "metadata": {
    "scrolled": true
   },
   "outputs": [],
   "source": [
    "print(data['CPU'].unique())"
   ]
  },
  {
   "cell_type": "markdown",
   "id": "61ebd133-4cda-4469-b6fa-8960c520ec13",
   "metadata": {},
   "source": [
    "Cần loại bỏ các thông tin không cần thiết, sửa lỗi chính tả."
   ]
  },
  {
   "cell_type": "code",
   "execution_count": null,
   "id": "39d2ed24-475f-43a8-aba9-64e1bffea5fd",
   "metadata": {},
   "outputs": [],
   "source": [
    "cpu = data['CPU']\n",
    "data['CPU'] = data['CPU'].fillna('')\n",
    "data['CPU'] = data['CPU'].str.split(',').str[0].str.strip()\n",
    "data['CPU'] = data['CPU'].str.replace(r'\\s*\\(.*?\\)\\s*', ' ', regex=True)\n",
    "data['CPU'] = data['CPU'].str.replace(r'[^\\w\\s\\+\\.]', ' ', regex=True)\n",
    "data['CPU'] = data['CPU'].str.replace(r'\\s+', ' ', regex=True).str.strip()\n",
    "data['CPU'] = data['CPU'].str.replace(r'\\bQualcomm\\s+SM\\d+\\s*', '', regex=True, flags=re.IGNORECASE).str.strip()\n",
    "data['CPU'] = data['CPU'].str.replace(r'\\b(thế hệ|gen|GEN)\\b', 'Gen', regex=True, flags=re.IGNORECASE).str.strip()\n",
    "data['CPU'] = data['CPU'].str.replace(r'\\bcore\\b', 'nhân', regex=True, flags=re.IGNORECASE).str.strip()\n",
    "data['CPU'] = data['CPU'].str.replace(r'\\bQualcomm\\s*', '', regex=True, flags=re.IGNORECASE).str.strip()\n",
    "data['CPU'] = data['CPU'].str.replace(r'\\bthứ\\s*', '', regex=True, flags=re.IGNORECASE).str.strip()\n",
    "data['CPU'] = data['CPU'].str.replace(r'\\bMobile\\s+Platform\\s*', '', regex=True, flags=re.IGNORECASE).str.strip()\n",
    "data['CPU'] = data['CPU'].str.replace(r'\\b(dành cho|For)\\b', 'for', regex=True, flags=re.IGNORECASE).str.strip()\n",
    "data['CPU'] = data['CPU'].str.replace(r'^\\s*(?:Chip|Mật độ)\\s*', '', regex=True, flags=re.IGNORECASE).str.strip()\n",
    "data['CPU'] = data['CPU'].str.replace(r'\\s*(?:\\d+\\s*nm\\+?|tăng)\\s*.*$', '', regex=True, flags=re.IGNORECASE).str.strip()\n",
    "data['CPU'] = data['CPU'].str.replace(r'\\bnapdragon\\b', 'Snapdragon', regex=True, flags=re.IGNORECASE).str.strip()\n",
    "\n",
    "cleaned_cpus = []\n",
    "for cpu_entry in data['CPU']:\n",
    "    if pd.isna(cpu_entry) or cpu_entry == '':\n",
    "        cleaned_cpus.append(np.nan)\n",
    "        continue\n",
    "\n",
    "    final_cpu_name = re.sub(r'(Gen)(\\d+)', r'\\1 \\2', str(cpu_entry), flags=re.IGNORECASE)\n",
    "    cleaned_cpus.append(final_cpu_name.strip())\n",
    "\n",
    "data['CPU'] = cleaned_cpus\n",
    "data['CPU'] = data['CPU'].fillna(cpu)"
   ]
  },
  {
   "cell_type": "markdown",
   "id": "c1a4c43e-f249-4663-a24a-0de061d48f03",
   "metadata": {},
   "source": [
    "# Xử lí cột warranty"
   ]
  },
  {
   "cell_type": "code",
   "execution_count": null,
   "id": "0484c330-420c-4efe-9f13-f5c6f432d2ee",
   "metadata": {
    "scrolled": true
   },
   "outputs": [],
   "source": [
    "print(data['warranty'].unique())"
   ]
  },
  {
   "cell_type": "markdown",
   "id": "65e42a4b-1a68-47ca-b52d-faa68348f4fa",
   "metadata": {},
   "source": [
    "Cần loại bỏ các chuỗi không cần thiết trong cột warranty"
   ]
  },
  {
   "cell_type": "code",
   "execution_count": null,
   "id": "0621efc7-0ccb-430b-bfa3-5adf4abaf4d7",
   "metadata": {},
   "outputs": [],
   "source": [
    "data['warranty'] = data['warranty'].str.replace(' tại TGDĐ', '', regex=False)\n",
    "data['warranty'] = data['warranty'].str.replace('Chính hãng đến ', '', regex=False)"
   ]
  },
  {
   "cell_type": "markdown",
   "id": "759248bc-bcbe-4132-945f-97af78e01e79",
   "metadata": {},
   "source": [
    "# Xử lí cột battery"
   ]
  },
  {
   "cell_type": "code",
   "execution_count": null,
   "id": "fe513ce7-848b-4133-a692-643c137400b9",
   "metadata": {
    "scrolled": true
   },
   "outputs": [],
   "source": [
    "print(data['battery'].unique())"
   ]
  },
  {
   "cell_type": "markdown",
   "id": "0dfdbc4d-b2c5-4c5c-97c9-1542547e56c0",
   "metadata": {},
   "source": [
    "Dữ liệu trong cột battery không thống nhất theo đơn vị mAh và loại bỏ thông tin không cần thiết"
   ]
  },
  {
   "cell_type": "markdown",
   "id": "adec3f86-ce34-4bac-adf9-296f5bc4b766",
   "metadata": {},
   "source": [
    "## Với dữ liệu từ thế giới di động"
   ]
  },
  {
   "cell_type": "code",
   "execution_count": null,
   "id": "3f2d1c8e-a547-464f-8381-70acc6cad0c5",
   "metadata": {},
   "outputs": [],
   "source": [
    "# Thống nhất dữ liệu trong cột 'battery' sang mAh\n",
    "condition = data['battery'] == '27 giờ'\n",
    "data.loc[condition, 'battery'] = '4674 mAh'\n",
    "condition = data['battery'] == '26 giờ'\n",
    "data.loc[condition, 'battery'] = '4005 mAh'\n",
    "condition = data['battery'] == '22 giờ'\n",
    "data.loc[condition, 'battery'] = '3561 mAh'\n",
    "condition = data['battery'] == '33 giờ'\n",
    "data.loc[condition, 'battery'] = '4685 mAh'"
   ]
  },
  {
   "cell_type": "markdown",
   "id": "f6da923b-c575-4105-8528-b18c3698dc4b",
   "metadata": {},
   "source": [
    "## Với dữ liệu từ cellphones"
   ]
  },
  {
   "cell_type": "code",
   "execution_count": null,
   "id": "bcdcf715-13c0-49a8-9e48-b3a9bfb268cb",
   "metadata": {
    "scrolled": true
   },
   "outputs": [],
   "source": [
    "# Thống nhất dữ liệu trong cột 'battery' sang mAh\n",
    "data['battery'] = data['battery'].fillna('').astype(str).str.lower()\n",
    "data['battery'] = data['battery'].str.replace(r'\\s+', '', regex=True)\n",
    "data['battery'] = data['battery'].str.replace(r'[,.]', '', regex=True)\n",
    "extracted_mah = data['battery'].str.extract(r'(\\d+)mah', flags=re.IGNORECASE, expand=False)\n",
    "data['battery'] = pd.to_numeric(extracted_mah, errors='coerce')\n",
    "\n",
    "# Lọc các sản phẩm có 'battery' là NaN sau chuyển đổi\n",
    "products_with_nan_battery = data[data['battery'].isna()]\n",
    "unique_names_with_nan_battery = products_with_nan_battery['name'].unique()\n",
    "# In ra name của các sản phẩm đó\n",
    "if unique_names_with_nan_battery.size > 0:\n",
    "    print(\"\\nSản phẩm có giá trị pin (mAh) là NaN:\")\n",
    "    for name in unique_names_with_nan_battery:\n",
    "        print(f\"- {name}\")\n",
    "else:\n",
    "    print(\"\\nKhông có sản phẩm nào có giá trị pin (mAh) là NaN.\")\n",
    "\n",
    "# Điền các trị NaN\n",
    "lookup_data = {\n",
    "    'product_name_lookup': ['iPhone 14 Pro Max', 'iPhone 14 Pro', 'iPhone 15 Plus', 'iPhone 15 Pro',\n",
    "                            'iPhone 15 Pro Max', 'iPhone 16 Plus', 'iPhone XS Max', 'iPhone 12 Pro Max',\n",
    "                            'iPhone 16 Pro Max', 'iPhone 15', 'iPhone 14 Plus', 'iPhone 12 Pro', \n",
    "                            'iPhone 12', 'iPhone 16 Pro', 'iPhone 16', 'iPhone XS', 'iPhone 12 mini',\n",
    "                            'iPhone 13', 'realme 9i', 'iPhone 14', 'OPPO Reno 13 5G',\n",
    "                            'Xiaomi Redmi Note 14', 'Sony Xperia 10V', 'OPPO Reno13 Pro',\n",
    "                            'Xiaomi Poco X7 Pro 5G', 'Xiaomi Redmi 10C 4G', 'Xiaomi Redmi Note 14 Pro',\n",
    "                            'Xiaomi Mi 11T'],\n",
    "    'correct_battery': [4323, 3200, 4383, 3274, 4422, 4674, 3174, 3687, 4685, 3349, 4325, 2815, 2815,\n",
    "                       4674, 3561, 2658, 2227, 3240, 5000, 3279, 5600, 5500, 5000, 5800, 6000, 5000,\n",
    "                       5500, 5000]\n",
    "}\n",
    "lookup = pd.DataFrame(lookup_data)\n",
    "\n",
    "battery_map = lookup.set_index('product_name_lookup')['correct_battery']\n",
    "data['battery'] = data['battery'].fillna(data['name'].map(battery_map))"
   ]
  },
  {
   "cell_type": "markdown",
   "id": "87f9b348-651d-4df9-9f78-a45e44bfdfef",
   "metadata": {},
   "source": [
    "# Xử lí cột RAM và capacity"
   ]
  },
  {
   "cell_type": "code",
   "execution_count": null,
   "id": "6d8a087f-5a36-4e18-8ca4-215026ea70aa",
   "metadata": {},
   "outputs": [],
   "source": [
    "print(data['RAM'].unique())"
   ]
  },
  {
   "cell_type": "markdown",
   "id": "c3b56cb6-92ac-4008-b4a1-88218d6fa8b7",
   "metadata": {},
   "source": [
    "Dữ liệu trong cột RAM không thống nhất theo đơn vị GB."
   ]
  },
  {
   "cell_type": "code",
   "execution_count": null,
   "id": "9c89c474-c78b-4bd2-978c-19cf73a784ce",
   "metadata": {},
   "outputs": [],
   "source": [
    "print(data['capacity'].unique())"
   ]
  },
  {
   "cell_type": "markdown",
   "id": "58af66b1-1216-4e70-9a76-cdab91383d26",
   "metadata": {},
   "source": [
    "Dữ liệu theo cột capacity không thống nhất theo đơn vị GB."
   ]
  },
  {
   "cell_type": "code",
   "execution_count": null,
   "id": "4f473a50-19f1-4807-ac27-c1deea94104b",
   "metadata": {},
   "outputs": [],
   "source": [
    "# 1. Chuẩn hóa cột RAM: lấy phần trước \"mở rộng\" nếu có\n",
    "data['RAM'] = data['RAM'].apply(lambda x: (\n",
    "    f\"{re.search(r'(\\d+)\\s*+', str(x).lower().split('mở rộng')[0]).group(1)} GB\"\n",
    "    if isinstance(x, str) and 'mở rộng' in x.lower() and re.search(r'(\\d+)\\s*+', x.lower().split('mở rộng')[0])\n",
    "    else x\n",
    "))\n",
    "\n",
    "# 2. Hàm convert sang số GB\n",
    "def convert_to_gb(value):\n",
    "    if pd.isna(value) or str(value).lower().strip() == 'nan':\n",
    "        return np.nan\n",
    "    value = str(value).upper().strip()\n",
    "    if 'GB' in value:\n",
    "        try:\n",
    "            return float(value.replace('GB', '').strip())\n",
    "        except ValueError:\n",
    "            return np.nan\n",
    "    elif 'MB' in value:\n",
    "        try:\n",
    "            return float(value.replace('MB', '').strip()) / 1024\n",
    "        except ValueError:\n",
    "            return np.nan\n",
    "    elif 'TB' in value:\n",
    "        try:\n",
    "            return float(value.replace('TB', '').strip()) * 1024\n",
    "        except ValueError:\n",
    "            return np.nan\n",
    "    else:\n",
    "        return np.nan\n",
    "\n",
    "# 3. Áp dụng convert_to_gb cho cột RAM (và capacity nếu cần)\n",
    "data['RAM'] = data['RAM'].apply(convert_to_gb)\n",
    "\n",
    "if 'capacity' in data.columns and data['capacity'].dtype == object:\n",
    "    data['capacity'] = data['capacity'].apply(convert_to_gb)"
   ]
  },
  {
   "cell_type": "markdown",
   "id": "b25c83ab-3802-4e84-8cb4-5d4419fe7384",
   "metadata": {},
   "source": [
    "# Xử lí cột screen size"
   ]
  },
  {
   "cell_type": "code",
   "execution_count": null,
   "id": "ef97da3d-4479-4ffd-a257-186877371510",
   "metadata": {},
   "outputs": [],
   "source": [
    "print(data['screen_size'].unique())"
   ]
  },
  {
   "cell_type": "markdown",
   "id": "3052ee44-e00a-46fe-affe-5254d7f6509b",
   "metadata": {},
   "source": [
    "Cần loại bỏ inches và \", chỉ lấy kích thước màn hình chính"
   ]
  },
  {
   "cell_type": "code",
   "execution_count": null,
   "id": "b19e2569-14f6-4a2d-85a0-790db903508d",
   "metadata": {},
   "outputs": [],
   "source": [
    "data['screen_size'] = data['screen_size'].apply(\n",
    "    lambda x: x.split('&')[0].split('Chính')[1].strip() \n",
    "    if isinstance(x, str) and 'Chính' in x and len(x.split('Chính')) > 1\n",
    "    else x if isinstance(x, str) else None\n",
    ")\n",
    "\n",
    "# Chuyển cột 'screen_size' sang kiểu dữ liệu số\n",
    "data['screen_size'] = data['screen_size'].astype(str)\n",
    "data['screen_size'] = data['screen_size'].str.replace(r'\"', '', regex=True).str.strip()\n",
    "data['screen_size'] = data['screen_size'].str.replace(r'\\s*inches|\\s*inch', '', regex=True)\n",
    "data['screen_size'] = pd.to_numeric(data['screen_size'], errors='coerce')"
   ]
  },
  {
   "cell_type": "markdown",
   "id": "9282c457-214c-40be-a387-410b525b8ca6",
   "metadata": {},
   "source": [
    "# Xử lý cột screen resolution"
   ]
  },
  {
   "cell_type": "code",
   "execution_count": null,
   "id": "8117e386-6f8d-446b-921b-291bd763f128",
   "metadata": {},
   "outputs": [],
   "source": [
    "print(data['screen_resolution'].unique())"
   ]
  },
  {
   "cell_type": "markdown",
   "id": "c94ed475-0df1-49ba-8a68-b1412cc5e154",
   "metadata": {},
   "source": [
    "Cần loại bỏ thông tin không cần thiết, tách cột"
   ]
  },
  {
   "cell_type": "code",
   "execution_count": null,
   "id": "ae55809f-c191-4306-8d82-421d0df05938",
   "metadata": {},
   "outputs": [],
   "source": [
    "# Xử lí thông tin độ phân giải trong cột 'screen_resolution'\n",
    "data['screen_resolution_temp'] = data['screen_resolution'].apply(\n",
    "    lambda x: x.split('x P')[0].split('Chính: ')[1].strip()\n",
    "    if isinstance(x, str) and 'Chính: ' in x\n",
    "    else x if isinstance(x, str) else None\n",
    ")\n",
    "\n",
    "# Tách cột 'screen_resolution' thành 'resolution_width' và 'resolution_height'\n",
    "data[['resolution_width', 'resolution_height']] = data['screen_resolution_temp'].str.extract(r'(?:.*\\(|)(\\d+) x (\\d+)')\n",
    "\n",
    "# Chuyển đổi cột 'resolution_width' sang kiểu số\n",
    "data['resolution_width'] = data['resolution_width'].astype(str)\n",
    "data['resolution_width'] = pd.to_numeric(data['resolution_width'], errors='coerce')\n",
    "\n",
    "# Chuyển đổi cột 'resolution_height' sang kiểu số\n",
    "data['resolution_height'] = data['resolution_height'].astype(str)\n",
    "data['resolution_height'] = pd.to_numeric(data['resolution_height'], errors='coerce')\n",
    "\n",
    "# Xóa các cột không cần thiết.\n",
    "data = data.drop(columns=['screen_resolution_temp'])"
   ]
  },
  {
   "cell_type": "markdown",
   "id": "d97997ad-6555-4275-b706-8977f71175d4",
   "metadata": {},
   "source": [
    "# Xử lý cột operating system"
   ]
  },
  {
   "cell_type": "code",
   "execution_count": null,
   "id": "ff960074-e36a-4501-8c6c-29950f691c97",
   "metadata": {
    "scrolled": true
   },
   "outputs": [],
   "source": [
    "print(data['operating_system'].unique())"
   ]
  },
  {
   "cell_type": "code",
   "execution_count": null,
   "id": "b6c98ae5-5b84-42e7-b67d-326fcfc3d2dc",
   "metadata": {},
   "outputs": [],
   "source": [
    "data.loc[data['operating_system'] == '11', 'operating_system'] = 'iOS 11'\n",
    "data.loc[data['operating_system'] == '12', 'operating_system'] = 'iOS 12'\n",
    "# Loại bỏ phần sau dấu phẩy trong cột 'operating_system'\n",
    "data['operating_system'] = data['operating_system'].str.split(',').str[0].str.strip()"
   ]
  },
  {
   "cell_type": "code",
   "execution_count": null,
   "id": "d14fc233",
   "metadata": {},
   "outputs": [],
   "source": [
    "#Loại bỏ các chữ thừa, chỉ giữ lại tên và phiên bản\n",
    "data['operating_system'] = data['operating_system'].str.extract(\n",
    "    r'(iOS ?\\d+(?:\\.\\d+)?|Android(?:™)? ?\\d+(?:\\.\\d+)?|Android ?[UT]|Android ?\\d+ ?Go|MIUI ?\\d+(?:\\.\\d+)?|ColorOS ?\\d+(?:\\.\\d+)?|Funtouch OS ?\\d+(?:\\.\\d+)?|realme UI ?[\\w\\.]+|HarmonyOS ?\\d+(?:\\.\\d+)?|Xiaomi HyperOS ?\\d*|Mocor ?\\(RTOS\\)|XOS ?\\d+(?:\\.\\d+)?|OxygenOS|One UI ?\\d+(?:\\.\\d+)?|EMUI ?\\d+(?:\\.\\d+)?|Series ?30\\+|S30\\+)',\n",
    "    flags=re.IGNORECASE\n",
    ")\n",
    "data['operating_system'] = data['operating_system'].apply(\n",
    "    lambda x: (\n",
    "        re.match(r'^([A-Za-z]+(?: [A-Za-z]+)*)(?:\\s?(\\d+\\.?\\w*))?', \n",
    "                 re.sub(r'(Android)(\\d)', r'\\1 \\2',\n",
    "                 re.sub(r'(iOS)(\\d)', r'\\1 \\2',\n",
    "                 re.sub(r'\\s+', ' ', re.sub(r'[™®]', '', x.strip())))))\n",
    "        .group(0).strip()\n",
    "        if isinstance(x, str) and re.match(r'^([A-Za-z]+(?: [A-Za-z]+)*)(?:\\s?(\\d+\\.?\\w*))?', x)\n",
    "        else x\n",
    "    )\n",
    ")\n"
   ]
  },
  {
   "cell_type": "code",
   "execution_count": null,
   "id": "6e89f9c3",
   "metadata": {},
   "outputs": [],
   "source": [
    "print(data['operating_system'].unique())"
   ]
  },
  {
   "cell_type": "markdown",
   "id": "1bb7010a-c14d-4d61-8eaf-948ea3a26fae",
   "metadata": {},
   "source": [
    "# Xử lý cột SIM"
   ]
  },
  {
   "cell_type": "code",
   "execution_count": null,
   "id": "304626b8-cc8b-49e2-bd90-eef1484de65c",
   "metadata": {},
   "outputs": [],
   "source": [
    "print(data['SIM'].unique())"
   ]
  },
  {
   "cell_type": "code",
   "execution_count": null,
   "id": "35c88db4-de6d-45cd-8f14-f3debf2851ee",
   "metadata": {},
   "outputs": [],
   "source": [
    "# Xử lí thông tin cột 'SIM'\n",
    "data['processed_SIM'] = data['SIM'].astype(str).str.lower()\n",
    "data['processed_SIM'] = data['processed_SIM'].replace('nan', np.nan)\n",
    "\n",
    "# Tạo cột 'has_nano_sim' (nếu có là 1 - không có là 0)\n",
    "data['has_nano_sim'] = data['processed_SIM'].str.contains(r'nano[-]?sim', case=False, na=np.nan).astype(float)\n",
    "\n",
    "# Tạo cột 'has_esim' (nếu có là 1 - không có là 0)\n",
    "data['has_esim'] = data['processed_SIM'].str.contains(r'e[-]?sim', case=False, na=np.nan).astype(float)\n",
    "\n",
    "# Cập nhật regex để bắt 'SIM' hoặc 'SIM 1', 'SIM 2',\n",
    "mask_generic_sim = (\n",
    "    data['processed_SIM'].notna() &\n",
    "    data['processed_SIM'].str.contains(r'\\bSIM(?: \\d+| vật lý)?\\b', case=False, na=False)\n",
    ")\n",
    "\n",
    "data = data.drop(columns = 'processed_SIM')\n",
    "\n",
    "# Cập nhật has_nano_sim thành 1.0 cho các trường hợp này\n",
    "data.loc[mask_generic_sim, 'has_nano_sim'] = 1.0"
   ]
  },
  {
   "cell_type": "markdown",
   "id": "aecadcfe-42ed-45b5-8286-dbda2fe726eb",
   "metadata": {},
   "source": [
    "# Xử lý cột display technology"
   ]
  },
  {
   "cell_type": "code",
   "execution_count": null,
   "id": "ccfc2ac3-6366-4cb5-92ea-be03a535f8f7",
   "metadata": {},
   "outputs": [],
   "source": [
    "print(data['display_technology'].unique())"
   ]
  },
  {
   "cell_type": "markdown",
   "id": "41458d2b-9ddf-4966-89cf-b5bf479392b7",
   "metadata": {},
   "source": [
    "Cần loại bỏ các thông tin không cần thiết "
   ]
  },
  {
   "cell_type": "code",
   "execution_count": null,
   "id": "3fd78873-f913-41e2-82b7-d3b75c6c5f15",
   "metadata": {},
   "outputs": [],
   "source": [
    "display_info = data['display_technology']\n",
    "data['display_technology'] = data['display_technology'].fillna('').astype(str)\n",
    "data['display_technology'] = data['display_technology'].str.extract(r'(.*?lcd)', flags=re.IGNORECASE, expand=False)\n",
    "data['display_technology'] = data['display_technology'].fillna(display_info)\n",
    "data['display_technology'] = data['display_technology'].str.split(',').str[0]\n",
    "data['display_technology'] = data['display_technology'].str.replace('Cảm ứng điện dung ', '', regex=False)\n",
    "data['display_technology'] = data['display_technology'].str.strip()"
   ]
  },
  {
   "cell_type": "markdown",
   "id": "8e6b103c-9d25-4063-8ff0-00df9f753756",
   "metadata": {},
   "source": [
    "# Xử lý cột size"
   ]
  },
  {
   "cell_type": "code",
   "execution_count": null,
   "id": "f7318f30-da56-4485-8406-0cdb3c8388d5",
   "metadata": {
    "scrolled": true
   },
   "outputs": [],
   "source": [
    "print(data['size'].unique())"
   ]
  },
  {
   "cell_type": "markdown",
   "id": "5cc7c1c4-92f5-4bcf-92fd-ca14ef0f0843",
   "metadata": {},
   "source": [
    "Chỉ lấy kích thước, tạo ra các cột mới lưu thông tin dài, rộng, cao"
   ]
  },
  {
   "cell_type": "code",
   "execution_count": null,
   "id": "ba2c345f-a127-4a1a-ad6d-b5d93142b6e8",
   "metadata": {},
   "outputs": [],
   "source": [
    "# Xử lý dữ liệu cột 'size' để tạo 3 cột mới\n",
    "data['size_str_processed'] = (data['size'].astype(str).str.strip()\n",
    "                              .replace(['', 'nan', 'none'], 'INVALID', regex=True))\n",
    "\n",
    "processed_size_lists = []\n",
    "for size_item_str in data['size_str_processed']:\n",
    "    current_list = [np.nan] * 3\n",
    "    if size_item_str != 'INVALID':\n",
    "        try:\n",
    "            parsed_list = ast.literal_eval(size_item_str)\n",
    "            if isinstance(parsed_list, list):\n",
    "                numeric_elements = [pd.to_numeric(val, errors='coerce') for val in parsed_list]\n",
    "                current_list = numeric_elements[:3] + [np.nan] * (3 - len(numeric_elements))\n",
    "        except (ValueError, SyntaxError):\n",
    "            pass\n",
    "    processed_size_lists.append(current_list)\n",
    "\n",
    "data[['height', 'width', 'depth']] = pd.DataFrame(processed_size_lists, index=data.index)\n",
    "data.drop(columns=['size_str_processed'], inplace=True)\n",
    "\n",
    "# Chuẩn hóa cột 'size'\n",
    "data['general_size_info_cleaned'] = (data['size'].astype(str)\n",
    "                                     .str.replace(',', '.', regex=False)\n",
    "                                     .str.replace(r'\\bxx\\b', 'x', regex=True)\n",
    "                                     .str.replace('≈', '', regex=False)\n",
    "                                     .str.strip()\n",
    "                                     .replace(['nan', 'none', ''], np.nan))\n",
    "\n",
    "# Xử lý kích thước từ mô tả text\n",
    "pattern_height = re.compile(r'(?:dọc|dài|chiều dài|cao)\\s*[:\\-]?\\s*([\\d\\.]+)', re.IGNORECASE)\n",
    "pattern_width = re.compile(r'(?:rộng|ngang|chiều rộng)\\s*[:\\-]?\\s*([\\d\\.]+)', re.IGNORECASE)\n",
    "pattern_depth = re.compile(r'(?:dày|độ dày|siêu mỏng)\\s*[:\\-]?\\s*([\\d\\.]+)', re.IGNORECASE)\n",
    "pattern_3_dims = re.compile(r'([\\d\\.]+)\\s*(?:mm)?\\s*[-xX×*]\\s*([\\d\\.]+)\\s*(?:mm)?\\s*[-xX×*]\\s*([\\d\\.]+)', re.IGNORECASE)\n",
    "\n",
    "dims = data['general_size_info_cleaned'].str.extract(pattern_3_dims)\n",
    "data['height'] = pd.to_numeric(dims[0], errors='coerce')\n",
    "data['width'] = pd.to_numeric(dims[1], errors='coerce')\n",
    "data['depth'] = pd.to_numeric(dims[2], errors='coerce')\n",
    "\n",
    "data['height'] = data['height'].fillna(data['general_size_info_cleaned'].str.extract(pattern_height)[0].astype(float))\n",
    "data['width'] = data['width'].fillna(data['general_size_info_cleaned'].str.extract(pattern_width)[0].astype(float))\n",
    "data['depth'] = data['depth'].fillna(data['general_size_info_cleaned'].str.extract(pattern_depth)[0].astype(float))\n",
    "\n",
    "data.drop(columns=['general_size_info_cleaned'], errors='ignore', inplace=True)"
   ]
  },
  {
   "cell_type": "markdown",
   "id": "7e7b4add-14f7-436e-bb6b-d7160c4b54ce",
   "metadata": {},
   "source": [
    "# Xử lý cột GPU"
   ]
  },
  {
   "cell_type": "code",
   "execution_count": null,
   "id": "ec516a5d-1562-4f32-acd8-5b1d5de00222",
   "metadata": {
    "scrolled": true
   },
   "outputs": [],
   "source": [
    "print(data['GPU'].unique())"
   ]
  },
  {
   "cell_type": "markdown",
   "id": "79fa20de-685e-49e7-85d3-e3dab609586f",
   "metadata": {},
   "source": [
    "Loại bỏ các thông tin không cần thiết, sửa lỗi chính tả."
   ]
  },
  {
   "cell_type": "code",
   "execution_count": null,
   "id": "8d67f61c-6b0b-482b-a313-86866cc2d13a",
   "metadata": {},
   "outputs": [],
   "source": [
    "gpu = data['GPU']\n",
    "data['GPU'] = data['GPU'].fillna('')\n",
    "data['GPU'] = data['GPU'].str.replace(r'[^\\w\\s\\+\\.\\-]', ' ', regex=True)\n",
    "data['GPU'] = data['GPU'].str.replace(r'\\s+', ' ', regex=True).str.strip()\n",
    "data['GPU'] = data['GPU'].str.replace(r'\\bQualcomm\\s*', '', regex=True, flags=re.IGNORECASE).str.strip()\n",
    "data['GPU'] = data['GPU'].str.replace(r'(\\d+)\\s*(?:lõi|core)s?\\b', r'\\1 nhân', regex=True, flags=re.IGNORECASE).str.strip()\n",
    "data['GPU'] = data['GPU'].str.replace(r'\\b(up to|Graphics|đồ họa|mới)\\s*', '', regex=True, flags=re.IGNORECASE).str.strip()\n",
    "data['GPU'] = data['GPU'].str.replace(r'(\\d+)-(?:nhân|lõi|core)s?\\b', r'\\1 nhân', regex=True).str.strip()\n",
    "data['GPU'] = data['GPU'].str.replace(r'(\\b\\w+)\\s*(-?G\\d+)', r'\\1\\2', regex=True).str.strip()\n",
    "data['GPU'] = data['GPU'].str.replace(r'\\bAdreno(?:\\s*\\bGPU\\b)?\\s*(\\d+)\\b(?:\\s*\\bGPU\\b)?', r'Adreno \\1', regex=True, flags=re.IGNORECASE).str.strip()\n",
    "\n",
    "cleaned_gpus = []\n",
    "for gpu_entry in data['GPU']:\n",
    "    if pd.isna(gpu_entry) or gpu_entry == '':\n",
    "        cleaned_gpus.append(np.nan)\n",
    "        continue\n",
    "\n",
    "    processed_gpu_entry = str(gpu_entry)\n",
    "    cleaned_gpus.append(processed_gpu_entry.strip())  \n",
    "\n",
    "data['GPU'] = cleaned_gpus\n",
    "data['GPU'] = data['GPU'].fillna(gpu)"
   ]
  },
  {
   "cell_type": "markdown",
   "id": "024eed6f-a0f7-4513-affd-96af53790ab4",
   "metadata": {},
   "source": [
    "# Xử lý cột bluetooth"
   ]
  },
  {
   "cell_type": "code",
   "execution_count": null,
   "id": "899471d2-f05c-487d-af0f-a507fa8fc8ed",
   "metadata": {},
   "outputs": [],
   "source": [
    "print(data['bluetooth'].unique())"
   ]
  },
  {
   "cell_type": "markdown",
   "id": "dbe01cdf-77ab-4bb7-af48-988e05d30977",
   "metadata": {},
   "source": [
    "Loại bỏ thông tin không cần thiết"
   ]
  },
  {
   "cell_type": "code",
   "execution_count": null,
   "id": "e9b52709-73e4-4b00-90be-b4e830098585",
   "metadata": {},
   "outputs": [],
   "source": [
    "data['processed_bluetooth'] = data['bluetooth'].fillna('').astype(str)\n",
    "data['processed_bluetooth'] = data['processed_bluetooth'].str.replace(r'(\\d+),(\\d+)', r'\\1.\\2', regex=True)\n",
    "data['processed_bluetooth'] = data['processed_bluetooth'].str.replace(r'\\bv\\s*(\\d+\\.\\d+)', r'v\\1', regex=True, flags=re.IGNORECASE).str.strip()\n",
    "data['processed_bluetooth'] = data['processed_bluetooth'].str.replace(r'(?<!Dual[\\s\\-])\\bBluetooth\\b\\s*', '', regex=True).str.strip()\n",
    "data['processed_bluetooth'] = data['processed_bluetooth'].str.replace(r'\\baptX\\b', 'apt-X', regex=True, flags=re.IGNORECASE).str.strip()\n",
    "data['processed_bluetooth'] = data['processed_bluetooth'].str.replace(r'\\bBT\\s*(\\d+\\.\\d+.*)?\\b', r'\\1', regex=True, flags=re.IGNORECASE).str.strip()\n",
    "data['processed_bluetooth'] = data['processed_bluetooth'].str.replace(r'(?<!v)(\\b\\d+\\.\\d+(?:\\s*[a-zA-Z0-9]+)?\\b)', r'v\\1', regex=True, flags=re.IGNORECASE).str.strip()\n",
    "data['processed_bluetooth'] = data['processed_bluetooth'].str.replace(r'\\b(Có)\\b(?!$)', '', regex=True).str.strip()\n",
    "data['processed_bluetooth'] = data['processed_bluetooth'].str.replace(r',\\s*', ', ', regex=True)\n",
    "data['bluetooth'] = data['processed_bluetooth'].replace('', np.nan)\n",
    "data = data.drop(columns=['processed_bluetooth'], errors='ignore')"
   ]
  },
  {
   "cell_type": "markdown",
   "id": "66bd46d6-85e1-48e4-8a13-e95cdd166671",
   "metadata": {},
   "source": [
    "# Xử lý cột refresh rate"
   ]
  },
  {
   "cell_type": "code",
   "execution_count": null,
   "id": "7fc7927a-5eec-4ca7-b429-64c61f0af6c8",
   "metadata": {},
   "outputs": [],
   "source": [
    "print(data['refresh_rate'].unique())"
   ]
  },
  {
   "cell_type": "markdown",
   "id": "fe179ec6-726c-48b8-94eb-9c240c4fded2",
   "metadata": {},
   "source": [
    "Lấy thông tin tần số quét chính, loại bỏ chữ Hz"
   ]
  },
  {
   "cell_type": "code",
   "execution_count": null,
   "id": "846b11dc-5a06-43ef-bad8-6f0eafe4217e",
   "metadata": {},
   "outputs": [],
   "source": [
    "# Xử lí tần số quét chính & phụ\n",
    "data['refresh_rate'] = data['refresh_rate'].astype(str).str.extract(\n",
    "    r\"Tần số quét Chính: (\\d+) Hz\", flags=re.IGNORECASE, expand=False\n",
    ")\n",
    "\n",
    "# Xử lý các hàng mà ở bước xử lí trên không tìm thấy\n",
    "data['refresh_rate'] = data.apply(\n",
    "    lambda row: re.search(r\"Tần số quét (\\d+) Hz\", str(row['refresh_rate']), re.IGNORECASE).group(1)\n",
    "                if pd.isna(row['refresh_rate']) and isinstance(row['refresh_rate'], str)\n",
    "                   and re.search(r\"Tần số quét (\\d+) Hz\", str(row['refresh_rate']), re.IGNORECASE)\n",
    "                   and \"Chính\" not in str(row['refresh_rate'])\n",
    "                else row['refresh_rate'],\n",
    "    axis=1\n",
    ")\n",
    "\n",
    "# Chuyển cột 'refresh_rate' sang kiểu dữ liệu số\n",
    "data['refresh_rate'] = data['refresh_rate'].astype(str)\n",
    "data['refresh_rate'] = pd.to_numeric(data['refresh_rate'], errors='coerce')"
   ]
  },
  {
   "cell_type": "markdown",
   "id": "5dc7f977-e27e-4abe-9acc-bd2b91400579",
   "metadata": {},
   "source": [
    "# Lưu dữ liệu đã qua xử lí"
   ]
  },
  {
   "cell_type": "code",
   "execution_count": null,
   "id": "831f0d43-a0f1-464c-811e-1596bfff5deb",
   "metadata": {},
   "outputs": [],
   "source": [
    "# Xuất DataFrame ra file CSV\n",
    "data.to_csv('tidy_data.csv', index=False, encoding='utf-8-sig')"
   ]
  },
  {
   "cell_type": "markdown",
   "id": "57428277-14d6-4835-94cb-51034ec9bfdf",
   "metadata": {},
   "source": [
    "# Xử lý giá trị thiếu"
   ]
  },
  {
   "cell_type": "code",
   "execution_count": null,
   "id": "6c855f16-93d6-473e-9d1e-981f25993215",
   "metadata": {},
   "outputs": [],
   "source": [
    "data.isnull().sum()"
   ]
  },
  {
   "cell_type": "code",
   "execution_count": null,
   "id": "8118ce4c",
   "metadata": {},
   "outputs": [],
   "source": [
    "data.shape"
   ]
  },
  {
   "cell_type": "markdown",
   "id": "ce617de4",
   "metadata": {},
   "source": [
    "đối với condition, warranty không thu thập được, mặc định là \"Cũ\" và \"0 tháng\" (không có bảo hành)."
   ]
  },
  {
   "cell_type": "code",
   "execution_count": null,
   "id": "c7c0fca8",
   "metadata": {},
   "outputs": [],
   "source": [
    "data['condition'] = data['condition'].replace('', pd.NA).fillna('Cũ')\n",
    "data['warranty'] = data['warranty'].replace('', pd.NA).fillna('0 tháng')"
   ]
  },
  {
   "cell_type": "markdown",
   "id": "7e0b09bc-eed5-4243-91f9-d9fb11e235a5",
   "metadata": {},
   "source": [
    "Cột price_new, CPU, RAM, capacity có chứa giá trị thiếu, nghi ngờ bị thiếu theo dòng máy.\n"
   ]
  },
  {
   "cell_type": "code",
   "execution_count": null,
   "id": "b1519aa9-75a1-4295-b09d-553465ffeee1",
   "metadata": {},
   "outputs": [],
   "source": [
    "# price_new\n",
    "data['price_new_missing'] = data['price_new'].isna().astype('int')\n",
    "# Tính tỷ lệ missing price_new theo tên điện thoại\n",
    "rate_prc_name = data.groupby('name')['price_new_missing'].mean()\n",
    "print(rate_prc_name[rate_prc_name > 0])\n",
    "\n",
    "data = data.drop(columns=['price_new_missing'])"
   ]
  },
  {
   "cell_type": "markdown",
   "id": "233ab675-4eb6-4ac2-8090-80b44b90bd4e",
   "metadata": {},
   "source": [
    "Đối với một số dòng máy có tỷ lệ thiếu 100%, qua tra cứu thì các dòng máy trên đã ngừng kinh doanh sản phẩm mới -> không có giá bán mới. \n",
    "Xử lý: Đối với các máy còn lại có tỉ lệ thiếu >0, <100% thì điền thiếu bằng cách lấy giá bán mới trung bình của các mẫu cùng tên.\n",
    "Do price_new là một thuộc tính quan trọng của bài toán -> drop những dòng bị missing ở thuộc tính price_new."
   ]
  },
  {
   "cell_type": "code",
   "execution_count": null,
   "id": "51621043",
   "metadata": {},
   "outputs": [],
   "source": [
    "for name_value, group in data.groupby('name'):\n",
    "    total = len(group)\n",
    "    missing = group['price_new'].isna().sum()\n",
    "    ratio = missing / total\n",
    "\n",
    "    if 0 < ratio < 1:\n",
    "        # Lấy giá trị trung bình price_new trong nhóm\n",
    "        price_value = round(group['price_new'].mean())\n",
    "        # Gán lại cho các dòng bị thiếu trong nhóm đó\n",
    "        data.loc[(data['name'] == name_value) & (data['price_new'].isna()), 'price_new'] = price_value"
   ]
  },
  {
   "cell_type": "code",
   "execution_count": null,
   "id": "b0a1bcd7-d965-4745-9922-8408cfa03cd0",
   "metadata": {},
   "outputs": [],
   "source": [
    "data = data.dropna(subset=['price_new'])"
   ]
  },
  {
   "cell_type": "code",
   "execution_count": null,
   "id": "98162f6c-6ec9-4de9-809f-e8809526dafc",
   "metadata": {},
   "outputs": [],
   "source": [
    "# CPU\n",
    "data['CPU_missing'] = data['CPU'].isna().astype('int')\n",
    "# Tính tỷ lệ missing CPU theo tên điện thoại\n",
    "rate_CPU_name = data.groupby('name')['CPU_missing'].mean()\n",
    "print(rate_CPU_name[rate_CPU_name > 0])\n",
    "\n",
    "data = data.drop(columns=['CPU_missing'])"
   ]
  },
  {
   "cell_type": "markdown",
   "id": "010599c6-a85e-4d33-b523-cab43ec2b7ee",
   "metadata": {},
   "source": [
    "Chỉ thiếu phụ thuộc vào dòng máy (trên trang web bán hàng không công bố thông số) -> tìm kiếm và bổ sung. Đối với 3 dòng Itel it2600, Itel it9211, Itel it9310 thì nhà sản xuất không công bố rõ ràng về thông tin CPU -> không bổ sung. "
   ]
  },
  {
   "cell_type": "code",
   "execution_count": null,
   "id": "72ed94c1",
   "metadata": {},
   "outputs": [],
   "source": [
    "data.loc[data['name'] == 'INOI 288S 4G', 'CPU'] = 'Unisoc T107'\n",
    "data.loc[data['name'] == 'Nokia HMD 105 4G', 'CPU'] = 'Unisoc T127'\n",
    "data.loc[data['name'] == 'Nubia Music NFC', 'CPU'] = 'Unisoc SC9863A'\n",
    "data.loc[data['name'] == 'Samsung Galaxy A33', 'CPU'] = 'Exynos 1280'\n",
    "data.loc[data['name'] == 'Sony Xperia 10V', 'CPU'] = 'Qualcomm Snapdragon 695 5G'"
   ]
  },
  {
   "cell_type": "code",
   "execution_count": null,
   "id": "7a65d0a3-1b2b-4486-84c3-1f2dbf7cced2",
   "metadata": {},
   "outputs": [],
   "source": [
    "# RAM\n",
    "data['RAM_missing'] = data['RAM'].isna().astype('int')\n",
    "# Tính tỷ lệ missing RAM theo tên điện thoại\n",
    "rate_RAM_name = data.groupby('name')['RAM_missing'].mean()\n",
    "print(rate_RAM_name[rate_RAM_name > 0])\n",
    "\n",
    "data = data.drop(columns=['RAM_missing'])"
   ]
  },
  {
   "cell_type": "markdown",
   "id": "df474d68-bfbc-4a49-9a11-838edcbf54cd",
   "metadata": {},
   "source": [
    "Rõ ràng thiếu do phụ thuộc vào dòng máy. Xử lý: Tương tự CPU."
   ]
  },
  {
   "cell_type": "code",
   "execution_count": null,
   "id": "b154d91d",
   "metadata": {},
   "outputs": [],
   "source": [
    "data.loc[data['RAM'] == 'INOI 288S 4G', 'RAM'] = convert_to_gb('48 MB')\n",
    "data.loc[data['RAM'] == 'Itel it9211', 'RAM'] = convert_to_gb('16 MB')\n",
    "data.loc[data['RAM'] == 'Nokia HMD 105 4G', 'RAM'] = convert_to_gb('64 MB')\n",
    "data.loc[data['RAM'] == 'iPhone 12 Pro', 'RAM'] = convert_to_gb('6 GB')\n",
    "data.loc[data['RAM'] == 'iPhone 7 Plus', 'RAM'] = convert_to_gb('3 GB')"
   ]
  },
  {
   "cell_type": "code",
   "execution_count": null,
   "id": "6b835175-b6af-438b-a23f-b9621882946c",
   "metadata": {},
   "outputs": [],
   "source": [
    "#capacity\n",
    "data['capacity_missing'] = data['capacity'].isna().astype('int')\n",
    "# Tính tỷ lệ missing RAM theo tên điện thoại\n",
    "rate_capacity_name = data.groupby('name')['capacity_missing'].mean()\n",
    "print(rate_capacity_name[rate_capacity_name > 0])\n",
    "\n",
    "data = data.drop(columns=['capacity_missing'])"
   ]
  },
  {
   "cell_type": "markdown",
   "id": "56f83498-f16b-406e-9144-5abe8f4cc66e",
   "metadata": {},
   "source": [
    "Rõ ràng thiếu do phụ thuộc vào dòng máy. Xử lý: Tương tự CPU. "
   ]
  },
  {
   "cell_type": "code",
   "execution_count": null,
   "id": "75d9bf2c",
   "metadata": {},
   "outputs": [],
   "source": [
    "data.loc[data['capacity'] == 'INOI 288S 4G', 'capacity'] = convert_to_gb('128 MB')\n",
    "data.loc[data['capacity'] == 'Itel it9211', 'capacity'] = convert_to_gb('16 MB')"
   ]
  },
  {
   "cell_type": "markdown",
   "id": "bf545223",
   "metadata": {},
   "source": [
    "Đối với các thông số kỹ thuật chung không thay đổi giữa các máy cùng dòng (operating_system, display_technology, screen_resolution, SIM, size, bluetooth) xử lý các dòng có tỉ lệ thiếu >0 và <100% bằng cách điền bằng giá trị đầu tiên của dòng có cùng tên. Nhận thấy việc điền thiếu các thông số này không quá cần thiết nên không thực hiện tra cứu để điền các dòng máy thiếu 100%."
   ]
  },
  {
   "cell_type": "code",
   "execution_count": null,
   "id": "94e85bf1",
   "metadata": {},
   "outputs": [],
   "source": [
    "#operating_system\n",
    "data['operating_system_missing'] = data['operating_system'].isna().astype('int')\n",
    "\n",
    "rate_operating_system_name = data.groupby('name')['operating_system_missing'].mean()\n",
    "\n",
    "# In ra các tên điện thoại có tỷ lệ thiếu 'operating_system' lớn hơn 0 và nhỏ hơn 1\n",
    "print(rate_operating_system_name[(rate_operating_system_name > 0) & (rate_operating_system_name < 1)])\n",
    "\n",
    "data = data.drop(columns=['operating_system_missing'])"
   ]
  },
  {
   "cell_type": "code",
   "execution_count": null,
   "id": "8b2fe3b8",
   "metadata": {},
   "outputs": [],
   "source": [
    "for name_value, group in data.groupby('name'):\n",
    "    total = len(group)\n",
    "    missing = group['operating_system'].isna().sum()\n",
    "    ratio = missing / total\n",
    "\n",
    "    if 0 < ratio < 1:\n",
    "        # Lấy giá trị operating_system đầu tiên không bị thiếu trong nhóm\n",
    "        os_value = group['operating_system'].dropna().iloc[0]\n",
    "        # Gán lại cho các dòng bị thiếu trong nhóm đó\n",
    "        data.loc[(data['name'] == name_value) & (data['operating_system'].isna()), 'operating_system'] = os_value"
   ]
  },
  {
   "cell_type": "code",
   "execution_count": null,
   "id": "affbb38c",
   "metadata": {},
   "outputs": [],
   "source": [
    "#display_technology\n",
    "data['display_technology_missing'] = data['display_technology'].isna().astype('int')\n",
    "rate_display_technology_name = data.groupby('name')['display_technology_missing'].mean()\n",
    "print(rate_display_technology_name[rate_display_technology_name > 0])\n",
    "data = data.drop(columns=['display_technology_missing'])"
   ]
  },
  {
   "cell_type": "markdown",
   "id": "51c87c2d",
   "metadata": {},
   "source": [
    "display_technology không có dòng máy nào có tỉ lệ thiếu >0 và <100% "
   ]
  },
  {
   "cell_type": "code",
   "execution_count": null,
   "id": "e5c0a142",
   "metadata": {},
   "outputs": [],
   "source": [
    "#screen_resolution\n",
    "data['screen_resolution_missing'] = data['screen_resolution'].isna().astype('int')\n",
    "rate_screen_resolution_name = data.groupby('name')['screen_resolution_missing'].mean()\n",
    "print(rate_screen_resolution_name[rate_screen_resolution_name > 0])\n",
    "data = data.drop(columns=['screen_resolution_missing'])"
   ]
  },
  {
   "cell_type": "markdown",
   "id": "43c05707",
   "metadata": {},
   "source": [
    "screen_resolution không có dòng máy nào có tỉ lệ thiếu >0 và <100% "
   ]
  },
  {
   "cell_type": "code",
   "execution_count": null,
   "id": "0357e15f",
   "metadata": {},
   "outputs": [],
   "source": [
    "#SIM\n",
    "data['SIM_missing'] = data['SIM'].isna().astype('int')\n",
    "rate_SIM_name = data.groupby('name')['SIM_missing'].mean()\n",
    "print(rate_SIM_name[rate_SIM_name > 0])\n",
    "data = data.drop(columns=['SIM_missing'])"
   ]
  },
  {
   "cell_type": "markdown",
   "id": "68d25232",
   "metadata": {},
   "source": [
    "SIM không có dòng máy nào có tỉ lệ thiếu >0 và <100% "
   ]
  },
  {
   "cell_type": "code",
   "execution_count": null,
   "id": "eeb7bd1b",
   "metadata": {},
   "outputs": [],
   "source": [
    "#size\n",
    "data['size_missing'] = data['size'].isna().astype('int')\n",
    "rate_size_name = data.groupby('name')['size_missing'].mean()\n",
    "print(rate_size_name[rate_size_name > 0])\n",
    "data = data.drop(columns=['size_missing'])"
   ]
  },
  {
   "cell_type": "markdown",
   "id": "2203dcf9",
   "metadata": {},
   "source": [
    "size không có dòng máy nào có tỉ lệ thiếu >0 và <100% "
   ]
  },
  {
   "cell_type": "code",
   "execution_count": null,
   "id": "b16000eb",
   "metadata": {},
   "outputs": [],
   "source": [
    "#bluetooth\n",
    "data['bluetooth_missing'] = data['bluetooth'].isna().astype('int')\n",
    "rate_bluetooth_name = data.groupby('name')['bluetooth_missing'].mean()\n",
    "print(rate_bluetooth_name[rate_bluetooth_name > 0])\n",
    "data = data.drop(columns=['bluetooth_missing'])"
   ]
  },
  {
   "cell_type": "markdown",
   "id": "659005bd",
   "metadata": {},
   "source": [
    "bluetooth không có dòng máy nào có tỉ lệ thiếu >0 và <100% "
   ]
  },
  {
   "cell_type": "code",
   "execution_count": null,
   "id": "ddbe8c8e",
   "metadata": {},
   "outputs": [],
   "source": [
    "data.isnull().sum()"
   ]
  },
  {
   "cell_type": "markdown",
   "id": "90048104-56a2-42c4-bb2e-5c9e478295f3",
   "metadata": {},
   "source": [
    "## Xử lý giá trị ngoại lai"
   ]
  },
  {
   "cell_type": "code",
   "execution_count": null,
   "id": "04bf2069-700d-49af-b059-a263a2d3f143",
   "metadata": {},
   "outputs": [],
   "source": [
    "# Kiểm tra khoảng giá toàn cục\n",
    "print(\"Khoảng giá toàn cục\")\n",
    "for k, v in price_range.items():\n",
    "    print(f\"{k:>5}: {int(v):,}\")"
   ]
  },
  {
   "cell_type": "code",
   "execution_count": null,
   "id": "f4c78efc-0f7a-412f-8e74-82e98b1884eb",
   "metadata": {},
   "outputs": [],
   "source": [
    "# Đếm số giá khác nhau trong từng dòng máy\n",
    "unique_prices_per_model = data.groupby('name')['price_new'].nunique().sort_values(ascending=False)\n",
    "print(\"\\nSố lượng giá khác nhau trong mỗi dòng máy:\")\n",
    "print(unique_prices_per_model)"
   ]
  },
  {
   "cell_type": "code",
   "execution_count": null,
   "id": "5cc2a26e-f6c9-4ddd-8b52-17f45b3cb842",
   "metadata": {
    "scrolled": true
   },
   "outputs": [],
   "source": [
    "# Đếm số mẫu mỗi dòng máy\n",
    "sample_count_per_model = data['name'].value_counts()\n",
    "print(\"\\nSố mẫu mỗi dòng máy:\")\n",
    "print(sample_count_per_model)"
   ]
  },
  {
   "cell_type": "markdown",
   "id": "63585f69-d209-4a52-9cf2-7da7363f459b",
   "metadata": {},
   "source": [
    "Giá và thông số khác biệt lớn giữa các dòng máy (từ vài trăm nghìn đến gần 50 triệu).\n",
    "Đa số dòng máy có giá giao động trong khoảng nhất định.\n",
    "Số lượng mẫu không đều giữa các dòng, xử lý toàn cục sẽ lệch kết quả.\n",
    "-> xử lý theo từng dòng máy (name)."
   ]
  },
  {
   "cell_type": "markdown",
   "id": "c0047467-687d-433c-ae63-c157b3748f07",
   "metadata": {},
   "source": []
  }
 ],
 "metadata": {
  "kernelspec": {
   "display_name": "base",
   "language": "python",
   "name": "python3"
  },
  "language_info": {
   "codemirror_mode": {
    "name": "ipython",
    "version": 3
   },
   "file_extension": ".py",
   "mimetype": "text/x-python",
   "name": "python",
   "nbconvert_exporter": "python",
   "pygments_lexer": "ipython3",
   "version": "3.12.3"
  }
 },
 "nbformat": 4,
 "nbformat_minor": 5
}
