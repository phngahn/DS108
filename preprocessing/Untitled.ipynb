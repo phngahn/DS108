{
 "cells": [
  {
   "cell_type": "code",
   "execution_count": 1,
   "id": "769deb30-7a19-4800-98a9-4e6b5479b0f4",
   "metadata": {},
   "outputs": [],
   "source": [
    "import pandas as pd\n",
    "import numpy as np\n",
    "import re\n",
    "import ast"
   ]
  },
  {
   "cell_type": "code",
   "execution_count": 23,
   "id": "b6d5e327-1722-4273-8ab6-de65669c04c1",
   "metadata": {},
   "outputs": [],
   "source": [
    "data = pd.read_csv('updated_data.csv', encoding='utf-8-sig')"
   ]
  },
  {
   "cell_type": "code",
   "execution_count": 24,
   "id": "59c6c19e-e086-42ab-b894-176e073a9080",
   "metadata": {},
   "outputs": [
    {
     "name": "stdout",
     "output_type": "stream",
     "text": [
      "(11872, 23)\n"
     ]
    }
   ],
   "source": [
    "# Kiểm tra số cột và dòng của dữ liệu\n",
    "print(data.shape)"
   ]
  },
  {
   "cell_type": "code",
   "execution_count": 25,
   "id": "7027511b-7bed-4c3c-a540-24e59ba5257a",
   "metadata": {},
   "outputs": [
    {
     "name": "stdout",
     "output_type": "stream",
     "text": [
      "Index(['name', 'brand', 'color', 'condition', 'price_old', 'price_new',\n",
      "       'image', 'warranty', 'CPU', 'RAM', 'capacity', 'time', 'battery',\n",
      "       'screen_size', 'operating_system', 'display_technology',\n",
      "       'screen_resolution', 'SIM', 'size', 'weight', 'bluetooth',\n",
      "       'refresh_rate', 'GPU'],\n",
      "      dtype='object')\n"
     ]
    }
   ],
   "source": [
    "# Kiểm tra tên các cột của dữ liệu\n",
    "print(data.columns)"
   ]
  },
  {
   "cell_type": "markdown",
   "id": "c5b2791d-7c42-4f45-8316-eaba29d2c4d7",
   "metadata": {},
   "source": [
    "# Chuyển đổi kiểu dữ liệu"
   ]
  },
  {
   "cell_type": "code",
   "execution_count": 26,
   "id": "e9395550-3247-4edc-99a7-a48b91c6f1a5",
   "metadata": {},
   "outputs": [
    {
     "name": "stdout",
     "output_type": "stream",
     "text": [
      "<class 'pandas.core.frame.DataFrame'>\n",
      "RangeIndex: 11872 entries, 0 to 11871\n",
      "Data columns (total 23 columns):\n",
      " #   Column              Non-Null Count  Dtype  \n",
      "---  ------              --------------  -----  \n",
      " 0   name                11872 non-null  object \n",
      " 1   brand               11572 non-null  object \n",
      " 2   color               11871 non-null  object \n",
      " 3   condition           11837 non-null  object \n",
      " 4   price_old           11872 non-null  object \n",
      " 5   price_new           11846 non-null  object \n",
      " 6   image               11872 non-null  object \n",
      " 7   warranty            11550 non-null  object \n",
      " 8   CPU                 11739 non-null  object \n",
      " 9   RAM                 11756 non-null  object \n",
      " 10  capacity            11852 non-null  object \n",
      " 11  time                11813 non-null  object \n",
      " 12  battery             11872 non-null  object \n",
      " 13  screen_size         11872 non-null  object \n",
      " 14  operating_system    10542 non-null  object \n",
      " 15  display_technology  11575 non-null  object \n",
      " 16  screen_resolution   11831 non-null  object \n",
      " 17  SIM                 11864 non-null  object \n",
      " 18  size                11854 non-null  object \n",
      " 19  weight              10940 non-null  float64\n",
      " 20  bluetooth           11618 non-null  object \n",
      " 21  refresh_rate        10121 non-null  object \n",
      " 22  GPU                 10158 non-null  object \n",
      "dtypes: float64(1), object(22)\n",
      "memory usage: 2.1+ MB\n"
     ]
    }
   ],
   "source": [
    "# Kiểu dữ liệu của thuộc tính\n",
    "data.info()"
   ]
  },
  {
   "cell_type": "code",
   "execution_count": 27,
   "id": "223a2fd8-0323-48ca-b57f-5f3263481a98",
   "metadata": {},
   "outputs": [],
   "source": [
    "# Chuyển đổi cột 'price_old' từ object sang numeric\n",
    "data['price_old'] = data['price_old'].astype(str)\n",
    "data['price_old'] = data['price_old'].str.replace('.', '', regex=False)\n",
    "data['price_old'] = data['price_old'].str.replace('₫', '', regex=False)\n",
    "data['price_old'] = data['price_old'].str.replace('đ', '', regex=False)\n",
    "data['price_old'] = pd.to_numeric(data['price_old'], errors='coerce')"
   ]
  },
  {
   "cell_type": "code",
   "execution_count": 28,
   "id": "9b0a5fa5-e349-457d-8e26-56eea7f1e029",
   "metadata": {},
   "outputs": [],
   "source": [
    "# Chuyển đổi cột 'price_new' từ object sang numeric\n",
    "data['price_new'] = data['price_new'].astype(str)\n",
    "data['price_new'] = data['price_new'].str.replace('.', '', regex=False)\n",
    "data['price_new'] = data['price_new'].str.replace('₫', '', regex=False)\n",
    "data['price_new'] = data['price_new'].str.replace('đ', '', regex=False)\n",
    "data['price_new'] = pd.to_numeric(data['price_new'], errors='coerce')\n"
   ]
  },
  {
   "cell_type": "markdown",
   "id": "1192c3ba",
   "metadata": {},
   "source": [
    "# Xử lí cột brand"
   ]
  },
  {
   "cell_type": "code",
   "execution_count": 29,
   "id": "ddf8d42b-1bc1-421e-991d-f75aa27940c1",
   "metadata": {},
   "outputs": [
    {
     "name": "stdout",
     "output_type": "stream",
     "text": [
      "['iPhone' 'OPPO' 'Samsung' 'Apple' 'vivo' 'realme' 'Xiaomi' 'Vivo' 'Điện'\n",
      " 'Nubia' 'Realme' 'Nothing' 'Tecno' 'Infinix' 'TECNO' 'ASUS' 'POCO' 'Itel'\n",
      " 'Oppo' 'Nokia' 'OnePlus' 'INOI' 'Meizu' 'Viettel' 'Masstel' 'Samsung.'\n",
      " 'HONOR.' 'Mobell.' 'Xiaomi.' 'iPhone (Apple).' 'OPPO.' 'Nokia.'\n",
      " 'Masstel.' 'realme.' 'vivo.' 'Itel.' nan]\n"
     ]
    }
   ],
   "source": [
    "print(data['brand'].unique())"
   ]
  },
  {
   "cell_type": "markdown",
   "id": "8f5c128c-ac58-4198-9f71-d059d4e03504",
   "metadata": {},
   "source": [
    "Cần thống nhất nội dung"
   ]
  },
  {
   "cell_type": "code",
   "execution_count": 30,
   "id": "aa15dc78-f2ec-43f8-ae77-887e186251ef",
   "metadata": {},
   "outputs": [],
   "source": [
    "# Xử lí cột 'brand'\n",
    "data['brand'] = data['name'].str.split(' ').str[0]\n",
    "data.loc[data['brand'] == 'iPhone', 'brand'] = 'iPhone (Apple)'"
   ]
  },
  {
   "cell_type": "markdown",
   "id": "6f1f0b20-2c83-4090-9cda-8eec394f70d2",
   "metadata": {},
   "source": [
    "# Xử lí cột color và image"
   ]
  },
  {
   "cell_type": "code",
   "execution_count": 31,
   "id": "80fbae96-775f-4767-8192-8e4e5210268a",
   "metadata": {
    "scrolled": true
   },
   "outputs": [
    {
     "name": "stdout",
     "output_type": "stream",
     "text": [
      "[\"['Bạc', 'Tím', 'Đen', 'Vàng']\"\n",
      " \"['Bạc', 'Xám', 'Xanh dương', 'Vàng', 'Xanh lá']\"\n",
      " \"['Hồng', 'Vàng', 'Đen']\" \"['Bạc', 'Đen', 'Vàng', 'Tím']\"\n",
      " \"['Tím', 'Đen', 'Vàng', 'Xám']\"\n",
      " \"['Xanh dương', 'Tím', 'Đen', 'Xám', 'Vàng', 'Xanh Lục', 'Cam']\"\n",
      " \"['Đen', 'Vàng', 'Tím', 'Bạc']\"\n",
      " \"['Xanh lá', 'Bạc', 'Xám', 'Vàng', 'Xanh dương']\"\n",
      " \"['Tím', 'Đen', 'Vàng', 'Bạc']\"\n",
      " \"['Bạc', 'Xanh lá', 'Xám', 'Vàng', 'Xanh']\"\n",
      " \"['Hồng', 'Đen', 'Xanh dương', 'Xanh lá', 'Vàng']\"\n",
      " \"['Xanh lá', 'Tím', 'Đen', 'Kem', 'Xanh', 'Đỏ', 'Xám']\" \"['Đen', 'Xanh']\"\n",
      " \"['Vàng', 'Đen']\" \"['Tím', 'Xám', 'Vàng', 'Đen']\"\n",
      " \"['Titan Xanh', 'Titan Trắng', 'Titan Tự nhiên', 'Titan Đen']\"\n",
      " \"['Titan Trắng', 'Titan Đen', 'Titan Xanh', 'Titan Tự Nhiên']\"\n",
      " \"['Đen', 'Xanh', 'Tím', 'Kem']\" \"['Xanh dương', 'Hồng']\"\n",
      " \"['Trắng', 'Xanh', 'Tím', 'Đỏ', 'Đen', 'Vàng']\"\n",
      " \"['Xám', 'Gold', 'Đỏ', 'Bạc']\"\n",
      " \"['Titan Trắng', 'Titan Tự Nhiên', 'Titan Xanh', 'Titan Đen']\"\n",
      " \"['Vàng', 'Bạc', 'Đen', 'Tím']\"\n",
      " \"['Titan Tự Nhiên', 'Titan Trắng', 'Titan Xanh', 'Titan Đen']\"\n",
      " \"['Xanh dương', 'Đỏ rượu vang', 'Đỏ', 'Xanh', 'Đen', 'Tím', 'Trắng', 'Xám']\"\n",
      " \"['Bạc', 'Gold', 'Xám']\" \"['Xám', 'Vàng', 'Xanh dương', 'Bạc']\"\n",
      " \"['Xanh lá', 'Hồng', 'Xanh dương', 'Đen', 'Vàng']\"\n",
      " \"['Xanh', 'Đen', 'Xanh dương', 'Kem']\"\n",
      " \"['Đen', 'Đỏ', 'Hồng', 'Bạc', 'Gold']\" \"['Xanh lá', 'Đen']\"\n",
      " \"['Đen', 'Trắng', 'Xanh dương', 'Đỏ', 'Vàng', 'Tím']\"\n",
      " \"['Gold', 'Bạc', 'Xám']\" \"['Trắng', 'Đỏ', 'Vàng', 'Tím', 'Xanh', 'Đen']\"\n",
      " \"['Đen', 'Titan Tự nhiên', 'Titan Trắng', 'Titan Vàng']\"\n",
      " \"['Vàng', 'Xanh dương', 'Xanh lá', 'Đen', 'Hồng']\"\n",
      " \"['Vàng', 'Đen', 'Tím']\"\n",
      " \"['Trắng', 'Vàng', 'Đen', 'Đỏ', 'Xanh dương', 'Tím']\"\n",
      " \"['Xanh lá', 'Trắng', 'Đen', 'Hồng', 'Xanh dương', 'Đỏ']\"\n",
      " \"['Xanh', 'Vàng', 'Đen']\" \"['Xanh dương', 'Xám', 'Bạc', 'Vàng']\"\n",
      " \"['Vàng', 'Đen', 'Tím', 'Bạc']\" \"['Vàng', 'Xám', 'Xanh', 'Bạc']\"\n",
      " \"['Xanh dương', 'Hồng', 'Đen', 'Vàng', 'Xanh lá']\"\n",
      " \"['Titan Đen', 'Titan Trắng', 'Titan Vàng', 'Titan Tự Nhiên']\"\n",
      " \"['Nâu đỏ', 'Trắng Xanh']\"\n",
      " \"['Titan Đen', 'Titan Vàng', 'Titan Tự Nhiên', 'Titan Trắng']\"\n",
      " \"['Xanh dương', 'Đen']\" \"['Tím', 'Đen', 'Xanh lá']\"\n",
      " \"['Titan Đen', 'Titan Trắng', 'Titan Tự Nhiên', 'Titan Xanh']\"\n",
      " \"['Hồng', 'Đỏ', 'Xanh dương', 'Xanh lá', 'Đen', 'Trắng']\"\n",
      " \"['Xanh dương', 'Xanh lá', 'Đen', 'Trắng']\"\n",
      " \"['Bạc', 'Vàng', 'Xám', 'Xanh']\" \"['Gold', 'Bạc', 'Đỏ', 'Xám']\"\n",
      " \"['Xám', 'Bạc']\" \"['Tím', 'Đen', 'Bạc', 'Vàng']\"\n",
      " \"['Titan Trắng', 'Titan Đen', 'Titan Tự Nhiên', 'Titan Xanh']\"\n",
      " \"['Bạc', 'Xám', 'Vàng', 'Xanh dương', 'Xanh lá']\"\n",
      " \"['Bạc', 'Xám', 'Vàng', 'Xanh']\" \"['Gold', 'Đen', 'Hồng', 'Bạc']\"\n",
      " \"['Gold', 'Bạc']\" \"['Vàng', 'Xanh', 'Bạc']\"\n",
      " \"['Xám', 'Xanh lá', 'Bạc', 'Vàng', 'Xanh dương']\"\n",
      " \"['Xám', 'Xanh dương', 'Xanh', 'Đen', 'Đỏ', 'Đỏ rượu vang', 'Tím', 'Trắng']\"\n",
      " \"['Xanh', 'Xám', 'Vàng', 'Bạc']\"\n",
      " \"['Titan Xanh', 'Titan Trắng', 'Titan Tự Nhiên', 'Đen']\"\n",
      " \"['Bạc', 'Vàng', 'Xám']\" \"['Tím', 'Đen']\"\n",
      " \"['Vàng', 'Bạc', 'Xanh dương', 'Xanh lá', 'Xám']\"\n",
      " \"['Trắng', 'Hồng', 'Đỏ', 'Xanh lá', 'Đen', 'Xanh dương']\"\n",
      " \"['Vàng', 'Xám', 'Đen', 'Xanh dương', 'Xanh Lục', 'Cam', 'Tím']\"\n",
      " \"['Tím', 'Vàng', 'Đen', 'Xám', 'Xanh dương', 'Xanh Lục']\"\n",
      " \"['Đen', 'Hồng', 'Xanh lá', 'Trắng', 'Đỏ', 'Xanh dương']\"\n",
      " \"['Tím', 'Trắng', 'Xanh lá', 'Đỏ', 'Xanh', 'Đen']\"\n",
      " \"['Vàng', 'Xám', 'Bạc']\"\n",
      " \"['Tím', 'Trắng', 'Xanh lá', 'Đen', 'Xanh dương', 'Đỏ']\"\n",
      " \"['Xanh', 'Đen']\" \"['Tím', 'Kem', 'Xanh', 'Đen']\" \"['Titan Vàng']\"\n",
      " \"['Đen', 'Trắng', 'Đỏ', 'Xanh dương', 'Xanh lá', 'Hồng']\"\n",
      " \"['Đỏ', 'Trắng', 'Đen']\"\n",
      " \"['Đỏ', 'Xanh dương', 'Tím', 'Đen', 'Vàng', 'Trắng']\"\n",
      " \"['Hồng', 'Xanh lá', 'Xanh dương', 'Vàng', 'Đen']\"\n",
      " \"['Trắng', 'Đen', 'Xanh lá', 'Xanh dương']\"\n",
      " \"['Hồng', 'Xanh dương', 'Vàng', 'Đen', 'Xanh lá']\"\n",
      " \"['Xanh nhạt', 'Tím nhạt', 'Đen']\" \"['Đen', 'Kem', 'Xanh']\"\n",
      " \"['Xám', 'Bạc', 'Vàng', 'Xanh dương']\" \"['Xám', 'Đen']\"\n",
      " \"['Kem', 'Đen', 'Tím', 'Xanh', 'Đỏ', 'Xám', 'Xanh dương nhạt']\"\n",
      " \"['Vàng', 'Xám', 'Đen']\" \"['Tím', 'Xanh lá', 'Trắng', 'Xám']\"\n",
      " \"['Xám', 'Tím', 'Trắng', 'Đen', 'Xanh Lục', 'Đỏ']\"\n",
      " \"['Trắng', 'Đen', 'Xanh lá', 'Xanh dương', 'Đỏ', 'Hồng']\"\n",
      " \"['Vàng', 'Bạc', 'Xám']\" \"['Xanh', 'Trắng', 'Xám', 'Đen']\"\n",
      " \"['Tím', 'Xanh', 'Đen', 'Trắng', 'Vàng', 'Xanh lá', 'Đỏ']\"\n",
      " \"['Hồng', 'Đen', 'Trắng', 'Xanh lá']\" \"['Gold', 'Đỏ', 'Xám', 'Bạc']\"\n",
      " \"['Xanh dương', 'Tím', 'Xám', 'Đen', 'Vàng', 'Cam', 'Xanh Lục']\"\n",
      " \"['Đen', 'Xanh dương', 'Xám']\"\n",
      " \"['Đen', 'Xanh dương', 'Đỏ', 'Xanh', 'Trắng', 'Tím']\"\n",
      " \"['Kem', 'Tím', 'Xám']\" \"['Đen']\"\n",
      " \"['Titan Trắng', 'Titan Vàng', 'Titan Đen', 'Titan Tự Nhiên']\"\n",
      " \"['Xanh', 'Xám', 'Bạc', 'Vàng']\" \"['Vàng', 'Xanh dương', 'Bạc', 'Xám']\"\n",
      " \"['Vàng', 'Bạc', 'Đen']\" \"['Xám', 'Xanh dương', 'Hồng', 'Trắng']\"\n",
      " \"['Vàng', 'Trắng', 'Xanh dương', 'Đen', 'Đỏ', 'Tím']\"\n",
      " \"['Đen', 'Xanh lá', 'Xanh dương', 'Xám']\"\n",
      " \"['Xanh dương', 'Trắng/bạc', 'Đen', 'Xám']\"\n",
      " \"['Trắng', 'Đen', 'Tím', 'Đỏ', 'Xanh dương']\" \"['Đen', 'Tím', 'Xanh']\"\n",
      " \"['Đen', 'Vàng', 'Tím']\"\n",
      " \"['Xanh dương', 'Đen', 'Đỏ', 'Tím', 'Trắng', 'Xanh lá']\"\n",
      " \"['Hồng', 'Bạc', 'Gold']\"\n",
      " \"['Trắng', 'Xanh lá', 'Vàng', 'Xanh dương', 'Xám', 'Đen']\"\n",
      " \"['Gold', 'Đen', 'Đen bóng', 'Đỏ', 'Bạc']\"\n",
      " \"['Trắng', 'Tím', 'Vàng', 'Xanh', 'Xanh lá', 'Đỏ', 'Đen']\"\n",
      " \"['Tím', 'Đen', 'Xanh']\"\n",
      " \"['Xanh lá', 'Xanh dương', 'Xám', 'Vàng', 'Bạc']\"\n",
      " \"['Đỏ mận', 'Trắng', 'Xanh', 'Đen', 'Đỏ', 'Xanh dương', 'Xám']\"\n",
      " \"['Xanh lá', 'Xanh', 'Vàng', 'Trắng', 'Đen', 'Tím', 'Đỏ']\"\n",
      " \"['Bạc', 'Vàng', 'Xám', 'Xanh dương']\" \"['Đen', 'Xanh dương', 'Tím']\"\n",
      " \"['Đỏ', 'Xanh dương', 'Trắng', 'Vàng', 'Tím', 'Đen']\"\n",
      " \"['Tím', 'Đỏ', 'Xanh lá', 'Trắng', 'Đen', 'Xanh dương']\"\n",
      " \"['Xanh lá', 'Đen', 'Xanh dương', 'Hồng', 'Vàng']\" \"['Xanh']\"\n",
      " \"['Bạc', 'Xanh', 'Đen']\" \"['Tím', 'Vàng', 'Đen', 'Bạc']\"\n",
      " \"['Tím nhạt', 'Đen', 'Xanh nhạt']\"\n",
      " \"['Titan Trắng', 'Titan Xanh', 'Titan Đen']\"\n",
      " \"['Vàng', 'Bạc', 'Xanh', 'Xám']\" \"['Xám', 'Xanh', 'Vàng', 'Bạc']\"\n",
      " \"['Vàng', 'Tím', 'Xám', 'Xanh']\" nan \"['Đen', 'Bạc']\" \"['Đen', 'Xám']\"\n",
      " \"['Cam', 'Xanh lá']\" \"['Đen', 'Xanh lá', 'Xanh dương']\"\n",
      " \"['Xanh lá', 'Trắng', 'Xanh dương', 'Đen', 'Hồng']\"\n",
      " \"['Xám', 'Gold', 'Bạc']\" \"['Xám', 'Xanh']\"\n",
      " \"['Hồng', 'Đỏ', 'Trắng', 'Xanh lá', 'Xanh dương']\"\n",
      " \"['Vàng', 'Trắng', 'Tím', 'Xanh', 'Đỏ', 'Đen']\"\n",
      " \"['Xanh lá', 'Xanh dương', 'Đen', 'Hồng']\"\n",
      " \"['Cam', 'Xanh dương', 'Vàng', 'Đen', 'Trắng', 'Đỏ']\"\n",
      " \"['Trắng', 'Tím', 'Xanh lá', 'Đen']\" \"['Trắng', 'Đen']\"\n",
      " \"['Đen', 'Trắng', 'Xanh lá', 'Hồng', 'Xanh dương', 'Đỏ']\"\n",
      " \"['Xám', 'Xanh dương', 'Xanh lá']\" \"['Hồng', 'Bạc']\"\n",
      " \"['Kem', 'Đen', 'Xanh dương', 'Ghi']\" \"['Nâu Đồng', 'Bạc', 'Cam']\"\n",
      " \"['Đen', 'Hồng', 'Vàng']\" \"['Xanh lá', 'Vàng', 'Xám', 'Đen']\"\n",
      " \"['Xanh dương', 'Xám', 'Xanh lá']\"\n",
      " \"['Xám', 'Đen', 'Xanh dương', 'Trắng/bạc']\" \"['Cam', 'Xanh']\"\n",
      " \"['Xám', 'Vàng', 'Bạc', 'Xanh']\"\n",
      " \"['Xanh dương', 'Xám bạc', 'Xanh navy', 'Xanh lá']\" \"['Xanh lá', 'Xám']\"\n",
      " \"['Đen', 'Trắng', 'Tím']\"\n",
      " \"['Titan Xanh', 'Titan Tự Nhiên', 'Titan Đen', 'Titan Trắng']\"\n",
      " \"['Trắng', 'Hồng', 'Đen']\" \"['Tím', 'Đen', 'Xanh dương']\"\n",
      " \"['Xám', 'Xanh lá', 'Vàng', 'Xanh dương', 'Bạc']\" \"['Đen', 'Xanh lá']\"\n",
      " \"['Titan Đen', 'Titan Vàng']\" \"['Xanh', 'Đen', 'Hồng']\"\n",
      " \"['Xám', 'Vàng', 'Đen']\" \"['Xanh Đen', 'Xanh', 'Tím']\"\n",
      " \"['Xanh', 'Cam', 'Trắng', 'Đen']\"\n",
      " \"['Đen', 'Trắng', 'Xanh', 'Tím', 'Hồng']\" \"['Vàng', 'Đen', 'Bạc']\"\n",
      " \"['Tím', 'Đen', 'Vàng']\" \"['Xanh dương', 'Vàng']\" \"['Nâu Đồng', 'Bạc']\"\n",
      " \"['Xanh dương', 'Kem', 'Đen']\" \"['Đen', 'Xanh', 'Xám']\"\n",
      " \"['Đen', 'Đồng', 'Trắng']\" \"['Tím', 'Xám', 'Trắng', 'Xanh lá']\"\n",
      " \"['Xám', 'Tím']\" \"['Vàng', 'Xanh lá', 'Đen']\"\n",
      " \"['Xanh lá', 'Xanh dương', 'Đen', 'Trắng']\"\n",
      " \"['Đen', 'Cam', 'Tím', 'Vàng', 'Xám', 'Xanh dương', 'Xanh Lục']\"\n",
      " \"['Titan Tự Nhiên', 'Titan Đen', 'Titan Xanh', 'Titan Trắng']\"\n",
      " \"['Đen', 'Bạc', 'Đỏ']\" \"['Tím', 'Kem', 'Xanh', 'Đen', 'Hồng']\"\n",
      " \"['Xám', 'Xanh lá', 'Xanh dương', 'Vàng']\"\n",
      " \"['Đen', 'Xanh nhạt', 'Tím nhạt']\" \"['Đen', 'Vàng', 'Xanh']\"\n",
      " \"['Đen', 'Xanh lá', 'Xanh dương', 'Đỏ', 'Trắng', 'Tím']\"\n",
      " \"['Xanh lá', 'Đen', 'Vàng', 'Xám', 'Xanh dương']\"\n",
      " \"['Xanh bạc hà', 'Xám', 'Vàng']\" \"['Tím']\"\n",
      " \"['Bạc', 'Đen', 'Kem', 'Xanh dương']\"\n",
      " \"['Đen', 'Đỏ', 'Xanh dương', 'Trắng', 'Tím', 'Xanh lá']\"\n",
      " \"['Trắng', 'Hồng', 'Xanh dương', 'Xám']\" \"['Xanh', 'Đen', 'Vàng', 'Tím']\"\n",
      " \"['Bạc', 'Đen', 'Vàng']\" \"['Đen', 'Tím', 'Xanh', 'Xám', 'Đỏ', 'Kem']\"\n",
      " \"['Titan Đen', 'Titan Trắng', 'Titan Tự Nhiên', 'Titan Vàng']\"\n",
      " \"['Bạc', 'Đen']\" \"['Vàng', 'Xanh', 'Đen', 'Đỏ']\"\n",
      " \"['Trắng', 'Đen', 'Xanh']\" \"['Đen', 'Cam', 'Xanh']\"\n",
      " \"['Đỏ', 'Trắng', 'Xanh', 'Cam', 'Vàng', 'Đen']\"\n",
      " \"['Xanh', 'Đen', 'Trắng']\"\n",
      " \"['Titan trắng', 'Titan Xanh', 'Titan Tự nhiên', 'Titan Đen']\"\n",
      " \"['Cam', 'Xám', 'Xanh dương', 'Tím']\"\n",
      " \"['Đen', 'Hồng', 'Trắng', 'Xanh', 'Vàng']\" \"['Đen', 'Đỏ', 'Trắng']\"\n",
      " \"['Đỏ', 'Vàng', 'Xanh', 'Trắng', 'Đen', 'Cam']\" \"['Trắng']\"\n",
      " \"['Trắng', 'Xanh lá']\" \"['Kem', 'Đen', 'Xanh', 'Đỏ']\"\n",
      " \"['Đen', 'Xanh dương', 'Kem']\" \"['Trắng', 'Xanh lá', 'Xám', 'Tím']\"\n",
      " \"['Xanh lá', 'Bạc', 'Xám', 'Xanh dương', 'Vàng']\"\n",
      " \"['Xám', 'Đen', 'Vàng', 'Tím']\" \"['Bạc', 'Vàng', 'Đen', 'Tím']\"\n",
      " \"['Bạc', 'Xám', 'Xanh lá', 'Xanh dương', 'Vàng']\"\n",
      " \"['Trắng', 'Xanh dương', 'Đen', 'Xanh lá', 'Đỏ', 'Hồng']\"\n",
      " \"['Đen', 'Vàng']\" \"['Vàng', 'Tím', 'Đen']\"\n",
      " \"['Bạc', 'Xanh dương', 'Vàng', 'Xám', 'Xanh lá']\"\n",
      " \"['Vàng', 'Xám', 'Xanh dương', 'Bạc', 'Xanh lá']\"\n",
      " \"['Xanh nhạt', 'Đen', 'Vàng']\" \"['Xanh dương', 'Xanh lá']\"\n",
      " \"['Xanh dương', 'Xanh lá', 'Đen']\" \"['Xanh navy', 'Xám', 'Xanh lá']\"\n",
      " \"['Đen', 'Trắng']\"\n",
      " \"['Xanh lá', 'Đen', 'Trắng', 'Xanh dương', 'Đỏ', 'Tím']\"\n",
      " \"['Đen', 'Xanh Đen', 'Xám', 'Bạc']\" \"['Đồng', 'Đỏ', 'Xám', 'Xanh lá']\"\n",
      " \"['Đen', 'Xanh', 'Cam', 'Trắng']\" \"['Đen', 'Xanh', 'Vàng']\"\n",
      " \"['Xanh', 'Đen', 'Bạc']\" \"['Đen', 'Tím', 'Bạc', 'Vàng']\"\n",
      " \"['Titan Đen', 'Titan Trắng', 'Titan Xanh', 'Titan Tự Nhiên']\"\n",
      " \"['Tím', 'Vàng']\" \"['Tím', 'Xám', 'Xanh dương']\"\n",
      " \"['Đen', 'Xanh dương nhạt', 'Xanh lá']\"\n",
      " \"['Tím', 'Xanh', 'Đen', 'Đỏ', 'Trắng', 'Xanh lá']\" \"['Đỏ', 'Trắng']\"\n",
      " \"['Đen', 'Xanh lá', 'Tím']\" \"['Xám', 'Xanh', 'Đen', 'Trắng']\"\n",
      " \"['Xanh lá', 'Tím', 'Đen']\" \"['Đen', 'Đỏ', 'Xanh', 'Trắng']\"\n",
      " \"['Tím', 'Đen', 'Xanh', 'Hồng', 'Trắng']\" \"['Titan Xanh', 'Đen']\"\n",
      " \"['Xanh', 'Vàng']\" \"['Đen', 'Hồng', 'Xanh lá']\"\n",
      " \"['Vàng', 'Xám', 'Đen', 'Tím']\" \"['Vàng', 'Xám', 'Tím', 'Xanh dương']\"\n",
      " \"['Xanh Đen', 'Tím']\"\n",
      " \"['Titan Trắng', 'Titan Xanh', 'Titan Tự nhiên', 'Titan Đen']\"\n",
      " \"['Đen', 'Xanh', 'Bạc']\" \"['Bạc', 'Xanh', 'Vàng', 'Xám']\"\n",
      " \"['Xanh dương', 'Đen', 'Bạc']\" \"['Đen', 'Xanh dương', 'Bạc']\"\n",
      " \"['Đỏ', 'Trắng', 'Đen', 'Xanh', 'Xám', 'Cam']\" \"['Đen', 'Vàng', 'Hồng']\"\n",
      " \"['Tím', 'Đen', 'Đỏ', 'Vàng Hồng', 'Bạc']\" \"['Vàng', 'Xanh']\"\n",
      " \"['Bạc', 'Xanh dương', 'Xám', 'Vàng']\" \"['Xanh', 'Vàng', 'Tím', 'Xám']\"\n",
      " \"['Đỏ', 'Trắng', 'Xanh dương', 'Tím', 'Đen']\"\n",
      " \"['Titan Trắng', 'Titan Xanh', 'Titan Đen', 'Titan Tự Nhiên']\"\n",
      " \"['Tím', 'Xám', 'Xanh lá', 'Trắng']\"\n",
      " \"['Đỏ', 'Đen', 'Trắng', 'Xanh lá', 'Tím', 'Xanh dương']\"\n",
      " \"['Titan Đen', 'Titan Trắng', 'Titan Xanh', 'Titan Tự nhiên']\"\n",
      " \"['Kem', 'Xanh dương', 'Đen', 'Đen/Đỏ']\" \"['Tím', 'Xám']\"\n",
      " \"['Trắng', 'Hồng', 'Xanh lá', 'Xanh dương', 'Đen']\"\n",
      " \"['Đen', 'Tím', 'Trắng', 'Xanh dương']\"\n",
      " \"['Trắng', 'Tím', 'Xanh lá', 'Xám']\" \"['Xanh dương']\"\n",
      " \"['Trắng', 'Đen', 'Vàng Đồng']\" \"['Xanh đậm', 'Bạc', 'Xanh nhạt']\"\n",
      " \"['Xanh dương', 'Đen', 'Hồng']\" \"['Titan Tự Nhiên', 'Titan Vàng']\"\n",
      " \"['Xanh dương', 'Xanh lá', 'Xám', 'Bạc', 'Vàng']\"\n",
      " \"['Đỏ', 'Kem', 'Xanh dương', 'Tím', 'Đen', 'Xanh', 'Xám than']\"\n",
      " \"['Xanh', 'Đen', 'Đỏ', 'Trắng']\" \"['Xanh nhạt', 'Xám nhạt']\"\n",
      " \"['Đen', 'Hồng', 'Xanh']\" \"['Bạc']\"\n",
      " \"['Đen', 'Hồng', 'Xanh', 'Vàng', 'Tím']\" \"['Vàng', 'Tím', 'Xanh Đen']\"\n",
      " \"['Tím', 'Xanh', 'Trắng', 'Đen', 'Hồng']\"\n",
      " \"['Đỏ', 'Đen', 'Xanh', 'Tím', 'Vàng', 'Trắng']\" \"['Đen', 'Tím']\"\n",
      " \"['Hồng', 'Đen']\" \"['Xanh dương', 'Xám']\"\n",
      " \"['Tím', 'Đen', 'Xanh dương', 'Trắng']\" \"['Trắng/bạc']\"\n",
      " \"['Xám', 'Bạc', 'Xanh', 'Vàng']\"\n",
      " \"['Đen', 'Xanh', 'Vàng', 'Trắng', 'Hồng']\"\n",
      " \"['Xanh', 'Đen', 'Trắng', 'Cam']\" \"['Tím', 'Đen', 'Xanh', 'Kem']\"\n",
      " \"['Xanh', 'Bạc', 'Đen']\" \"['Tím', 'Xanh Đen', 'Vàng']\"\n",
      " \"['Kem', 'Xanh', 'Đen', 'Tím']\" \"['Vàng Đồng', 'Xanh lá', 'Xám']\"\n",
      " \"['Xanh dương', 'Tím', 'Trắng', 'Xám', 'Xanh lá']\"\n",
      " \"['Đen', 'Xám', 'Xanh']\" \"['Bạc', 'Đen', 'Đỏ']\" \"['Xanh lá', 'Trắng']\"\n",
      " \"['Tím', 'Đen', 'Xám']\" \"['Đen', 'Xanh', 'Trắng', 'Đỏ']\"\n",
      " \"['Xanh dương', 'Vàng', 'Hồng']\" \"['Trắng', 'Đen', 'Nâu']\"\n",
      " \"['Xanh lá', 'Xám', 'Xanh dương', 'Vàng', 'Hồng đào']\"\n",
      " \"['Vàng', 'Đen', 'Hồng']\" \"['Xanh dương', 'Vàng', 'Xám']\"\n",
      " \"['Xanh', 'Xám']\" \"['Xanh dương', 'Tím', 'Xám']\"\n",
      " \"['Tím', 'Xanh dương', 'Đỏ']\"\n",
      " \"['Cam', 'Đen', 'Xanh dương', 'Xám', 'Tím', 'Vàng']\" \"['Xám']\"\n",
      " \"['Xanh', 'Tím', 'Trắng', 'Đen']\" \"['Trắng', 'Đen', 'Vàng Hồng']\"\n",
      " \"['Trắng', 'Tím']\" \"['Đen', 'Trắng', 'Hồng', 'Xanh dương']\"\n",
      " \"['Vàng', 'Xám', 'Tím', 'Trắng', 'Xanh']\"\n",
      " \"['Titan Xanh', 'Titan Tự Nhiên', 'Titan Trắng']\"\n",
      " \"['Đen', 'Vàng', 'Xám']\" \"['Xanh', 'Cam', 'Đen', 'Tím', 'Vàng', 'Xám']\"\n",
      " \"['Xám', 'Trắng', 'Xanh']\" \"['Đỏ', 'Xanh dương', 'Tím', 'Xanh']\"\n",
      " \"['Xanh', 'Đen', 'Xám']\"\n",
      " \"['Xanh lá', 'Xám', 'Vàng', 'Cam', 'Xanh dương']\"\n",
      " \"['Vàng', 'Trắng', 'Đen']\" \"['Kem', 'Đen', 'Trắng']\"\n",
      " \"['Xanh dương', 'Hồng', 'Xám', 'Trắng']\"\n",
      " \"['Vàng', 'Trắng', 'Xanh', 'Đen', 'Tím']\"\n",
      " \"['Hồng', 'Trắng', 'Xanh', 'Đen']\" \"['Bạc', 'Tím']\"\n",
      " \"['Xanh', 'Đen', 'Vàng']\" \"['Xanh dương', 'Trắng', 'Hồng', 'Đen', 'Xám']\"\n",
      " \"['Xám', 'Xanh dương']\" \"['Đen', 'Hồng']\"\n",
      " \"['Xám', 'Vàng', 'Bạc', 'Xanh dương', 'Xanh lá']\" \"['Xanh lá', 'Cam']\"\n",
      " \"['Xám bạc']\" \"['Xanh dương', 'Xám', 'Xanh dương nhạt']\"\n",
      " \"['Xanh lá', 'Đen', 'Vàng']\" \"['Ghi']\"\n",
      " \"['Xanh', 'Bespoke Trắng', 'Trắng']\" \"['Kem', 'Đen', 'Ghi']\"\n",
      " \"['Xám', 'Xanh dương', 'Trắng']\" \"['Hồng']\" \"['Đen', 'Xanh', 'Kem']\"\n",
      " \"['Xám', 'Vàng', 'Tím', 'Xanh']\"\n",
      " \"['Titan Xanh', 'Titan Trắng', 'Titan Tự Nhiên']\"\n",
      " \"['Tím', 'Đỏ', 'Trắng', 'Đen', 'Vàng', 'Xanh']\"\n",
      " \"['Xanh lá', 'Đen', 'Xanh dương']\" \"['Đỏ', 'Xanh', 'Đen', 'Trắng']\"\n",
      " \"['Trắng', 'Nâu']\" \"['Đen', 'Hồng', 'Trắng', 'Xanh']\"\n",
      " \"['Đen', 'Xanh', 'Trắng', 'Hồng']\" \"['Xanh lá', 'Xám', 'Xanh dương']\"\n",
      " \"['Bạc', 'Hồng', 'Nâu Đồng']\" \"['Hồng', 'Xanh dương', 'Xám']\"\n",
      " \"['Xanh', 'Xám', 'Đen', 'Kem', 'Tím']\" \"['Xanh dương', 'Cam', 'Đen']\"\n",
      " \"['Đen', 'Trắng', 'Nâu']\" \"['Xanh dương nhạt', 'Xanh dương đậm', 'Xám']\"\n",
      " \"['Đen', 'Trắng', 'Vàng', 'Tím', 'Đỏ', 'Xanh']\"\n",
      " \"['Xanh', 'Trắng', 'Xám', 'Đen', 'Hồng', 'Tím', 'Vàng']\"\n",
      " \"['Xám', 'Xanh lá', 'Xanh dương', 'Đen']\" \"['Đen', 'Nâu', 'Trắng']\"\n",
      " \"['Xám', 'Xanh lá', 'Vàng']\" \"['Đen', 'Tím', 'Trắng']\"\n",
      " \"['Xanh lá', 'Tím', 'Xám', 'Trắng']\" \"['Xám', 'Xanh', 'Tím']\"\n",
      " \"['Xanh', 'Trắng']\" \"['Xanh nhạt', 'Đen']\" \"['Vàng']\"\n",
      " \"['Xanh lá', 'Trắng', 'Tím', 'Xám']\" \"['Xanh dương', 'Trắng', 'Xám']\"\n",
      " \"['Xanh dương', 'Hồng', 'Xám']\" \"['Xanh dương', 'Đỏ', 'Bespoke Trắng']\"\n",
      " \"['Xanh', 'Hồng', 'Đen', 'Trắng']\" \"['Đen', 'Xanh dương']\" \"['Đỏ']\"\n",
      " \"['Đen', 'Vàng Đồng']\" \"['Tím', 'Xanh', 'Xám']\"\n",
      " \"['Đen', 'Xanh lá', 'Xanh dương', 'Vàng']\" \"['Trắng', 'Xanh', 'Đen']\"\n",
      " \"['Kem', 'Xanh', 'Đen']\" \"['Vàng', 'Đen', 'Xám']\"\n",
      " \"['Xanh', 'Tím', 'Đen', 'Xanh dương nhạt', 'Xám']\"\n",
      " \"['Bạc', 'Đen', 'Xanh']\" \"['Xanh', 'Cam']\" \"['Kem', 'Đen', 'Xanh dương']\"\n",
      " \"['Xanh lá', 'Bạc', 'Xám', 'Vàng']\" \"['Xanh', 'Đen', 'Kem']\"\n",
      " \"['Ghi', 'Kem', 'Xanh dương']\" \"['Đen', 'Đỏ', 'Trắng', 'Xanh']\"\n",
      " \"['Titan Tự Nhiên']\" \"['Kem', 'Ghi']\" \"['Bạc', 'Nâu Đồng']\"\n",
      " \"['Xanh dương', 'Xám', 'Đen']\"\n",
      " \"['Trắng', 'Đỏ', 'Tím', 'Đen', 'Vàng', 'Xanh dương']\"\n",
      " \"['Xanh dương', 'Đen', 'Trắng', 'Bạc']\"\n",
      " \"['Xanh dương nhạt', 'Đen', 'Xanh lá']\"\n",
      " \"['Xanh', 'Tím', 'Hồng', 'Đen', 'Kem']\" \"['Đen', 'Tím', 'Xanh lá']\"\n",
      " \"['Xanh dương', 'Xám', 'Vàng']\" \"['Đen', 'Xanh dương nhạt']\"\n",
      " \"['Tím', 'Đen', 'Trắng']\" \"['Tím', 'Vàng', 'Bạc', 'Đen']\"\n",
      " \"['Bạc', 'Xanh dương nhạt', 'Xanh dương đậm']\"\n",
      " \"['Đen', 'Xanh', 'Tím', 'Trắng']\" \"['Xanh', 'Trắng', 'Cam', 'Đen']\"\n",
      " \"['Đen', 'Nâu', 'Xanh Đen', 'Bạc']\" \"['Đen', 'Xanh', 'Trắng']\"\n",
      " \"['Vàng', 'Tím']\" 'Màu: Xanh mint' 'Màu: Xanh Bạc Hà' 'Màu: Xanh Dương'\n",
      " 'Màu: Xám' 'Màu: Đen' 'Màu: Xanh' 'Màu: Đỏ' 'Màu: Tím' 'Màu: Vàng'\n",
      " 'Màu: Xanh Lá Mạ' 'Màu: Kem' 'Màu: Xanh lá' 'Màu: Xanh rêu'\n",
      " 'Màu: Xanh lá nhạt' 'Màu: Bạc' 'Màu: Xanh dương đậm'\n",
      " 'Màu: Xanh dương nhạt' 'Màu: Hồng' 'Màu: Xanh Navy' 'Màu: Xanh Đậm'\n",
      " 'Màu: Xanh nhạt' 'Màu: Trắng' 'Màu: Hồng nhạt' 'Màu: Vàng nhạt'\n",
      " 'Màu: Nâu' 'Màu: Xanh ngọc' 'Màu: Titan tự nhiên' 'Màu: Titan đen'\n",
      " 'Màu: Titan trắng' 'Màu: Titan xanh' 'Màu: Tím nhạt' 'Màu: Đen - Đỏ'\n",
      " 'Màu: Xanh Lưu Ly' 'Màu: Xanh Mòng Két' 'Màu: Trắng - Xanh'\n",
      " 'Màu: Xanh đen' 'Màu: Cam' 'Màu: Xanh da trời' 'Màu: Vàng đồng'\n",
      " 'Màu: Titan Sa Mạc' 'Màu: Đỏ đô' 'Màu: Đen - Tím' 'Màu: Xanh Lam Nhạt'\n",
      " 'Màu: Xanh Nước Biển' 'Màu: Trắng - Bạc' 'Màu: Trắng - Vàng']\n"
     ]
    }
   ],
   "source": [
    "print(data['color'].unique())"
   ]
  },
  {
   "cell_type": "code",
   "execution_count": 32,
   "id": "f908f7f5-886c-4571-8b31-ad8e265242b3",
   "metadata": {},
   "outputs": [
    {
     "name": "stdout",
     "output_type": "stream",
     "text": [
      "[\"['https://cellphones.com.vn/iphone-14-pro-max-cu-tray-xuoc.html?product_id=64176', 'https://cellphones.com.vn/iphone-14-pro-max-cu-tray-xuoc.html?product_id=61437', 'https://cellphones.com.vn/iphone-14-pro-max-cu-tray-xuoc.html?product_id=60045', 'https://cellphones.com.vn/iphone-14-pro-max-cu-tray-xuoc.html?product_id=57572']\"\n",
      " \"['https://cellphones.com.vn/iphone-13-pro-max-128gb-cu-tray-xuoc.html?product_id=55443', 'https://cellphones.com.vn/iphone-13-pro-max-128gb-cu-tray-xuoc.html?product_id=51283', 'https://cellphones.com.vn/iphone-13-pro-max-128gb-cu-tray-xuoc.html?product_id=48422', 'https://cellphones.com.vn/iphone-13-pro-max-128gb-cu-tray-xuoc.html?product_id=47724', 'https://cellphones.com.vn/iphone-13-pro-max-128gb-cu-tray-xuoc.html?product_id=48951']\"\n",
      " \"['https://cellphones.com.vn/oppo-find-n3-flip-12gb-256gb-cu-dep.html?product_id=83124', 'https://cellphones.com.vn/oppo-find-n3-flip-12gb-256gb-cu-dep.html?product_id=76930', 'https://cellphones.com.vn/oppo-find-n3-flip-12gb-256gb-cu-dep.html?product_id=73795']\"\n",
      " ...\n",
      " 'https://cdnv2.tgdd.vn/posimageused//posused/2025/05/12/0_46363863_samsunggalaxya23a2365g4g128gxanh_1747028783146.jpg'\n",
      " 'https://cdnv2.tgdd.vn/posimageused//posused/2025/05/13/0_46365928_samsunggalaxya06a065f4g128gbxanhla_1747101369978.jpg'\n",
      " 'https://cdnv2.tgdd.vn/posimageused//posused/2025/03/15/0_41011931_nokiac31332gxanhla_1742029529306.jpg']\n"
     ]
    }
   ],
   "source": [
    "print(data['image'].unique())"
   ]
  },
  {
   "cell_type": "markdown",
   "id": "4d6cab09-25e3-452f-949e-34daca1c5eb5",
   "metadata": {},
   "source": [
    "Với dữ liệu lấy từ cellphones thì color và image là một list gốm nhiều màu và ảnh khác nhau -> Xử lí cột 'color' và 'image' bằng cách: với mỗi màu trong 1 mẫu điện thoại tạo một dòng dữ liệu mới kèm với hình ảnh tương ứng.  \n",
    "Với dữ liệu lấy từ thế giới di động, loại bỏ chuỗi \"Màu: \""
   ]
  },
  {
   "cell_type": "code",
   "execution_count": 33,
   "id": "1e87b0ef-760f-42ab-987f-756f7b721638",
   "metadata": {},
   "outputs": [],
   "source": [
    "# Loại bỏ chuỗi \"Màu: \" trong cột 'color'\n",
    "data['color'] = data['color'].str.replace('Màu: ', '', regex=False)"
   ]
  },
  {
   "cell_type": "code",
   "execution_count": 34,
   "id": "dddc59b5-6ff2-4658-867e-edfd14722150",
   "metadata": {},
   "outputs": [],
   "source": [
    "# Xử lý cột 'color' và 'image': với mỗi màu trong 1 mẫu điện thoại tạo một dòng dữ liệu mới kèm với hình ảnh tương ứng\n",
    "\n",
    "# Khởi tạo các cột mới để lưu các list đã parse\n",
    "data['parsed_color_list'] = [[] for _ in range(len(data))]\n",
    "data['parsed_image_list'] = [[] for _ in range(len(data))]\n",
    "\n",
    "\n",
    "for index, row in data.iterrows():\n",
    "    # Xử lý cột 'color'\n",
    "    color_str = str(row['color']).strip()\n",
    "    \n",
    "    if color_str.lower() in ['', 'nan', 'none']:\n",
    "        parsed_colors = []\n",
    "    elif color_str.startswith('[') and color_str.endswith(']'):\n",
    "        parsed_list = ast.literal_eval(color_str)\n",
    "        if isinstance(parsed_list, list):\n",
    "            cleaned_colors = [str(c).strip() for c in parsed_list if str(c).strip() != '']\n",
    "            parsed_colors = cleaned_colors\n",
    "        else:\n",
    "            parsed_colors = []\n",
    "    else:\n",
    "        parsed_colors = [c.strip() for c in color_str.split(',') if c.strip() != '']\n",
    "    data.at[index, 'parsed_color_list'] = parsed_colors\n",
    "\n",
    "    # Xử lý cột 'image'\n",
    "    img_url_str = str(row['image']).strip()\n",
    "\n",
    "    if img_url_str.lower() in ['', 'nan', 'none']:\n",
    "        parsed_images = []\n",
    "    elif img_url_str.startswith('[') and img_url_str.endswith(']'):\n",
    "        parsed_list = ast.literal_eval(img_url_str)\n",
    "        if isinstance(parsed_list, list):\n",
    "            cleaned_urls = [str(u).strip() for u in parsed_list if str(u).strip() != '']\n",
    "            parsed_images = cleaned_urls\n",
    "        else:\n",
    "            parsed_images = []\n",
    "    else:\n",
    "        urls = [u.strip() for u in img_url_str.split(',') if u.strip() != '']\n",
    "        parsed_images = urls\n",
    "    data.at[index, 'parsed_image_list'] = parsed_images\n",
    "\n",
    "# Tạo một cột tạm thời chứa các list of tuples\n",
    "data['color_image_list_of_tuples'] = [[] for _ in range(len(data))]\n",
    "\n",
    "for index, row in data.iterrows():\n",
    "    colors = row['parsed_color_list']\n",
    "    images = row['parsed_image_list']\n",
    "    \n",
    "    len_colors = len(colors)\n",
    "    len_images = len(images)\n",
    "\n",
    "    if len_colors == 0 and len_images == 0:\n",
    "        data.at[index, 'color_image_list_of_tuples'] = [(np.nan, np.nan)]\n",
    "    # Nếu chỉ có màu, điền NaN cho ảnh\n",
    "    elif len_colors > 0 and len_images == 0:\n",
    "        data.at[index, 'color_image_list_of_tuples'] = [(color, np.nan) for color in colors]\n",
    "    # Nếu chỉ có ảnh, điền NaN cho màu\n",
    "    elif len_images > 0 and len_colors == 0:\n",
    "        data.at[index, 'color_image_list_of_tuples'] = [(np.nan, image) for image in images]\n",
    "    # Độ dài không khớp:\n",
    "    else:\n",
    "        max_len = max(len_colors, len_images)\n",
    "        temp_tuples = []\n",
    "        for i in range(max_len):\n",
    "            color_val = colors[i] if i < len_colors else np.nan\n",
    "            image_val = images[i] if i < len_images else np.nan\n",
    "            temp_tuples.append((color_val, image_val))\n",
    "        data.at[index, 'color_image_list_of_tuples'] = temp_tuples\n",
    "\n",
    "# Explode cột chứa list các tuple\n",
    "data_exploded = data.explode('color_image_list_of_tuples')\n",
    "\n",
    "# Loại bỏ các cột không cần thiết\n",
    "data_exploded = data_exploded.drop(columns=[\n",
    "    'image',\n",
    "    'color',\n",
    "    'parsed_color_list',\n",
    "    'parsed_image_list',\n",
    "], errors='ignore')\n",
    "\n",
    "# Tạo các cột 'color' và 'image' mới từ cột tuple đã explode\n",
    "data_exploded['color'] = data_exploded['color_image_list_of_tuples'].apply(lambda x: x[0])\n",
    "data_exploded['image'] = data_exploded['color_image_list_of_tuples'].apply(lambda x: x[1])\n",
    "data_exploded = data_exploded.drop(columns='color_image_list_of_tuples')\n",
    "data = data_exploded.copy()"
   ]
  },
  {
   "cell_type": "markdown",
   "id": "92102b31-228d-49d1-8ebe-4bfe23adc511",
   "metadata": {},
   "source": [
    "# Xử lí cột condition"
   ]
  },
  {
   "cell_type": "code",
   "execution_count": 35,
   "id": "2e3dd9c3-5638-4bf1-82d4-96273a2f8a0a",
   "metadata": {},
   "outputs": [
    {
     "name": "stdout",
     "output_type": "stream",
     "text": [
      "['Cũ Trầy Xước' 'Cũ trầy xước' 'Cũ Đẹp' 'Cũ Xước Cấn' 'Cũ đẹp'\n",
      " 'Hàng trưng bày' nan '256GB)' 'Đã Kích Hoạt' 'Đã kích hoạt'\n",
      " 'Chính hãng (VN/A) Đã kích hoạt' 'Cũ xước cấn' 'đã kích hoạt'\n",
      " 'Cũ Trầy xước' 'Đã kích hoạt bảo hành VN/A' '128GB)' '512GB)'\n",
      " 'Có trầy xước']\n"
     ]
    }
   ],
   "source": [
    "print(data['condition'].unique())"
   ]
  },
  {
   "cell_type": "markdown",
   "id": "29ad78f7-25ca-4320-8e7a-137255068b07",
   "metadata": {},
   "source": [
    "Cần thống nhất nội dung trong thuộc tính"
   ]
  },
  {
   "cell_type": "code",
   "execution_count": 36,
   "id": "5919c7ee-695c-42e0-8992-6d6413c56e7e",
   "metadata": {},
   "outputs": [],
   "source": [
    "condition_normalization_map = {\n",
    "    'cũ trầy xước': 'Cũ trầy xước',\n",
    "    'cũ xước cấn': 'Cũ trầy xước cấn',\n",
    "    'cũ đẹp': 'Cũ đẹp',\n",
    "    'hàng trưng bày': 'Hàng trưng bày',\n",
    "    'đã kích hoạt': 'Đã kích hoạt',\n",
    "    'chính hãng (vn/a) đã kích hoạt': 'Đã kích hoạt (Chính Hãng VN/A)',\n",
    "    'đã kích hoạt bảo hành vn/a': 'Đã kích hoạt (Bảo Hành VN/A)',\n",
    "    'đổi bảo hành': 'Đổi bảo hành',\n",
    "    'đổi bảo hành (vn/a)': 'Đổi Bảo Hành (VN/A)',\n",
    "    'đổi bảo hành vn/a': 'Đổi Bảo Hành (VN/A)',\n",
    "    'xước cấn': 'Cũ trầy xước cấn',\n",
    "    'cũ': 'Cũ',\n",
    "    'mới fullbox': 'Mới Fullbox',\n",
    "    'like new 99%': 'Like New 99%',\n",
    "    'chính hãng đã kích hoạt': 'Đã kích hoạt (Chính Hãng)',\n",
    "    '256gb)': 'Còn nguyên dung lượng lưu trữ',\n",
    "    '512gb)': 'Còn nguyên dung lượng lưu trữ',\n",
    "    '1tb)': 'Còn nguyên dung lượng lưu trữ',\n",
    "    '128gb)': 'Còn nguyên dung lượng lưu trữ',\n",
    "    'có trầy xước': 'Cũ trầy xước'\n",
    "}\n",
    "condition = data['condition']\n",
    "data['condition'] = data['condition'].astype(str).str.lower()\n",
    "data['condition'] = data['condition'].map(condition_normalization_map) \n",
    "data['condition'] = data['condition'].fillna(condition)\n",
    "data['condition'] = data['condition'].str.strip()"
   ]
  },
  {
   "cell_type": "markdown",
   "id": "a59f4550",
   "metadata": {},
   "source": [
    "# Xử lí cột time"
   ]
  },
  {
   "cell_type": "code",
   "execution_count": 37,
   "id": "8ef9b31e",
   "metadata": {},
   "outputs": [
    {
     "name": "stdout",
     "output_type": "stream",
     "text": [
      "['09/2022' '09/2021' '10/2023' '1/2024' '09/2023' 'Feb 17, 2023' '2023'\n",
      " '9/2023' '09/2024' '11/2019' 'Sep 22, 2017' 'Feb 25, 2022' 'Sep 21, 2018'\n",
      " 'Nov 13, 2020' '7/2023' 'Sep 16, 2016' '03/2024' 'Oct 23, 2020' nan\n",
      " '9/2024' '03/2025' 'Nov 03, 2017' '5/2023' '10/2020' 'Mar 18, 2022'\n",
      " 'Dec 14, 2022' 'Aug 26, 2022' 'Oct 30, 2024' '2024' 'Jan 11, 2022'\n",
      " 'Sep 24, 2021' 'Apr 22, 2022' '02/2024' '07/2024' '02-2025' '03/2023'\n",
      " 'Dec 23, 2022' 'October 2019' '05/2023' 'Oct 26, 2018' '01/2024'\n",
      " 'Mar 05, 2024' 'Apr 18, 2022' 'Apr 01, 2022' 'Aug 21, 2020' '11/2024'\n",
      " 'Aug 26, 2021' '01/2025' '12/2023' '07/2023' 'Jun 21, 2023'\n",
      " 'Jan 29, 2021' '03/2022' 'Mar 14, 2022' '06/2023' '04/2024'\n",
      " 'Oct 02, 2020' 'Aug 03, 2024' 'Aug 27, 2021' '11/2023' '07/2022'\n",
      " 'Dec 31, 2021' '08/2024' '10/2022' 'Jul 13, 2022' 'Oct 06, 2022'\n",
      " '04/2025' '04/2023' 'Feb 16, 2023' 'Sep 26, 2024' '6/2023' '06/2024'\n",
      " 'May 12, 2020' 'Jul 24, 2024' '08/2022' '8/2023' 'Feb 09, 2022' '02/2023'\n",
      " 'Jan 12, 2023' 'Dec 21, 2020' '07//2024' 'Jul 02, 2021' 'Aug 23, 2019'\n",
      " 'Feb 24, 2025' 'Nov 01, 2022' 'Jan 22, 2021' '05/2024' '06/2021'\n",
      " '12/2022' '2/2022' '12/2021' '08/2023' '01/2023' '10/2024' '02/2025'\n",
      " '05/2025' '02/2020' '01/2022' '11/2022']\n"
     ]
    }
   ],
   "source": [
    "print(data['time'].unique())"
   ]
  },
  {
   "cell_type": "markdown",
   "id": "21af7a82-df7a-4fef-9d48-5d51384442d2",
   "metadata": {},
   "source": [
    "# Xử lí cột CPU"
   ]
  },
  {
   "cell_type": "code",
   "execution_count": 39,
   "id": "4848ba1a-8aec-4642-ac00-cd0d2cbe8c81",
   "metadata": {
    "scrolled": true
   },
   "outputs": [
    {
     "name": "stdout",
     "output_type": "stream",
     "text": [
      "['Apple A16 Bionic 6-core' 'Apple A15' 'MediaTek Dimensity 9200'\n",
      " 'Exynos 2400' 'Snapdragon 8 Gen 3 For Galaxy' 'Apple A16 Bionic 6 nhân'\n",
      " 'Apple A16 Bionic' 'Snapdragon 8 Gen 2 (4 nm)'\n",
      " 'Qualcomm Snapdragon 680, tối đa 2.4GHz' 'Snapdragon 8 Gen 2 8 nhân'\n",
      " 'A17 Pro' 'Snapdragon 8 Gen 2 for Galaxy' 'Apple A18' 'A13 Bionic'\n",
      " 'Apple A11 Bionic APL1W72' 'Qualcomm Snapdragon 8 Gen 1 (4 nm)'\n",
      " 'Apple A12 Bionic 6 nhân' 'Apple A14 Bionic (5 nm)'\n",
      " 'Snapdragon 8 Gen 2 for Galaxy (4nm) 8 nhân' 'Apple A10 Fusion APL1W24'\n",
      " 'Qualcomm Snapdragon 7 Gen 1 (4 nm)' 'Apple A15 Bionic' 'Apple A18 Pro'\n",
      " 'Exynos 1380' 'Helio G85' 'UNISOC T612' 'MediaTek Dimensity 7025 - Ultra'\n",
      " 'Mediatek MT8781 Helio G99 (6nm)' 'Exynos 1580' 'Snapdragon 8 Gen 2'\n",
      " 'Apple A13 Bionic (7 nm+)' 'Chip Snapdragon® 8 thế hệ thứ 2'\n",
      " 'Exynos 1480 4nm 2.4GHz' 'Snapdragon 8 Plus Gen 1'\n",
      " 'MediaTek Dimensity 9400' 'Dimensity 8300-Ultra' 'Exynos 2100 (5nm)'\n",
      " 'Snapdragon 778G 5G 8 nhân' 'Snapdragon 8 Gen 3' 'Exynos 2400e (4nm)'\n",
      " 'Exynos 2200 8 nhân' nan 'Unisoc T820 (6 nm)'\n",
      " 'Snapdragon 8 Gen 3 for Galaxy Tăng lên 42% AI'\n",
      " 'Snapdragon 8 Elite dành cho Galaxy (3nm)' 'Snapdragon 6 Gen 3'\n",
      " 'Exynos 1380 (5 nm)' 'Snapdragon® 7s Gen 3' 'MediaTek 9000+ (4nm)'\n",
      " 'Helio G88' 'Snapdragon SM6225' 'Snapdragon 8+ Gen 1 (4 nm)'\n",
      " 'Snapdragon 8 Elite (Tiến trình sản xuất 3nm)' 'Dimensity 6300 6nm'\n",
      " 'Dimensity 8200' 'MediaTek Dimensity 7050' 'Apple A12 Bionic'\n",
      " 'MediaTek Helio G99-Ultra 8 nhân'\n",
      " 'MediaTek Dimensity 7200 Pro (4nm TSMC process)'\n",
      " 'Apple A15 Bionic 6 nhân' 'MediaTek G99 Ultimate' 'Dimensity 7300 (4nm)'\n",
      " 'MediaTek Helio G99 Ultimate' 'MediaTek Dimensity 920 5G (6 nm)'\n",
      " 'MediaTek Dimensity 7050 5G 8 nhân'\n",
      " 'Mediatek Dimensity 7200 Ultra (4 nm)' 'Mediatek Helio G100 Ultimate'\n",
      " 'Chip Snapdragon 7 Gen 1 (4 nm)' 'Mediatek Dimensity 7050 (6 nm)'\n",
      " 'Exynos 1280 8 nhân' 'Chip Snapdragon 8 Gen 1' 'Exynos 990 (7 nm+)'\n",
      " 'Snapdragon 8+ Gen 1 8 nhân' 'MediaTek Dimensity 6300(6nm)'\n",
      " 'Chip Snapdragon® 8 Gen 2'\n",
      " 'Qualcomm® Snapdragon® 888+ 5G Mobile Platform' 'MediaTek Helio G100'\n",
      " 'Mediatek G100' 'Exynos 2100 8 nhân' 'Exynos 2100 (5 nm)'\n",
      " 'Spreadtrum T606' 'Snapdragon 680 8 nhân' 'Qualcomm® Snapdragon® 8 Gen 1'\n",
      " 'Snapdragon 8 Gen 1' 'Apple A13 Bionic 6 nhân'\n",
      " 'Mediatek Dimensity 7050 5G' 'MediaTek Dimensity 1300'\n",
      " 'Mediatek Helio G99 Ultimate' 'Helio G91-Ultra' 'Tiger T693'\n",
      " 'Unisoc T606' 'MediaTek Dimensity 7350 Pro 5G' 'Snapdragon 888 5G (5 nm)'\n",
      " 'MediaTek Dimensity 6020 5G 8 nhân' 'MediaTek Helio G35'\n",
      " 'Mediatek Helio G85' 'MediaTek Helio G99 8 nhân'\n",
      " 'Snapdragon 8 Gen 1 8 nhân' 'Unisoc T615' 'MediaTek Helio G85'\n",
      " 'Snapdragon 695 5G (6 nm)' 'MediaTek Helio G35 8 nhân'\n",
      " 'napdragon® 8+ Gen 1' 'MediaTek Helio G81-Ultra'\n",
      " 'MediaTek Dimensity 8100 Ultra' 'Unisoc Tiger T612' 'Unisoc SC9863A'\n",
      " 'Exynos 1380 (Quartz)' 'Dimensity 7300 Energy 5G'\n",
      " 'MediaTek Helio G100, tối đa 2.2GHz' 'Exynos 1280 (5 nm)'\n",
      " 'MediaTek Dimensity 6300' 'Snapdragon 888 8 (5nm)' 'Snapdragon 695 5G'\n",
      " 'Qualcomm Snapdragon 695' 'Qualcomm Snapdragon 6 Gen1 5G, tối đa 2.2GHz'\n",
      " 'Dimensity 1080 (5 nm)' 'MediaTek Dimensity 8300-Ultra'\n",
      " 'MediaTek Helio G85 8 nhân' 'Helio G85, tối đa 2.0GHz'\n",
      " 'MediaTek Helio G81' 'Snapdragon 6s 4G Gen1, tối đa 2.1GHz'\n",
      " 'MediaTek Helio G96' 'Helio G99 Ultimate(6nm)'\n",
      " 'Qualcomm SM6450 Snapdragon 6 Gen 1 (4 nm)' 'Mediatek Helio G99'\n",
      " 'Unisoc T616 8 nhân' 'MediaTek Dimensity 8100 Max 8 nhân'\n",
      " 'Snapdragon 680 4G' 'Qualcomm SM7150 Snapdragon 732G (8 nm)'\n",
      " 'MediaTek Dimensity 8200 5G 8 nhân' 'Snapdragon® 695' 'Snapdragon 778G'\n",
      " 'Mediatek Helio G99 (6nm)' 'Chip Helio G99' 'Snapdragon 865'\n",
      " 'Snapdragon 685 8 nhân' 'MediaTek Helio P35 8 nhân'\n",
      " 'MediaTek Dimensity 700' 'Unisoc SC9863A1' 'T107' 'Helio G35'\n",
      " 'Qualcomm Snapdragon 680 8 nhân' 'Unisoc T616' 'Exynos 850 8 nhân'\n",
      " 'Unisoc T107' 'Unisoc T107 8 nhân' 'MediaTek Dimensity 900'\n",
      " 'Unisoc UMS9117' 'Snapdragon 732 (8 nm)' 'Snapdragon 8+ Gen 2'\n",
      " 'Samsung Exynos 9825' 'Qualcomm Snapdragon® 8 Elite'\n",
      " 'Dimensity 8400-Ultra' 'Exynos 1330 (5nm)' 'Qualcomm Snapdragon 685'\n",
      " 'Mediatek Helio G80 (12 nm)' 'Unisoc T9100'\n",
      " 'Snapdragon 8 Gen 3 for Galaxy' 'MediaTek Helio G36 8 nhân'\n",
      " 'Unisoc UMS9117-L' 'Exynos 1380 8 nhân' 'Snapdragon 7 Gen 1 8 nhân'\n",
      " 'Exynos 1480 8 nhân' 'MediaTek Dimensity 1080 8 nhân'\n",
      " 'Snapdragon 8 Gen 3 8 nhân' 'MediaTek Dimensity 7300-Energy 5G 8 nhân'\n",
      " 'Apple A14 Bionic 6 nhân' 'MediaTek Dimensity 6100+'\n",
      " 'Apple A17 Pro 6 nhân' 'MediaTek Dimensity 6300 5G 8 nhân'\n",
      " 'MediaTek Helio G91 Ultra 8 nhân' 'MediaTek Helio G81-Ultra 8 nhân'\n",
      " 'Snapdragon 7s Gen 2 8 nhân' 'MediaTek Helio G96 8 nhân'\n",
      " 'Apple A18 6 nhân' 'Apple A18 Pro 6 nhân' 'Snapdragon 695 5G 8 nhân'\n",
      " 'MediaTek Dimensity 1300 8 nhân' 'MediaTek Helio G88 8 nhân'\n",
      " 'MediaTek Dimensity 700 5G 8 nhân' 'MediaTek Dimensity 9200 5G 8 nhân'\n",
      " 'MediaTek MT6762 8 nhân (Helio P22)' 'Snapdragon 6 Gen 1 8 nhân'\n",
      " 'Snapdragon 7 Gen 3 8 nhân' 'Snapdragon 6s Gen 1 8 nhân'\n",
      " 'Snapdragon 6 Gen 1 5G 8 nhân' 'MediaTek Dimensity 8300 Ultra 8 nhân'\n",
      " 'MediaTek Dimensity 8350 5G 8 nhân' 'MediaTek Helio G92 Max 8 nhân'\n",
      " 'MediaTek Dimensity 7300-Ultra 8 nhân' 'Exynos 1580 8 nhân'\n",
      " 'MediaTek Helio G100-Ultra 8 nhân' 'Exynos 2400e 8 nhân'\n",
      " 'Qualcomm Snapdragon 8 Elite 8 nhân'\n",
      " 'MediaTek Dimensity 7300 Energy 5G 8 nhân'\n",
      " 'Qualcomm Snapdragon 8 Elite For Galaxy 8 nhân'\n",
      " 'MediaTek Dimensity 9300+ 8 nhân' 'Snapdragon 6 Gen 3 8 nhân'\n",
      " 'Unisoc T7250 8 nhân' 'Unisoc T615 8 nhân' 'Unisoc T7225 8 nhân'\n",
      " 'Snapdragon 7s Gen 3 5G 8 nhân' 'MediaTek Helio G81 8 nhân'\n",
      " 'MediaTek Dimensity 7025-Ultra 5G 8 nhân' 'MediaTek Helio G100 8 nhân'\n",
      " 'MediaTek Dimensity 9400 8 nhân' 'Snapdragon 6 Gen 4 5G 8 nhân'\n",
      " 'Unisoc T606 8 nhân' 'Exynos 990 8 nhân'\n",
      " 'MediaTek Dimensity D6300 5G 8 nhân' 'Unisoc SC9863A1 8 nhân']\n"
     ]
    }
   ],
   "source": [
    "print(data['CPU'].unique())"
   ]
  },
  {
   "cell_type": "markdown",
   "id": "61ebd133-4cda-4469-b6fa-8960c520ec13",
   "metadata": {},
   "source": [
    "Cần loại bỏ các thông tin không cần thiết, sửa lỗi chính tả."
   ]
  },
  {
   "cell_type": "code",
   "execution_count": 40,
   "id": "39d2ed24-475f-43a8-aba9-64e1bffea5fd",
   "metadata": {},
   "outputs": [],
   "source": [
    "cpu = data['CPU']\n",
    "data['CPU'] = data['CPU'].fillna('')\n",
    "data['CPU'] = data['CPU'].str.split(',').str[0].str.strip()\n",
    "data['CPU'] = data['CPU'].str.replace(r'\\s*\\(.*?\\)\\s*', ' ', regex=True)\n",
    "data['CPU'] = data['CPU'].str.replace(r'[^\\w\\s\\+\\.]', ' ', regex=True)\n",
    "data['CPU'] = data['CPU'].str.replace(r'\\s+', ' ', regex=True).str.strip()\n",
    "data['CPU'] = data['CPU'].str.replace(r'\\bQualcomm\\s+SM\\d+\\s*', '', regex=True, flags=re.IGNORECASE).str.strip()\n",
    "data['CPU'] = data['CPU'].str.replace(r'\\b(thế hệ|gen|GEN)\\b', 'Gen', regex=True, flags=re.IGNORECASE).str.strip()\n",
    "data['CPU'] = data['CPU'].str.replace(r'\\bcore\\b', 'nhân', regex=True, flags=re.IGNORECASE).str.strip()\n",
    "data['CPU'] = data['CPU'].str.replace(r'\\bQualcomm\\s*', '', regex=True, flags=re.IGNORECASE).str.strip()\n",
    "data['CPU'] = data['CPU'].str.replace(r'\\bthứ\\s*', '', regex=True, flags=re.IGNORECASE).str.strip()\n",
    "data['CPU'] = data['CPU'].str.replace(r'\\bMobile\\s+Platform\\s*', '', regex=True, flags=re.IGNORECASE).str.strip()\n",
    "data['CPU'] = data['CPU'].str.replace(r'\\b(dành cho|For)\\b', 'for', regex=True, flags=re.IGNORECASE).str.strip()\n",
    "data['CPU'] = data['CPU'].str.replace(r'^\\s*(?:Chip|Mật độ)\\s*', '', regex=True, flags=re.IGNORECASE).str.strip()\n",
    "data['CPU'] = data['CPU'].str.replace(r'\\s*(?:\\d+\\s*nm\\+?|tăng)\\s*.*$', '', regex=True, flags=re.IGNORECASE).str.strip()\n",
    "data['CPU'] = data['CPU'].str.replace(r'\\bnapdragon\\b', 'Snapdragon', regex=True, flags=re.IGNORECASE).str.strip()\n",
    "\n",
    "cleaned_cpus = []\n",
    "for cpu_entry in data['CPU']:\n",
    "    if pd.isna(cpu_entry) or cpu_entry == '':\n",
    "        cleaned_cpus.append(np.nan)\n",
    "        continue\n",
    "\n",
    "    final_cpu_name = re.sub(r'(Gen)(\\d+)', r'\\1 \\2', str(cpu_entry), flags=re.IGNORECASE)\n",
    "    cleaned_cpus.append(final_cpu_name.strip())\n",
    "\n",
    "data['CPU'] = cleaned_cpus\n",
    "data['CPU'] = data['CPU'].fillna(cpu)"
   ]
  },
  {
   "cell_type": "markdown",
   "id": "c1a4c43e-f249-4663-a24a-0de061d48f03",
   "metadata": {},
   "source": [
    "# Xử lí cột warranty"
   ]
  },
  {
   "cell_type": "code",
   "execution_count": 41,
   "id": "0484c330-420c-4efe-9f13-f5c6f432d2ee",
   "metadata": {
    "scrolled": true
   },
   "outputs": [
    {
     "name": "stdout",
     "output_type": "stream",
     "text": [
      "['6 tháng' nan '12 tháng' '1 tháng tại TGDĐ' 'Chính hãng đến 14/09/2025'\n",
      " 'Chính hãng đến 28/10/2025' 'Chính hãng đến 14/12/2025'\n",
      " 'Chính hãng đến 13/12/2025' 'Chính hãng đến 08/12/2025'\n",
      " 'Chính hãng đến 30/12/2025' 'Chính hãng đến 31/12/2025'\n",
      " 'Chính hãng đến 13/01/2026' 'Chính hãng đến 05/01/2026'\n",
      " 'Chính hãng đến 26/01/2026' 'Chính hãng đến 24/01/2026'\n",
      " 'Chính hãng đến 25/01/2026' 'Chính hãng đến 10/02/2026'\n",
      " 'Chính hãng đến 28/02/2026' 'Chính hãng đến 01/03/2026'\n",
      " 'Chính hãng đến 16/03/2026' 'Chính hãng đến 12/04/2026'\n",
      " 'Chính hãng đến 29/04/2026' 'Chính hãng đến 22/02/2026'\n",
      " 'Chính hãng đến 17/07/2026' 'Chính hãng đến 27/02/2026'\n",
      " 'Chính hãng đến 09/08/2025' 'Chính hãng đến 16/08/2025'\n",
      " 'Chính hãng đến 23/08/2025' 'Chính hãng đến 23/07/2025'\n",
      " 'Chính hãng đến 15/08/2025' 'Chính hãng đến 17/08/2025'\n",
      " 'Chính hãng đến 04/08/2025' 'Chính hãng đến 30/07/2025'\n",
      " 'Chính hãng đến 31/08/2025' 'Chính hãng đến 20/08/2025'\n",
      " 'Chính hãng đến 03/08/2025' 'Chính hãng đến 22/07/2025'\n",
      " 'Chính hãng đến 18/08/2025' 'Chính hãng đến 19/08/2025'\n",
      " 'Chính hãng đến 24/07/2025' 'Chính hãng đến 24/08/2025'\n",
      " 'Chính hãng đến 08/08/2025' 'Chính hãng đến 30/08/2025'\n",
      " 'Chính hãng đến 16/07/2025' 'Chính hãng đến 01/08/2025'\n",
      " 'Chính hãng đến 11/08/2025' 'Chính hãng đến 01/09/2025'\n",
      " 'Chính hãng đến 27/08/2025' 'Chính hãng đến 25/08/2025'\n",
      " 'Chính hãng đến 26/08/2025' 'Chính hãng đến 05/08/2025'\n",
      " 'Chính hãng đến 31/07/2025' 'Chính hãng đến 08/10/2025'\n",
      " 'Chính hãng đến 06/11/2025' 'Chính hãng đến 09/10/2025'\n",
      " 'Chính hãng đến 01/11/2025' 'Chính hãng đến 04/10/2025'\n",
      " 'Chính hãng đến 05/10/2025' 'Chính hãng đến 10/09/2025'\n",
      " 'Chính hãng đến 07/10/2025' 'Chính hãng đến 10/11/2025'\n",
      " 'Chính hãng đến 21/10/2025' 'Chính hãng đến 15/10/2025'\n",
      " 'Chính hãng đến 09/11/2025' 'Chính hãng đến 14/11/2025'\n",
      " 'Chính hãng đến 05/11/2025' 'Chính hãng đến 10/10/2025'\n",
      " 'Chính hãng đến 13/11/2025' 'Chính hãng đến 13/09/2025'\n",
      " 'Chính hãng đến 29/10/2025' 'Chính hãng đến 01/10/2025'\n",
      " 'Chính hãng đến 14/10/2025' 'Chính hãng đến 03/10/2025'\n",
      " 'Chính hãng đến 22/10/2025' 'Chính hãng đến 08/11/2025'\n",
      " 'Chính hãng đến 15/09/2025' 'Chính hãng đến 02/10/2025'\n",
      " 'Chính hãng đến 04/11/2025' 'Chính hãng đến 07/11/2025'\n",
      " 'Chính hãng đến 18/10/2025' 'Chính hãng đến 30/09/2025'\n",
      " 'Chính hãng đến 11/11/2025' 'Chính hãng đến 17/11/2025'\n",
      " 'Chính hãng đến 25/09/2025' 'Chính hãng đến 27/09/2025'\n",
      " 'Chính hãng đến 30/10/2025' 'Chính hãng đến 24/10/2025'\n",
      " 'Chính hãng đến 28/09/2025' 'Chính hãng đến 16/11/2025'\n",
      " 'Chính hãng đến 02/02/2026' 'Chính hãng đến 18/11/2025'\n",
      " 'Chính hãng đến 21/12/2025' 'Chính hãng đến 18/01/2026'\n",
      " 'Chính hãng đến 25/12/2025' 'Chính hãng đến 27/11/2025'\n",
      " 'Chính hãng đến 31/01/2026' 'Chính hãng đến 14/01/2026'\n",
      " 'Chính hãng đến 01/12/2025' 'Chính hãng đến 17/01/2026'\n",
      " 'Chính hãng đến 23/01/2026' 'Chính hãng đến 08/01/2026'\n",
      " 'Chính hãng đến 19/01/2026' 'Chính hãng đến 22/11/2025'\n",
      " 'Chính hãng đến 23/11/2025' 'Chính hãng đến 20/01/2026'\n",
      " 'Chính hãng đến 28/12/2025' 'Chính hãng đến 24/12/2025'\n",
      " 'Chính hãng đến 22/01/2026' 'Chính hãng đến 10/01/2026'\n",
      " 'Chính hãng đến 15/01/2026' 'Chính hãng đến 26/11/2025'\n",
      " 'Chính hãng đến 03/12/2025' 'Chính hãng đến 15/12/2025'\n",
      " 'Chính hãng đến 21/11/2025' 'Chính hãng đến 29/12/2025'\n",
      " 'Chính hãng đến 27/01/2026' 'Chính hãng đến 03/01/2026'\n",
      " 'Chính hãng đến 09/01/2026' 'Chính hãng đến 16/01/2026'\n",
      " 'Chính hãng đến 07/01/2026' 'Chính hãng đến 09/12/2025'\n",
      " 'Chính hãng đến 02/12/2025' 'Chính hãng đến 01/04/2026'\n",
      " 'Chính hãng đến 17/04/2026' 'Chính hãng đến 26/03/2026'\n",
      " 'Chính hãng đến 15/02/2026' 'Chính hãng đến 22/03/2026'\n",
      " 'Chính hãng đến 08/03/2026' 'Chính hãng đến 24/03/2026'\n",
      " 'Chính hãng đến 19/03/2026' 'Chính hãng đến 30/03/2026'\n",
      " 'Chính hãng đến 19/04/2026' 'Chính hãng đến 10/04/2026'\n",
      " 'Chính hãng đến 23/03/2026' 'Chính hãng đến 18/03/2026'\n",
      " 'Chính hãng đến 26/02/2026' 'Chính hãng đến 06/02/2026'\n",
      " 'Chính hãng đến 29/03/2026' 'Chính hãng đến 05/04/2026'\n",
      " 'Chính hãng đến 31/03/2026' 'Chính hãng đến 04/04/2026'\n",
      " 'Chính hãng đến 25/03/2026' 'Chính hãng đến 03/04/2026'\n",
      " 'Chính hãng đến 03/02/2026' 'Chính hãng đến 24/02/2026'\n",
      " 'Chính hãng đến 13/04/2026' 'Chính hãng đến 02/03/2026'\n",
      " 'Chính hãng đến 23/02/2026' 'Chính hãng đến 08/02/2026'\n",
      " 'Chính hãng đến 28/03/2026' 'Chính hãng đến 09/02/2026'\n",
      " 'Chính hãng đến 02/04/2026' 'Chính hãng đến 15/03/2026'\n",
      " 'Chính hãng đến 14/02/2026' 'Chính hãng đến 11/02/2026'\n",
      " 'Chính hãng đến 11/04/2026' 'Chính hãng đến 14/04/2026'\n",
      " 'Chính hãng đến 18/02/2026' 'Chính hãng đến 07/04/2026'\n",
      " 'Chính hãng đến 09/04/2026' 'Chính hãng đến 04/02/2026'\n",
      " 'Chính hãng đến 16/04/2026' 'Chính hãng đến 17/02/2026'\n",
      " 'Chính hãng đến 16/02/2026' 'Chính hãng đến 07/03/2026'\n",
      " 'Chính hãng đến 21/03/2026' 'Chính hãng đến 15/04/2026'\n",
      " 'Chính hãng đến 27/03/2026' 'Chính hãng đến 04/03/2026'\n",
      " 'Chính hãng đến 08/04/2026' 'Chính hãng đến 06/03/2026'\n",
      " 'Chính hãng đến 05/03/2026' 'Chính hãng đến 06/04/2026'\n",
      " 'Chính hãng đến 09/03/2026' 'Chính hãng đến 17/03/2026'\n",
      " 'Chính hãng đến 13/03/2026' 'Chính hãng đến 16/12/2025'\n",
      " 'Chính hãng đến 10/12/2025' 'Chính hãng đến 20/12/2025'\n",
      " 'Chính hãng đến 12/01/2026' 'Chính hãng đến 04/01/2026'\n",
      " 'Chính hãng đến 01/02/2026' 'Chính hãng đến 21/01/2026'\n",
      " 'Chính hãng đến 13/02/2026' 'Chính hãng đến 12/02/2026'\n",
      " 'Chính hãng đến 05/02/2026' 'Chính hãng đến 07/02/2026'\n",
      " 'Chính hãng đến 20/02/2026' 'Chính hãng đến 11/03/2026'\n",
      " 'Chính hãng đến 10/03/2026' 'Chính hãng đến 14/03/2026'\n",
      " 'Chính hãng đến 20/03/2026' 'Chính hãng đến 18/04/2026'\n",
      " 'Chính hãng đến 04/05/2026' 'Chính hãng đến 01/05/2026'\n",
      " 'Chính hãng đến 05/05/2026' 'Chính hãng đến 03/05/2026'\n",
      " 'Chính hãng đến 12/12/2025' 'Chính hãng đến 25/02/2026'\n",
      " 'Chính hãng đến 12/03/2026' 'Chính hãng đến 28/04/2026'\n",
      " 'Chính hãng đến 21/04/2026' 'Chính hãng đến 02/05/2026'\n",
      " 'Chính hãng đến 23/04/2026' 'Chính hãng đến 26/12/2025'\n",
      " 'Chính hãng đến 27/10/2025' 'Chính hãng đến 06/05/2026'\n",
      " 'Chính hãng đến 26/10/2025' 'Chính hãng đến 21/02/2026'\n",
      " 'Chính hãng đến 24/09/2025' 'Chính hãng đến 06/01/2026'\n",
      " 'Chính hãng đến 18/12/2025' 'Chính hãng đến 07/12/2025'\n",
      " 'Chính hãng đến 26/04/2026' 'Chính hãng đến 22/04/2026'\n",
      " 'Chính hãng đến 24/04/2026' 'Chính hãng đến 11/01/2026'\n",
      " 'Chính hãng đến 03/03/2026' 'Chính hãng đến 20/04/2026'\n",
      " 'Chính hãng đến 02/01/2026' 'Chính hãng đến 22/09/2025'\n",
      " 'Chính hãng đến 20/11/2025' 'Chính hãng đến 19/12/2025'\n",
      " 'Chính hãng đến 19/02/2026' 'Chính hãng đến 25/04/2026'\n",
      " 'Chính hãng đến 13/05/2026' 'Chính hãng đến 16/06/2026'\n",
      " 'Chính hãng đến 02/09/2026' 'Chính hãng đến 17/10/2026'\n",
      " 'Chính hãng đến 02/11/2026' 'Chính hãng đến 06/11/2026'\n",
      " 'Chính hãng đến 31/10/2025' 'Chính hãng đến 22/12/2025'\n",
      " 'Chính hãng đến 01/01/2026' 'Chính hãng đến 02/12/2026'\n",
      " 'Chính hãng đến 27/12/2025' 'Chính hãng đến 02/10/2026'\n",
      " 'Chính hãng đến 19/09/2026' 'Chính hãng đến 05/12/2026'\n",
      " 'Chính hãng đến 14/08/2025' 'Chính hãng đến 10/08/2025'\n",
      " 'Chính hãng đến 07/08/2025' 'Chính hãng đến 10/07/2025'\n",
      " 'Chính hãng đến 06/07/2025' 'Chính hãng đến 12/08/2025'\n",
      " 'Chính hãng đến 02/08/2025' 'Chính hãng đến 08/09/2025'\n",
      " 'Chính hãng đến 16/10/2025' 'Chính hãng đến 26/09/2025'\n",
      " 'Chính hãng đến 21/08/2025' 'Chính hãng đến 29/08/2025'\n",
      " 'Chính hãng đến 29/11/2025' 'Chính hãng đến 17/12/2025'\n",
      " 'Chính hãng đến 27/04/2026' '3 tháng tại TGDĐ'\n",
      " 'Chính hãng đến 30/04/2026' 'Chính hãng đến 07/06/2026'\n",
      " 'Chính hãng đến 29/06/2026' 'Chính hãng đến 27/06/2026'\n",
      " 'Chính hãng đến 11/07/2026' 'Chính hãng đến 18/07/2026'\n",
      " 'Chính hãng đến 05/07/2026' 'Chính hãng đến 19/07/2026'\n",
      " 'Chính hãng đến 02/08/2026' 'Chính hãng đến 26/07/2026'\n",
      " 'Chính hãng đến 01/08/2026' 'Chính hãng đến 22/07/2026'\n",
      " 'Chính hãng đến 27/07/2026' 'Chính hãng đến 09/08/2026'\n",
      " 'Chính hãng đến 18/08/2026' 'Chính hãng đến 12/08/2026'\n",
      " 'Chính hãng đến 07/08/2026' 'Chính hãng đến 19/08/2026'\n",
      " 'Chính hãng đến 13/08/2026' 'Chính hãng đến 15/08/2026'\n",
      " 'Chính hãng đến 25/08/2026' 'Chính hãng đến 26/08/2026'\n",
      " 'Chính hãng đến 21/08/2026' 'Chính hãng đến 23/08/2026'\n",
      " 'Chính hãng đến 01/09/2026' 'Chính hãng đến 03/09/2026'\n",
      " 'Chính hãng đến 28/08/2026' 'Chính hãng đến 08/09/2026'\n",
      " 'Chính hãng đến 16/09/2026' 'Chính hãng đến 12/09/2026'\n",
      " 'Chính hãng đến 07/09/2026' 'Chính hãng đến 10/09/2026'\n",
      " 'Chính hãng đến 05/09/2026' 'Chính hãng đến 18/09/2026'\n",
      " 'Chính hãng đến 04/10/2026' 'Chính hãng đến 01/10/2026'\n",
      " 'Chính hãng đến 22/09/2026' 'Chính hãng đến 30/09/2026'\n",
      " 'Chính hãng đến 24/09/2026' 'Chính hãng đến 23/09/2026'\n",
      " 'Chính hãng đến 28/09/2026' 'Chính hãng đến 03/10/2026'\n",
      " 'Chính hãng đến 29/09/2026' 'Chính hãng đến 26/09/2026'\n",
      " 'Chính hãng đến 21/09/2026' 'Chính hãng đến 25/09/2026'\n",
      " 'Chính hãng đến 27/09/2026' 'Chính hãng đến 18/10/2026'\n",
      " 'Chính hãng đến 10/10/2026' 'Chính hãng đến 13/10/2026'\n",
      " 'Chính hãng đến 08/10/2026' 'Chính hãng đến 19/10/2026'\n",
      " 'Chính hãng đến 14/10/2026' 'Chính hãng đến 15/10/2026'\n",
      " 'Chính hãng đến 07/10/2026' 'Chính hãng đến 12/10/2026'\n",
      " 'Chính hãng đến 06/10/2026' 'Chính hãng đến 11/10/2026'\n",
      " 'Chính hãng đến 21/10/2026' 'Chính hãng đến 01/11/2026'\n",
      " 'Chính hãng đến 26/10/2026' 'Chính hãng đến 20/10/2026'\n",
      " 'Chính hãng đến 29/10/2026' 'Chính hãng đến 22/10/2026'\n",
      " 'Chính hãng đến 27/10/2026' 'Chính hãng đến 11/11/2026'\n",
      " 'Chính hãng đến 08/11/2026' 'Chính hãng đến 07/11/2026'\n",
      " 'Chính hãng đến 24/05/2026' 'Chính hãng đến 27/05/2026'\n",
      " 'Chính hãng đến 14/06/2026' 'Chính hãng đến 01/07/2026'\n",
      " 'Chính hãng đến 26/06/2026' 'Chính hãng đến 10/08/2026'\n",
      " 'Chính hãng đến 30/08/2026' 'Chính hãng đến 14/09/2026'\n",
      " 'Chính hãng đến 15/09/2026' 'Chính hãng đến 28/10/2026'\n",
      " 'Chính hãng đến 04/11/2026' 'Chính hãng đến 10/11/2026'\n",
      " 'Chính hãng đến 09/11/2026' 'Chính hãng đến 09/05/2026'\n",
      " 'Chính hãng đến 15/05/2026' 'Chính hãng đến 07/05/2026'\n",
      " 'Chính hãng đến 30/05/2026' 'Chính hãng đến 20/05/2026'\n",
      " 'Chính hãng đến 19/06/2026' 'Chính hãng đến 10/06/2026'\n",
      " 'Chính hãng đến 17/06/2026' 'Chính hãng đến 09/06/2026'\n",
      " 'Chính hãng đến 04/07/2026' 'Chính hãng đến 03/07/2026'\n",
      " 'Chính hãng đến 22/06/2026' 'Chính hãng đến 14/05/2026'\n",
      " 'Chính hãng đến 29/07/2025' 'Chính hãng đến 11/07/2025'\n",
      " 'Chính hãng đến 08/07/2025' 'Chính hãng đến 07/09/2025'\n",
      " 'Chính hãng đến 06/08/2025' 'Chính hãng đến 28/11/2025'\n",
      " 'Chính hãng đến 20/10/2025' 'Chính hãng đến 11/12/2025'\n",
      " 'Chính hãng đến 25/11/2025' 'Chính hãng đến 06/10/2025'\n",
      " 'Chính hãng đến 11/10/2025' 'Chính hãng đến 06/12/2025'\n",
      " 'Chính hãng đến 27/07/2025' 'Chính hãng đến 02/09/2025'\n",
      " 'Chính hãng đến 13/08/2025' 'Chính hãng đến 28/08/2025'\n",
      " 'Chính hãng đến 06/09/2025' 'Chính hãng đến 18/09/2025'\n",
      " 'Chính hãng đến 11/09/2025' 'Chính hãng đến 08/05/2026'\n",
      " 'Chính hãng đến 12/05/2026' 'Chính hãng đến 26/07/2025'\n",
      " 'Chính hãng đến 04/09/2025' 'Chính hãng đến 23/09/2025'\n",
      " 'Chính hãng đến 23/10/2025' 'Chính hãng đến 11/05/2026'\n",
      " 'Chính hãng đến 22/08/2025' 'Chính hãng đến 15/11/2025'\n",
      " 'Chính hãng đến 24/11/2025' 'Chính hãng đến 05/12/2025'\n",
      " 'Chính hãng đến 29/09/2025' 'Chính hãng đến 20/07/2025'\n",
      " 'Chính hãng đến 09/09/2025' 'Chính hãng đến 05/09/2025'\n",
      " 'Chính hãng đến 19/11/2025' 'Chính hãng đến 25/10/2025'\n",
      " 'Chính hãng đến 03/11/2025' 'Chính hãng đến 12/11/2025'\n",
      " 'Chính hãng đến 10/05/2026' 'Chính hãng đến 19/10/2025'\n",
      " 'Chính hãng đến 04/12/2025' 'Chính hãng đến 30/11/2025'\n",
      " 'Chính hãng đến 23/12/2025' 'Chính hãng đến 07/07/2025'\n",
      " 'Chính hãng đến 25/07/2025' 'Chính hãng đến 03/09/2025'\n",
      " 'Chính hãng đến 17/09/2025' 'Chính hãng đến 17/10/2025'\n",
      " 'Chính hãng đến 20/09/2025' 'Chính hãng đến 22/08/2026'\n",
      " 'Chính hãng đến 12/10/2025' 'Chính hãng đến 28/01/2026'\n",
      " 'Chính hãng đến 13/10/2025' 'Chính hãng đến 14/08/2026'\n",
      " 'Chính hãng đến 13/07/2026' 'Chính hãng đến 31/08/2026'\n",
      " 'Chính hãng đến 30/06/2026' 'Chính hãng đến 28/06/2026'\n",
      " 'Chính hãng đến 12/07/2026' 'Chính hãng đến 10/07/2026'\n",
      " 'Chính hãng đến 04/08/2026' 'Chính hãng đến 11/08/2026'\n",
      " 'Chính hãng đến 17/08/2026' 'Chính hãng đến 17/09/2026'\n",
      " 'Chính hãng đến 09/09/2026' 'Chính hãng đến 11/09/2026'\n",
      " 'Chính hãng đến 06/09/2026' 'Chính hãng đến 13/09/2026'\n",
      " 'Chính hãng đến 20/09/2026' 'Chính hãng đến 06/08/2026'\n",
      " 'Chính hãng đến 22/11/2026' 'Chính hãng đến 26/11/2026'\n",
      " 'Chính hãng đến 14/12/2026' 'Chính hãng đến 23/12/2026'\n",
      " 'Chính hãng đến 01/01/2027' 'Chính hãng đến 31/12/2026'\n",
      " 'Chính hãng đến 22/12/2026' 'Chính hãng đến 30/12/2026'\n",
      " 'Chính hãng đến 16/01/2027' 'Chính hãng đến 15/01/2027'\n",
      " 'Chính hãng đến 05/01/2027' 'Chính hãng đến 14/01/2027'\n",
      " 'Chính hãng đến 13/01/2027' 'Chính hãng đến 21/01/2027'\n",
      " 'Chính hãng đến 19/01/2027' 'Chính hãng đến 24/01/2027'\n",
      " 'Chính hãng đến 12/02/2027' 'Chính hãng đến 04/02/2027'\n",
      " 'Chính hãng đến 05/02/2027' 'Chính hãng đến 16/02/2027'\n",
      " 'Chính hãng đến 17/02/2027' 'Chính hãng đến 06/02/2027'\n",
      " 'Chính hãng đến 13/02/2027' 'Chính hãng đến 07/02/2027'\n",
      " 'Chính hãng đến 11/02/2027' 'Chính hãng đến 09/02/2027'\n",
      " 'Chính hãng đến 05/03/2027' 'Chính hãng đến 23/02/2027'\n",
      " 'Chính hãng đến 04/03/2027' 'Chính hãng đến 26/02/2027'\n",
      " 'Chính hãng đến 22/02/2027' 'Chính hãng đến 28/02/2027'\n",
      " 'Chính hãng đến 25/02/2027' 'Chính hãng đến 21/02/2027'\n",
      " 'Chính hãng đến 19/02/2027' 'Chính hãng đến 01/03/2027'\n",
      " 'Chính hãng đến 03/03/2027' 'Chính hãng đến 27/02/2027'\n",
      " 'Chính hãng đến 15/03/2027' 'Chính hãng đến 19/03/2027'\n",
      " 'Chính hãng đến 18/03/2027' 'Chính hãng đến 20/03/2027'\n",
      " 'Chính hãng đến 09/03/2027' 'Chính hãng đến 06/03/2027'\n",
      " 'Chính hãng đến 10/03/2027' 'Chính hãng đến 13/03/2027'\n",
      " 'Chính hãng đến 12/03/2027' 'Chính hãng đến 08/03/2027'\n",
      " 'Chính hãng đến 17/03/2027' 'Chính hãng đến 16/03/2027'\n",
      " 'Chính hãng đến 11/03/2027' 'Chính hãng đến 14/03/2027'\n",
      " 'Chính hãng đến 21/03/2027' 'Chính hãng đến 01/04/2027'\n",
      " 'Chính hãng đến 29/03/2027' 'Chính hãng đến 25/03/2027'\n",
      " 'Chính hãng đến 22/03/2027' 'Chính hãng đến 27/03/2027'\n",
      " 'Chính hãng đến 04/04/2027' 'Chính hãng đến 05/04/2027'\n",
      " 'Chính hãng đến 26/03/2027' 'Chính hãng đến 28/03/2027'\n",
      " 'Chính hãng đến 30/03/2027' 'Chính hãng đến 24/03/2027'\n",
      " 'Chính hãng đến 23/03/2027' 'Chính hãng đến 02/04/2027'\n",
      " 'Chính hãng đến 31/03/2027' 'Chính hãng đến 18/04/2027'\n",
      " 'Chính hãng đến 12/04/2027' 'Chính hãng đến 10/04/2027'\n",
      " 'Chính hãng đến 19/04/2027' 'Chính hãng đến 16/04/2027'\n",
      " 'Chính hãng đến 20/04/2027' 'Chính hãng đến 13/04/2027'\n",
      " 'Chính hãng đến 11/04/2027' 'Chính hãng đến 08/04/2027'\n",
      " 'Chính hãng đến 15/04/2027' 'Chính hãng đến 17/04/2027'\n",
      " 'Chính hãng đến 09/04/2027' 'Chính hãng đến 06/04/2027'\n",
      " 'Chính hãng đến 22/04/2027' 'Chính hãng đến 29/04/2027'\n",
      " 'Chính hãng đến 21/04/2027' 'Chính hãng đến 02/05/2027'\n",
      " 'Chính hãng đến 27/04/2027' 'Chính hãng đến 28/04/2027'\n",
      " 'Chính hãng đến 26/04/2027' 'Chính hãng đến 11/05/2027'\n",
      " 'Chính hãng đến 03/08/2026' 'Chính hãng đến 20/08/2026'\n",
      " 'Chính hãng đến 05/10/2026' 'Chính hãng đến 09/10/2026'\n",
      " 'Chính hãng đến 30/10/2026' 'Chính hãng đến 24/10/2026'\n",
      " 'Chính hãng đến 31/10/2026' 'Chính hãng đến 18/01/2027'\n",
      " 'Chính hãng đến 16/07/2026' 'Chính hãng đến 05/08/2026'\n",
      " 'Chính hãng đến 21/07/2026' 'Chính hãng đến 16/08/2026'\n",
      " 'Chính hãng đến 03/11/2026' 'Chính hãng đến 25/10/2026'\n",
      " 'Chính hãng đến 17/01/2027' 'Chính hãng đến 24/08/2026'\n",
      " 'Chính hãng đến 14/04/2027' 'Chính hãng đến 07/04/2027'\n",
      " 'Chính hãng đến 06/05/2027' 'Chính hãng đến 16/10/2026'\n",
      " 'Chính hãng đến 12/11/2026' 'Chính hãng đến 04/09/2026'\n",
      " 'Chính hãng đến 23/10/2026' 'Chính hãng đến 05/11/2026'\n",
      " 'Chính hãng đến 17/11/2026' 'Chính hãng đến 19/12/2026'\n",
      " 'Chính hãng đến 25/01/2027' 'Chính hãng đến 31/01/2027'\n",
      " 'Chính hãng đến 02/02/2027' 'Chính hãng đến 23/01/2027'\n",
      " 'Chính hãng đến 22/01/2027' 'Chính hãng đến 24/02/2027'\n",
      " 'Chính hãng đến 15/02/2027' 'Chính hãng đến 20/02/2027'\n",
      " 'Chính hãng đến 24/04/2027' 'Chính hãng đến 25/04/2027'\n",
      " 'Chính hãng đến 23/07/2026' 'Chính hãng đến 27/01/2027'\n",
      " 'Chính hãng đến 11/12/2026' 'Chính hãng đến 25/12/2026'\n",
      " 'Chính hãng đến 11/01/2027' 'Chính hãng đến 07/03/2027'\n",
      " 'Chính hãng đến 26/12/2026' 'Chính hãng đến 03/04/2027'\n",
      " 'Chính hãng đến 01/05/2027' 'Chính hãng đến 19/05/2026'\n",
      " 'Chính hãng đến 01/06/2026' 'Chính hãng đến 12/06/2026'\n",
      " 'Chính hãng đến 18/05/2026' 'Chính hãng đến 29/05/2026'\n",
      " 'Chính hãng đến 28/05/2026' 'Chính hãng đến 02/06/2026'\n",
      " 'Chính hãng đến 25/05/2026' 'Chính hãng đến 23/05/2026'\n",
      " 'Chính hãng đến 21/05/2026' 'Chính hãng đến 29/11/2026'\n",
      " 'Chính hãng đến 08/08/2026' 'Chính hãng đến 20/01/2027'\n",
      " 'Chính hãng đến 19/09/2025' 'Chính hãng đến 21/09/2025'\n",
      " 'Chính hãng đến 16/05/2026']\n"
     ]
    }
   ],
   "source": [
    "print(data['warranty'].unique())"
   ]
  },
  {
   "cell_type": "markdown",
   "id": "65e42a4b-1a68-47ca-b52d-faa68348f4fa",
   "metadata": {},
   "source": [
    "Cần loại bỏ các chuỗi không cần thiết trong cột warranty"
   ]
  },
  {
   "cell_type": "code",
   "execution_count": 43,
   "id": "0621efc7-0ccb-430b-bfa3-5adf4abaf4d7",
   "metadata": {},
   "outputs": [],
   "source": [
    "data['warranty'] = data['warranty'].str.replace(' tại TGDĐ', '', regex=False)\n",
    "data['warranty'] = data['warranty'].str.replace('Chính hãng đến ', '', regex=False)"
   ]
  },
  {
   "cell_type": "markdown",
   "id": "759248bc-bcbe-4132-945f-97af78e01e79",
   "metadata": {},
   "source": [
    "# Xử lí cột battery"
   ]
  },
  {
   "cell_type": "code",
   "execution_count": 44,
   "id": "fe513ce7-848b-4133-a692-643c137400b9",
   "metadata": {
    "scrolled": true
   },
   "outputs": [
    {
     "name": "stdout",
     "output_type": "stream",
     "text": [
      "['4.352 mAh' '4,325mAh' 'Li-Po 4300 mAh' '4,900mAh' '5,000mAh'\n",
      " 'Công nghệ sạc Sạc nhanh 20W Sạc không dây MagSafe 15WSạc không dây Qi 7,5WCổng sạc Lightning'\n",
      " 'Công nghệ sạc Sạc nhanh Sạc MagSafe lên đến 15WCổng sạc Lightning'\n",
      " 'Công nghệ sạc Sạc nhanhSạc không dây MagSafe lên đến 15WSạc không dây Qi lên đến 7,5WCổng sạc USB Type-C'\n",
      " '5.000mAh' '5000 mAh' '4805 mAh'\n",
      " 'Công nghệ sạc Sạc nhanhSạc không dây 15WSạc không dây Qi 7.5WCổng sạc USB Type-C'\n",
      " '3900 mAh'\n",
      " 'Công nghệ sạc Sạc không dây lên đến 25W Sạc không dây Qi2 lên đến 15WSạc không dây Qi lên đến 7,5WCổng sạc USB Type-C'\n",
      " '3110 mAh' 'Li-ion 2691 mAh' 'Li-Ion 5000 mAh' 'Li-ion'\n",
      " 'Li-Ion, sạc nhanh 20W, sạc không dây 15W, USB Power Delivery 2.0'\n",
      " '4400 mAh' 'Li-ion 2900 mAh' '3,279mAh'\n",
      " 'Công nghệ sạc Sạc không dây MagSafe lên đến 25W với bộ tiếp hợp 30W trở lênSạc không dây Qi2 lên đến 15WSạc không dây Qi lên đến 7,5WCổng sạc USB Type-C'\n",
      " 'Cổng sạc USB Type-C'\n",
      " 'Công nghệ sạc Sạc nhanh 20WSạc không dây chuẩn Magsafe 15wSạc không dây chuẩn Qi 7.5WCổng sạc Lightning'\n",
      " '3,240mAh'\n",
      " 'Li-Ion, sạc nhanh 18W, sạc không dây 15W, USB Power Delivery 2.0'\n",
      " 'Công nghệ sạc Sạc không dây MagSafe lên đến 25W với bộ tiếp hợp 30W trở lên Sạc không dây Qi2 lên đến 15WSạc không dây Qi lên đến 7,5WCổng sạc USB Type-C'\n",
      " '5110mAh' '2,406mAh' '3046 mAh' 'Li-ion 2716 mAh'\n",
      " 'Công nghệ sạc Sạc nhanh PD 2.0 30W (30 phút sạc được 50%)  Sạc không dây MagSafe 15W  Sạc không dây chuẩn Qi 7.5WCổng sạc Lightning'\n",
      " 'Li-ion 1821 mAh' '4600 mAh' '3,095mAh' 'Li-po'\n",
      " 'Li-Ion 1821 mAh battery (6.96 Wh), Fast charging 18W, 50% in 30 min'\n",
      " 'Pin 4500mAh' '4,400 mAh' '5630 mAh' '4500mAh' '3240mAh' '5.500mAh'\n",
      " '4700 mAh' '4500 mAh' '3969 mAh' '6000mAh'\n",
      " 'Công nghệ sạc Deep Fusion, Smart HDR 4,Panorama, Chụp đêm, Chân dung, QuickTake video, Time‑lapse, Slo-mo videoCổng sạc Lightning'\n",
      " '4000 mAh' '5110 mAh' '4300 mAh' '3349 mAh' '5000 MAh' '3700 mAh'\n",
      " '5410mAh' '5.000 mAh'\n",
      " 'Công nghệ sạc Sạc nhanh 20W, Sạc không dây, Sạc ngược không dây 15W, Sạc pin nhanh, Tiết kiệm pinCổng sạc Lightning'\n",
      " '2942mAh' '6.000 mAh' '5000mAh' '4.400 mAh' 'Li-Po 4500 mAh' '5200mAh'\n",
      " 'Li-Po 5000 mAh' '7000 mAh'\n",
      " 'Non-removable Li-Ion 4500 mAh battery Fast charging 25W USB Power Delivery 3.0 Fast Qi/PMA wireless charging Reverse wireless charging 9W'\n",
      " '4820mAh' '6000 mAh'\n",
      " '- Dung lượng pin 5,000mAh  - Sạc nhanh có dây 25W  - Sạc nhanh không dây 15W  - Sạc ngược không dây 4.5W'\n",
      " 'Li-Ion 4000 mAh' '4900mAh' '5,000 mAh'\n",
      " '1750 mAh - Tiết kiệm pin, Sạc pin nhanh, Sạc pin không dây.' '4830 mAh'\n",
      " '5030 mAh' 'Khoảng 3,240mAh' '5200 mAh'\n",
      " 'Li-Po 4500 mAh, sạc nhanh 15W, sạc không dây cho các thiết bị ngoại vi 5.4W'\n",
      " '4900 mAh' 'Li-Po 4400 mAh'\n",
      " '1750 mAh - Tiết kiệm pin, Sạc pin nhanh, Sạc pin không dây'\n",
      " 'Non-removable Li-Ion 4300 mAh battery Fast charging 25W USB Power Delivery 3.0 Fast Qi/PMA wireless charging Reverse wireless charging 9W'\n",
      " '5160mAh'\n",
      " '- Li-Po 4,800 mAh  - Sạc nhanh có dây 25W, tương thích chuẩn PD 3.0  - Sạc nhanh không dây 15W  - Sạc ngược không dây 4.5W'\n",
      " 'Li-Ion 2950mAh' '5800mAh (Typ)' '3300 mAh' '4800 mAh' '5000mAh (Typ)'\n",
      " '5100mAh' '4050mAh' '5020 mAh battery, Fast charging 18W'\n",
      " 'Công nghệ sạc Sạc nhanh 20W Sạc không dây chuẩn Magsafe 15wSạc không dây chuẩn Qi 7.5WCổng sạc Lightning'\n",
      " '4,900 mAh' '5500 mAh' '4.000 mAh' '1000 mAh'\n",
      " 'Li-Ion 3110 mAh battery, Fast charging 18W, 50% in 30 min (advertised), USB Power Delivery 2.0, Qi wireless charging'\n",
      " '4383 mAh' '5000mAh (typ)' '1400 mAh' 'Li-Po 5000 mAh, sạc nhanh 15W'\n",
      " '1800 mAh' '2300 mAh' 'Lithium-ion, 1800 mAh' 'Li-Po 4250 mAh'\n",
      " 'Công nghệ sạc Sạc nhanh 20WCổng sạc Lightning'\n",
      " '4300 mAh, Quick Charge 45W' '5600mAh'\n",
      " 'Công nghệ sạc Sạc nhanh 67WCổng sạc USB Type-C' '1020 mAh' '4610 mAh'\n",
      " '3240 mAh' '1500 mAh' '2815 mAh' '4422 mAh' '3274 mAh' '4325 mAh'\n",
      " '5160 mAh' '5100 mAh' '22 giờ' '3279 mAh' '1600 mAh' '1450 mAh' '33 giờ'\n",
      " '3250 mAh' '1750 mAh' '2000 mAh' '2438 mAh' '3095 mAh' '3200 mAh'\n",
      " '4323 mAh' '4352 mAh' '2227 mAh' '27 giờ' '5800 mAh' '6500 mAh'\n",
      " '5600 mAh' '5240 mAh' '26 giờ' '5410 mAh' '5910 mAh' '6600 mAh'\n",
      " '5050 mAh']\n"
     ]
    }
   ],
   "source": [
    "print(data['battery'].unique())"
   ]
  },
  {
   "cell_type": "markdown",
   "id": "0dfdbc4d-b2c5-4c5c-97c9-1542547e56c0",
   "metadata": {},
   "source": [
    "Dữ liệu trong cột battery không thống nhất theo đơn vị mAh và loại bỏ thông tin không cần thiết"
   ]
  },
  {
   "cell_type": "markdown",
   "id": "adec3f86-ce34-4bac-adf9-296f5bc4b766",
   "metadata": {},
   "source": [
    "## Với dữ liệu từ thế giới di động"
   ]
  },
  {
   "cell_type": "code",
   "execution_count": 45,
   "id": "3f2d1c8e-a547-464f-8381-70acc6cad0c5",
   "metadata": {},
   "outputs": [],
   "source": [
    "# Thống nhất dữ liệu trong cột 'battery' sang mAh\n",
    "condition = data['battery'] == '27 giờ'\n",
    "data.loc[condition, 'battery'] = '4674 mAh'\n",
    "condition = data['battery'] == '26 giờ'\n",
    "data.loc[condition, 'battery'] = '4005 mAh'\n",
    "condition = data['battery'] == '22 giờ'\n",
    "data.loc[condition, 'battery'] = '3561 mAh'\n",
    "condition = data['battery'] == '33 giờ'\n",
    "data.loc[condition, 'battery'] = '4685 mAh'"
   ]
  },
  {
   "cell_type": "markdown",
   "id": "f6da923b-c575-4105-8528-b18c3698dc4b",
   "metadata": {},
   "source": [
    "## Với dữ liệu từ cellphones"
   ]
  },
  {
   "cell_type": "code",
   "execution_count": 46,
   "id": "bcdcf715-13c0-49a8-9e48-b3a9bfb268cb",
   "metadata": {
    "scrolled": true
   },
   "outputs": [
    {
     "name": "stdout",
     "output_type": "stream",
     "text": [
      "\n",
      "Sản phẩm có giá trị pin (mAh) là NaN:\n",
      "- iPhone 14 Pro Max\n",
      "- iPhone 14 Pro\n",
      "- iPhone 15 Plus\n",
      "- iPhone 15 Pro\n",
      "- iPhone 15 Pro Max\n",
      "- iPhone 16 Plus\n",
      "- iPhone XS Max\n",
      "- iPhone 12 Pro Max\n",
      "- iPhone 16 Pro Max\n",
      "- iPhone 15\n",
      "- iPhone 14 Plus\n",
      "- iPhone 12 Pro\n",
      "- iPhone 16 Pro\n",
      "- iPhone 16\n",
      "- iPhone 12\n",
      "- iPhone XS\n",
      "- iPhone 12 mini\n",
      "- iPhone 13\n",
      "- iPhone 14\n",
      "- Xiaomi Poco X7 Pro 5G\n"
     ]
    }
   ],
   "source": [
    "# Thống nhất dữ liệu trong cột 'battery' sang mAh\n",
    "data['battery'] = data['battery'].fillna('').astype(str).str.lower()\n",
    "data['battery'] = data['battery'].str.replace(r'\\s+', '', regex=True)\n",
    "data['battery'] = data['battery'].str.replace(r'[,.]', '', regex=True)\n",
    "extracted_mah = data['battery'].str.extract(r'(\\d+)mah', flags=re.IGNORECASE, expand=False)\n",
    "data['battery'] = pd.to_numeric(extracted_mah, errors='coerce')\n",
    "\n",
    "# Lọc các sản phẩm có 'battery' là NaN sau chuyển đổi\n",
    "products_with_nan_battery = data[data['battery'].isna()]\n",
    "unique_names_with_nan_battery = products_with_nan_battery['name'].unique()\n",
    "# In ra name của các sản phẩm đó\n",
    "if unique_names_with_nan_battery.size > 0:\n",
    "    print(\"\\nSản phẩm có giá trị pin (mAh) là NaN:\")\n",
    "    for name in unique_names_with_nan_battery:\n",
    "        print(f\"- {name}\")\n",
    "else:\n",
    "    print(\"\\nKhông có sản phẩm nào có giá trị pin (mAh) là NaN.\")\n",
    "\n",
    "# Điền các trị NaN\n",
    "lookup_data = {\n",
    "    'product_name_lookup': ['iPhone 14 Pro Max', 'iPhone 14 Pro', 'iPhone 15 Plus', 'iPhone 15 Pro',\n",
    "                            'iPhone 15 Pro Max', 'iPhone 16 Plus', 'iPhone XS Max', 'iPhone 12 Pro Max',\n",
    "                            'iPhone 16 Pro Max', 'iPhone 15', 'iPhone 14 Plus', 'iPhone 12 Pro', \n",
    "                            'iPhone 12', 'iPhone 16 Pro', 'iPhone 16', 'iPhone XS', 'iPhone 12 mini',\n",
    "                            'iPhone 13', 'realme 9i', 'iPhone 14', 'OPPO Reno 13 5G',\n",
    "                            'Xiaomi Redmi Note 14', 'Sony Xperia 10V', 'OPPO Reno13 Pro',\n",
    "                            'Xiaomi Poco X7 Pro 5G', 'Xiaomi Redmi 10C 4G', 'Xiaomi Redmi Note 14 Pro',\n",
    "                            'Xiaomi Mi 11T'],\n",
    "    'correct_battery': [4323, 3200, 4383, 3274, 4422, 4674, 3174, 3687, 4685, 3349, 4325, 2815, 2815,\n",
    "                       4674, 3561, 2658, 2227, 3240, 5000, 3279, 5600, 5500, 5000, 5800, 6000, 5000,\n",
    "                       5500, 5000]\n",
    "}\n",
    "lookup = pd.DataFrame(lookup_data)\n",
    "\n",
    "battery_map = lookup.set_index('product_name_lookup')['correct_battery']\n",
    "data['battery'] = data['battery'].fillna(data['name'].map(battery_map))"
   ]
  },
  {
   "cell_type": "markdown",
   "id": "87f9b348-651d-4df9-9f78-a45e44bfdfef",
   "metadata": {},
   "source": [
    "# Xử lí cột RAM và capacity"
   ]
  },
  {
   "cell_type": "code",
   "execution_count": 47,
   "id": "6d8a087f-5a36-4e18-8ca4-215026ea70aa",
   "metadata": {},
   "outputs": [
    {
     "name": "stdout",
     "output_type": "stream",
     "text": [
      "['6 GB' '12 GB' '8 GB' '16 GB' '4 GB' '3 GB' '4GB (LPDDR4)' '3GB (LPDDR4)'\n",
      " '6GB (LPDDR4)' '2GB (LPDDR4)' '3GB' '8GB + Mở rộng 8GB' '2 GB'\n",
      " '4GB + Mở rộng 4GB' nan '48MB' '48 MB' '64 MB' '16 MB']\n"
     ]
    }
   ],
   "source": [
    "print(data['RAM'].unique())"
   ]
  },
  {
   "cell_type": "markdown",
   "id": "c3b56cb6-92ac-4008-b4a1-88218d6fa8b7",
   "metadata": {},
   "source": [
    "Dữ liệu trong cột RAM không thống nhất theo đơn vị GB."
   ]
  },
  {
   "cell_type": "code",
   "execution_count": 48,
   "id": "9c89c474-c78b-4bd2-978c-19cf73a784ce",
   "metadata": {},
   "outputs": [
    {
     "name": "stdout",
     "output_type": "stream",
     "text": [
      "['128 GB' '256 GB' '512 GB' '64 GB' '32 GB' '1 TB' '16 GB' nan '128 MB'\n",
      " '16 MB']\n"
     ]
    }
   ],
   "source": [
    "print(data['capacity'].unique())"
   ]
  },
  {
   "cell_type": "markdown",
   "id": "58af66b1-1216-4e70-9a76-cdab91383d26",
   "metadata": {},
   "source": [
    "Dữ liệu theo cột capacity không thống nhất theo đơn vị GB."
   ]
  },
  {
   "cell_type": "code",
   "execution_count": 49,
   "id": "4f473a50-19f1-4807-ac27-c1deea94104b",
   "metadata": {},
   "outputs": [],
   "source": [
    "# 1. Chuẩn hóa cột RAM: lấy phần trước \"mở rộng\" nếu có\n",
    "data['RAM'] = data['RAM'].apply(lambda x: (\n",
    "    f\"{re.search(r'(\\d+)\\s*+', str(x).lower().split('mở rộng')[0]).group(1)} GB\"\n",
    "    if isinstance(x, str) and 'mở rộng' in x.lower() and re.search(r'(\\d+)\\s*+', x.lower().split('mở rộng')[0])\n",
    "    else x\n",
    "))\n",
    "\n",
    "# 2. Hàm convert sang số GB\n",
    "def convert_to_gb(value):\n",
    "    if pd.isna(value) or str(value).lower().strip() == 'nan':\n",
    "        return np.nan\n",
    "    value = str(value).upper().strip()\n",
    "    if 'GB' in value:\n",
    "        try:\n",
    "            return float(value.replace('GB', '').strip())\n",
    "        except ValueError:\n",
    "            return np.nan\n",
    "    elif 'MB' in value:\n",
    "        try:\n",
    "            return float(value.replace('MB', '').strip()) / 1024\n",
    "        except ValueError:\n",
    "            return np.nan\n",
    "    elif 'TB' in value:\n",
    "        try:\n",
    "            return float(value.replace('TB', '').strip()) * 1024\n",
    "        except ValueError:\n",
    "            return np.nan\n",
    "    else:\n",
    "        return np.nan\n",
    "\n",
    "# 3. Áp dụng convert_to_gb cho cột RAM (và capacity nếu cần)\n",
    "data['RAM'] = data['RAM'].apply(convert_to_gb)\n",
    "\n",
    "if 'capacity' in data.columns and data['capacity'].dtype == object:\n",
    "    data['capacity'] = data['capacity'].apply(convert_to_gb)"
   ]
  },
  {
   "cell_type": "markdown",
   "id": "b25c83ab-3802-4e84-8cb4-5d4419fe7384",
   "metadata": {},
   "source": [
    "# Xử lí cột screen size"
   ]
  },
  {
   "cell_type": "code",
   "execution_count": 50,
   "id": "ef97da3d-4479-4ffd-a257-186877371510",
   "metadata": {},
   "outputs": [
    {
     "name": "stdout",
     "output_type": "stream",
     "text": [
      "['6.7 inches' '6.8 inches' '6.1 inches' '6.4 inches' '7.82 inches'\n",
      " '5.5 inches' '6.5 inches' '7.6 inches' '6.9 inches' '6.6 inches'\n",
      " '6.56 inches' '6.3 inches' '6.74 inches' '6.67 inches' '5.4 inches'\n",
      " '5.8 inches' '4.7 inches' '6.62 inches' '6.36 inches' '6.59 inches'\n",
      " '6.72 inches' '6.73 inches' '6.78 inches' '6.66 inches' '6.2 inches'\n",
      " '6.55 inches' '6.10 x 2.68 x 0.33 inches\\n(155 x 68 x 8.3 mm)'\n",
      " '6.79 inches' '6.64 inches' '6.28 inches' '6.88 inches' '6.52 inches'\n",
      " '6.44 inches' '6.53 inches' '2.0 inches' '6.51 inches' '6.75 inches'\n",
      " '2.4 inches' '6.745 inches' '8.12 inches' 'Chính 6.7\" & Phụ 3.4\"' '6.56\"'\n",
      " '1.77\"' '6.2\"' '6.4\"' '6.7\"' '6.8\"' '6.6\"' '6.5\"' 'Chính 7.6\" & Phụ 6.3\"'\n",
      " '6.73\"' '6.1\"' '1.8\"' '6.36\"' '2\"' '6.67\"' '6.79\"' '6.71\"' '6.88 \"'\n",
      " '6.43\"' '6.72\"' '2.4\"' '6.74\"' '2.31\"' '6.68 \"' '6.9\"' '6.64\"' '2.8\"'\n",
      " '6.745 \"' 'Chính 6.8\" & Phụ 3.26\"' '5.4\"' '6.78\"' '6.3\"' '6.59\"' '6.83\"'\n",
      " '6.77 \"' '6.51\"' '6.44\"' '3\"'\n",
      " '6.37 x 2.90 x 0.31 inches\\n(161.9 x 73.7 x 7.8 mm)' '6.58\"']\n"
     ]
    }
   ],
   "source": [
    "print(data['screen_size'].unique())"
   ]
  },
  {
   "cell_type": "markdown",
   "id": "3052ee44-e00a-46fe-affe-5254d7f6509b",
   "metadata": {},
   "source": [
    "Cần loại bỏ inches và \", chỉ lấy kích thước màn hình chính"
   ]
  },
  {
   "cell_type": "code",
   "execution_count": 51,
   "id": "b19e2569-14f6-4a2d-85a0-790db903508d",
   "metadata": {},
   "outputs": [],
   "source": [
    "data['screen_size'] = data['screen_size'].apply(\n",
    "    lambda x: x.split('&')[0].split('Chính')[1].strip() \n",
    "    if isinstance(x, str) and 'Chính' in x and len(x.split('Chính')) > 1\n",
    "    else x if isinstance(x, str) else None\n",
    ")\n",
    "\n",
    "# Chuyển cột 'screen_size' sang kiểu dữ liệu số\n",
    "data['screen_size'] = data['screen_size'].astype(str)\n",
    "data['screen_size'] = data['screen_size'].str.replace(r'\"', '', regex=True).str.strip()\n",
    "data['screen_size'] = data['screen_size'].str.replace(r'\\s*inches|\\s*inch', '', regex=True)\n",
    "data['screen_size'] = pd.to_numeric(data['screen_size'], errors='coerce')"
   ]
  },
  {
   "cell_type": "markdown",
   "id": "9282c457-214c-40be-a387-410b525b8ca6",
   "metadata": {},
   "source": [
    "# Xử lý cột screen resolution"
   ]
  },
  {
   "cell_type": "code",
   "execution_count": 52,
   "id": "8117e386-6f8d-446b-921b-291bd763f128",
   "metadata": {},
   "outputs": [
    {
     "name": "stdout",
     "output_type": "stream",
     "text": [
      "['2796 x 1290-pixel' '2778 x 1284 pixel' '1080 x 2520 pixels'\n",
      " '3120 x 1440 pixels (Quad HD+)' '1440 x 3120 pixels' '2556 x 1179 pixels'\n",
      " '1440 x 3088 pixels (QHD+)' '1080 x 2400 pixels (FullHD+)'\n",
      " '2268 x 2440 pixels' '1080 x 2340 pixels (FullHD+)' '1792 x 828 pixel'\n",
      " '1080 x 1920 pixels (FullHD)' '1242 x 2688 pixel' '1284 x 2778 pixels'\n",
      " '2176 x 1812 pixels (QXGA+)' '2532 x 1170 pixels' '2868 x 1320 pixels'\n",
      " '1170 x 2532 pixels' '1612 × 720 pixel' '2622 x 1206  pixels'\n",
      " '1600 x 720 pixels (HD+)' '2436 x 1125 pixels' '1125 x 2436 pixels'\n",
      " '750 x 1334 pixels' '1334 x 750 pixels (HD+)'\n",
      " '2176x1812px, 6:5 ratio, 373 PPI' '1256 x 2760 pixels'\n",
      " '1220 x 2712 pixels' '1612x720 (HD+)' '2688 x 1242 pixels'\n",
      " '2160 x 1856 (QXGA+)' '1080 x 2640 pixels' '2712 x 1220 pixels'\n",
      " '2340x1080px, 19.5:9 ratio, 403 PPI' '2640x1080px, 22:9 ratio, 426 PPI'\n",
      " '3200 x 1440 pixel' 'Full HD+ (1080 x 2400 Pixels)' nan\n",
      " '1080 x 2412 pixels' '1080 x 2436 pixels' 'Full HD+ (1080 x 2412 Pixels)'\n",
      " '2340 x 1080-pixel' '1080x2460 pixels' '1240 x 2772 pixels'\n",
      " '2448x1080px, 20.4:9 ratio, 395 PPI' '2520x1080px, 21:9 ratio, 449 PPI'\n",
      " '1440 x 3200 pixels (QHD+)' '1080 x 2408 pixels'\n",
      " '3216x1440px, 20:9 ratio, 526 PPI' '1080 x 2388 pixels'\n",
      " '1080 x 2376 pixels (FullHD+)' '720 x 1612 (HD+)' '2460x1080 pixels'\n",
      " '2208x1768px, 22.5:18 ratio, 372 PPI' '720 x 1600 pixel'\n",
      " '1080 x 2448 pixels (FullHD+)' '720 x 1640 pixels'\n",
      " '2712x1220px, 20:9 ratio, 446 PPI' '2636x1080px, 22:9 ratio, 425 PPI'\n",
      " '1440 x 3216 pixels (QHD+)' '720 x 1604 (HD+)'\n",
      " '1920 x 1080 pixels (FullHD)' '750 x 1560 pixel' '720 x 1560 pixes'\n",
      " 'HD+ (720 x 1604 Pixels)' '2408 x 1080 pixels' '240 x 320 pixels'\n",
      " '1116 x 2480 pixels' '3040 x 1440 pixels' '2.480 x 2.248 pixels'\n",
      " '1080 x 2392 pixels'\n",
      " 'Chính: FHD+ (1080 x 2640 Pixels) x Phụ: HD+ (720 x 748 Pixels)'\n",
      " 'HD+ (720 x 1612 Pixels)' 'QQVGA (128 x 160 Pixels)'\n",
      " 'Full HD+ (1080 x 2340 Pixels)' '2K+ (1440 x 3120 Pixels)'\n",
      " '2K+ (1440 x 3088 Pixels)' 'HD+ (720 x 1600 Pixels)'\n",
      " 'Chính: QXGA+ (1856 x 2160 Pixels) & Phụ: HD+ (968 x 2376 Pixels)'\n",
      " '2K+ (1440 x 3200 Pixels)' 'Super Retina XDR (1179 x 2556 Pixels)'\n",
      " 'QQVGA (120 x 160 Pixels)' '1.5K (1200 x 2670 Pixels)'\n",
      " 'Super Retina XDR (1170 x 2532 Pixels)' 'QVGA (176 x 220 Pixels)'\n",
      " 'Super Retina XDR (1290 x 2796 Pixels)'\n",
      " 'Super Retina XDR (1284 x 2778 Pixels)' 'Full HD+ (1080 x 2460 Pixels)'\n",
      " 'HD+ (720 x 1650 Pixels)' 'HD+ (720 x 1640 Pixels)'\n",
      " '1.5K (1220 x 2712 Pixels)' 'QVGA (240 x 320 Pixels)'\n",
      " 'HD+ (720 x 1608 Pixels)' 'Super Retina XDR (1320 x 2868 Pixels)'\n",
      " 'Full HD+ (1080 x 2388 Pixels)' '1.5K+ (1240 x 2772 Pixels)'\n",
      " 'Full HD+ (1080 x 2408 Pixels)'\n",
      " 'Chính: FHD+ (1080 x 2520 Pixels) & Phụ: SD (382 x 720 Pixels)'\n",
      " '1.5K (1260 x 2800 Pixels)' 'Super Retina XDR (1206 x 2622 Pixels)'\n",
      " 'Liquid Retina (828 x 1792 Pixels)' '1.5K (1256 x 2760 Pixles)'\n",
      " '1.5K (1272 x 2800 Pixels)' '1.5K+ (1264 x 2780 Pixels)'\n",
      " '1.5K+ (1256 x 2760 Pixels)' 'Full HD+ (1080 x 2392 Pixels)'\n",
      " 'HD+ (720 x 1610 Pixels)' 'Full HD+ (1080 x 2404 Pixels)'\n",
      " '1.5K (1224 x 2700 Pixels)' '1242 x 2688 Pixels' '1125 x 2436 Pixels']\n"
     ]
    }
   ],
   "source": [
    "print(data['screen_resolution'].unique())"
   ]
  },
  {
   "cell_type": "markdown",
   "id": "c94ed475-0df1-49ba-8a68-b1412cc5e154",
   "metadata": {},
   "source": [
    "Cần loại bỏ thông tin không cần thiết, tách cột"
   ]
  },
  {
   "cell_type": "code",
   "execution_count": 53,
   "id": "ae55809f-c191-4306-8d82-421d0df05938",
   "metadata": {},
   "outputs": [],
   "source": [
    "# Xử lí thông tin độ phân giải trong cột 'screen_resolution'\n",
    "data['screen_resolution_temp'] = data['screen_resolution'].apply(\n",
    "    lambda x: x.split('x P')[0].split('Chính: ')[1].strip()\n",
    "    if isinstance(x, str) and 'Chính: ' in x\n",
    "    else x if isinstance(x, str) else None\n",
    ")\n",
    "\n",
    "# Tách cột 'screen_resolution' thành 'resolution_width' và 'resolution_height'\n",
    "data[['resolution_width', 'resolution_height']] = data['screen_resolution_temp'].str.extract(r'(?:.*\\(|)(\\d+) x (\\d+)')\n",
    "\n",
    "# Chuyển đổi cột 'resolution_width' sang kiểu số\n",
    "data['resolution_width'] = data['resolution_width'].astype(str)\n",
    "data['resolution_width'] = pd.to_numeric(data['resolution_width'], errors='coerce')\n",
    "\n",
    "# Chuyển đổi cột 'resolution_height' sang kiểu số\n",
    "data['resolution_height'] = data['resolution_height'].astype(str)\n",
    "data['resolution_height'] = pd.to_numeric(data['resolution_height'], errors='coerce')\n",
    "\n",
    "# Xóa các cột không cần thiết.\n",
    "data = data.drop(columns=['screen_resolution_temp'])"
   ]
  },
  {
   "cell_type": "markdown",
   "id": "d97997ad-6555-4275-b706-8977f71175d4",
   "metadata": {},
   "source": [
    "# Xử lý cột operating system"
   ]
  },
  {
   "cell_type": "code",
   "execution_count": 54,
   "id": "ff960074-e36a-4501-8c6c-29950f691c97",
   "metadata": {
    "scrolled": true
   },
   "outputs": [
    {
     "name": "stdout",
     "output_type": "stream",
     "text": [
      "['iOS 16' 'iOS15' 'Android 13' 'Android 14, One UI 6.1' 'iOS 17'\n",
      " 'Android 13, One UI 5' 'ColorOS 13.1.1, nền tảng Android 13'\n",
      " 'Android (14, 13), One UI' 'iOS 18'\n",
      " 'iOS 13 hoặc cao hơn (Tùy vào phiên bản phát hành)' '11'\n",
      " 'Android 12, One UI 4.1' '12'\n",
      " 'iOS 14.1 hoặc cao hơn (Tùy vào phiên bản phát hành)' 'Android 14'\n",
      " 'iOS 15' 'Xiaomi HyperOS' 'iOS' 'Funtouch OS 13' 'Android' 'iOS 13'\n",
      " 'MIUI 14, Android 13' 'Android 12, One UI 4.1.1'\n",
      " 'ColorOS 15, nền tảng Android 15' 'Android (14, 13, 12), One UI' nan\n",
      " 'Android 17' 'Android (10, 9.0 Pie), Samsung One UI' 'Xiaomi HyperOS 2'\n",
      " 'iOS 12' 'Android 13, One UI 5.1' 'XOS 14' 'Android 11, MIUI 12.5'\n",
      " 'Android 15' 'Android 12, MIUI 14'\n",
      " 'ColorOS 14 Android 14  - Thuật toán tối ưu hiệu năng'\n",
      " 'Android 12, One UI 4' 'Android 10, One UI 2.1' 'Android 11'\n",
      " 'Android (13)' 'Android 11, One UI 3.0' 'Android 11, One UI 3.1'\n",
      " 'Android 12' 'ColorOS 12.1,  Android 12' 'Android 16'\n",
      " 'Android 10, One UI 2.5' 'ColorOS 13.1'\n",
      " 'ColorOS 12.1, nền tảng Android 12' 'Android 12, MIUI 13'\n",
      " 'MIUI 13 (Android 12)' 'ColorOS 12.1.1, nền tảng Android 12'\n",
      " 'Android 11, ColorOS 11.1' 'Android (12, 11)' 'Android T'\n",
      " 'OxygenOS trên nền tảng Android™ 13' 'Android (14)'\n",
      " 'ColorOS 13.1, nền tảng Android 13' 'ColorOS 14, nền tảng Android 14'\n",
      " 'Android 14 (Upside Down Cake)' 'Android 10.0; MIUI 11' 'Android 14 OS'\n",
      " 'Android Go' 'Android 12, ColorOS 12.1' 'MIUI 13 dựa trên Android 11'\n",
      " 'MIUI 13, Android 11' 'realme UI 4.0 Trên nền tảng Android 13'\n",
      " 'Android 14, Funtouch OS 14' 'Android 12 với giao diện FunTouch OS 12'\n",
      " 'Android U' 'Mocor(RTOS)' 'Android 10' 'Android 11, ColorOS 12'\n",
      " 'Android 11, MIUI 12' 'Android 9.0 (Pie)' 'Android (14, 13)' 'Series 30+'\n",
      " 'Android (11)' 'Android (12)' 'S30+' 'Android 13 (Go Edition)'\n",
      " 'Xiaomi HyperOS (Android 14)' 'Mocor (RTOS)' 'Android 14 Go'\n",
      " 'Android (12), One UI UI' 'Android (13, 12, 11, 10), Samsung One UI'\n",
      " 'Android (14, 13, 12)']\n"
     ]
    }
   ],
   "source": [
    "print(data['operating_system'].unique())"
   ]
  },
  {
   "cell_type": "code",
   "execution_count": 55,
   "id": "b6c98ae5-5b84-42e7-b67d-326fcfc3d2dc",
   "metadata": {},
   "outputs": [],
   "source": [
    "data.loc[data['operating_system'] == '11', 'operating_system'] = 'iOS 11'\n",
    "data.loc[data['operating_system'] == '12', 'operating_system'] = 'iOS 12'\n",
    "# Loại bỏ phần sau dấu phẩy trong cột 'operating_system'\n",
    "data['operating_system'] = data['operating_system'].str.split(',').str[0].str.strip()"
   ]
  },
  {
   "cell_type": "code",
   "execution_count": 56,
   "id": "d14fc233",
   "metadata": {},
   "outputs": [],
   "source": [
    "#Loại bỏ các chữ thừa, chỉ giữ lại tên và phiên bản\n",
    "data['operating_system'] = data['operating_system'].str.extract(\n",
    "    r'(iOS ?\\d+(?:\\.\\d+)?|Android(?:™)? ?\\d+(?:\\.\\d+)?|Android ?[UT]|Android ?\\d+ ?Go|MIUI ?\\d+(?:\\.\\d+)?|ColorOS ?\\d+(?:\\.\\d+)?|Funtouch OS ?\\d+(?:\\.\\d+)?|realme UI ?[\\w\\.]+|HarmonyOS ?\\d+(?:\\.\\d+)?|Xiaomi HyperOS ?\\d*|Mocor ?\\(RTOS\\)|XOS ?\\d+(?:\\.\\d+)?|OxygenOS|One UI ?\\d+(?:\\.\\d+)?|EMUI ?\\d+(?:\\.\\d+)?|Series ?30\\+|S30\\+)',\n",
    "    flags=re.IGNORECASE\n",
    ")\n",
    "data['operating_system'] = data['operating_system'].apply(\n",
    "    lambda x: (\n",
    "        re.match(r'^([A-Za-z]+(?: [A-Za-z]+)*)(?:\\s?(\\d+\\.?\\w*))?', \n",
    "                 re.sub(r'(Android)(\\d)', r'\\1 \\2',\n",
    "                 re.sub(r'(iOS)(\\d)', r'\\1 \\2',\n",
    "                 re.sub(r'\\s+', ' ', re.sub(r'[™®]', '', x.strip())))))\n",
    "        .group(0).strip()\n",
    "        if isinstance(x, str) and re.match(r'^([A-Za-z]+(?: [A-Za-z]+)*)(?:\\s?(\\d+\\.?\\w*))?', x)\n",
    "        else x\n",
    "    )\n",
    ")\n"
   ]
  },
  {
   "cell_type": "markdown",
   "id": "1bb7010a-c14d-4d61-8eaf-948ea3a26fae",
   "metadata": {},
   "source": [
    "# Xử lý cột SIM"
   ]
  },
  {
   "cell_type": "code",
   "execution_count": 57,
   "id": "304626b8-cc8b-49e2-bd90-eef1484de65c",
   "metadata": {},
   "outputs": [
    {
     "name": "stdout",
     "output_type": "stream",
     "text": [
      "['2 SIM (nano‑SIM và eSIM)' '2 SIM (Nano-SIM)'\n",
      " 'SIM 1 + SIM 2 / SIM 1 + eSIM / 2 eSIM' '2 Nano-SIM + eSIM'\n",
      " 'Nano-SIM + eSIM' 'Sim kép (nano-Sim và e-Sim) - Hỗ trợ 2 e-Sim'\n",
      " 'Nano-SIM' '2 Nano-SIM' 'Dual nano-SIM hoặc 1 nano-SIM + 1 eSIM'\n",
      " 'Nano SIM, eSIM' '2 Nano SIM hoặc 1 Nano SIM + 1 eSIM'\n",
      " '2 Nano SIM hoặc 1 Nano + 1 eSIM' nan 'Nano SIM' '2 Nano SIM'\n",
      " '2 Nano SIM (Sim 2 chung khe với thẻ nhớ)' '1 Nano SIM & 1 eSIM'\n",
      " '1 Nano SIM + 1 eSIM hoặc 2 eSIM'\n",
      " '2 Nano SIM hoặc 2 eSIM hoặc 1 Nano SIM + 1 eSIM'\n",
      " '2 Nano SIM (SIM 2 chung khe thẻ nhớ)' '2 Nano SIM + 1 eSIM'\n",
      " '2 Micro SIM']\n"
     ]
    }
   ],
   "source": [
    "print(data['SIM'].unique())"
   ]
  },
  {
   "cell_type": "code",
   "execution_count": 58,
   "id": "35c88db4-de6d-45cd-8f14-f3debf2851ee",
   "metadata": {},
   "outputs": [],
   "source": [
    "# Xử lí thông tin cột 'SIM'\n",
    "data['processed_SIM'] = data['SIM'].astype(str).str.lower()\n",
    "data['processed_SIM'] = data['processed_SIM'].replace('nan', np.nan)\n",
    "\n",
    "# Tạo cột 'has_nano_sim' (nếu có là 1 - không có là 0)\n",
    "data['has_nano_sim'] = data['processed_SIM'].str.contains(r'nano[-]?sim', case=False, na=np.nan).astype(float)\n",
    "\n",
    "# Tạo cột 'has_esim' (nếu có là 1 - không có là 0)\n",
    "data['has_esim'] = data['processed_SIM'].str.contains(r'e[-]?sim', case=False, na=np.nan).astype(float)\n",
    "\n",
    "# Cập nhật regex để bắt 'SIM' hoặc 'SIM 1', 'SIM 2',\n",
    "mask_generic_sim = (\n",
    "    data['processed_SIM'].notna() &\n",
    "    data['processed_SIM'].str.contains(r'\\bSIM(?: \\d+| vật lý)?\\b', case=False, na=False)\n",
    ")\n",
    "\n",
    "data = data.drop(columns = 'processed_SIM')\n",
    "\n",
    "# Cập nhật has_nano_sim thành 1.0 cho các trường hợp này\n",
    "data.loc[mask_generic_sim, 'has_nano_sim'] = 1.0"
   ]
  },
  {
   "cell_type": "markdown",
   "id": "aecadcfe-42ed-45b5-8286-dbda2fe726eb",
   "metadata": {},
   "source": [
    "# Xử lý cột display technology"
   ]
  },
  {
   "cell_type": "code",
   "execution_count": 59,
   "id": "ccfc2ac3-6366-4cb5-92ea-be03a535f8f7",
   "metadata": {},
   "outputs": [
    {
     "name": "stdout",
     "output_type": "stream",
     "text": [
      "['Super Retina XDR OLED' 'OLED' 'AMOLED' 'Dynamic AMOLED'\n",
      " 'Dynamic AMOLED 2X' 'IPS LCD'\n",
      " 'Cảm ứng điện dung LED-backlit IPS LCD, 16 triệu màu' 'Super Retina OLED'\n",
      " 'Super AMOLED Plus' 'Super AMOLED' 'Super Retina XDR'\n",
      " 'Retina IPS LCD capacitive touchscreen, 16M colors, Wide color gamut, True-tone, 625 nits max brightness'\n",
      " 'Liquid Retina' 'Liquid Retina LCD' 'Flexible AMOLED On-cell' 'LCD' nan\n",
      " 'TFT LCD' 'LED-backlit IPS LCD, HD' 'LTPO AMOLED'\n",
      " 'Super Retina XDR OLED, HDR10, Dolby Vision, Wide color gamut, True-tone'\n",
      " 'PLS LCD' 'Fluid AMOLED'\n",
      " 'Liquid Retina IPS LCD capacitive touchscreen, 16M colors'\n",
      " 'Dynamic AMOLED QHD+ Infinity-O' 'LTPS LCD' 'TN']\n"
     ]
    }
   ],
   "source": [
    "print(data['display_technology'].unique())"
   ]
  },
  {
   "cell_type": "markdown",
   "id": "41458d2b-9ddf-4966-89cf-b5bf479392b7",
   "metadata": {},
   "source": [
    "Cần loại bỏ các thông tin không cần thiết "
   ]
  },
  {
   "cell_type": "code",
   "execution_count": 60,
   "id": "3fd78873-f913-41e2-82b7-d3b75c6c5f15",
   "metadata": {},
   "outputs": [],
   "source": [
    "display_info = data['display_technology']\n",
    "data['display_technology'] = data['display_technology'].fillna('').astype(str)\n",
    "data['display_technology'] = data['display_technology'].str.extract(r'(.*?lcd)', flags=re.IGNORECASE, expand=False)\n",
    "data['display_technology'] = data['display_technology'].fillna(display_info)\n",
    "data['display_technology'] = data['display_technology'].str.split(',').str[0]\n",
    "data['display_technology'] = data['display_technology'].str.replace('Cảm ứng điện dung ', '', regex=False)\n",
    "data['display_technology'] = data['display_technology'].str.strip()"
   ]
  },
  {
   "cell_type": "markdown",
   "id": "8e6b103c-9d25-4063-8ff0-00df9f753756",
   "metadata": {},
   "source": [
    "# Xử lý cột size"
   ]
  },
  {
   "cell_type": "code",
   "execution_count": 61,
   "id": "f7318f30-da56-4485-8406-0cdb3c8388d5",
   "metadata": {
    "scrolled": true
   },
   "outputs": [
    {
     "name": "stdout",
     "output_type": "stream",
     "text": [
      "['160.7 x 77.6 x 7.9 mm' '160.8 x 78.1 x 7.65mm'\n",
      " 'Khi mở: 166.42 x 75.78 x 7.79 mm Khi gập: 85.54 x 75.78 x 16.45 mm'\n",
      " '158.5 x 75.9 x 7.75mm' '162.3 x 79.0 x 8.6mm'\n",
      " 'Dài 174.5mm - Ngang: 71.5mm - Dày 7.85mm' '160,9 x 77,8 x 7,80 mm'\n",
      " '163.4 x 78.1 x 8.9 mm'\n",
      " 'Đen: 160 x 73.23 x 7.93 mm  Xanh: 160 x 73.23 x 7.99 mm'\n",
      " 'Màu Vàng Khi mở: 153.4 x 143.1 x 5.9 (màn hình ngoài)/5.8 (mặt lưng) mm Khi gập: 153.4 x 73.3 x 11.7 mm  Màu Đen Khi mở: 153.4 x 143.1 x 5.9 (màn hình ngoài)/6.0 (mặt lưng) mm Khi gập: 153.4 x 73.3 x 11.9 mm\"'\n",
      " '146,6 x 70,6 x 8,25 mm' '159,9 x 76,7 x 8,25 mm' '146.3 x 70.9 x 7.6 mm'\n",
      " '150.9mm - 75.7mm - 8.3mm'\n",
      " '158.4 x 78.1 x 7.5 mm (6.24 x 3.07 x 0.30 in)' '163.3 x 77.9 x 8.9 mm'\n",
      " '157.5 - 77.4 - 7.7 mm' '160.8 x 78.1 x 7.4 mm'\n",
      " 'Mở: 154.9 x 129.9 x 6.1mm Gập: 154.9 x 67.1 x 13.4mm'\n",
      " '158.2 x 77.9 x 7.3 mm (6.23 x 3.07 x 0.29 in)' '163.9 x 76.5 x 7.8 mm'\n",
      " '146.7 x 71.5 x 7.80mm' '163 x 77,6 x 8,25 mm' '147.6 x 71.6 x 7.80 mm'\n",
      " 'Dọc 160.8 x Ngang 78.1 x Dày 7.8mm' '146,7 x 71,5 x 7,65mm'\n",
      " '161.7 x 78.0 x 8.2 mm' '146.7 x 71.5 x 7.4 mm'\n",
      " 'Nâu đỏ: 163.63 × 75.58 × 8.39mm  Trắng xanh: 163.63 × 75.58 × 8.53mm'\n",
      " 'Rộng: 71,5 mm  Cao: 149,6 mm  Dày: 8,25 mm' '167.26 x 76.67 x 7.84mm'\n",
      " '162.4 x 75.7 x 7.99mm' '131,5 x 64,2 x 7,65mm' '147,6 x 71,6 x 7,80 mm'\n",
      " '144.0mm - 71.4mm - 8.1mm'\n",
      " '143.6 x 70.9 x 7.7 mm (5.65 x 2.79 x 0.30 in)'\n",
      " '138.4 x 67.3 x 7.3 mm (5.45 x 2.65 x 0.29 in)' '146,7 x 71.5 x 7,65mm'\n",
      " '162.51 × 75.81 × 7.70 mm (Đen Tinh Tú) 162.51 × 75.81 × 7.80 mm (Tím Lavender)'\n",
      " '143.6 x 70.9 x 7.7 mm' '131.5 x 64.2 x 7.4 mm' '162.2 x 77.5 x 7.4 mm'\n",
      " '138.4 x 67.3 x 7.3 mm' '152,8 x 71,5 x 7,98mm' '161.1 x 77.4 x 8.2 mm'\n",
      " 'Kích thước khi gập lại: 155.1 x 130.1 x 6.3 mm  Kích thước khi máy mở ra: 155.1 x 67.1 x 14.2-15.8 mm'\n",
      " '157.35 x 74.33 x 7.85 mm'\n",
      " 'Bản thường: 160.45 x 74.34 x 8.25mm  Bản da: 160.45 x 74.34 x 8.35mm'\n",
      " '6.4-inch' '163.7 x 76.1 x 7.6 mm' \"['162', '77.3', '8']\"\n",
      " '158 x 76.5 x 8.2 mm' nan '158.0mm - 77.8mm - 8.1mm'\n",
      " 'Kích thước: 153.5 x 132.6 x 5.6 mmKích thước gập: 153.5 x 68.1 x 12.1 mm'\n",
      " 'Dài 162.8mm - Ngang 77.6mm - Dày 8.2mm' '162.9 x 78.2 x 7.4 mm'\n",
      " 'Kích thước: 165.1 x 71.9 x 6.9 mmKích thước gập: 85.1 x 71.9 x 14.9 mm'\n",
      " \"['158.2', '76.7', '8.2']\"\n",
      " '162.53mm x 74.67mm x 8.75mm (Xanh Băng Giá, Đen Huyền Bí)  162.53mm x 74.67mm x 8.85mm (Tím Oải Hương)'\n",
      " 'Khi mở: 166,2 x 75,2 x 7,5 mm  Khi gập: 85,5 x 75,2 x 16 mm'\n",
      " '165,5 x 75,5 x 8,3 mm' '6.7-inch'\n",
      " '161.3 x 75.3 x 9.35mm (Đen, Trắng) (Bạc Chrome): 161.3 x 75.3 x 9.48mm'\n",
      " \"['163.1', '75.8', '7.76']\" '162.4 x 74.2 x 7.6 mm'\n",
      " '150,9 x 75,7 x 8,3 mm' '161.1 x 74.95 x 7.98 mm'\n",
      " '161.74 x 76.32 x 8.55 mm' '165.5 x 76.13 x 7.88 mm'\n",
      " \"['161.4', '74.1', '7.57']\" '164.35 x 74.6 x 7.75 mm'\n",
      " '163.7 x 76.2 x 8.3 mm' 'Dài 146.9mm - Ngang 70.5mm - Dày 7.2mm'\n",
      " 'Dài 162.4 mm - Ngang  74.3 mm - Dày 8.04mm (Xanh) | 7.9mm (Xám)'\n",
      " '161.4 x 74.2 x 8.9 mm' '164,44 x 74,32 x 7,31mm' '159.2 x 72.7 x 7.2 mm'\n",
      " '161.1 x 74.7 x 7.5 mm' '6.5-inch' '146 x 70.6 x 7.6 mm'\n",
      " '168.61 x 76.61 x 9.23 mm' '164.8 x 77.2 x 8.1 mm' '162.9 x 74 x 8.3 mm'\n",
      " '164.4 x 77.9 x 7.9 mm' '162.9 x 74.6 x 8.38mm'\n",
      " '173.00 x 77.00 x 9.90 mm' '147.0 x 70.6 x 7.6mm' '166.6 x 77 x 7.4mm'\n",
      " '157.8 x 76.2 x 7.6 mm' \"['161', '76.5', '8.3']\"\n",
      " 'Mở: 165.1 x 71.9 x 6.9mm Gập: 85.1 x 71.9 x 15.1mm' '6.1-inch'\n",
      " '164.49 x 74.55 x 7.62 mm' '166.9 x 76 x 8.8 mm (6.57 x 2.99 x 0.35 in)'\n",
      " '151.7 x 71.2 x 7.9 mm' '165.4 x 76.9 x 8.4 mm' '163.7 x 73.9 x 8.5 mm'\n",
      " '157.4 x 75.8 x 7.6 mm' 'Dài 138.4 mm - Ngang 67.3 mm - Dày 7.3 mm'\n",
      " '164.06 x 76.17 x 8.07 mm'\n",
      " 'Màu kem/xanh: 161.7 x 73.9 x 8.7 mmMàu đen: 161.7 x 73.9 x 8.2mm'\n",
      " '158.9x73.52x8.62 mm' 'Độ dày 8.2 mm' '168,6 x 76,28 x 8,3 mm'\n",
      " '191.9 x 88.9 x 91 mm' '159.8 x 74.5 x 8.4 mm'\n",
      " 'Dài 158.4mm - Ngang 75.8mm - Dày 7.3mm' '161.7 x 76.3 x 8.5 mm'\n",
      " 'Khi gập:158.2 x 67.1 x 16mm  Khi mở:158.2 x 128.1 x 6.4mm'\n",
      " '161.6 x 75.2 x 8.3 mm'\n",
      " 'Dài 165.6 mm - Ngang 76 mm - Dày 7.99 mm (Đen) | 8.04 mm (Tím)'\n",
      " '159.7 x 74 x 8.1 mm' '163.7 x 75 x 7.99 mm' '168,8 x 78,2 x 8,8 mm'\n",
      " '160.1 x 76.8 x 8.4 mm' '152.7 x 69.9 x 8.2 mm' '165.6 x 77.0 x 8.35 mm'\n",
      " '167.3 x 77.3 x 8.0 mm' '165.9 x 76.2 x 8 mm' '164.2 x 75.6 x 8.3 mm'\n",
      " '173 x 77x 10.4 mm' '163.74 × 75.43 × 8.09 mm'\n",
      " '171,88mm x 77,80mm x 8,22mm' '163.8 x 75.6 x 8.4 mm'\n",
      " '163.1 x 75.9 x 8.6 mm' '167.3 x 76.7 x  7.49 mm' '161.5 x 75.6 x 7.8 mm'\n",
      " '169.9 x 77.9 x 8.8 mm' '164.0 x 77.5 x 7.7 mm' '161.7 x 74.7 x 7.6 mm'\n",
      " '162.2 x 75.05 x 7.76mm' '161.7 x 77.2 x 8.8 mm'\n",
      " '163,91 x 74,63 x 7,34mm'\n",
      " 'Khi mở: 167.3 x 73.6 x 7.2mm  Khi gập:  87.4 x 73.6 x 17.3mm'\n",
      " '164.2*75.3*8.6mm' '165.5 x 76 x 8.3 mm' '163.0 x 74.07 x 8.53 mm'\n",
      " '162.35 × 74.85 × 7.69 mm' \"['161.3', '78.1', '8.2']\"\n",
      " '160,5mm x 75,1mm x 7,80mm (Kính)  160,5mm x 75,1mm x 7,95mm (PU)'\n",
      " '163.74 x 75.03 x 8.16 mm' '165.65 x 75.98 x 7.99 mm'\n",
      " '165.715 mm x 77.112 mm x 7.8 mm' '165.7 x 76 x 7.68 mm'\n",
      " '160.87*74.28*7.36 - 7.41mm' '165.3 x 75.3 x 7.7 mm'\n",
      " '162.3 x 77.2 x 8.9 mm' '164.4 x 74.8 x 7.7 mm' '165.2*76.4*8.9mm'\n",
      " '164.65 x 75.04 x 7.55 mm' '164.4 x 75.6 x 8.1 mm' '161 x 74,2 x 7,6 mm'\n",
      " '163.8 x 75 x 8 mm' '164.2 x 76.1 x 8.1 mm'\n",
      " 'Khi mở: 165.2 x 71.9 x 6.9mm Khi gâp:  84.9 x 71.9 x 15.9-17.1 mm'\n",
      " 'Dài 162.4 mm - Ngang 74.1 mm - Dày 7.59 mm (Xám) | 7.66 mm (Trắng)'\n",
      " '164.19 x 76.1 x 8.12mm' '15,5 mm' '150.9 x 75.7 x 8.3 mm'\n",
      " '168.62x76.6x8.58mm (Bản lưng kính)168.62x76.6x8.60mm (Bản lưng da)'\n",
      " '159.9mm x 73.3mm x 7.95mm' '160.7 x 74.1 x 8.4 mm'\n",
      " 'Pha Lê Đen: 163.17 × 75.81 × 7.79 mm Kim Cương Xanh: 163.17 × 75.81 × 7.95 mm'\n",
      " '163.95 x 75.55 x 8.19 mm' '167.7 x 78.8 x 9.1 mm' '131.2 x 54 x 12 mm'\n",
      " '168.6 x 76.6 x 8.25 mm' '164 x 75.8 x 8.9 mm' '163.63 x 75.58 x 8.39 mm'\n",
      " '7.4 x 0.8 x 16.2cm' 'Dài 167.26mm × Ngang 76.67mm × Dày ≈7.84mm'\n",
      " '165.66 x 76.1 x 7.64 mm' '8.47 x 74.91 x 166.91mm'\n",
      " '131.4 x 54 x 13.8 mm' '126 x 57 x 15.2 mm' '173 g' '128 x 54 x 15 mm'\n",
      " '160.5 x 75.7 x 6.8 mm' '163.9 x 76.35 x 9.47mm'\n",
      " '77.2 mm x 162.3 mm x 7.9 mm'\n",
      " 'Khi mở: 160.87 x 146.58 x 4.21 mmKhi gập: 160.87 x 74.42 x 8.93 mm'\n",
      " '166.8 x 77.2 x 9.4 mm' '165.66 x 75.96 x 7.85 mm'\n",
      " '158.9 x 73.6 x 8.4 mm' \"['165.1', '71.9', '6.9']\"\n",
      " \"['165.1', '85.1', '71.9']\" \"['163.32', '75.07', '8.35']\"\n",
      " \"['113', '48', '14']\" \"['147', '70.6', '7.6']\" \"['158.5', '75.9', '7.7']\"\n",
      " \"['163.4', '78.1', '8.9']\" \"['162.3', '79', '8.6']\"\n",
      " \"['161.7', '78', '8.2']\" \"['163.9', '76.5', '7.8']\"\n",
      " \"['168', '77.8', '8.8']\" \"['161.1', '77.4', '8.2']\"\n",
      " \"['164.9', '77.3', '8.4']\" \"['168.8', '78.2', '8.8']\"\n",
      " \"['167.3', '77.3', '8']\" \"['153.5', '132.6', '68.1']\"\n",
      " \"['162.1', '77.6', '8.3']\" \"['162.3', '78.6', '9.1']\"\n",
      " \"['161.4', '75.3', '9.2']\" \"['147.6', '71.6', '7.8']\"\n",
      " \"['121', '50', '14.5']\" \"['161.7', '77.2', '8.8']\"\n",
      " \"['158', '76.5', '8.2']\" \"['160.1', '76.8', '8.4']\"\n",
      " \"['152.8', '71.5', '8.2']\" \"['146.7', '71.5', '7.65']\"\n",
      " \"['152.8', '71.5', '7.98']\" \"['122.7', '57', '17']\"\n",
      " \"['146.7', '71.5', '7.4']\" \"['160.1', '76.8', '9.3']\"\n",
      " \"['160.9', '77.8', '7.8']\" \"['159.9', '76.7', '8.25']\"\n",
      " \"['146.6', '70.6', '8.25']\" \"['160.8', '78.1', '7.8']\"\n",
      " \"['163.74', '75.03', '8.16']\" \"['168.6', '76.28', '8.3']\"\n",
      " \"['168.3', '76.3', '8.32']\" \"['171.88', '77.8', '8.22']\"\n",
      " \"['161.1', '74.95', '7.98']\" \"['161.15', '74.24', '7.98']\"\n",
      " \"['159.87', '73.87', '8.09']\" \"['162.9', '76', '7.9']\"\n",
      " \"['162.24', '75.55', '7.97']\" \"['121', '50', '12.8']\"\n",
      " \"['164.6', '75.4', '7.59']\" \"['126.5', '53.8', '13.4']\"\n",
      " \"['146.7', '71.5', '7.8']\" \"['167.3', '76.7', '7.49']\"\n",
      " \"['163.63', '75.58', '8.39']\" \"['125', '61.5', '13']\"\n",
      " \"['163.74', '75.43', '8.09']\" \"['121.5', '50', '14.4']\"\n",
      " \"['130.7', '54.2', '15']\" \"['165.7', '76', '7.99']\"\n",
      " \"['162.95', '75.45', '7.92']\" \"['167.2', '76.7', '7.99']\"\n",
      " \"['122', '52', '13.14']\" \"['163', '77.6', '8.25']\"\n",
      " \"['165.6', '76.1', '8.2']\" \"['165.6', '76', '7.99']\"\n",
      " \"['165.65', '75.98', '7.99']\" \"['159.9', '73.3', '7.95']\"\n",
      " \"['130.5', '60', '24']\" \"['160', '73.23', '7.93']\"\n",
      " \"['163.74', '75.03', '7.99']\" \"['164.06', '76.17', '8.07']\"\n",
      " \"['162.9', '74', '8.28']\" \"['160', '73.4', '7.67']\"\n",
      " \"['161.6', '73.9', '8.7']\" \"['162.4', '74.1', '8.04']\"\n",
      " \"['165.65', '75.98', '7.89']\" \"['167.7', '78', '9.1']\"\n",
      " \"['164.2', '75.6', '8.3']\" \"['126', '57', '15.2']\"\n",
      " \"['130', '55.5', '12.5']\" \"['161.5', '74.8', '7.4']\"\n",
      " \"['165.71', '76.02', '7.68']\" \"['124.6', '51', '14']\"\n",
      " \"['126', '60', '13.9']\" \"['167.26', '76.67', '7.84']\"\n",
      " \"['167.26', '76.67', '7.74']\" \"['166.42', '75.78', '7.79']\"\n",
      " \"['131.5', '64.2', '7.65']\" \"['164.66', '75.4', '8.99']\"\n",
      " \"['147.5', '71.5', '7.85']\" \"['160.7', '77.6', '7.85']\"\n",
      " \"['160.8', '78.1', '7.65']\" \"['131.5', '64.2', '7.4']\"\n",
      " \"['165.66', '76.1', '7.64']\" \"['164.36', '74.75', '7.75']\"\n",
      " \"['164.36', '75.1', '7.45']\" \"['165.77', '76.08', '7.68']\"\n",
      " \"['127', '54.2', '11.63']\" \"['149.6', '71.5', '8.25']\"\n",
      " \"['163.7', '75.6', '8.55']\" \"['161.05', '74.55', '6.78']\"\n",
      " \"['150.9', '75.7', '8.3']\" \"['163.1', '75.8', '7.69']\"\n",
      " \"['163.59', '75.33', '8.39']\" \"['162.2', '75.05', '7.76']\"\n",
      " \"['163.23', '75.93', '7.79']\" \"['164.4', '77.9', '7.9']\"\n",
      " \"['165.7', '76.3', '8.28']\" \"['160.5', '75.1', '7.8']\"\n",
      " \"['157.9', '74.73', '7.24']\" \"['121', '49', '12.6']\"\n",
      " \"['165.69', '76.22', '7.99']\" \"['162.33', '74.42', '8.4']\"\n",
      " \"['162.2', '77.5', '7.4']\" \"['162.16', '74.92', '8.24']\"\n",
      " \"['164', '77.5', '7.7']\" \"['126.07', '50.5', '13.9']\"\n",
      " \"['131.2', '54', '12']\" \"['152.3', '71.2', '8.08']\"\n",
      " \"['161.7', '74.7', '7.6']\" \"['164.16', '74.93', '7.58']\"\n",
      " \"['163.25', '76.55', '8.16']\" \"['162.8', '77.6', '8.2']\"\n",
      " \"['160.4', '75.1', '8.39']\" \"['162.9', '78.2', '7.4']\"\n",
      " \"['165.75', '76.1', '8.1']\" \"['162.73', '76.55', '7.55']\"\n",
      " \"['171.7', '77.8', '8.26']\" \"['158.4', '75.8', '7.3']\"\n",
      " \"['165.62', '77.01', '8.35']\" \"['164.82', '75.53', '7.76']\"\n",
      " \"['163.85', '75.75', '8.7']\" \"['146.9', '70.5', '7.2']\"\n",
      " \"['167.3', '76.95', '8.19']\" \"['168', '76.43', '7.7']\"\n",
      " \"['162.53', '74.67', '8.75']\" \"['130', '53', '12']\"\n",
      " \"['165.7', '77.1', '7.8']\" \"['162.4', '75.7', '7.99']\"\n",
      " \"['161.3', '75.3', '9.35']\" \"['162.27', '76.67', '8.24']\"\n",
      " \"['157.35', '74.33', '7.85']\" \"['163.15', '75.65', '7.97']\"\n",
      " \"['163.77', '76.28', '7.79']\" \"['163.95', '75.55', '8.19']\"\n",
      " \"['166.9', '76.8', '8.09']\" \"['159.2', '74.2', '7.79']\"\n",
      " \"['161.05', '74.55', '7.12']\" \"['165.82', '77.21', '8.3']\"\n",
      " \"['165.98', '75.8', '7.88']\" \"['137.5', '58', '12.5']\"\n",
      " \"['162.8', '75.5', '7.98']\" \"['157.8', '76.2', '7.6']\"\n",
      " \"['77.8', '158', '8.1']\" \"['159.6', '74.8', '8.1']\"\n",
      " \"['146.3', '70.9', '7.6']\" \"['188']\" \"['155.7', '74.5', '7.9']\"\n",
      " \"['164.3', '76.1', '8.28']\" \"['165.4', '76.9', '8.4']\"\n",
      " \"['169.2', '77.98', '8.55']\"]\n"
     ]
    }
   ],
   "source": [
    "print(data['size'].unique())"
   ]
  },
  {
   "cell_type": "markdown",
   "id": "5cc7c1c4-92f5-4bcf-92fd-ca14ef0f0843",
   "metadata": {},
   "source": [
    "Chỉ lấy kích thước, tạo ra các cột mới lưu thông tin dài, rộng, cao"
   ]
  },
  {
   "cell_type": "code",
   "execution_count": 62,
   "id": "ba2c345f-a127-4a1a-ad6d-b5d93142b6e8",
   "metadata": {},
   "outputs": [],
   "source": [
    "# Xử lý dữ liệu cột 'size' để tạo 3 cột mới\n",
    "data['size_str_processed'] = (data['size'].astype(str).str.strip()\n",
    "                              .replace(['', 'nan', 'none'], 'INVALID', regex=True))\n",
    "\n",
    "processed_size_lists = []\n",
    "for size_item_str in data['size_str_processed']:\n",
    "    current_list = [np.nan] * 3\n",
    "    if size_item_str != 'INVALID':\n",
    "        try:\n",
    "            parsed_list = ast.literal_eval(size_item_str)\n",
    "            if isinstance(parsed_list, list):\n",
    "                numeric_elements = [pd.to_numeric(val, errors='coerce') for val in parsed_list]\n",
    "                current_list = numeric_elements[:3] + [np.nan] * (3 - len(numeric_elements))\n",
    "        except (ValueError, SyntaxError):\n",
    "            pass\n",
    "    processed_size_lists.append(current_list)\n",
    "\n",
    "data[['height', 'width', 'depth']] = pd.DataFrame(processed_size_lists, index=data.index)\n",
    "data.drop(columns=['size_str_processed'], inplace=True)\n",
    "\n",
    "# Chuẩn hóa cột 'size'\n",
    "data['general_size_info_cleaned'] = (data['size'].astype(str)\n",
    "                                     .str.replace(',', '.', regex=False)\n",
    "                                     .str.replace(r'\\bxx\\b', 'x', regex=True)\n",
    "                                     .str.replace('≈', '', regex=False)\n",
    "                                     .str.strip()\n",
    "                                     .replace(['nan', 'none', ''], np.nan))\n",
    "\n",
    "# Xử lý kích thước từ mô tả text\n",
    "pattern_height = re.compile(r'(?:dọc|dài|chiều dài|cao)\\s*[:\\-]?\\s*([\\d\\.]+)', re.IGNORECASE)\n",
    "pattern_width = re.compile(r'(?:rộng|ngang|chiều rộng)\\s*[:\\-]?\\s*([\\d\\.]+)', re.IGNORECASE)\n",
    "pattern_depth = re.compile(r'(?:dày|độ dày|siêu mỏng)\\s*[:\\-]?\\s*([\\d\\.]+)', re.IGNORECASE)\n",
    "pattern_3_dims = re.compile(r'([\\d\\.]+)\\s*(?:mm)?\\s*[-xX×*]\\s*([\\d\\.]+)\\s*(?:mm)?\\s*[-xX×*]\\s*([\\d\\.]+)', re.IGNORECASE)\n",
    "\n",
    "dims = data['general_size_info_cleaned'].str.extract(pattern_3_dims)\n",
    "data['height'] = pd.to_numeric(dims[0], errors='coerce')\n",
    "data['width'] = pd.to_numeric(dims[1], errors='coerce')\n",
    "data['depth'] = pd.to_numeric(dims[2], errors='coerce')\n",
    "\n",
    "data['height'] = data['height'].fillna(data['general_size_info_cleaned'].str.extract(pattern_height)[0].astype(float))\n",
    "data['width'] = data['width'].fillna(data['general_size_info_cleaned'].str.extract(pattern_width)[0].astype(float))\n",
    "data['depth'] = data['depth'].fillna(data['general_size_info_cleaned'].str.extract(pattern_depth)[0].astype(float))\n",
    "\n",
    "data.drop(columns=['general_size_info_cleaned'], errors='ignore', inplace=True)"
   ]
  },
  {
   "cell_type": "markdown",
   "id": "7e7b4add-14f7-436e-bb6b-d7160c4b54ce",
   "metadata": {},
   "source": [
    "# Xử lý cột GPU"
   ]
  },
  {
   "cell_type": "code",
   "execution_count": 63,
   "id": "ec516a5d-1562-4f32-acd8-5b1d5de00222",
   "metadata": {
    "scrolled": true
   },
   "outputs": [
    {
     "name": "stdout",
     "output_type": "stream",
     "text": [
      "['Apple GPU (5-core graphics)' 'GPU 5 nhân' 'Immortalis-G715 MC11'\n",
      " 'Adreno 750' 'Adreno 750 (1 GHz)' 'Apple GPU 5 nhân' 'GPU 5 lõi'\n",
      " 'Adreno 740' 'Adreno 610' 'GPU 6 nhân mới' 'GPU 5 lõi mới'\n",
      " 'Apple GPU (4-core graphics)' 'Apple GPU (3 lõi đồ họa)' 'Adreno 730'\n",
      " 'Apple GPU 4 nhân' 'PowerVR Series7XT Plus (6 lõi đồ họa)' 'Adreno 644'\n",
      " '5‑core GPU' 'GPU 6 lõi mới' '5 nhân GPU' 'GPU 4 nhân' 'Mali-G68 MP5'\n",
      " 'Mali-G52 MC2' 'Mali-G57' 'IMG BXM-8-256' 'Mali-G57 MC2'\n",
      " 'AMD Ariel 2WGP-1RB 1.3 GHz' 'GPU Qualcomm® Adreno™' 'AMD Titan 1WGP'\n",
      " 'Adreno 670' 'Immortalis G925 MC12' 'Mali G615' 'Adreno 660'\n",
      " 'Apple GPU 4-core' 'Adreno 650' 'Xclipse 940' 'Xclipse 920' nan\n",
      " 'Adreno 830' 'Adreno 710' 'Qualcomm® Adreno™ GPU' 'Mali-G710 MC10'\n",
      " 'Mali-G52' 'Mali-G72 MP3' 'Adreno GPU' 'ARM Mail-G68 MC4' '8 lõi'\n",
      " 'Mali-G610 MC4' 'Mali-G57 3D Graphics' 'Mali-G615' 'Mali-G68 MC4'\n",
      " 'Mali-G68' 'ARM MAli-G57' 'Mali-G77 MP11' 'Adreno 619'\n",
      " 'Arm Mali-G78, 14 nhân' 'Mali-G78 MP14' 'Adreno™ 730 @818MHz'\n",
      " 'Mali-G77 MC9' 'ARM Mali G610 MC4' 'Mali-G57 MC2 @950MHz'\n",
      " 'IMG GE8320 @ 680 MHz' 'IMG PowerVR GE8320' 'Mali G610 MC6'\n",
      " 'ARM Mali-G57' 'Arm® Mali-G615' 'ARM G57 MC2 1.0GHz' 'Arm Mali-G615 MC6'\n",
      " 'Mali G52 MP2' 'MT676  G52 MC2 @820MHz' 'ARM Mali-G57 MC2' 'Mali G52 MC2'\n",
      " 'IMG 8322' 'Adreno 618' 'Arm Mali G610 MC6 950MHz'\n",
      " 'Qualcomm® Adreno™ 619' 'ARM G57 MC2' 'Mali-G52 MP2'\n",
      " 'SM-A146B - 2x2.4 GHz & 6x2.0 GHz   SM-A146P - 2x2.2 GHz Cortex-A76 & 6x2.0 GHz Cortex-A55'\n",
      " 'PowerVR GE8320' 'ARM Mali-G57 MP4' 'Mali G52' 'ARM Mali-G68 MC4'\n",
      " 'Mali-G76' 'Mali-G68 MP2' 'Adreno™ 619' 'Mali-G57 MP2' 'Apple GPU 6 nhân'\n",
      " 'Adreno 720' 'Adreno 640' 'Mali-G615 MC2' 'ARM Immortalis-G720 MP12'\n",
      " 'Đang cập nhật' 'ARM Immortalis G925 MC12' 'Hãng không công bố'\n",
      " 'IMG PowerVR GE8322']\n"
     ]
    }
   ],
   "source": [
    "print(data['GPU'].unique())"
   ]
  },
  {
   "cell_type": "markdown",
   "id": "79fa20de-685e-49e7-85d3-e3dab609586f",
   "metadata": {},
   "source": [
    "Loại bỏ các thông tin không cần thiết, sửa lỗi chính tả."
   ]
  },
  {
   "cell_type": "code",
   "execution_count": 64,
   "id": "8d67f61c-6b0b-482b-a313-86866cc2d13a",
   "metadata": {},
   "outputs": [],
   "source": [
    "gpu = data['GPU']\n",
    "data['GPU'] = data['GPU'].fillna('')\n",
    "data['GPU'] = data['GPU'].str.replace(r'[^\\w\\s\\+\\.\\-]', ' ', regex=True)\n",
    "data['GPU'] = data['GPU'].str.replace(r'\\s+', ' ', regex=True).str.strip()\n",
    "data['GPU'] = data['GPU'].str.replace(r'\\bQualcomm\\s*', '', regex=True, flags=re.IGNORECASE).str.strip()\n",
    "data['GPU'] = data['GPU'].str.replace(r'(\\d+)\\s*(?:lõi|core)s?\\b', r'\\1 nhân', regex=True, flags=re.IGNORECASE).str.strip()\n",
    "data['GPU'] = data['GPU'].str.replace(r'\\b(up to|Graphics|đồ họa|mới)\\s*', '', regex=True, flags=re.IGNORECASE).str.strip()\n",
    "data['GPU'] = data['GPU'].str.replace(r'(\\d+)-(?:nhân|lõi|core)s?\\b', r'\\1 nhân', regex=True).str.strip()\n",
    "data['GPU'] = data['GPU'].str.replace(r'(\\b\\w+)\\s*(-?G\\d+)', r'\\1\\2', regex=True).str.strip()\n",
    "data['GPU'] = data['GPU'].str.replace(r'\\bAdreno(?:\\s*\\bGPU\\b)?\\s*(\\d+)\\b(?:\\s*\\bGPU\\b)?', r'Adreno \\1', regex=True, flags=re.IGNORECASE).str.strip()\n",
    "\n",
    "cleaned_gpus = []\n",
    "for gpu_entry in data['GPU']:\n",
    "    if pd.isna(gpu_entry) or gpu_entry == '':\n",
    "        cleaned_gpus.append(np.nan)\n",
    "        continue\n",
    "\n",
    "    processed_gpu_entry = str(gpu_entry)\n",
    "    cleaned_gpus.append(processed_gpu_entry.strip())  \n",
    "\n",
    "data['GPU'] = cleaned_gpus\n",
    "data['GPU'] = data['GPU'].fillna(gpu)"
   ]
  },
  {
   "cell_type": "markdown",
   "id": "024eed6f-a0f7-4513-affd-96af53790ab4",
   "metadata": {},
   "source": [
    "# Xử lý cột bluetooth"
   ]
  },
  {
   "cell_type": "code",
   "execution_count": 65,
   "id": "899471d2-f05c-487d-af0f-a507fa8fc8ed",
   "metadata": {},
   "outputs": [
    {
     "name": "stdout",
     "output_type": "stream",
     "text": [
      "['v5.3, A2DP, LE' 'v5.0' 'v5.3, A2DP, LE, aptX HD' 'Bluetooth 5.3' '5.3'\n",
      " 'A2DP, LE, v5.3' 'v5.3' '5.3, A2DP, LE' '5.0' '5.0, A2DP, LE'\n",
      " '5.2, A2DP, LE' 'LE, A2DP, v5.0' '4.2, A2DP, LE' 'v5.2, A2DP, LE'\n",
      " 'v5.0, A2DP, LE' 'Bluetooth 5.0' 'v5.2' '5.2, A2DP, LE, aptX HD'\n",
      " '5.4 BLE' 'v5.4, A2DP, LE' nan 'Có' 'v5.4' '5.4' '5.1, A2DP, LE'\n",
      " 'Bluetooth 6.0' 'Bluetooth v5.4' 'A2DPLEv5.2' 'BT 5.4'\n",
      " 'v5.2, A2DP, LE, aptX HD, LHDC' '5.0, A2DP, LE, aptX' '5.2' 'BT5.4' '5.1'\n",
      " '5.1, A2DP, LE5.2, A2DP, LE' 'A2DP, LE' 'A2DP, LE, v4.2'\n",
      " 'v5.2, A2DP, LE, aptX HD' 'v5.1' 'v 5.0' 'Có 5.0, A2DP, LE'\n",
      " '5.2, A2DP, LE, aptX HD, aptX Adaptive' '4.2, A2DP' 'v5.3 BLE' 'BT 5.2'\n",
      " 'v5,2' 'v5.1 BLE' 'Bluetooth\\t5.0, BLE' '5.0, A2DP, LE, EDR'\n",
      " 'v5.1, A2DP, LE' '5.0, A2DP, LE, aptX HD' 'v 52' 'LE, apt-X, A2DP, v5.0'\n",
      " 'v5.3, LE, A2DP' 'v5.2, LE, A2DP' 'v4.2' 'v5.0, A2DP' 'v2.1'\n",
      " 'v5.3, LE, apt-X, A2DP' 'v5.0, LE, A2DP' 'v6.0' 'LE, A2DP'\n",
      " 'v5.0, apt-X, LE']\n"
     ]
    }
   ],
   "source": [
    "print(data['bluetooth'].unique())"
   ]
  },
  {
   "cell_type": "markdown",
   "id": "dbe01cdf-77ab-4bb7-af48-988e05d30977",
   "metadata": {},
   "source": [
    "Loại bỏ thông tin không cần thiết"
   ]
  },
  {
   "cell_type": "code",
   "execution_count": 66,
   "id": "e9b52709-73e4-4b00-90be-b4e830098585",
   "metadata": {},
   "outputs": [],
   "source": [
    "data['processed_bluetooth'] = data['bluetooth'].fillna('').astype(str)\n",
    "data['processed_bluetooth'] = data['processed_bluetooth'].str.replace(r'(\\d+),(\\d+)', r'\\1.\\2', regex=True)\n",
    "data['processed_bluetooth'] = data['processed_bluetooth'].str.replace(r'\\bv\\s*(\\d+\\.\\d+)', r'v\\1', regex=True, flags=re.IGNORECASE).str.strip()\n",
    "data['processed_bluetooth'] = data['processed_bluetooth'].str.replace(r'(?<!Dual[\\s\\-])\\bBluetooth\\b\\s*', '', regex=True).str.strip()\n",
    "data['processed_bluetooth'] = data['processed_bluetooth'].str.replace(r'\\baptX\\b', 'apt-X', regex=True, flags=re.IGNORECASE).str.strip()\n",
    "data['processed_bluetooth'] = data['processed_bluetooth'].str.replace(r'\\bBT\\s*(\\d+\\.\\d+.*)?\\b', r'\\1', regex=True, flags=re.IGNORECASE).str.strip()\n",
    "data['processed_bluetooth'] = data['processed_bluetooth'].str.replace(r'(?<!v)(\\b\\d+\\.\\d+(?:\\s*[a-zA-Z0-9]+)?\\b)', r'v\\1', regex=True, flags=re.IGNORECASE).str.strip()\n",
    "data['processed_bluetooth'] = data['processed_bluetooth'].str.replace(r'\\b(Có)\\b(?!$)', '', regex=True).str.strip()\n",
    "data['processed_bluetooth'] = data['processed_bluetooth'].str.replace(r',\\s*', ', ', regex=True)\n",
    "data['bluetooth'] = data['processed_bluetooth'].replace('', np.nan)\n",
    "data = data.drop(columns=['processed_bluetooth'], errors='ignore')"
   ]
  },
  {
   "cell_type": "markdown",
   "id": "66bd46d6-85e1-48e4-8a13-e95cdd166671",
   "metadata": {},
   "source": [
    "# Xử lý cột refresh rate"
   ]
  },
  {
   "cell_type": "code",
   "execution_count": 67,
   "id": "7fc7927a-5eec-4ca7-b429-64c61f0af6c8",
   "metadata": {},
   "outputs": [
    {
     "name": "stdout",
     "output_type": "stream",
     "text": [
      "['120Hz' '60Hz' '90Hz' 'Tần số quét 120 Hz' 'Tần số quét 60 Hz' nan\n",
      " 'Tần số quét 90 Hz' 'Tần số quét Chính: 120 Hz & Phụ: 60 Hz'\n",
      " 'Từ 144Hz trở lên' '120Hz (adaptable)' '165Hz' '120Hz (adaptive)' '144Hz'\n",
      " 'Tần số quét 144 Hz' '120Hz (@1080p)']\n"
     ]
    }
   ],
   "source": [
    "print(data['refresh_rate'].unique())"
   ]
  },
  {
   "cell_type": "markdown",
   "id": "fe179ec6-726c-48b8-94eb-9c240c4fded2",
   "metadata": {},
   "source": [
    "Lấy thông tin tần số quét chính, loại bỏ chữ Hz"
   ]
  },
  {
   "cell_type": "code",
   "execution_count": 68,
   "id": "846b11dc-5a06-43ef-bad8-6f0eafe4217e",
   "metadata": {},
   "outputs": [],
   "source": [
    "# Xử lí tần số quét chính & phụ\n",
    "data['refresh_rate'] = data['refresh_rate'].astype(str).str.extract(\n",
    "    r\"Tần số quét Chính: (\\d+) Hz\", flags=re.IGNORECASE, expand=False\n",
    ")\n",
    "\n",
    "# Xử lý các hàng mà ở bước xử lí trên không tìm thấy\n",
    "data['refresh_rate'] = data.apply(\n",
    "    lambda row: re.search(r\"Tần số quét (\\d+) Hz\", str(row['refresh_rate']), re.IGNORECASE).group(1)\n",
    "                if pd.isna(row['refresh_rate']) and isinstance(row['refresh_rate'], str)\n",
    "                   and re.search(r\"Tần số quét (\\d+) Hz\", str(row['refresh_rate']), re.IGNORECASE)\n",
    "                   and \"Chính\" not in str(row['refresh_rate'])\n",
    "                else row['refresh_rate'],\n",
    "    axis=1\n",
    ")\n",
    "\n",
    "# Chuyển cột 'refresh_rate' sang kiểu dữ liệu số\n",
    "data['refresh_rate'] = data['refresh_rate'].astype(str)\n",
    "data['refresh_rate'] = pd.to_numeric(data['refresh_rate'], errors='coerce')"
   ]
  },
  {
   "cell_type": "markdown",
   "id": "5dc7f977-e27e-4abe-9acc-bd2b91400579",
   "metadata": {},
   "source": [
    "# Lưu dữ liệu đã qua xử lí"
   ]
  },
  {
   "cell_type": "code",
   "execution_count": 69,
   "id": "831f0d43-a0f1-464c-811e-1596bfff5deb",
   "metadata": {},
   "outputs": [],
   "source": [
    "# Xuất DataFrame ra file CSV\n",
    "data.to_csv('tidy_data.csv', index=False, encoding='utf-8-sig')"
   ]
  },
  {
   "cell_type": "markdown",
   "id": "57428277-14d6-4835-94cb-51034ec9bfdf",
   "metadata": {},
   "source": [
    "# Xử lý giá trị thiếu"
   ]
  },
  {
   "cell_type": "code",
   "execution_count": 212,
   "id": "6c855f16-93d6-473e-9d1e-981f25993215",
   "metadata": {},
   "outputs": [
    {
     "data": {
      "text/plain": [
       "name                      0\n",
       "brand                     0\n",
       "condition               210\n",
       "price_old              3282\n",
       "price_new             12697\n",
       "warranty               1641\n",
       "CPU                     169\n",
       "RAM                     719\n",
       "capacity                 27\n",
       "time                   2467\n",
       "battery               12519\n",
       "screen_size              16\n",
       "operating_system       2323\n",
       "display_technology     1006\n",
       "screen_resolution       457\n",
       "SIM                     275\n",
       "size                    386\n",
       "weight                 3871\n",
       "bluetooth               468\n",
       "refresh_rate          14370\n",
       "GPU                    2555\n",
       "color                   156\n",
       "image                    18\n",
       "resolution_width        557\n",
       "resolution_height       557\n",
       "has_nano_sim            275\n",
       "has_esim                275\n",
       "height                11813\n",
       "width                 11811\n",
       "depth                 11785\n",
       "dtype: int64"
      ]
     },
     "execution_count": 212,
     "metadata": {},
     "output_type": "execute_result"
    }
   ],
   "source": [
    "data.isnull().sum()"
   ]
  },
  {
   "cell_type": "markdown",
   "id": "7e0b09bc-eed5-4243-91f9-d9fb11e235a5",
   "metadata": {},
   "source": [
    "Cột price_new, CPU, RAM, capacity có chứa giá trị thiếu, nghi ngờ bị thiếu theo dòng máy.\n"
   ]
  },
  {
   "cell_type": "code",
   "execution_count": 213,
   "id": "b1519aa9-75a1-4295-b09d-553465ffeee1",
   "metadata": {},
   "outputs": [
    {
     "name": "stdout",
     "output_type": "stream",
     "text": [
      "name\n",
      "ASUS ROG Phone 5S            0.4\n",
      "ASUS ROG Phone 6             0.8\n",
      "ASUS ROG Phone 6 Diablo      1.0\n",
      "ASUS ROG Phone 7             1.0\n",
      "ASUS ROG Phone 7 Ultimate    1.0\n",
      "                            ... \n",
      "vivo Y29                     1.0\n",
      "vivo Y35                     1.0\n",
      "vivo Y36                     0.5\n",
      "vivo Y38                     1.0\n",
      "vivo Y53S                    1.0\n",
      "Name: price_new_missing, Length: 414, dtype: float64\n"
     ]
    }
   ],
   "source": [
    "# price_new\n",
    "data['price_new_missing'] = data['price_new'].isna().astype('int')\n",
    "# Tính tỷ lệ missing price_new theo tên điện thoại\n",
    "rate_prc_name = data.groupby('name')['price_new_missing'].mean()\n",
    "print(rate_prc_name[rate_prc_name > 0])\n",
    "\n",
    "data = data.drop(columns=['price_new_missing'])"
   ]
  },
  {
   "cell_type": "markdown",
   "id": "233ab675-4eb6-4ac2-8090-80b44b90bd4e",
   "metadata": {},
   "source": [
    "Rõ ràng thiếu do phụ thuộc vào dòng máy. Qua tra cứu thì các dòng máy trên đã ngừng kinh doanh sản phẩm mới -> không có giá bán mới. \n",
    "Xử lý: Do price_new là một thuộc tính quan trọng của bài toán -> drop những dòng bị missing ở thuộc tính price_new."
   ]
  },
  {
   "cell_type": "code",
   "execution_count": 214,
   "id": "b0a1bcd7-d965-4745-9922-8408cfa03cd0",
   "metadata": {},
   "outputs": [],
   "source": [
    "data = data.dropna(subset=['price_new'])"
   ]
  },
  {
   "cell_type": "code",
   "execution_count": 215,
   "id": "98162f6c-6ec9-4de9-809f-e8809526dafc",
   "metadata": {},
   "outputs": [
    {
     "name": "stdout",
     "output_type": "stream",
     "text": [
      "name\n",
      "INOI 288S 4G           1.0\n",
      "Masstel Fami 60S 4G    1.0\n",
      "Nubia Music NFC        1.0\n",
      "Samsung Galaxy A33     1.0\n",
      "Sony Xperia 10V        1.0\n",
      "Name: CPU_missing, dtype: float64\n"
     ]
    }
   ],
   "source": [
    "# CPU\n",
    "data['CPU_missing'] = data['CPU'].isna().astype('int')\n",
    "# Tính tỷ lệ missing CPU theo tên điện thoại\n",
    "rate_CPU_name = data.groupby('name')['CPU_missing'].mean()\n",
    "print(rate_CPU_name[rate_CPU_name > 0])\n",
    "\n",
    "data = data.drop(columns=['CPU_missing'])"
   ]
  },
  {
   "cell_type": "markdown",
   "id": "010599c6-a85e-4d33-b523-cab43ec2b7ee",
   "metadata": {},
   "source": [
    "Rõ ràng thiếu do phụ thuộc vào dòng máy. Qua tra cứu thì 2 dòng máy này không public thông số kỹ thuật CPU. \n",
    "Xử lý: Không cần xử lý, không thể điền thiếu do đây là thông số của nhà sản xuất."
   ]
  },
  {
   "cell_type": "code",
   "execution_count": 216,
   "id": "7a65d0a3-1b2b-4486-84c3-1f2dbf7cced2",
   "metadata": {},
   "outputs": [
    {
     "name": "stdout",
     "output_type": "stream",
     "text": [
      "name\n",
      "INOI 288S 4G           1.000000\n",
      "Masstel Fami 60S 4G    1.000000\n",
      "iPhone 12              0.714286\n",
      "iPhone 12 Pro          1.000000\n",
      "iPhone 12 Pro Max      0.750000\n",
      "iPhone 12 mini         0.666667\n",
      "iPhone 13 Pro          0.125000\n",
      "iPhone 14 Pro          0.600000\n",
      "iPhone 14 Pro Max      0.545455\n",
      "iPhone 15              0.583333\n",
      "iPhone 15 Plus         0.937500\n",
      "iPhone 15 Pro          1.000000\n",
      "iPhone 15 Pro Max      1.000000\n",
      "iPhone 16              1.000000\n",
      "iPhone 16 Plus         1.000000\n",
      "iPhone 16 Pro          1.000000\n",
      "iPhone 16 Pro Max      1.000000\n",
      "iPhone 7 Plus          1.000000\n",
      "iPhone 8               1.000000\n",
      "iPhone 8 Plus          0.533333\n",
      "iPhone X               1.000000\n",
      "iPhone XR              1.000000\n",
      "iPhone XS              1.000000\n",
      "iPhone XS Max          1.000000\n",
      "Name: RAM_missing, dtype: float64\n"
     ]
    }
   ],
   "source": [
    "# RAM\n",
    "data['RAM_missing'] = data['RAM'].isna().astype('int')\n",
    "# Tính tỷ lệ missing RAM theo tên điện thoại\n",
    "rate_RAM_name = data.groupby('name')['RAM_missing'].mean()\n",
    "print(rate_RAM_name[rate_RAM_name > 0])\n",
    "\n",
    "data = data.drop(columns=['RAM_missing'])"
   ]
  },
  {
   "cell_type": "markdown",
   "id": "df474d68-bfbc-4a49-9a11-838edcbf54cd",
   "metadata": {},
   "source": [
    "Rõ ràng thiếu do phụ thuộc vào dòng máy. Tương tự CPU, các dòng máy này không public thông số RAM.\n",
    "Xử lý: Tương tự CPU."
   ]
  },
  {
   "cell_type": "code",
   "execution_count": 217,
   "id": "6b835175-b6af-438b-a23f-b9621882946c",
   "metadata": {},
   "outputs": [
    {
     "name": "stdout",
     "output_type": "stream",
     "text": [
      "name\n",
      "INOI 288S 4G    1.0\n",
      "Name: capacity_missing, dtype: float64\n"
     ]
    }
   ],
   "source": [
    "#capacity\n",
    "data['capacity_missing'] = data['capacity'].isna().astype('int')\n",
    "# Tính tỷ lệ missing RAM theo tên điện thoại\n",
    "rate_capacity_name = data.groupby('name')['capacity_missing'].mean()\n",
    "print(rate_capacity_name[rate_capacity_name > 0])\n",
    "\n",
    "data = data.drop(columns=['capacity_missing'])"
   ]
  },
  {
   "cell_type": "markdown",
   "id": "56f83498-f16b-406e-9144-5abe8f4cc66e",
   "metadata": {},
   "source": [
    "Rõ ràng thiếu do phụ thuộc vào dòng máy. Tương tự CPU, dòng máy này không public thông số dung lượng lưu trữ.\n",
    "Xử lý: Tương tự CPU. "
   ]
  },
  {
   "cell_type": "markdown",
   "id": "90048104-56a2-42c4-bb2e-5c9e478295f3",
   "metadata": {},
   "source": [
    "## Xử lý giá trị ngoại lai"
   ]
  },
  {
   "cell_type": "code",
   "execution_count": 218,
   "id": "04bf2069-700d-49af-b059-a263a2d3f143",
   "metadata": {},
   "outputs": [
    {
     "name": "stdout",
     "output_type": "stream",
     "text": [
      "Khoảng giá toàn cục\n"
     ]
    },
    {
     "ename": "NameError",
     "evalue": "name 'price_range' is not defined",
     "output_type": "error",
     "traceback": [
      "\u001b[1;31m---------------------------------------------------------------------------\u001b[0m",
      "\u001b[1;31mNameError\u001b[0m                                 Traceback (most recent call last)",
      "Cell \u001b[1;32mIn[218], line 3\u001b[0m\n\u001b[0;32m      1\u001b[0m \u001b[38;5;66;03m# Kiểm tra khoảng giá toàn cục\u001b[39;00m\n\u001b[0;32m      2\u001b[0m \u001b[38;5;28mprint\u001b[39m(\u001b[38;5;124m\"\u001b[39m\u001b[38;5;124mKhoảng giá toàn cục\u001b[39m\u001b[38;5;124m\"\u001b[39m)\n\u001b[1;32m----> 3\u001b[0m \u001b[38;5;28;01mfor\u001b[39;00m k, v \u001b[38;5;129;01min\u001b[39;00m price_range\u001b[38;5;241m.\u001b[39mitems():\n\u001b[0;32m      4\u001b[0m     \u001b[38;5;28mprint\u001b[39m(\u001b[38;5;124mf\u001b[39m\u001b[38;5;124m\"\u001b[39m\u001b[38;5;132;01m{\u001b[39;00mk\u001b[38;5;132;01m:\u001b[39;00m\u001b[38;5;124m>5\u001b[39m\u001b[38;5;132;01m}\u001b[39;00m\u001b[38;5;124m: \u001b[39m\u001b[38;5;132;01m{\u001b[39;00m\u001b[38;5;28mint\u001b[39m(v)\u001b[38;5;132;01m:\u001b[39;00m\u001b[38;5;124m,\u001b[39m\u001b[38;5;132;01m}\u001b[39;00m\u001b[38;5;124m\"\u001b[39m)\n",
      "\u001b[1;31mNameError\u001b[0m: name 'price_range' is not defined"
     ]
    }
   ],
   "source": [
    "# Kiểm tra khoảng giá toàn cục\n",
    "print(\"Khoảng giá toàn cục\")\n",
    "for k, v in price_range.items():\n",
    "    print(f\"{k:>5}: {int(v):,}\")"
   ]
  },
  {
   "cell_type": "code",
   "execution_count": null,
   "id": "f4c78efc-0f7a-412f-8e74-82e98b1884eb",
   "metadata": {},
   "outputs": [],
   "source": [
    "# Đếm số giá khác nhau trong từng dòng máy\n",
    "unique_prices_per_model = data.groupby('name')['price_new'].nunique().sort_values(ascending=False)\n",
    "print(\"\\nSố lượng giá khác nhau trong mỗi dòng máy:\")\n",
    "print(unique_prices_per_model)"
   ]
  },
  {
   "cell_type": "code",
   "execution_count": null,
   "id": "5cc2a26e-f6c9-4ddd-8b52-17f45b3cb842",
   "metadata": {
    "scrolled": true
   },
   "outputs": [],
   "source": [
    "# Đếm số mẫu mỗi dòng máy\n",
    "sample_count_per_model = data['name'].value_counts()\n",
    "print(\"\\nSố mẫu mỗi dòng máy:\")\n",
    "print(sample_count_per_model)"
   ]
  },
  {
   "cell_type": "markdown",
   "id": "63585f69-d209-4a52-9cf2-7da7363f459b",
   "metadata": {},
   "source": [
    "Giá và thông số khác biệt lớn giữa các dòng máy (từ vài trăm nghìn đến gần 50 triệu).\n",
    "Đa số dòng máy có giá giao động trong khoảng nhất định.\n",
    "Số lượng mẫu không đều giữa các dòng, xử lý toàn cục sẽ lệch kết quả.\n",
    "-> xử lý theo từng dòng máy (name)."
   ]
  },
  {
   "cell_type": "markdown",
   "id": "c0047467-687d-433c-ae63-c157b3748f07",
   "metadata": {},
   "source": []
  }
 ],
 "metadata": {
  "kernelspec": {
   "display_name": "base",
   "language": "python",
   "name": "python3"
  },
  "language_info": {
   "codemirror_mode": {
    "name": "ipython",
    "version": 3
   },
   "file_extension": ".py",
   "mimetype": "text/x-python",
   "name": "python",
   "nbconvert_exporter": "python",
   "pygments_lexer": "ipython3",
   "version": "3.12.3"
  }
 },
 "nbformat": 4,
 "nbformat_minor": 5
}
