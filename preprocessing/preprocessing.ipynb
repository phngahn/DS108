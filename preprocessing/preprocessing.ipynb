{
 "cells": [
  {
   "cell_type": "markdown",
   "id": "3ff0f84c",
   "metadata": {},
   "source": [
    "# Chuẩn hóa dữ liệu và Xử lý giá trị ngoại lai"
   ]
  },
  {
   "cell_type": "code",
   "execution_count": 1,
   "id": "769deb30-7a19-4800-98a9-4e6b5479b0f4",
   "metadata": {},
   "outputs": [],
   "source": [
    "import pandas as pd\n",
    "import numpy as np\n",
    "import re\n",
    "import ast\n",
    "import matplotlib.pyplot as plt\n",
    "import seaborn as sns\n",
    "pd.set_option('display.max_rows', None)"
   ]
  },
  {
   "cell_type": "code",
   "execution_count": 2,
   "id": "b6d5e327-1722-4273-8ab6-de65669c04c1",
   "metadata": {},
   "outputs": [],
   "source": [
    "data = pd.read_csv('updated_data.csv', encoding='utf-8-sig')"
   ]
  },
  {
   "cell_type": "code",
   "execution_count": 3,
   "id": "59c6c19e-e086-42ab-b894-176e073a9080",
   "metadata": {},
   "outputs": [
    {
     "name": "stdout",
     "output_type": "stream",
     "text": [
      "(10544, 23)\n"
     ]
    }
   ],
   "source": [
    "# Kiểm tra kích thước dữ liệu\n",
    "print(data.shape)"
   ]
  },
  {
   "cell_type": "code",
   "execution_count": 4,
   "id": "7027511b-7bed-4c3c-a540-24e59ba5257a",
   "metadata": {},
   "outputs": [
    {
     "name": "stdout",
     "output_type": "stream",
     "text": [
      "Index(['name', 'brand', 'color', 'condition', 'price_old', 'price_new',\n",
      "       'image', 'warranty', 'CPU', 'RAM', 'capacity', 'time', 'battery',\n",
      "       'screen_size', 'operating_system', 'display_technology',\n",
      "       'screen_resolution', 'SIM', 'size', 'weight', 'bluetooth',\n",
      "       'refresh_rate', 'GPU'],\n",
      "      dtype='object')\n"
     ]
    }
   ],
   "source": [
    "# Kiểm tra tên các cột của dữ liệu\n",
    "print(data.columns)"
   ]
  },
  {
   "cell_type": "markdown",
   "id": "bfb4b7b1",
   "metadata": {},
   "source": [
    "### Xử lí price_old, price_new"
   ]
  },
  {
   "cell_type": "code",
   "execution_count": 5,
   "id": "223a2fd8-0323-48ca-b57f-5f3263481a98",
   "metadata": {},
   "outputs": [],
   "source": [
    "# Chuyển đổi cột 'price_old' từ object sang Int64, giữ nguyên NaN\n",
    "data['price_old'] = data['price_old'].astype(str).str.replace('.', '', regex=False)\n",
    "data['price_old'] = data['price_old'].str.replace('₫', '', regex=False)\n",
    "data['price_old'] = data['price_old'].str.replace('đ', '', regex=False)\n",
    "data['price_old'] = pd.to_numeric(data['price_old'], errors='coerce').astype('Int64')\n",
    "\n",
    "# Chuyển đổi cột 'price_new' từ object sang Int64, giữ nguyên NaN\n",
    "data['price_new'] = data['price_new'].astype(str).str.replace('.', '', regex=False)\n",
    "data['price_new'] = data['price_new'].str.replace('₫', '', regex=False)\n",
    "data['price_new'] = data['price_new'].str.replace('đ', '', regex=False)\n",
    "data['price_new'] = pd.to_numeric(data['price_new'], errors='coerce').astype('Int64')"
   ]
  },
  {
   "cell_type": "markdown",
   "id": "6f1f0b20-2c83-4090-9cda-8eec394f70d2",
   "metadata": {},
   "source": [
    "### Xử lí cột color và image"
   ]
  },
  {
   "cell_type": "code",
   "execution_count": 6,
   "id": "80fbae96-775f-4767-8192-8e4e5210268a",
   "metadata": {
    "scrolled": true
   },
   "outputs": [
    {
     "name": "stdout",
     "output_type": "stream",
     "text": [
      "[\"['Bạc', 'Tím', 'Đen', 'Vàng']\"\n",
      " \"['Bạc', 'Xám', 'Xanh dương', 'Vàng', 'Xanh lá']\"\n",
      " \"['Bạc', 'Đen', 'Vàng', 'Tím']\" \"['Tím', 'Đen', 'Vàng', 'Xám']\"\n",
      " \"['Xanh dương', 'Tím', 'Đen', 'Xám', 'Vàng', 'Xanh Lục', 'Cam']\"\n",
      " \"['Đen', 'Vàng', 'Tím', 'Bạc']\"\n",
      " \"['Xanh lá', 'Bạc', 'Xám', 'Vàng', 'Xanh dương']\"\n",
      " \"['Tím', 'Đen', 'Vàng', 'Bạc']\"\n",
      " \"['Bạc', 'Xanh lá', 'Xám', 'Vàng', 'Xanh']\"\n",
      " \"['Hồng', 'Đen', 'Xanh dương', 'Xanh lá', 'Vàng']\"\n",
      " \"['Xanh lá', 'Tím', 'Đen', 'Kem', 'Xanh', 'Đỏ', 'Xám']\" \"['Đen', 'Xanh']\"\n",
      " \"['Tím', 'Xám', 'Vàng', 'Đen']\"\n",
      " \"['Titan Xanh', 'Titan Trắng', 'Titan Tự nhiên', 'Titan Đen']\"\n",
      " \"['Titan Trắng', 'Titan Đen', 'Titan Xanh', 'Titan Tự Nhiên']\"\n",
      " \"['Đen', 'Xanh', 'Tím', 'Kem']\" \"['Xanh dương', 'Hồng']\"\n",
      " \"['Trắng', 'Xanh', 'Tím', 'Đỏ', 'Đen', 'Vàng']\"\n",
      " \"['Titan Trắng', 'Titan Tự Nhiên', 'Titan Xanh', 'Titan Đen']\"\n",
      " \"['Vàng', 'Bạc', 'Đen', 'Tím']\"\n",
      " \"['Titan Tự Nhiên', 'Titan Trắng', 'Titan Xanh', 'Titan Đen']\"\n",
      " \"['Xanh lá', 'Hồng', 'Xanh dương', 'Đen', 'Vàng']\"\n",
      " \"['Đen', 'Trắng', 'Xanh dương', 'Đỏ', 'Vàng', 'Tím']\"\n",
      " \"['Trắng', 'Đỏ', 'Vàng', 'Tím', 'Xanh', 'Đen']\"\n",
      " \"['Đen', 'Titan Tự nhiên', 'Titan Trắng', 'Titan Vàng']\"\n",
      " \"['Vàng', 'Xanh dương', 'Xanh lá', 'Đen', 'Hồng']\"\n",
      " \"['Vàng', 'Đen', 'Tím']\"\n",
      " \"['Trắng', 'Vàng', 'Đen', 'Đỏ', 'Xanh dương', 'Tím']\"\n",
      " \"['Xanh lá', 'Trắng', 'Đen', 'Hồng', 'Xanh dương', 'Đỏ']\"\n",
      " \"['Xanh', 'Vàng', 'Đen']\" \"['Vàng', 'Đen', 'Tím', 'Bạc']\"\n",
      " \"['Xanh dương', 'Hồng', 'Đen', 'Vàng', 'Xanh lá']\"\n",
      " \"['Titan Đen', 'Titan Trắng', 'Titan Vàng', 'Titan Tự Nhiên']\"\n",
      " \"['Titan Đen', 'Titan Vàng', 'Titan Tự Nhiên', 'Titan Trắng']\"\n",
      " \"['Xanh dương', 'Đen']\" \"['Tím', 'Đen', 'Xanh lá']\"\n",
      " \"['Titan Đen', 'Titan Trắng', 'Titan Tự Nhiên', 'Titan Xanh']\"\n",
      " \"['Hồng', 'Đỏ', 'Xanh dương', 'Xanh lá', 'Đen', 'Trắng']\"\n",
      " \"['Xanh dương', 'Xanh lá', 'Đen', 'Trắng']\"\n",
      " \"['Bạc', 'Vàng', 'Xám', 'Xanh']\" \"['Tím', 'Đen', 'Bạc', 'Vàng']\"\n",
      " \"['Titan Trắng', 'Titan Đen', 'Titan Tự Nhiên', 'Titan Xanh']\"\n",
      " \"['Bạc', 'Xám', 'Vàng', 'Xanh dương', 'Xanh lá']\"\n",
      " \"['Bạc', 'Xám', 'Vàng', 'Xanh']\" \"['Vàng', 'Xanh', 'Bạc']\"\n",
      " \"['Xám', 'Xanh lá', 'Bạc', 'Vàng', 'Xanh dương']\"\n",
      " \"['Titan Xanh', 'Titan Trắng', 'Titan Tự Nhiên', 'Đen']\"\n",
      " \"['Vàng', 'Bạc', 'Xanh dương', 'Xanh lá', 'Xám']\"\n",
      " \"['Trắng', 'Hồng', 'Đỏ', 'Xanh lá', 'Đen', 'Xanh dương']\"\n",
      " \"['Vàng', 'Xám', 'Đen', 'Xanh dương', 'Xanh Lục', 'Cam', 'Tím']\"\n",
      " \"['Tím', 'Vàng', 'Đen', 'Xám', 'Xanh dương', 'Xanh Lục']\"\n",
      " \"['Đen', 'Hồng', 'Xanh lá', 'Trắng', 'Đỏ', 'Xanh dương']\"\n",
      " \"['Tím', 'Trắng', 'Xanh lá', 'Đỏ', 'Xanh', 'Đen']\"\n",
      " \"['Tím', 'Trắng', 'Xanh lá', 'Đen', 'Xanh dương', 'Đỏ']\"\n",
      " \"['Xanh', 'Đen']\" \"['Tím', 'Kem', 'Xanh', 'Đen']\" \"['Titan Vàng']\"\n",
      " \"['Đen', 'Trắng', 'Đỏ', 'Xanh dương', 'Xanh lá', 'Hồng']\"\n",
      " \"['Đỏ', 'Xanh dương', 'Tím', 'Đen', 'Vàng', 'Trắng']\"\n",
      " \"['Hồng', 'Xanh lá', 'Xanh dương', 'Vàng', 'Đen']\"\n",
      " \"['Trắng', 'Đen', 'Xanh lá', 'Xanh dương']\"\n",
      " \"['Hồng', 'Xanh dương', 'Vàng', 'Đen', 'Xanh lá']\"\n",
      " \"['Xanh nhạt', 'Tím nhạt', 'Đen']\"\n",
      " \"['Kem', 'Đen', 'Tím', 'Xanh', 'Đỏ', 'Xám', 'Xanh dương nhạt']\"\n",
      " \"['Tím', 'Xanh lá', 'Trắng', 'Xám']\"\n",
      " \"['Xám', 'Tím', 'Trắng', 'Đen', 'Xanh Lục', 'Đỏ']\"\n",
      " \"['Trắng', 'Đen', 'Xanh lá', 'Xanh dương', 'Đỏ', 'Hồng']\"\n",
      " \"['Tím', 'Xanh', 'Đen', 'Trắng', 'Vàng', 'Xanh lá', 'Đỏ']\"\n",
      " \"['Hồng', 'Đen', 'Trắng', 'Xanh lá']\"\n",
      " \"['Xanh dương', 'Tím', 'Xám', 'Đen', 'Vàng', 'Cam', 'Xanh Lục']\"\n",
      " \"['Đen', 'Xanh dương', 'Xám']\"\n",
      " \"['Đen', 'Xanh dương', 'Đỏ', 'Xanh', 'Trắng', 'Tím']\"\n",
      " \"['Kem', 'Tím', 'Xám']\"\n",
      " \"['Titan Trắng', 'Titan Vàng', 'Titan Đen', 'Titan Tự Nhiên']\"\n",
      " \"['Xanh', 'Xám', 'Bạc', 'Vàng']\" \"['Xám', 'Xanh dương', 'Hồng', 'Trắng']\"\n",
      " \"['Vàng', 'Trắng', 'Xanh dương', 'Đen', 'Đỏ', 'Tím']\"\n",
      " \"['Đen', 'Xanh lá', 'Xanh dương', 'Xám']\"\n",
      " \"['Xanh dương', 'Trắng/bạc', 'Đen', 'Xám']\"\n",
      " \"['Trắng', 'Đen', 'Tím', 'Đỏ', 'Xanh dương']\" \"['Đen', 'Tím', 'Xanh']\"\n",
      " \"['Đen', 'Vàng', 'Tím']\"\n",
      " \"['Xanh dương', 'Đen', 'Đỏ', 'Tím', 'Trắng', 'Xanh lá']\"\n",
      " \"['Trắng', 'Xanh lá', 'Vàng', 'Xanh dương', 'Xám', 'Đen']\"\n",
      " \"['Trắng', 'Tím', 'Vàng', 'Xanh', 'Xanh lá', 'Đỏ', 'Đen']\"\n",
      " \"['Tím', 'Đen', 'Xanh']\"\n",
      " \"['Xanh lá', 'Xanh dương', 'Xám', 'Vàng', 'Bạc']\"\n",
      " \"['Xanh lá', 'Xanh', 'Vàng', 'Trắng', 'Đen', 'Tím', 'Đỏ']\"\n",
      " \"['Đỏ', 'Xanh dương', 'Trắng', 'Vàng', 'Tím', 'Đen']\"\n",
      " \"['Tím', 'Đỏ', 'Xanh lá', 'Trắng', 'Đen', 'Xanh dương']\"\n",
      " \"['Xanh lá', 'Đen', 'Xanh dương', 'Hồng', 'Vàng']\" \"['Xanh']\"\n",
      " \"['Vàng', 'Đen']\" \"['Bạc', 'Xanh', 'Đen']\"\n",
      " \"['Tím', 'Vàng', 'Đen', 'Bạc']\" \"['Tím nhạt', 'Đen', 'Xanh nhạt']\"\n",
      " \"['Titan Trắng', 'Titan Xanh', 'Titan Đen']\"\n",
      " \"['Vàng', 'Bạc', 'Xanh', 'Xám']\" \"['Xám', 'Xanh', 'Vàng', 'Bạc']\"\n",
      " \"['Đen', 'Bạc']\" \"['Cam', 'Xanh lá']\"\n",
      " \"['Xanh lá', 'Trắng', 'Xanh dương', 'Đen', 'Hồng']\"\n",
      " \"['Hồng', 'Đỏ', 'Trắng', 'Xanh lá', 'Xanh dương']\"\n",
      " \"['Vàng', 'Trắng', 'Tím', 'Xanh', 'Đỏ', 'Đen']\"\n",
      " \"['Xanh lá', 'Xanh dương', 'Đen', 'Hồng']\"\n",
      " \"['Đen', 'Trắng', 'Xanh lá', 'Hồng', 'Xanh dương', 'Đỏ']\"\n",
      " \"['Hồng', 'Bạc']\" \"['Nâu Đồng', 'Bạc', 'Cam']\" \"['Đen', 'Hồng', 'Vàng']\"\n",
      " \"['Xám', 'Đen', 'Xanh dương', 'Trắng/bạc']\" \"['Cam', 'Xanh']\"\n",
      " \"['Xanh dương', 'Xám bạc', 'Xanh navy', 'Xanh lá']\" \"['Xanh lá', 'Xám']\"\n",
      " \"['Titan Xanh', 'Titan Tự Nhiên', 'Titan Đen', 'Titan Trắng']\"\n",
      " \"['Trắng', 'Hồng', 'Đen']\"\n",
      " \"['Xám', 'Xanh lá', 'Vàng', 'Xanh dương', 'Bạc']\"\n",
      " \"['Titan Đen', 'Titan Vàng']\" \"['Tím', 'Đen', 'Vàng']\"\n",
      " \"['Xanh dương', 'Vàng']\" \"['Nâu Đồng', 'Bạc']\"\n",
      " \"['Tím', 'Xám', 'Trắng', 'Xanh lá']\" \"['Xám', 'Tím']\"\n",
      " \"['Vàng', 'Xanh lá', 'Đen']\"\n",
      " \"['Đen', 'Cam', 'Tím', 'Vàng', 'Xám', 'Xanh dương', 'Xanh Lục']\"\n",
      " \"['Titan Tự Nhiên', 'Titan Đen', 'Titan Xanh', 'Titan Trắng']\"\n",
      " \"['Tím', 'Kem', 'Xanh', 'Đen', 'Hồng']\"\n",
      " \"['Xám', 'Xanh lá', 'Xanh dương', 'Vàng']\"\n",
      " \"['Đen', 'Xanh nhạt', 'Tím nhạt']\" \"['Đen', 'Vàng', 'Xanh']\"\n",
      " \"['Đen', 'Xanh lá', 'Xanh dương', 'Đỏ', 'Trắng', 'Tím']\"\n",
      " \"['Xanh lá', 'Đen', 'Vàng', 'Xám', 'Xanh dương']\"\n",
      " \"['Xanh bạc hà', 'Xám', 'Vàng']\" \"['Tím']\"\n",
      " \"['Đen', 'Đỏ', 'Xanh dương', 'Trắng', 'Tím', 'Xanh lá']\"\n",
      " \"['Trắng', 'Hồng', 'Xanh dương', 'Xám']\" \"['Xanh', 'Đen', 'Vàng', 'Tím']\"\n",
      " \"['Đen', 'Tím', 'Xanh', 'Xám', 'Đỏ', 'Kem']\"\n",
      " \"['Titan Đen', 'Titan Trắng', 'Titan Tự Nhiên', 'Titan Vàng']\"\n",
      " \"['Titan trắng', 'Titan Xanh', 'Titan Tự nhiên', 'Titan Đen']\"\n",
      " \"['Cam', 'Xám', 'Xanh dương', 'Tím']\"\n",
      " \"['Trắng', 'Xanh lá', 'Xám', 'Tím']\"\n",
      " \"['Xanh lá', 'Bạc', 'Xám', 'Xanh dương', 'Vàng']\"\n",
      " \"['Xám', 'Đen', 'Vàng', 'Tím']\" \"['Bạc', 'Vàng', 'Đen', 'Tím']\"\n",
      " \"['Bạc', 'Xám', 'Xanh lá', 'Xanh dương', 'Vàng']\"\n",
      " \"['Trắng', 'Xanh dương', 'Đen', 'Xanh lá', 'Đỏ', 'Hồng']\"\n",
      " \"['Đen', 'Vàng']\" \"['Bạc', 'Xanh dương', 'Vàng', 'Xám', 'Xanh lá']\"\n",
      " \"['Vàng', 'Xám', 'Xanh dương', 'Bạc', 'Xanh lá']\"\n",
      " \"['Xanh nhạt', 'Đen', 'Vàng']\" \"['Xanh dương', 'Xanh lá', 'Đen']\"\n",
      " \"['Xanh navy', 'Xám', 'Xanh lá']\"\n",
      " \"['Xanh lá', 'Đen', 'Trắng', 'Xanh dương', 'Đỏ', 'Tím']\"\n",
      " \"['Đen', 'Xanh', 'Vàng']\" \"['Xanh', 'Đen', 'Bạc']\"\n",
      " \"['Đen', 'Tím', 'Bạc', 'Vàng']\"\n",
      " \"['Titan Đen', 'Titan Trắng', 'Titan Xanh', 'Titan Tự Nhiên']\"\n",
      " \"['Tím', 'Vàng']\" \"['Trắng', 'Đen']\"\n",
      " \"['Đen', 'Xanh dương nhạt', 'Xanh lá']\"\n",
      " \"['Tím', 'Xanh', 'Đen', 'Đỏ', 'Trắng', 'Xanh lá']\" \"['Đỏ', 'Trắng']\"\n",
      " \"['Xanh lá', 'Tím', 'Đen']\" \"['Titan Xanh', 'Đen']\" \"['Xanh', 'Vàng']\"\n",
      " \"['Đen', 'Hồng', 'Xanh lá']\" \"['Vàng', 'Xám', 'Đen', 'Tím']\"\n",
      " \"['Xanh Đen', 'Tím']\" \"['Tím', 'Đen']\"\n",
      " \"['Titan Trắng', 'Titan Xanh', 'Titan Tự nhiên', 'Titan Đen']\"\n",
      " \"['Bạc', 'Xanh', 'Vàng', 'Xám']\"\n",
      " \"['Đỏ', 'Trắng', 'Xanh dương', 'Tím', 'Đen']\"\n",
      " \"['Titan Trắng', 'Titan Xanh', 'Titan Đen', 'Titan Tự Nhiên']\"\n",
      " \"['Tím', 'Xám', 'Xanh lá', 'Trắng']\"\n",
      " \"['Đỏ', 'Đen', 'Trắng', 'Xanh lá', 'Tím', 'Xanh dương']\"\n",
      " \"['Titan Đen', 'Titan Trắng', 'Titan Xanh', 'Titan Tự nhiên']\"\n",
      " \"['Trắng', 'Hồng', 'Xanh lá', 'Xanh dương', 'Đen']\"\n",
      " \"['Đen', 'Tím', 'Trắng', 'Xanh dương']\"\n",
      " \"['Trắng', 'Tím', 'Xanh lá', 'Xám']\" \"['Xanh đậm', 'Bạc', 'Xanh nhạt']\"\n",
      " \"['Xanh dương', 'Đen', 'Hồng']\" \"['Titan Tự Nhiên', 'Titan Vàng']\"\n",
      " \"['Xanh dương', 'Xanh lá', 'Xám', 'Bạc', 'Vàng']\"\n",
      " \"['Đỏ', 'Kem', 'Xanh dương', 'Tím', 'Đen', 'Xanh', 'Xám than']\"\n",
      " \"['Xanh nhạt', 'Xám nhạt']\"\n",
      " \"['Đỏ', 'Đen', 'Xanh', 'Tím', 'Vàng', 'Trắng']\" \"['Hồng', 'Đen']\"\n",
      " \"['Xanh dương', 'Xám']\" \"['Tím', 'Đen', 'Xanh dương', 'Trắng']\"\n",
      " \"['Trắng/bạc']\" \"['Tím', 'Xám']\" \"['Xanh', 'Bạc', 'Đen']\"\n",
      " \"['Đen', 'Tím']\" \"['Kem', 'Xanh', 'Đen', 'Tím']\"\n",
      " \"['Xanh dương', 'Tím', 'Trắng', 'Xám', 'Xanh lá']\" \"['Đen']\"\n",
      " \"['Tím', 'Đen', 'Xám']\" \"['Xanh dương', 'Vàng', 'Hồng']\"\n",
      " \"['Xanh lá', 'Xám', 'Xanh dương', 'Vàng', 'Hồng đào']\"\n",
      " \"['Xanh dương', 'Vàng', 'Xám']\" \"['Đen', 'Trắng']\"\n",
      " \"['Tím', 'Xanh dương', 'Đỏ']\"\n",
      " \"['Cam', 'Đen', 'Xanh dương', 'Xám', 'Tím', 'Vàng']\" \"['Xám']\"\n",
      " \"['Xanh', 'Tím', 'Trắng', 'Đen']\"\n",
      " \"['Đen', 'Trắng', 'Hồng', 'Xanh dương']\"\n",
      " \"['Titan Xanh', 'Titan Tự Nhiên', 'Titan Trắng']\"\n",
      " \"['Đen', 'Vàng', 'Xám']\" \"['Xanh', 'Cam', 'Đen', 'Tím', 'Vàng', 'Xám']\"\n",
      " \"['Đỏ', 'Xanh dương', 'Tím', 'Xanh']\"\n",
      " \"['Xanh lá', 'Xám', 'Vàng', 'Cam', 'Xanh dương']\"\n",
      " \"['Xanh dương', 'Hồng', 'Xám', 'Trắng']\" \"['Xanh', 'Đen', 'Vàng']\"\n",
      " \"['Xanh dương', 'Trắng', 'Hồng', 'Đen', 'Xám']\" \"['Xám', 'Xanh dương']\"\n",
      " \"['Đen', 'Hồng']\" \"['Xám', 'Vàng', 'Bạc', 'Xanh dương', 'Xanh lá']\"\n",
      " \"['Xanh lá', 'Cam']\" \"['Xám bạc']\" \"['Xám', 'Đen']\"\n",
      " \"['Xanh lá', 'Đen', 'Vàng']\" \"['Hồng']\"\n",
      " \"['Titan Xanh', 'Titan Trắng', 'Titan Tự Nhiên']\"\n",
      " \"['Tím', 'Đỏ', 'Trắng', 'Đen', 'Vàng', 'Xanh']\"\n",
      " \"['Xanh lá', 'Xám', 'Xanh dương']\" \"['Bạc', 'Hồng', 'Nâu Đồng']\"\n",
      " \"['Hồng', 'Xanh dương', 'Xám']\" \"['Xanh', 'Xám', 'Đen', 'Kem', 'Tím']\"\n",
      " \"['Đen', 'Trắng', 'Vàng', 'Tím', 'Đỏ', 'Xanh']\"\n",
      " \"['Xám', 'Xanh lá', 'Vàng']\" \"['Đen', 'Tím', 'Trắng']\"\n",
      " \"['Đen', 'Xanh lá']\" \"['Xanh lá', 'Tím', 'Xám', 'Trắng']\"\n",
      " \"['Xám', 'Vàng', 'Đen']\" \"['Xanh', 'Trắng']\" \"['Xanh nhạt', 'Đen']\"\n",
      " \"['Vàng']\" \"['Xanh lá', 'Trắng', 'Tím', 'Xám']\"\n",
      " \"['Xanh dương', 'Hồng', 'Xám']\" \"['Vàng', 'Xám', 'Đen']\"\n",
      " \"['Xanh dương', 'Xanh lá']\" \"['Đen', 'Vàng Đồng']\"\n",
      " \"['Vàng', 'Đen', 'Xám']\"\n",
      " \"['Xanh', 'Tím', 'Đen', 'Xanh dương nhạt', 'Xám']\" \"['Xanh', 'Cam']\"\n",
      " \"['Xanh lá', 'Bạc', 'Xám', 'Vàng']\" \"['Đen', 'Đỏ', 'Trắng', 'Xanh']\"\n",
      " \"['Titan Tự Nhiên']\" \"['Bạc', 'Nâu Đồng']\" \"['Xanh dương', 'Xám', 'Đen']\"\n",
      " \"['Trắng', 'Đỏ', 'Tím', 'Đen', 'Vàng', 'Xanh dương']\"\n",
      " \"['Xanh dương nhạt', 'Đen', 'Xanh lá']\"\n",
      " \"['Xanh', 'Tím', 'Hồng', 'Đen', 'Kem']\" \"['Xanh dương', 'Xám', 'Vàng']\"\n",
      " \"['Đen', 'Xanh dương nhạt']\" \"['Tím', 'Vàng', 'Bạc', 'Đen']\"\n",
      " \"['Vàng', 'Tím']\" \"['Đen', 'Xanh', 'Bạc']\" 'Màu: Xanh mint'\n",
      " 'Màu: Xanh Bạc Hà' 'Màu: Xanh Dương' 'Màu: Xám' 'Màu: Đen' 'Màu: Xanh'\n",
      " 'Màu: Đỏ' 'Màu: Tím' 'Màu: Vàng' 'Màu: Xanh Lá Mạ' 'Màu: Kem'\n",
      " 'Màu: Xanh lá' 'Màu: Xanh rêu' 'Màu: Xanh lá nhạt' 'Màu: Bạc'\n",
      " 'Màu: Xanh dương đậm' 'Màu: Xanh dương nhạt' 'Màu: Hồng' 'Màu: Xanh Navy'\n",
      " 'Màu: Xanh Đậm' 'Màu: Xanh nhạt' 'Màu: Trắng' 'Màu: Hồng nhạt'\n",
      " 'Màu: Vàng nhạt' 'Màu: Nâu' 'Màu: Titan tự nhiên' 'Màu: Titan đen'\n",
      " 'Màu: Titan trắng' 'Màu: Titan xanh' 'Màu: Tím nhạt' 'Màu: Đen - Đỏ'\n",
      " 'Màu: Xanh ngọc' 'Màu: Xanh Lưu Ly' 'Màu: Xanh Mòng Két'\n",
      " 'Màu: Trắng - Xanh' 'Màu: Xanh đen' 'Màu: Cam' 'Màu: Xanh da trời'\n",
      " 'Màu: Vàng đồng' 'Màu: Titan Sa Mạc' 'Màu: Đỏ đô' 'Màu: Đen - Tím'\n",
      " 'Màu: Xanh Lam Nhạt' 'Màu: Xanh Nước Biển' 'Màu: Trắng - Bạc'\n",
      " 'Màu: Trắng - Vàng']\n"
     ]
    }
   ],
   "source": [
    "print(data['color'].unique())"
   ]
  },
  {
   "cell_type": "code",
   "execution_count": 7,
   "id": "f908f7f5-886c-4571-8b31-ad8e265242b3",
   "metadata": {},
   "outputs": [
    {
     "name": "stdout",
     "output_type": "stream",
     "text": [
      "[\"['https://cellphones.com.vn/iphone-14-pro-max-cu-tray-xuoc.html?product_id=64176', 'https://cellphones.com.vn/iphone-14-pro-max-cu-tray-xuoc.html?product_id=61437', 'https://cellphones.com.vn/iphone-14-pro-max-cu-tray-xuoc.html?product_id=60045', 'https://cellphones.com.vn/iphone-14-pro-max-cu-tray-xuoc.html?product_id=57572']\"\n",
      " \"['https://cellphones.com.vn/iphone-13-pro-max-128gb-cu-tray-xuoc.html?product_id=55443', 'https://cellphones.com.vn/iphone-13-pro-max-128gb-cu-tray-xuoc.html?product_id=51283', 'https://cellphones.com.vn/iphone-13-pro-max-128gb-cu-tray-xuoc.html?product_id=48422', 'https://cellphones.com.vn/iphone-13-pro-max-128gb-cu-tray-xuoc.html?product_id=47724', 'https://cellphones.com.vn/iphone-13-pro-max-128gb-cu-tray-xuoc.html?product_id=48951']\"\n",
      " \"['https://cellphones.com.vn/iphone-14-pro-max-cu-dep.html?product_id=62538', 'https://cellphones.com.vn/iphone-14-pro-max-cu-dep.html?product_id=58121', 'https://cellphones.com.vn/iphone-14-pro-max-cu-dep.html?product_id=57885', 'https://cellphones.com.vn/iphone-14-pro-max-cu-dep.html?product_id=57065']\"\n",
      " ...\n",
      " 'https://cdnv2.tgdd.vn/posimageused/posused/2025/04/24/0_46256995_realme135g8256gbtim_1745495084257.jpg'\n",
      " 'https://cdnv2.tgdd.vn/posimageused//posused/2025/05/02/0_46323273_tecnospark305g6128gbden_1746168301826.jpg'\n",
      " 'https://cdnv2.tgdd.vn/posimageused//posused/2025/05/13/0_46365928_samsunggalaxya06a065f4g128gbxanhla_1747101369978.jpg']\n"
     ]
    }
   ],
   "source": [
    "print(data['image'].unique())"
   ]
  },
  {
   "cell_type": "markdown",
   "id": "4d6cab09-25e3-452f-949e-34daca1c5eb5",
   "metadata": {},
   "source": [
    "Với dữ liệu lấy từ cellphones thì color và image là một list gồm nhiều màu và ảnh khác nhau -> Xử lí cột 'color' và 'image' bằng cách: với mỗi màu trong 1 mẫu điện thoại tạo một dòng dữ liệu mới kèm với hình ảnh tương ứng.  \n",
    "Với dữ liệu lấy từ thế giới di động, loại bỏ chuỗi \"Màu: \""
   ]
  },
  {
   "cell_type": "code",
   "execution_count": 8,
   "id": "1e87b0ef-760f-42ab-987f-756f7b721638",
   "metadata": {},
   "outputs": [],
   "source": [
    "# Loại bỏ chuỗi \"Màu: \" trong cột 'color'\n",
    "data['color'] = data['color'].str.replace('Màu: ', '', regex=False)"
   ]
  },
  {
   "cell_type": "code",
   "execution_count": 9,
   "id": "dddc59b5-6ff2-4658-867e-edfd14722150",
   "metadata": {},
   "outputs": [],
   "source": [
    "# Xử lý cột 'color' và 'image': với mỗi màu trong 1 mẫu điện thoại tạo một dòng dữ liệu mới kèm với hình ảnh tương ứng\n",
    "\n",
    "# Khởi tạo các cột mới để lưu các list đã parse\n",
    "data['parsed_color_list'] = [[] for _ in range(len(data))]\n",
    "data['parsed_image_list'] = [[] for _ in range(len(data))]\n",
    "\n",
    "# Tiền xử lý image\n",
    "data['image'] = data['image'].str.replace('https://img.tgdd.vn/imgt/old/f_webp,fit_outside,quality_75/', '', regex=False)\n",
    "\n",
    "for index, row in data.iterrows():\n",
    "    # Xử lý cột 'color'\n",
    "    color_str = str(row['color']).strip()\n",
    "    \n",
    "    if color_str.lower() in ['', 'nan', 'none']:\n",
    "        parsed_colors = []\n",
    "    elif color_str.startswith('[') and color_str.endswith(']'):\n",
    "        parsed_list = ast.literal_eval(color_str)\n",
    "        if isinstance(parsed_list, list):\n",
    "            cleaned_colors = [str(c).strip() for c in parsed_list if str(c).strip() != '']\n",
    "            parsed_colors = cleaned_colors\n",
    "        else:\n",
    "            parsed_colors = []\n",
    "    else:\n",
    "        parsed_colors = [c.strip() for c in color_str.split(',') if c.strip() != '']\n",
    "    data.at[index, 'parsed_color_list'] = parsed_colors\n",
    "\n",
    "    # Xử lý cột 'image'\n",
    "    img_url_str = str(row['image']).strip()\n",
    "\n",
    "    if img_url_str.lower() in ['', 'nan', 'none']:\n",
    "        parsed_images = []\n",
    "    elif img_url_str.startswith('[') and img_url_str.endswith(']'):\n",
    "        parsed_list = ast.literal_eval(img_url_str)\n",
    "        if isinstance(parsed_list, list):\n",
    "            cleaned_urls = [str(u).strip() for u in parsed_list if str(u).strip() != '']\n",
    "            parsed_images = cleaned_urls\n",
    "        else:\n",
    "            parsed_images = []\n",
    "    else:\n",
    "        urls = [u.strip() for u in img_url_str.split(',') if u.strip() != '']\n",
    "        parsed_images = urls\n",
    "    data.at[index, 'parsed_image_list'] = parsed_images\n",
    "\n",
    "# Tạo một cột tạm thời chứa các list of tuples\n",
    "data['color_image_list_of_tuples'] = [[] for _ in range(len(data))]\n",
    "\n",
    "for index, row in data.iterrows():\n",
    "    colors = row['parsed_color_list']\n",
    "    images = row['parsed_image_list']\n",
    "    \n",
    "    len_colors = len(colors)\n",
    "    len_images = len(images)\n",
    "\n",
    "    if len_colors == 0 and len_images == 0:\n",
    "        data.at[index, 'color_image_list_of_tuples'] = [(np.nan, np.nan)]\n",
    "    # Nếu chỉ có màu, điền NaN cho ảnh\n",
    "    elif len_colors > 0 and len_images == 0:\n",
    "        data.at[index, 'color_image_list_of_tuples'] = [(color, np.nan) for color in colors]\n",
    "    # Nếu chỉ có ảnh, điền NaN cho màu\n",
    "    elif len_images > 0 and len_colors == 0:\n",
    "        data.at[index, 'color_image_list_of_tuples'] = [(np.nan, image) for image in images]\n",
    "    # Độ dài không khớp:\n",
    "    else:\n",
    "        max_len = max(len_colors, len_images)\n",
    "        temp_tuples = []\n",
    "        for i in range(max_len):\n",
    "            color_val = colors[i] if i < len_colors else np.nan\n",
    "            image_val = images[i] if i < len_images else np.nan\n",
    "            temp_tuples.append((color_val, image_val))\n",
    "        data.at[index, 'color_image_list_of_tuples'] = temp_tuples\n",
    "\n",
    "# Explode cột chứa list các tuple\n",
    "data_exploded = data.explode('color_image_list_of_tuples')\n",
    "\n",
    "# Loại bỏ các cột không cần thiết\n",
    "data_exploded = data_exploded.drop(columns=[\n",
    "    'image',\n",
    "    'color',\n",
    "    'parsed_color_list',\n",
    "    'parsed_image_list',\n",
    "], errors='ignore')\n",
    "\n",
    "# Tạo các cột 'color' và 'image' mới từ cột tuple đã explode\n",
    "data_exploded['color'] = data_exploded['color_image_list_of_tuples'].apply(lambda x: x[0])\n",
    "data_exploded['image'] = data_exploded['color_image_list_of_tuples'].apply(lambda x: x[1])\n",
    "data_exploded = data_exploded.drop(columns='color_image_list_of_tuples')\n",
    "data = data_exploded.copy()"
   ]
  },
  {
   "cell_type": "code",
   "execution_count": 10,
   "id": "9463fd30",
   "metadata": {},
   "outputs": [
    {
     "name": "stdout",
     "output_type": "stream",
     "text": [
      "['Bạc' 'Tím' 'Đen' 'Vàng' 'Xám' 'Xanh dương' 'Xanh lá' 'Xanh Lục' 'Cam'\n",
      " 'Xanh' 'Hồng' 'Kem' 'Đỏ' 'Titan Xanh' 'Titan Trắng' 'Titan Tự nhiên'\n",
      " 'Titan Đen' 'Titan Tự Nhiên' 'Trắng' 'Titan Vàng' 'Xanh nhạt' 'Tím nhạt'\n",
      " 'Xanh dương nhạt' 'Trắng/bạc' 'Nâu Đồng' 'Xám bạc' 'Xanh navy'\n",
      " 'Xanh bạc hà' 'Titan trắng' 'Xanh Đen' 'Xanh đậm' 'Xám than' 'Xám nhạt'\n",
      " 'Hồng đào' 'Vàng Đồng' 'Xanh mint' 'Xanh Bạc Hà' 'Xanh Dương'\n",
      " 'Xanh Lá Mạ' 'Xanh rêu' 'Xanh lá nhạt' 'Xanh dương đậm' 'Xanh Navy'\n",
      " 'Xanh Đậm' 'Hồng nhạt' 'Vàng nhạt' 'Nâu' 'Titan tự nhiên' 'Titan đen'\n",
      " 'Titan xanh' 'Đen - Đỏ' 'Xanh ngọc' 'Xanh Lưu Ly' 'Xanh Mòng Két'\n",
      " 'Trắng - Xanh' 'Xanh đen' 'Xanh da trời' 'Vàng đồng' 'Titan Sa Mạc'\n",
      " 'Đỏ đô' 'Đen - Tím' 'Xanh Lam Nhạt' 'Xanh Nước Biển' 'Trắng - Bạc'\n",
      " 'Trắng - Vàng']\n"
     ]
    }
   ],
   "source": [
    "print(data['color'].unique())"
   ]
  },
  {
   "cell_type": "code",
   "execution_count": 11,
   "id": "839198a2",
   "metadata": {},
   "outputs": [],
   "source": [
    "data['color'] = data['color'].str.lower()\n",
    "# Thay thế dấu '-' và '/' trong cột 'color', sau đó xóa khoảng trắng thừa\n",
    "data['color'] = data['color'].str.replace('-', ' ', regex=True) \\\n",
    "                             .str.replace('/', ' ', regex=True) \\\n",
    "                             .str.replace(r'\\s+', ' ', regex=True) \\\n",
    "                             .str.strip()"
   ]
  },
  {
   "cell_type": "markdown",
   "id": "92102b31-228d-49d1-8ebe-4bfe23adc511",
   "metadata": {},
   "source": [
    "### Xử lí cột condition"
   ]
  },
  {
   "cell_type": "code",
   "execution_count": 12,
   "id": "2e3dd9c3-5638-4bf1-82d4-96273a2f8a0a",
   "metadata": {},
   "outputs": [
    {
     "name": "stdout",
     "output_type": "stream",
     "text": [
      "condition\n",
      "Có trầy xước                      10221\n",
      "Cũ Đẹp                              336\n",
      "Cũ Trầy Xước                        303\n",
      "Cũ Xước Cấn                         193\n",
      "Đã Kích Hoạt                        180\n",
      "Cũ                                   43\n",
      "Cũ đẹp                               32\n",
      "Cũ trầy xước                         16\n",
      "Đã kích hoạt                         14\n",
      "Cũ xước cấn                          11\n",
      "đã kích hoạt                          6\n",
      "Đã kích hoạt bảo hành VN/A            6\n",
      "Chính hãng (VN/A) Đã kích hoạt        4\n",
      "Cũ Trầy xước                          4\n",
      "256GB)                                3\n",
      "Hàng trưng bày                        2\n",
      "Name: count, dtype: int64\n"
     ]
    }
   ],
   "source": [
    "print(data['condition'].value_counts())"
   ]
  },
  {
   "cell_type": "markdown",
   "id": "29ad78f7-25ca-4320-8e7a-137255068b07",
   "metadata": {},
   "source": [
    "Cần thống nhất nội dung trong thuộc tính, chỉ giữ lại tình trạng sản phẩm"
   ]
  },
  {
   "cell_type": "code",
   "execution_count": 13,
   "id": "5919c7ee-695c-42e0-8992-6d6413c56e7e",
   "metadata": {},
   "outputs": [],
   "source": [
    "condition_normalization_map = {\n",
    "    'cũ trầy xước': 'Cũ trầy xước',\n",
    "    'cũ xước cấn': 'Cũ trầy xước cấn',\n",
    "    'cũ đẹp': 'Cũ đẹp',\n",
    "    'hàng trưng bày': 'Hàng trưng bày',\n",
    "    'đã kích hoạt': 'Đã kích hoạt',\n",
    "    'chính hãng (vn/a) đã kích hoạt': 'Đã kích hoạt (Chính Hãng VN/A)',\n",
    "    'đã kích hoạt bảo hành vn/a': 'Đã kích hoạt (Bảo Hành VN/A)',\n",
    "    'đổi bảo hành': 'Đổi bảo hành',\n",
    "    'đổi bảo hành (vn/a)': 'Đổi Bảo Hành (VN/A)',\n",
    "    'đổi bảo hành vn/a': 'Đổi Bảo Hành (VN/A)',\n",
    "    'xước cấn': 'Cũ trầy xước cấn',\n",
    "    'cũ': 'Cũ',\n",
    "    'chính hãng đã kích hoạt': 'Đã kích hoạt (Chính Hãng)',\n",
    "    '256gb)': 'Cũ',\n",
    "    'có trầy xước': 'Cũ trầy xước'\n",
    "}\n",
    "condition = data['condition']\n",
    "data['condition'] = data['condition'].astype(str).str.lower()\n",
    "data['condition'] = data['condition'].map(condition_normalization_map) \n",
    "data['condition'] = data['condition'].fillna(condition)\n",
    "data['condition'] = data['condition'].str.strip()"
   ]
  },
  {
   "cell_type": "code",
   "execution_count": 14,
   "id": "755d478e",
   "metadata": {},
   "outputs": [
    {
     "name": "stdout",
     "output_type": "stream",
     "text": [
      "condition\n",
      "Cũ trầy xước                      10544\n",
      "Cũ đẹp                              368\n",
      "Cũ trầy xước cấn                    204\n",
      "Đã kích hoạt                        200\n",
      "Cũ                                   46\n",
      "Đã kích hoạt (Bảo Hành VN/A)          6\n",
      "Đã kích hoạt (Chính Hãng VN/A)        4\n",
      "Hàng trưng bày                        2\n",
      "Name: count, dtype: int64\n"
     ]
    }
   ],
   "source": [
    "print(data['condition'].value_counts())"
   ]
  },
  {
   "cell_type": "markdown",
   "id": "96119305",
   "metadata": {},
   "source": [
    "Chỉ xét condition theo mức độ cũ mới nên \"Đã kích hoạt\" và \"Hàng trưng bày\" sai nghĩa, nhưng thường \"Đã kích hoạt\" tương đương với \"Cũ đẹp\" còn \"Hàng trưng bày\" thường được sử dụng nhiều, liên tục nên độ mới rất thấp. Tuy nhiên \"Hàng trưng bày\" có tần suất xuất hiện rất thấp, có thể xác định là giá trị ngoại lai."
   ]
  },
  {
   "cell_type": "code",
   "execution_count": 15,
   "id": "0aa957e4",
   "metadata": {},
   "outputs": [],
   "source": [
    "data['condition'] = data['condition'].replace({\n",
    "    'Đã kích hoạt': 'Cũ đẹp',\n",
    "    'Đã kích hoạt (Bảo Hành VN/A)': 'Cũ đẹp',\n",
    "    'Đã kích hoạt (Chính Hãng VN/A)': 'Cũ đẹp'\n",
    "})\n",
    "data = data[data['condition'] != 'Hàng trưng bày']"
   ]
  },
  {
   "cell_type": "markdown",
   "id": "a59f4550",
   "metadata": {},
   "source": [
    "### Xử lí cột time"
   ]
  },
  {
   "cell_type": "code",
   "execution_count": 16,
   "id": "8ef9b31e",
   "metadata": {},
   "outputs": [
    {
     "name": "stdout",
     "output_type": "stream",
     "text": [
      "['09/2022' '09/2021' '1/2024' '09/2023' '02/2023' '2023' '9/2023'\n",
      " '11/2019' '09/2024' '03/2024' '9/2024' '03/2025' '10/2020' '01/2022'\n",
      " '10/2023' '07/2024' '02-2025' '03/2023' '01/2024' '11/2024' '12/2023'\n",
      " '07/2023' '06/2023' '05/2023' '11/2023' '07/2022' '08/2024' '10/2022'\n",
      " '04/2025' '01/2025' '6/2023' '08/2022' '04/2024' '02/2024' '06/2024'\n",
      " '04/2023' '05/2024' '12/2022' '2/2022' '12/2021' '08/2023' '01/2023'\n",
      " '02/2025' '05/2025']\n"
     ]
    }
   ],
   "source": [
    "print(data['time'].unique())"
   ]
  },
  {
   "cell_type": "markdown",
   "id": "3b65bd1b",
   "metadata": {},
   "source": [
    "Cần thống nhất sang kiểu ngày/ tháng/ năm"
   ]
  },
  {
   "cell_type": "code",
   "execution_count": 17,
   "id": "a481c73f",
   "metadata": {},
   "outputs": [],
   "source": [
    "def convert_date(date_str):\n",
    "    try:\n",
    "        date_obj = pd.to_datetime(date_str, errors='coerce', dayfirst=True)\n",
    "        if pd.isna(date_obj):\n",
    "            return date_str  \n",
    "        return date_obj.strftime(\"%d/%m/%Y\") \n",
    "    except Exception as e:\n",
    "        return str(e)\n",
    "    \n",
    "data['time'] = data['time'].apply(convert_date)\n",
    "data['time'] = pd.to_datetime(data['time'], format=\"%d/%m/%Y\", errors='coerce')"
   ]
  },
  {
   "cell_type": "code",
   "execution_count": 18,
   "id": "e452ec72",
   "metadata": {},
   "outputs": [
    {
     "name": "stdout",
     "output_type": "stream",
     "text": [
      "<DatetimeArray>\n",
      "['2022-09-01 00:00:00', '2021-09-01 00:00:00', '2024-01-01 00:00:00',\n",
      " '2023-09-01 00:00:00', '2023-02-01 00:00:00', '2023-01-01 00:00:00',\n",
      " '2019-11-01 00:00:00', '2024-09-01 00:00:00', '2024-03-01 00:00:00',\n",
      " '2025-03-01 00:00:00', '2020-10-01 00:00:00', '2022-01-01 00:00:00',\n",
      " '2023-10-01 00:00:00', '2024-07-01 00:00:00', '2025-02-01 00:00:00',\n",
      " '2023-03-01 00:00:00', '2024-11-01 00:00:00', '2023-12-01 00:00:00',\n",
      " '2023-07-01 00:00:00', '2023-06-01 00:00:00', '2023-05-01 00:00:00',\n",
      " '2023-11-01 00:00:00', '2022-07-01 00:00:00', '2024-08-01 00:00:00',\n",
      " '2022-10-01 00:00:00', '2025-04-01 00:00:00', '2025-01-01 00:00:00',\n",
      " '2022-08-01 00:00:00', '2024-04-01 00:00:00', '2024-02-01 00:00:00',\n",
      " '2024-06-01 00:00:00', '2023-04-01 00:00:00', '2024-05-01 00:00:00',\n",
      " '2022-12-01 00:00:00', '2022-02-01 00:00:00', '2021-12-01 00:00:00',\n",
      " '2023-08-01 00:00:00', '2025-05-01 00:00:00']\n",
      "Length: 38, dtype: datetime64[ns]\n"
     ]
    }
   ],
   "source": [
    "print(data['time'].unique())"
   ]
  },
  {
   "cell_type": "markdown",
   "id": "21af7a82-df7a-4fef-9d48-5d51384442d2",
   "metadata": {},
   "source": [
    "### Xử lí cột CPU"
   ]
  },
  {
   "cell_type": "code",
   "execution_count": 19,
   "id": "4848ba1a-8aec-4642-ac00-cd0d2cbe8c81",
   "metadata": {
    "scrolled": true
   },
   "outputs": [
    {
     "name": "stdout",
     "output_type": "stream",
     "text": [
      "['Apple A16 Bionic 6-core' 'Apple A15' 'Exynos 2400'\n",
      " 'Snapdragon 8 Gen 3 For Galaxy' 'Apple A16 Bionic 6 nhân'\n",
      " 'Apple A16 Bionic' 'Snapdragon 8 Gen 2 (4 nm)'\n",
      " 'Qualcomm Snapdragon 680, tối đa 2.4GHz' 'A17 Pro'\n",
      " 'Snapdragon 8 Gen 2 for Galaxy' 'A13 Bionic' 'Apple A15 Bionic'\n",
      " 'Apple A18 Pro' 'Exynos 1380' 'UNISOC T612'\n",
      " 'MediaTek Dimensity 7025 - Ultra' 'Apple A18' 'Apple A14 Bionic (5 nm)'\n",
      " 'Exynos 1580' 'Snapdragon 8 Gen 2' 'Chip Snapdragon® 8 thế hệ thứ 2'\n",
      " 'Exynos 1480 4nm 2.4GHz' 'Exynos 2100 (5nm)' 'Snapdragon 8 Gen 3'\n",
      " 'Exynos 2400e (4nm)' 'Exynos 2200 8 nhân'\n",
      " 'Snapdragon 8 Gen 3 for Galaxy Tăng lên 42% AI'\n",
      " 'Snapdragon 8 Elite dành cho Galaxy (3nm)' 'Snapdragon 6 Gen 3'\n",
      " 'Exynos 1380 (5 nm)' 'Helio G88' 'Snapdragon SM6225'\n",
      " 'Snapdragon 8 Elite (Tiến trình sản xuất 3nm)' 'Dimensity 6300 6nm'\n",
      " 'Apple A15 Bionic 6 nhân' 'Dimensity 7300 (4nm)'\n",
      " 'MediaTek Dimensity 7050 5G 8 nhân' 'Snapdragon 8+ Gen 1 8 nhân'\n",
      " 'MediaTek Dimensity 6300(6nm)' 'Exynos 1280 8 nhân'\n",
      " 'Snapdragon 680 8 nhân' 'Tiger T693' 'MediaTek Dimensity 6020 5G 8 nhân'\n",
      " 'MediaTek Helio G35' 'Mediatek Helio G85' 'Unisoc T615'\n",
      " 'MediaTek Helio G85' 'MediaTek Helio G99-Ultra 8 nhân'\n",
      " 'MediaTek Helio G35 8 nhân' 'MediaTek Helio G81-Ultra'\n",
      " 'Unisoc Tiger T612' 'Exynos 1380 (Quartz)' 'Dimensity 7300 Energy 5G'\n",
      " 'Exynos 1280 (5 nm)' 'MediaTek Dimensity 6300'\n",
      " 'Qualcomm Snapdragon 6 Gen1 5G, tối đa 2.2GHz' 'Dimensity 1080 (5 nm)'\n",
      " 'MediaTek Dimensity 8300-Ultra' 'MediaTek Helio G85 8 nhân'\n",
      " 'MediaTek Helio G81' 'Snapdragon 6s 4G Gen1, tối đa 2.1GHz'\n",
      " 'Snapdragon 680 4G' 'Apple A13 Bionic (7 nm+)'\n",
      " 'MediaTek Helio P35 8 nhân' 'Qualcomm Snapdragon 680 8 nhân'\n",
      " 'Unisoc T107 8 nhân' 'Snapdragon 8 Gen 3 for Galaxy'\n",
      " 'MediaTek Helio G36 8 nhân' 'Unisoc UMS9117-L' 'Exynos 1380 8 nhân'\n",
      " 'Snapdragon 7 Gen 1 8 nhân' 'Exynos 1480 8 nhân'\n",
      " 'MediaTek Helio G99 8 nhân' 'MediaTek Dimensity 1080 8 nhân'\n",
      " 'Snapdragon 8 Gen 3 8 nhân' 'MediaTek Dimensity 7300-Energy 5G 8 nhân'\n",
      " 'Snapdragon 8 Gen 2 8 nhân' 'Unisoc T107' 'Apple A14 Bionic 6 nhân'\n",
      " 'MediaTek Dimensity 6100+' 'Apple A17 Pro 6 nhân'\n",
      " 'MediaTek Dimensity 6300 5G 8 nhân' 'MediaTek Helio G91 Ultra 8 nhân'\n",
      " 'MediaTek Helio G81-Ultra 8 nhân' 'Snapdragon 7s Gen 2 8 nhân'\n",
      " 'MediaTek Helio G96 8 nhân' 'Snapdragon 685 8 nhân' 'Unisoc UMS9117'\n",
      " 'Apple A18 6 nhân' 'Apple A18 Pro 6 nhân' 'Snapdragon 695 5G 8 nhân'\n",
      " 'MediaTek Dimensity 1300 8 nhân' 'MediaTek Helio G88 8 nhân'\n",
      " 'MediaTek Dimensity 700 5G 8 nhân' 'MediaTek Dimensity 9200 5G 8 nhân'\n",
      " 'MediaTek MT6762 8 nhân (Helio P22)' 'Snapdragon 6 Gen 1 8 nhân'\n",
      " 'Snapdragon 7 Gen 3 8 nhân' 'Snapdragon 6s Gen 1 8 nhân'\n",
      " 'Apple A13 Bionic 6 nhân' 'Snapdragon 6 Gen 1 5G 8 nhân'\n",
      " 'MediaTek Dimensity 8300 Ultra 8 nhân'\n",
      " 'MediaTek Dimensity 8350 5G 8 nhân' 'MediaTek Helio G92 Max 8 nhân'\n",
      " 'MediaTek Dimensity 7300-Ultra 8 nhân' 'Exynos 1580 8 nhân'\n",
      " 'MediaTek Helio G100-Ultra 8 nhân' 'Exynos 2400e 8 nhân'\n",
      " 'Qualcomm Snapdragon 8 Elite 8 nhân'\n",
      " 'MediaTek Dimensity 7300 Energy 5G 8 nhân'\n",
      " 'Qualcomm Snapdragon 8 Elite For Galaxy 8 nhân'\n",
      " 'MediaTek Dimensity 9300+ 8 nhân' 'Snapdragon 6 Gen 3 8 nhân'\n",
      " 'Unisoc T7250 8 nhân' 'Unisoc T615 8 nhân' 'Unisoc T7225 8 nhân'\n",
      " 'MediaTek Helio G81 8 nhân' 'MediaTek Dimensity 7025-Ultra 5G 8 nhân'\n",
      " 'MediaTek Helio G100 8 nhân' 'MediaTek Dimensity 9400 8 nhân'\n",
      " 'Snapdragon 6 Gen 4 5G 8 nhân' 'Unisoc T606 8 nhân'\n",
      " 'MediaTek Dimensity D6300 5G 8 nhân']\n"
     ]
    }
   ],
   "source": [
    "print(data['CPU'].unique())"
   ]
  },
  {
   "cell_type": "markdown",
   "id": "61ebd133-4cda-4469-b6fa-8960c520ec13",
   "metadata": {},
   "source": [
    "Cần loại bỏ các thông tin không cần thiết, chỉ giữ lại tên CPU chính"
   ]
  },
  {
   "cell_type": "code",
   "execution_count": 20,
   "id": "39d2ed24-475f-43a8-aba9-64e1bffea5fd",
   "metadata": {},
   "outputs": [],
   "source": [
    "data['CPU'] = data['CPU'].str.split(',').str[0].str.strip()\n",
    "data['CPU'] = data['CPU'].str.replace(r'\\s*\\(.*?\\)\\s*', ' ', regex=True)\n",
    "data['CPU'] = data['CPU'].str.replace(r'[^\\w\\s\\+\\.]', ' ', regex=True)\n",
    "data['CPU'] = data['CPU'].str.replace(r'\\s+', ' ', regex=True).str.strip()\n",
    "data['CPU'] = data['CPU'].str.replace(r'\\bQualcomm\\s+SM\\d+\\s*', '', regex=True, flags=re.IGNORECASE).str.strip()\n",
    "data['CPU'] = data['CPU'].str.replace(r'\\b(thế hệ|gen|GEN)\\b', 'Gen', regex=True, flags=re.IGNORECASE).str.strip()\n",
    "data['CPU'] = data['CPU'].str.replace(r'\\bcore\\b', 'nhân', regex=True, flags=re.IGNORECASE).str.strip()\n",
    "data['CPU'] = data['CPU'].str.replace(r'\\bQualcomm\\s*', '', regex=True, flags=re.IGNORECASE).str.strip()\n",
    "data['CPU'] = data['CPU'].str.replace(r'\\bthứ\\s*', '', regex=True, flags=re.IGNORECASE).str.strip()\n",
    "data['CPU'] = data['CPU'].str.replace(r'\\bMobile\\s+Platform\\s*', '', regex=True, flags=re.IGNORECASE).str.strip()\n",
    "data['CPU'] = data['CPU'].str.replace(r'\\b(dành cho|For)\\b', 'for', regex=True, flags=re.IGNORECASE).str.strip()\n",
    "data['CPU'] = data['CPU'].str.replace(r'^\\s*(?:Chip|Mật độ)\\s*', '', regex=True, flags=re.IGNORECASE).str.strip()\n",
    "data['CPU'] = data['CPU'].str.replace(r'\\s*(?:\\d+\\s*nm\\+?|tăng)\\s*.*$', '', regex=True, flags=re.IGNORECASE).str.strip()\n",
    "data['CPU'] = data['CPU'].str.replace(r'\\bnapdragon\\b', 'Snapdragon', regex=True, flags=re.IGNORECASE).str.strip()\n",
    "# Chuẩn hóa chỉ giữ lại tên chip, không giữ lại các thuộc tính phụ\n",
    "data['CPU'] = data['CPU'].str.lower().str.strip()\n",
    "data['CPU'] = data['CPU'].str.replace(r'\\b\\d+\\s*nhân\\b', '', regex=True)\n",
    "data['CPU'] = data['CPU'].str.replace(r'\\b(for galaxy|ultimate|ultra|pro|plus|max|energy|l|e|5g)\\b', '', regex=True)\n",
    "data['CPU'] = data['CPU'].str.replace(r'\\s+', ' ', regex=True).str.strip()\n",
    "data['CPU'] = data['CPU'].str.title()\n",
    "\n",
    "cleaned_cpus = []\n",
    "for cpu_entry in data['CPU']:\n",
    "    if pd.isna(cpu_entry) or cpu_entry == '':\n",
    "        cleaned_cpus.append(np.nan)\n",
    "        continue\n",
    "\n",
    "    final_cpu_name = re.sub(r'(Gen)(\\d+)', r'\\1 \\2', str(cpu_entry), flags=re.IGNORECASE)\n",
    "    cleaned_cpus.append(final_cpu_name.strip())\n",
    "\n",
    "data['CPU'] = cleaned_cpus\n"
   ]
  },
  {
   "cell_type": "code",
   "execution_count": 21,
   "id": "27ab1474",
   "metadata": {},
   "outputs": [
    {
     "name": "stdout",
     "output_type": "stream",
     "text": [
      "['Apple A16 Bionic' 'Apple A15' 'Exynos 2400' 'Snapdragon 8 Gen 3'\n",
      " 'Snapdragon 8 Gen 2' 'Snapdragon 680' 'A17' 'A13 Bionic'\n",
      " 'Apple A15 Bionic' 'Apple A18' 'Exynos 1380' 'Unisoc T612'\n",
      " 'Mediatek Dimensity 7025' 'Apple A14 Bionic' 'Exynos 1580' 'Exynos 1480'\n",
      " 'Exynos 2100' 'Exynos 2400E' 'Exynos 2200' 'Snapdragon 8 Elite'\n",
      " 'Snapdragon 6 Gen 3' 'Helio G88' 'Snapdragon Sm6225' 'Dimensity 6300'\n",
      " 'Dimensity 7300' 'Mediatek Dimensity 7050' 'Snapdragon 8+ Gen 1'\n",
      " 'Mediatek Dimensity 6300' 'Exynos 1280' 'Tiger T693'\n",
      " 'Mediatek Dimensity 6020' 'Mediatek Helio G35' 'Mediatek Helio G85'\n",
      " 'Unisoc T615' 'Mediatek Helio G99' 'Mediatek Helio G81'\n",
      " 'Unisoc Tiger T612' 'Snapdragon 6 Gen 1' 'Dimensity 1080'\n",
      " 'Mediatek Dimensity 8300' 'Snapdragon 6S 4G Gen 1' 'Snapdragon 680 4G'\n",
      " 'Apple A13 Bionic' 'Mediatek Helio P35' 'Unisoc T107'\n",
      " 'Mediatek Helio G36' 'Unisoc Ums9117' 'Snapdragon 7 Gen 1'\n",
      " 'Mediatek Dimensity 1080' 'Mediatek Dimensity 7300'\n",
      " 'Mediatek Dimensity 6100+' 'Apple A17' 'Mediatek Helio G91'\n",
      " 'Snapdragon 7S Gen 2' 'Mediatek Helio G96' 'Snapdragon 685'\n",
      " 'Snapdragon 695' 'Mediatek Dimensity 1300' 'Mediatek Helio G88'\n",
      " 'Mediatek Dimensity 700' 'Mediatek Dimensity 9200' 'Mediatek Mt6762'\n",
      " 'Snapdragon 7 Gen 3' 'Snapdragon 6S Gen 1' 'Mediatek Dimensity 8350'\n",
      " 'Mediatek Helio G92' 'Mediatek Helio G100' 'Mediatek Dimensity 9300+'\n",
      " 'Unisoc T7250' 'Unisoc T7225' 'Mediatek Dimensity 9400'\n",
      " 'Snapdragon 6 Gen 4' 'Unisoc T606' 'Mediatek Dimensity D6300']\n"
     ]
    }
   ],
   "source": [
    "print(data['CPU'].unique())"
   ]
  },
  {
   "cell_type": "markdown",
   "id": "c1a4c43e-f249-4663-a24a-0de061d48f03",
   "metadata": {},
   "source": [
    "### Xử lí cột warranty"
   ]
  },
  {
   "cell_type": "code",
   "execution_count": 22,
   "id": "0484c330-420c-4efe-9f13-f5c6f432d2ee",
   "metadata": {
    "scrolled": true
   },
   "outputs": [
    {
     "name": "stdout",
     "output_type": "stream",
     "text": [
      "['6 tháng' '0 tháng' '12 tháng' '1 tháng tại TGDĐ'\n",
      " 'Chính hãng đến 14/09/2025' 'Chính hãng đến 28/10/2025'\n",
      " 'Chính hãng đến 14/12/2025' 'Chính hãng đến 13/12/2025'\n",
      " 'Chính hãng đến 08/12/2025' 'Chính hãng đến 30/12/2025'\n",
      " 'Chính hãng đến 31/12/2025' 'Chính hãng đến 13/01/2026'\n",
      " 'Chính hãng đến 05/01/2026' 'Chính hãng đến 26/01/2026'\n",
      " 'Chính hãng đến 24/01/2026' 'Chính hãng đến 25/01/2026'\n",
      " 'Chính hãng đến 10/02/2026' 'Chính hãng đến 28/02/2026'\n",
      " 'Chính hãng đến 01/03/2026' 'Chính hãng đến 16/03/2026'\n",
      " 'Chính hãng đến 12/04/2026' 'Chính hãng đến 29/04/2026'\n",
      " 'Chính hãng đến 22/02/2026' 'Chính hãng đến 17/07/2026'\n",
      " 'Chính hãng đến 27/02/2026' 'Chính hãng đến 09/08/2025'\n",
      " 'Chính hãng đến 16/08/2025' 'Chính hãng đến 23/08/2025'\n",
      " 'Chính hãng đến 23/07/2025' 'Chính hãng đến 15/08/2025'\n",
      " 'Chính hãng đến 17/08/2025' 'Chính hãng đến 04/08/2025'\n",
      " 'Chính hãng đến 30/07/2025' 'Chính hãng đến 31/08/2025'\n",
      " 'Chính hãng đến 20/08/2025' 'Chính hãng đến 03/08/2025'\n",
      " 'Chính hãng đến 22/07/2025' 'Chính hãng đến 18/08/2025'\n",
      " 'Chính hãng đến 19/08/2025' 'Chính hãng đến 24/07/2025'\n",
      " 'Chính hãng đến 24/08/2025' 'Chính hãng đến 08/08/2025'\n",
      " 'Chính hãng đến 30/08/2025' 'Chính hãng đến 16/07/2025'\n",
      " 'Chính hãng đến 01/08/2025' 'Chính hãng đến 11/08/2025'\n",
      " 'Chính hãng đến 01/09/2025' 'Chính hãng đến 27/08/2025'\n",
      " 'Chính hãng đến 25/08/2025' 'Chính hãng đến 26/08/2025'\n",
      " 'Chính hãng đến 05/08/2025' 'Chính hãng đến 31/07/2025'\n",
      " 'Chính hãng đến 08/10/2025' 'Chính hãng đến 06/11/2025'\n",
      " 'Chính hãng đến 09/10/2025' 'Chính hãng đến 01/11/2025'\n",
      " 'Chính hãng đến 04/10/2025' 'Chính hãng đến 05/10/2025'\n",
      " 'Chính hãng đến 10/09/2025' 'Chính hãng đến 07/10/2025'\n",
      " 'Chính hãng đến 10/11/2025' 'Chính hãng đến 21/10/2025'\n",
      " 'Chính hãng đến 15/10/2025' 'Chính hãng đến 09/11/2025'\n",
      " 'Chính hãng đến 14/11/2025' 'Chính hãng đến 05/11/2025'\n",
      " 'Chính hãng đến 10/10/2025' 'Chính hãng đến 13/11/2025'\n",
      " 'Chính hãng đến 13/09/2025' 'Chính hãng đến 29/10/2025'\n",
      " 'Chính hãng đến 01/10/2025' 'Chính hãng đến 14/10/2025'\n",
      " 'Chính hãng đến 03/10/2025' 'Chính hãng đến 22/10/2025'\n",
      " 'Chính hãng đến 08/11/2025' 'Chính hãng đến 15/09/2025'\n",
      " 'Chính hãng đến 02/10/2025' 'Chính hãng đến 04/11/2025'\n",
      " 'Chính hãng đến 07/11/2025' 'Chính hãng đến 18/10/2025'\n",
      " 'Chính hãng đến 30/09/2025' 'Chính hãng đến 11/11/2025'\n",
      " 'Chính hãng đến 17/11/2025' 'Chính hãng đến 25/09/2025'\n",
      " 'Chính hãng đến 27/09/2025' 'Chính hãng đến 30/10/2025'\n",
      " 'Chính hãng đến 24/10/2025' 'Chính hãng đến 28/09/2025'\n",
      " 'Chính hãng đến 16/11/2025' 'Chính hãng đến 02/02/2026'\n",
      " 'Chính hãng đến 18/11/2025' 'Chính hãng đến 21/12/2025'\n",
      " 'Chính hãng đến 18/01/2026' 'Chính hãng đến 25/12/2025'\n",
      " 'Chính hãng đến 27/11/2025' 'Chính hãng đến 31/01/2026'\n",
      " 'Chính hãng đến 14/01/2026' 'Chính hãng đến 01/12/2025'\n",
      " 'Chính hãng đến 17/01/2026' 'Chính hãng đến 23/01/2026'\n",
      " 'Chính hãng đến 08/01/2026' 'Chính hãng đến 19/01/2026'\n",
      " 'Chính hãng đến 22/11/2025' 'Chính hãng đến 23/11/2025'\n",
      " 'Chính hãng đến 20/01/2026' 'Chính hãng đến 28/12/2025'\n",
      " 'Chính hãng đến 24/12/2025' 'Chính hãng đến 22/01/2026'\n",
      " 'Chính hãng đến 10/01/2026' 'Chính hãng đến 15/01/2026'\n",
      " 'Chính hãng đến 26/11/2025' 'Chính hãng đến 03/12/2025'\n",
      " 'Chính hãng đến 15/12/2025' 'Chính hãng đến 21/11/2025'\n",
      " 'Chính hãng đến 29/12/2025' 'Chính hãng đến 27/01/2026'\n",
      " 'Chính hãng đến 03/01/2026' 'Chính hãng đến 09/01/2026'\n",
      " 'Chính hãng đến 16/01/2026' 'Chính hãng đến 07/01/2026'\n",
      " 'Chính hãng đến 09/12/2025' 'Chính hãng đến 02/12/2025'\n",
      " 'Chính hãng đến 01/04/2026' 'Chính hãng đến 17/04/2026'\n",
      " 'Chính hãng đến 26/03/2026' 'Chính hãng đến 15/02/2026'\n",
      " 'Chính hãng đến 22/03/2026' 'Chính hãng đến 08/03/2026'\n",
      " 'Chính hãng đến 24/03/2026' 'Chính hãng đến 19/03/2026'\n",
      " 'Chính hãng đến 30/03/2026' 'Chính hãng đến 19/04/2026'\n",
      " 'Chính hãng đến 10/04/2026' 'Chính hãng đến 23/03/2026'\n",
      " 'Chính hãng đến 18/03/2026' 'Chính hãng đến 26/02/2026'\n",
      " 'Chính hãng đến 06/02/2026' 'Chính hãng đến 29/03/2026'\n",
      " 'Chính hãng đến 05/04/2026' 'Chính hãng đến 31/03/2026'\n",
      " 'Chính hãng đến 04/04/2026' 'Chính hãng đến 25/03/2026'\n",
      " 'Chính hãng đến 03/04/2026' 'Chính hãng đến 03/02/2026'\n",
      " 'Chính hãng đến 24/02/2026' 'Chính hãng đến 13/04/2026'\n",
      " 'Chính hãng đến 02/03/2026' 'Chính hãng đến 23/02/2026'\n",
      " 'Chính hãng đến 08/02/2026' 'Chính hãng đến 28/03/2026'\n",
      " 'Chính hãng đến 09/02/2026' 'Chính hãng đến 02/04/2026'\n",
      " 'Chính hãng đến 15/03/2026' 'Chính hãng đến 14/02/2026'\n",
      " 'Chính hãng đến 11/02/2026' 'Chính hãng đến 11/04/2026'\n",
      " 'Chính hãng đến 14/04/2026' 'Chính hãng đến 18/02/2026'\n",
      " 'Chính hãng đến 07/04/2026' 'Chính hãng đến 09/04/2026'\n",
      " 'Chính hãng đến 04/02/2026' 'Chính hãng đến 16/04/2026'\n",
      " 'Chính hãng đến 17/02/2026' 'Chính hãng đến 16/02/2026'\n",
      " 'Chính hãng đến 07/03/2026' 'Chính hãng đến 21/03/2026'\n",
      " 'Chính hãng đến 15/04/2026' 'Chính hãng đến 27/03/2026'\n",
      " 'Chính hãng đến 04/03/2026' 'Chính hãng đến 08/04/2026'\n",
      " 'Chính hãng đến 06/03/2026' 'Chính hãng đến 05/03/2026'\n",
      " 'Chính hãng đến 06/04/2026' 'Chính hãng đến 09/03/2026'\n",
      " 'Chính hãng đến 17/03/2026' 'Chính hãng đến 13/03/2026'\n",
      " 'Chính hãng đến 16/12/2025' 'Chính hãng đến 10/12/2025'\n",
      " 'Chính hãng đến 20/12/2025' 'Chính hãng đến 12/01/2026'\n",
      " 'Chính hãng đến 04/01/2026' 'Chính hãng đến 01/02/2026'\n",
      " 'Chính hãng đến 21/01/2026' 'Chính hãng đến 13/02/2026'\n",
      " 'Chính hãng đến 12/02/2026' 'Chính hãng đến 05/02/2026'\n",
      " 'Chính hãng đến 07/02/2026' 'Chính hãng đến 20/02/2026'\n",
      " 'Chính hãng đến 11/03/2026' 'Chính hãng đến 10/03/2026'\n",
      " 'Chính hãng đến 14/03/2026' 'Chính hãng đến 20/03/2026'\n",
      " 'Chính hãng đến 18/04/2026' 'Chính hãng đến 04/05/2026'\n",
      " 'Chính hãng đến 01/05/2026' 'Chính hãng đến 05/05/2026'\n",
      " 'Chính hãng đến 03/05/2026' 'Chính hãng đến 12/12/2025'\n",
      " 'Chính hãng đến 25/02/2026' 'Chính hãng đến 12/03/2026'\n",
      " 'Chính hãng đến 28/04/2026' 'Chính hãng đến 21/04/2026'\n",
      " 'Chính hãng đến 02/05/2026' 'Chính hãng đến 23/04/2026'\n",
      " 'Chính hãng đến 26/12/2025' 'Chính hãng đến 27/10/2025'\n",
      " 'Chính hãng đến 06/05/2026' 'Chính hãng đến 26/10/2025'\n",
      " 'Chính hãng đến 21/02/2026' 'Chính hãng đến 24/09/2025'\n",
      " 'Chính hãng đến 06/01/2026' 'Chính hãng đến 18/12/2025'\n",
      " 'Chính hãng đến 07/12/2025' 'Chính hãng đến 26/04/2026'\n",
      " 'Chính hãng đến 22/04/2026' 'Chính hãng đến 24/04/2026'\n",
      " 'Chính hãng đến 11/01/2026' 'Chính hãng đến 03/03/2026'\n",
      " 'Chính hãng đến 20/04/2026' 'Chính hãng đến 02/01/2026'\n",
      " 'Chính hãng đến 22/09/2025' 'Chính hãng đến 20/11/2025'\n",
      " 'Chính hãng đến 19/12/2025' 'Chính hãng đến 19/02/2026'\n",
      " 'Chính hãng đến 25/04/2026' 'Chính hãng đến 13/05/2026'\n",
      " 'Chính hãng đến 16/06/2026' 'Chính hãng đến 02/09/2026'\n",
      " 'Chính hãng đến 17/10/2026' 'Chính hãng đến 02/11/2026'\n",
      " 'Chính hãng đến 06/11/2026' 'Chính hãng đến 31/10/2025'\n",
      " 'Chính hãng đến 01/01/2026' 'Chính hãng đến 02/12/2026'\n",
      " 'Chính hãng đến 27/12/2025' 'Chính hãng đến 02/10/2026'\n",
      " 'Chính hãng đến 19/09/2026' 'Chính hãng đến 05/12/2026'\n",
      " 'Chính hãng đến 14/08/2025' 'Chính hãng đến 10/08/2025'\n",
      " 'Chính hãng đến 07/08/2025' 'Chính hãng đến 10/07/2025'\n",
      " 'Chính hãng đến 06/07/2025' 'Chính hãng đến 12/08/2025'\n",
      " 'Chính hãng đến 02/08/2025' 'Chính hãng đến 08/09/2025'\n",
      " 'Chính hãng đến 16/10/2025' 'Chính hãng đến 26/09/2025'\n",
      " 'Chính hãng đến 21/08/2025' 'Chính hãng đến 29/08/2025'\n",
      " 'Chính hãng đến 29/11/2025' 'Chính hãng đến 17/12/2025'\n",
      " 'Chính hãng đến 27/04/2026' '3 tháng tại TGDĐ'\n",
      " 'Chính hãng đến 30/04/2026' 'Chính hãng đến 07/06/2026'\n",
      " 'Chính hãng đến 29/06/2026' 'Chính hãng đến 27/06/2026'\n",
      " 'Chính hãng đến 11/07/2026' 'Chính hãng đến 18/07/2026'\n",
      " 'Chính hãng đến 05/07/2026' 'Chính hãng đến 19/07/2026'\n",
      " 'Chính hãng đến 02/08/2026' 'Chính hãng đến 26/07/2026'\n",
      " 'Chính hãng đến 01/08/2026' 'Chính hãng đến 22/07/2026'\n",
      " 'Chính hãng đến 27/07/2026' 'Chính hãng đến 09/08/2026'\n",
      " 'Chính hãng đến 18/08/2026' 'Chính hãng đến 12/08/2026'\n",
      " 'Chính hãng đến 07/08/2026' 'Chính hãng đến 19/08/2026'\n",
      " 'Chính hãng đến 13/08/2026' 'Chính hãng đến 15/08/2026'\n",
      " 'Chính hãng đến 25/08/2026' 'Chính hãng đến 26/08/2026'\n",
      " 'Chính hãng đến 21/08/2026' 'Chính hãng đến 23/08/2026'\n",
      " 'Chính hãng đến 01/09/2026' 'Chính hãng đến 03/09/2026'\n",
      " 'Chính hãng đến 28/08/2026' 'Chính hãng đến 08/09/2026'\n",
      " 'Chính hãng đến 16/09/2026' 'Chính hãng đến 12/09/2026'\n",
      " 'Chính hãng đến 07/09/2026' 'Chính hãng đến 10/09/2026'\n",
      " 'Chính hãng đến 05/09/2026' 'Chính hãng đến 18/09/2026'\n",
      " 'Chính hãng đến 04/10/2026' 'Chính hãng đến 01/10/2026'\n",
      " 'Chính hãng đến 22/09/2026' 'Chính hãng đến 30/09/2026'\n",
      " 'Chính hãng đến 24/09/2026' 'Chính hãng đến 23/09/2026'\n",
      " 'Chính hãng đến 28/09/2026' 'Chính hãng đến 03/10/2026'\n",
      " 'Chính hãng đến 29/09/2026' 'Chính hãng đến 26/09/2026'\n",
      " 'Chính hãng đến 21/09/2026' 'Chính hãng đến 25/09/2026'\n",
      " 'Chính hãng đến 27/09/2026' 'Chính hãng đến 18/10/2026'\n",
      " 'Chính hãng đến 10/10/2026' 'Chính hãng đến 13/10/2026'\n",
      " 'Chính hãng đến 08/10/2026' 'Chính hãng đến 19/10/2026'\n",
      " 'Chính hãng đến 14/10/2026' 'Chính hãng đến 15/10/2026'\n",
      " 'Chính hãng đến 07/10/2026' 'Chính hãng đến 12/10/2026'\n",
      " 'Chính hãng đến 06/10/2026' 'Chính hãng đến 11/10/2026'\n",
      " 'Chính hãng đến 21/10/2026' 'Chính hãng đến 01/11/2026'\n",
      " 'Chính hãng đến 26/10/2026' 'Chính hãng đến 20/10/2026'\n",
      " 'Chính hãng đến 29/10/2026' 'Chính hãng đến 22/10/2026'\n",
      " 'Chính hãng đến 27/10/2026' 'Chính hãng đến 11/11/2026'\n",
      " 'Chính hãng đến 08/11/2026' 'Chính hãng đến 07/11/2026'\n",
      " 'Chính hãng đến 24/05/2026' 'Chính hãng đến 27/05/2026'\n",
      " 'Chính hãng đến 14/06/2026' 'Chính hãng đến 01/07/2026'\n",
      " 'Chính hãng đến 26/06/2026' 'Chính hãng đến 10/08/2026'\n",
      " 'Chính hãng đến 30/08/2026' 'Chính hãng đến 14/09/2026'\n",
      " 'Chính hãng đến 15/09/2026' 'Chính hãng đến 28/10/2026'\n",
      " 'Chính hãng đến 04/11/2026' 'Chính hãng đến 10/11/2026'\n",
      " 'Chính hãng đến 09/11/2026' 'Chính hãng đến 09/05/2026'\n",
      " 'Chính hãng đến 15/05/2026' 'Chính hãng đến 07/05/2026'\n",
      " 'Chính hãng đến 30/05/2026' 'Chính hãng đến 20/05/2026'\n",
      " 'Chính hãng đến 19/06/2026' 'Chính hãng đến 10/06/2026'\n",
      " 'Chính hãng đến 17/06/2026' 'Chính hãng đến 09/06/2026'\n",
      " 'Chính hãng đến 04/07/2026' 'Chính hãng đến 03/07/2026'\n",
      " 'Chính hãng đến 22/06/2026' 'Chính hãng đến 14/05/2026'\n",
      " 'Chính hãng đến 29/07/2025' 'Chính hãng đến 11/07/2025'\n",
      " 'Chính hãng đến 08/07/2025' 'Chính hãng đến 07/09/2025'\n",
      " 'Chính hãng đến 06/08/2025' 'Chính hãng đến 28/11/2025'\n",
      " 'Chính hãng đến 20/10/2025' 'Chính hãng đến 11/12/2025'\n",
      " 'Chính hãng đến 25/11/2025' 'Chính hãng đến 06/10/2025'\n",
      " 'Chính hãng đến 11/10/2025' 'Chính hãng đến 06/12/2025'\n",
      " 'Chính hãng đến 27/07/2025' 'Chính hãng đến 02/09/2025'\n",
      " 'Chính hãng đến 13/08/2025' 'Chính hãng đến 28/08/2025'\n",
      " 'Chính hãng đến 06/09/2025' 'Chính hãng đến 18/09/2025'\n",
      " 'Chính hãng đến 11/09/2025' 'Chính hãng đến 08/05/2026'\n",
      " 'Chính hãng đến 12/05/2026' 'Chính hãng đến 26/07/2025'\n",
      " 'Chính hãng đến 04/09/2025' 'Chính hãng đến 23/09/2025'\n",
      " 'Chính hãng đến 23/10/2025' 'Chính hãng đến 11/05/2026'\n",
      " 'Chính hãng đến 22/08/2025' 'Chính hãng đến 22/12/2025'\n",
      " 'Chính hãng đến 15/11/2025' 'Chính hãng đến 24/11/2025'\n",
      " 'Chính hãng đến 29/09/2025' 'Chính hãng đến 20/07/2025'\n",
      " 'Chính hãng đến 09/09/2025' 'Chính hãng đến 05/09/2025'\n",
      " 'Chính hãng đến 19/11/2025' 'Chính hãng đến 25/10/2025'\n",
      " 'Chính hãng đến 03/11/2025' 'Chính hãng đến 12/11/2025'\n",
      " 'Chính hãng đến 10/05/2026' 'Chính hãng đến 19/10/2025'\n",
      " 'Chính hãng đến 04/12/2025' 'Chính hãng đến 30/11/2025'\n",
      " 'Chính hãng đến 23/12/2025' 'Chính hãng đến 03/09/2025'\n",
      " 'Chính hãng đến 17/10/2025' 'Chính hãng đến 05/12/2025'\n",
      " 'Chính hãng đến 20/09/2025' 'Chính hãng đến 22/08/2026'\n",
      " 'Chính hãng đến 12/10/2025' 'Chính hãng đến 28/01/2026'\n",
      " 'Chính hãng đến 13/10/2025' 'Chính hãng đến 14/08/2026'\n",
      " 'Chính hãng đến 13/07/2026' 'Chính hãng đến 31/08/2026'\n",
      " 'Chính hãng đến 30/06/2026' 'Chính hãng đến 28/06/2026'\n",
      " 'Chính hãng đến 12/07/2026' 'Chính hãng đến 10/07/2026'\n",
      " 'Chính hãng đến 04/08/2026' 'Chính hãng đến 11/08/2026'\n",
      " 'Chính hãng đến 17/08/2026' 'Chính hãng đến 17/09/2026'\n",
      " 'Chính hãng đến 09/09/2026' 'Chính hãng đến 11/09/2026'\n",
      " 'Chính hãng đến 06/09/2026' 'Chính hãng đến 20/09/2026'\n",
      " 'Chính hãng đến 06/08/2026' 'Chính hãng đến 22/11/2026'\n",
      " 'Chính hãng đến 26/11/2026' 'Chính hãng đến 14/12/2026'\n",
      " 'Chính hãng đến 23/12/2026' 'Chính hãng đến 01/01/2027'\n",
      " 'Chính hãng đến 31/12/2026' 'Chính hãng đến 22/12/2026'\n",
      " 'Chính hãng đến 30/12/2026' 'Chính hãng đến 16/01/2027'\n",
      " 'Chính hãng đến 15/01/2027' 'Chính hãng đến 05/01/2027'\n",
      " 'Chính hãng đến 14/01/2027' 'Chính hãng đến 13/01/2027'\n",
      " 'Chính hãng đến 21/01/2027' 'Chính hãng đến 19/01/2027'\n",
      " 'Chính hãng đến 24/01/2027' 'Chính hãng đến 12/02/2027'\n",
      " 'Chính hãng đến 04/02/2027' 'Chính hãng đến 05/02/2027'\n",
      " 'Chính hãng đến 16/02/2027' 'Chính hãng đến 17/02/2027'\n",
      " 'Chính hãng đến 06/02/2027' 'Chính hãng đến 13/02/2027'\n",
      " 'Chính hãng đến 07/02/2027' 'Chính hãng đến 11/02/2027'\n",
      " 'Chính hãng đến 09/02/2027' 'Chính hãng đến 05/03/2027'\n",
      " 'Chính hãng đến 23/02/2027' 'Chính hãng đến 04/03/2027'\n",
      " 'Chính hãng đến 26/02/2027' 'Chính hãng đến 22/02/2027'\n",
      " 'Chính hãng đến 28/02/2027' 'Chính hãng đến 25/02/2027'\n",
      " 'Chính hãng đến 21/02/2027' 'Chính hãng đến 19/02/2027'\n",
      " 'Chính hãng đến 01/03/2027' 'Chính hãng đến 03/03/2027'\n",
      " 'Chính hãng đến 27/02/2027' 'Chính hãng đến 15/03/2027'\n",
      " 'Chính hãng đến 19/03/2027' 'Chính hãng đến 18/03/2027'\n",
      " 'Chính hãng đến 20/03/2027' 'Chính hãng đến 09/03/2027'\n",
      " 'Chính hãng đến 06/03/2027' 'Chính hãng đến 10/03/2027'\n",
      " 'Chính hãng đến 13/03/2027' 'Chính hãng đến 12/03/2027'\n",
      " 'Chính hãng đến 08/03/2027' 'Chính hãng đến 17/03/2027'\n",
      " 'Chính hãng đến 16/03/2027' 'Chính hãng đến 11/03/2027'\n",
      " 'Chính hãng đến 14/03/2027' 'Chính hãng đến 21/03/2027'\n",
      " 'Chính hãng đến 01/04/2027' 'Chính hãng đến 29/03/2027'\n",
      " 'Chính hãng đến 25/03/2027' 'Chính hãng đến 22/03/2027'\n",
      " 'Chính hãng đến 27/03/2027' 'Chính hãng đến 04/04/2027'\n",
      " 'Chính hãng đến 05/04/2027' 'Chính hãng đến 26/03/2027'\n",
      " 'Chính hãng đến 28/03/2027' 'Chính hãng đến 30/03/2027'\n",
      " 'Chính hãng đến 24/03/2027' 'Chính hãng đến 23/03/2027'\n",
      " 'Chính hãng đến 02/04/2027' 'Chính hãng đến 31/03/2027'\n",
      " 'Chính hãng đến 18/04/2027' 'Chính hãng đến 12/04/2027'\n",
      " 'Chính hãng đến 10/04/2027' 'Chính hãng đến 19/04/2027'\n",
      " 'Chính hãng đến 16/04/2027' 'Chính hãng đến 20/04/2027'\n",
      " 'Chính hãng đến 13/04/2027' 'Chính hãng đến 11/04/2027'\n",
      " 'Chính hãng đến 08/04/2027' 'Chính hãng đến 15/04/2027'\n",
      " 'Chính hãng đến 17/04/2027' 'Chính hãng đến 09/04/2027'\n",
      " 'Chính hãng đến 06/04/2027' 'Chính hãng đến 22/04/2027'\n",
      " 'Chính hãng đến 29/04/2027' 'Chính hãng đến 21/04/2027'\n",
      " 'Chính hãng đến 02/05/2027' 'Chính hãng đến 27/04/2027'\n",
      " 'Chính hãng đến 28/04/2027' 'Chính hãng đến 26/04/2027'\n",
      " 'Chính hãng đến 11/05/2027' 'Chính hãng đến 03/08/2026'\n",
      " 'Chính hãng đến 20/08/2026' 'Chính hãng đến 13/09/2026'\n",
      " 'Chính hãng đến 05/10/2026' 'Chính hãng đến 09/10/2026'\n",
      " 'Chính hãng đến 30/10/2026' 'Chính hãng đến 24/10/2026'\n",
      " 'Chính hãng đến 31/10/2026' 'Chính hãng đến 18/01/2027'\n",
      " 'Chính hãng đến 16/07/2026' 'Chính hãng đến 05/08/2026'\n",
      " 'Chính hãng đến 21/07/2026' 'Chính hãng đến 16/08/2026'\n",
      " 'Chính hãng đến 03/11/2026' 'Chính hãng đến 25/10/2026'\n",
      " 'Chính hãng đến 17/01/2027' 'Chính hãng đến 24/08/2026'\n",
      " 'Chính hãng đến 14/04/2027' 'Chính hãng đến 07/04/2027'\n",
      " 'Chính hãng đến 06/05/2027' 'Chính hãng đến 16/10/2026'\n",
      " 'Chính hãng đến 12/11/2026' 'Chính hãng đến 04/09/2026'\n",
      " 'Chính hãng đến 23/10/2026' 'Chính hãng đến 05/11/2026'\n",
      " 'Chính hãng đến 17/11/2026' 'Chính hãng đến 19/12/2026'\n",
      " 'Chính hãng đến 25/01/2027' 'Chính hãng đến 31/01/2027'\n",
      " 'Chính hãng đến 02/02/2027' 'Chính hãng đến 23/01/2027'\n",
      " 'Chính hãng đến 22/01/2027' 'Chính hãng đến 24/02/2027'\n",
      " 'Chính hãng đến 15/02/2027' 'Chính hãng đến 20/02/2027'\n",
      " 'Chính hãng đến 24/04/2027' 'Chính hãng đến 25/04/2027'\n",
      " 'Chính hãng đến 23/07/2026' 'Chính hãng đến 27/01/2027'\n",
      " 'Chính hãng đến 11/12/2026' 'Chính hãng đến 25/12/2026'\n",
      " 'Chính hãng đến 11/01/2027' 'Chính hãng đến 07/03/2027'\n",
      " 'Chính hãng đến 26/12/2026' 'Chính hãng đến 03/04/2027'\n",
      " 'Chính hãng đến 01/05/2027' 'Chính hãng đến 19/05/2026'\n",
      " 'Chính hãng đến 01/06/2026' 'Chính hãng đến 12/06/2026'\n",
      " 'Chính hãng đến 18/05/2026' 'Chính hãng đến 29/05/2026'\n",
      " 'Chính hãng đến 28/05/2026' 'Chính hãng đến 02/06/2026'\n",
      " 'Chính hãng đến 25/05/2026' 'Chính hãng đến 23/05/2026'\n",
      " 'Chính hãng đến 21/05/2026' 'Chính hãng đến 29/11/2026'\n",
      " 'Chính hãng đến 08/08/2026' 'Chính hãng đến 16/05/2026']\n"
     ]
    }
   ],
   "source": [
    "print(data['warranty'].unique())"
   ]
  },
  {
   "cell_type": "markdown",
   "id": "65e42a4b-1a68-47ca-b52d-faa68348f4fa",
   "metadata": {},
   "source": [
    "Cần loại bỏ các chuỗi không cần thiết trong cột warranty, chỉ giữ lại thời gian"
   ]
  },
  {
   "cell_type": "code",
   "execution_count": 23,
   "id": "0621efc7-0ccb-430b-bfa3-5adf4abaf4d7",
   "metadata": {},
   "outputs": [],
   "source": [
    "data['warranty'] = data['warranty'].str.replace(' tại TGDĐ', '', regex=False)\n",
    "data['warranty'] = data['warranty'].str.replace('Chính hãng đến ', '', regex=False)"
   ]
  },
  {
   "cell_type": "code",
   "execution_count": 24,
   "id": "06d0d994",
   "metadata": {},
   "outputs": [
    {
     "name": "stdout",
     "output_type": "stream",
     "text": [
      "['6 tháng' '0 tháng' '12 tháng' '1 tháng' '14/09/2025' '28/10/2025'\n",
      " '14/12/2025' '13/12/2025' '08/12/2025' '30/12/2025' '31/12/2025'\n",
      " '13/01/2026' '05/01/2026' '26/01/2026' '24/01/2026' '25/01/2026'\n",
      " '10/02/2026' '28/02/2026' '01/03/2026' '16/03/2026' '12/04/2026'\n",
      " '29/04/2026' '22/02/2026' '17/07/2026' '27/02/2026' '09/08/2025'\n",
      " '16/08/2025' '23/08/2025' '23/07/2025' '15/08/2025' '17/08/2025'\n",
      " '04/08/2025' '30/07/2025' '31/08/2025' '20/08/2025' '03/08/2025'\n",
      " '22/07/2025' '18/08/2025' '19/08/2025' '24/07/2025' '24/08/2025'\n",
      " '08/08/2025' '30/08/2025' '16/07/2025' '01/08/2025' '11/08/2025'\n",
      " '01/09/2025' '27/08/2025' '25/08/2025' '26/08/2025' '05/08/2025'\n",
      " '31/07/2025' '08/10/2025' '06/11/2025' '09/10/2025' '01/11/2025'\n",
      " '04/10/2025' '05/10/2025' '10/09/2025' '07/10/2025' '10/11/2025'\n",
      " '21/10/2025' '15/10/2025' '09/11/2025' '14/11/2025' '05/11/2025'\n",
      " '10/10/2025' '13/11/2025' '13/09/2025' '29/10/2025' '01/10/2025'\n",
      " '14/10/2025' '03/10/2025' '22/10/2025' '08/11/2025' '15/09/2025'\n",
      " '02/10/2025' '04/11/2025' '07/11/2025' '18/10/2025' '30/09/2025'\n",
      " '11/11/2025' '17/11/2025' '25/09/2025' '27/09/2025' '30/10/2025'\n",
      " '24/10/2025' '28/09/2025' '16/11/2025' '02/02/2026' '18/11/2025'\n",
      " '21/12/2025' '18/01/2026' '25/12/2025' '27/11/2025' '31/01/2026'\n",
      " '14/01/2026' '01/12/2025' '17/01/2026' '23/01/2026' '08/01/2026'\n",
      " '19/01/2026' '22/11/2025' '23/11/2025' '20/01/2026' '28/12/2025'\n",
      " '24/12/2025' '22/01/2026' '10/01/2026' '15/01/2026' '26/11/2025'\n",
      " '03/12/2025' '15/12/2025' '21/11/2025' '29/12/2025' '27/01/2026'\n",
      " '03/01/2026' '09/01/2026' '16/01/2026' '07/01/2026' '09/12/2025'\n",
      " '02/12/2025' '01/04/2026' '17/04/2026' '26/03/2026' '15/02/2026'\n",
      " '22/03/2026' '08/03/2026' '24/03/2026' '19/03/2026' '30/03/2026'\n",
      " '19/04/2026' '10/04/2026' '23/03/2026' '18/03/2026' '26/02/2026'\n",
      " '06/02/2026' '29/03/2026' '05/04/2026' '31/03/2026' '04/04/2026'\n",
      " '25/03/2026' '03/04/2026' '03/02/2026' '24/02/2026' '13/04/2026'\n",
      " '02/03/2026' '23/02/2026' '08/02/2026' '28/03/2026' '09/02/2026'\n",
      " '02/04/2026' '15/03/2026' '14/02/2026' '11/02/2026' '11/04/2026'\n",
      " '14/04/2026' '18/02/2026' '07/04/2026' '09/04/2026' '04/02/2026'\n",
      " '16/04/2026' '17/02/2026' '16/02/2026' '07/03/2026' '21/03/2026'\n",
      " '15/04/2026' '27/03/2026' '04/03/2026' '08/04/2026' '06/03/2026'\n",
      " '05/03/2026' '06/04/2026' '09/03/2026' '17/03/2026' '13/03/2026'\n",
      " '16/12/2025' '10/12/2025' '20/12/2025' '12/01/2026' '04/01/2026'\n",
      " '01/02/2026' '21/01/2026' '13/02/2026' '12/02/2026' '05/02/2026'\n",
      " '07/02/2026' '20/02/2026' '11/03/2026' '10/03/2026' '14/03/2026'\n",
      " '20/03/2026' '18/04/2026' '04/05/2026' '01/05/2026' '05/05/2026'\n",
      " '03/05/2026' '12/12/2025' '25/02/2026' '12/03/2026' '28/04/2026'\n",
      " '21/04/2026' '02/05/2026' '23/04/2026' '26/12/2025' '27/10/2025'\n",
      " '06/05/2026' '26/10/2025' '21/02/2026' '24/09/2025' '06/01/2026'\n",
      " '18/12/2025' '07/12/2025' '26/04/2026' '22/04/2026' '24/04/2026'\n",
      " '11/01/2026' '03/03/2026' '20/04/2026' '02/01/2026' '22/09/2025'\n",
      " '20/11/2025' '19/12/2025' '19/02/2026' '25/04/2026' '13/05/2026'\n",
      " '16/06/2026' '02/09/2026' '17/10/2026' '02/11/2026' '06/11/2026'\n",
      " '31/10/2025' '01/01/2026' '02/12/2026' '27/12/2025' '02/10/2026'\n",
      " '19/09/2026' '05/12/2026' '14/08/2025' '10/08/2025' '07/08/2025'\n",
      " '10/07/2025' '06/07/2025' '12/08/2025' '02/08/2025' '08/09/2025'\n",
      " '16/10/2025' '26/09/2025' '21/08/2025' '29/08/2025' '29/11/2025'\n",
      " '17/12/2025' '27/04/2026' '3 tháng' '30/04/2026' '07/06/2026'\n",
      " '29/06/2026' '27/06/2026' '11/07/2026' '18/07/2026' '05/07/2026'\n",
      " '19/07/2026' '02/08/2026' '26/07/2026' '01/08/2026' '22/07/2026'\n",
      " '27/07/2026' '09/08/2026' '18/08/2026' '12/08/2026' '07/08/2026'\n",
      " '19/08/2026' '13/08/2026' '15/08/2026' '25/08/2026' '26/08/2026'\n",
      " '21/08/2026' '23/08/2026' '01/09/2026' '03/09/2026' '28/08/2026'\n",
      " '08/09/2026' '16/09/2026' '12/09/2026' '07/09/2026' '10/09/2026'\n",
      " '05/09/2026' '18/09/2026' '04/10/2026' '01/10/2026' '22/09/2026'\n",
      " '30/09/2026' '24/09/2026' '23/09/2026' '28/09/2026' '03/10/2026'\n",
      " '29/09/2026' '26/09/2026' '21/09/2026' '25/09/2026' '27/09/2026'\n",
      " '18/10/2026' '10/10/2026' '13/10/2026' '08/10/2026' '19/10/2026'\n",
      " '14/10/2026' '15/10/2026' '07/10/2026' '12/10/2026' '06/10/2026'\n",
      " '11/10/2026' '21/10/2026' '01/11/2026' '26/10/2026' '20/10/2026'\n",
      " '29/10/2026' '22/10/2026' '27/10/2026' '11/11/2026' '08/11/2026'\n",
      " '07/11/2026' '24/05/2026' '27/05/2026' '14/06/2026' '01/07/2026'\n",
      " '26/06/2026' '10/08/2026' '30/08/2026' '14/09/2026' '15/09/2026'\n",
      " '28/10/2026' '04/11/2026' '10/11/2026' '09/11/2026' '09/05/2026'\n",
      " '15/05/2026' '07/05/2026' '30/05/2026' '20/05/2026' '19/06/2026'\n",
      " '10/06/2026' '17/06/2026' '09/06/2026' '04/07/2026' '03/07/2026'\n",
      " '22/06/2026' '14/05/2026' '29/07/2025' '11/07/2025' '08/07/2025'\n",
      " '07/09/2025' '06/08/2025' '28/11/2025' '20/10/2025' '11/12/2025'\n",
      " '25/11/2025' '06/10/2025' '11/10/2025' '06/12/2025' '27/07/2025'\n",
      " '02/09/2025' '13/08/2025' '28/08/2025' '06/09/2025' '18/09/2025'\n",
      " '11/09/2025' '08/05/2026' '12/05/2026' '26/07/2025' '04/09/2025'\n",
      " '23/09/2025' '23/10/2025' '11/05/2026' '22/08/2025' '22/12/2025'\n",
      " '15/11/2025' '24/11/2025' '29/09/2025' '20/07/2025' '09/09/2025'\n",
      " '05/09/2025' '19/11/2025' '25/10/2025' '03/11/2025' '12/11/2025'\n",
      " '10/05/2026' '19/10/2025' '04/12/2025' '30/11/2025' '23/12/2025'\n",
      " '03/09/2025' '17/10/2025' '05/12/2025' '20/09/2025' '22/08/2026'\n",
      " '12/10/2025' '28/01/2026' '13/10/2025' '14/08/2026' '13/07/2026'\n",
      " '31/08/2026' '30/06/2026' '28/06/2026' '12/07/2026' '10/07/2026'\n",
      " '04/08/2026' '11/08/2026' '17/08/2026' '17/09/2026' '09/09/2026'\n",
      " '11/09/2026' '06/09/2026' '20/09/2026' '06/08/2026' '22/11/2026'\n",
      " '26/11/2026' '14/12/2026' '23/12/2026' '01/01/2027' '31/12/2026'\n",
      " '22/12/2026' '30/12/2026' '16/01/2027' '15/01/2027' '05/01/2027'\n",
      " '14/01/2027' '13/01/2027' '21/01/2027' '19/01/2027' '24/01/2027'\n",
      " '12/02/2027' '04/02/2027' '05/02/2027' '16/02/2027' '17/02/2027'\n",
      " '06/02/2027' '13/02/2027' '07/02/2027' '11/02/2027' '09/02/2027'\n",
      " '05/03/2027' '23/02/2027' '04/03/2027' '26/02/2027' '22/02/2027'\n",
      " '28/02/2027' '25/02/2027' '21/02/2027' '19/02/2027' '01/03/2027'\n",
      " '03/03/2027' '27/02/2027' '15/03/2027' '19/03/2027' '18/03/2027'\n",
      " '20/03/2027' '09/03/2027' '06/03/2027' '10/03/2027' '13/03/2027'\n",
      " '12/03/2027' '08/03/2027' '17/03/2027' '16/03/2027' '11/03/2027'\n",
      " '14/03/2027' '21/03/2027' '01/04/2027' '29/03/2027' '25/03/2027'\n",
      " '22/03/2027' '27/03/2027' '04/04/2027' '05/04/2027' '26/03/2027'\n",
      " '28/03/2027' '30/03/2027' '24/03/2027' '23/03/2027' '02/04/2027'\n",
      " '31/03/2027' '18/04/2027' '12/04/2027' '10/04/2027' '19/04/2027'\n",
      " '16/04/2027' '20/04/2027' '13/04/2027' '11/04/2027' '08/04/2027'\n",
      " '15/04/2027' '17/04/2027' '09/04/2027' '06/04/2027' '22/04/2027'\n",
      " '29/04/2027' '21/04/2027' '02/05/2027' '27/04/2027' '28/04/2027'\n",
      " '26/04/2027' '11/05/2027' '03/08/2026' '20/08/2026' '13/09/2026'\n",
      " '05/10/2026' '09/10/2026' '30/10/2026' '24/10/2026' '31/10/2026'\n",
      " '18/01/2027' '16/07/2026' '05/08/2026' '21/07/2026' '16/08/2026'\n",
      " '03/11/2026' '25/10/2026' '17/01/2027' '24/08/2026' '14/04/2027'\n",
      " '07/04/2027' '06/05/2027' '16/10/2026' '12/11/2026' '04/09/2026'\n",
      " '23/10/2026' '05/11/2026' '17/11/2026' '19/12/2026' '25/01/2027'\n",
      " '31/01/2027' '02/02/2027' '23/01/2027' '22/01/2027' '24/02/2027'\n",
      " '15/02/2027' '20/02/2027' '24/04/2027' '25/04/2027' '23/07/2026'\n",
      " '27/01/2027' '11/12/2026' '25/12/2026' '11/01/2027' '07/03/2027'\n",
      " '26/12/2026' '03/04/2027' '01/05/2027' '19/05/2026' '01/06/2026'\n",
      " '12/06/2026' '18/05/2026' '29/05/2026' '28/05/2026' '02/06/2026'\n",
      " '25/05/2026' '23/05/2026' '21/05/2026' '29/11/2026' '08/08/2026'\n",
      " '16/05/2026']\n"
     ]
    }
   ],
   "source": [
    "print(data['warranty'].unique())"
   ]
  },
  {
   "cell_type": "markdown",
   "id": "759248bc-bcbe-4132-945f-97af78e01e79",
   "metadata": {},
   "source": [
    "### Xử lí cột battery"
   ]
  },
  {
   "cell_type": "code",
   "execution_count": 25,
   "id": "fe513ce7-848b-4133-a692-643c137400b9",
   "metadata": {
    "scrolled": true
   },
   "outputs": [
    {
     "name": "stdout",
     "output_type": "stream",
     "text": [
      "['4.352 mAh' '4,325mAh' '4,900mAh' '5,000mAh'\n",
      " 'Công nghệ sạc Sạc nhanh 20W Sạc không dây MagSafe 15WSạc không dây Qi 7,5WCổng sạc Lightning'\n",
      " 'Công nghệ sạc Sạc nhanh Sạc MagSafe lên đến 15WCổng sạc Lightning'\n",
      " 'Công nghệ sạc Sạc nhanhSạc không dây MagSafe lên đến 15WSạc không dây Qi lên đến 7,5WCổng sạc USB Type-C'\n",
      " '5.000mAh' '5000 mAh'\n",
      " 'Công nghệ sạc Sạc nhanhSạc không dây 15WSạc không dây Qi 7.5WCổng sạc USB Type-C'\n",
      " '3900 mAh' '3110 mAh' '3,279mAh'\n",
      " 'Công nghệ sạc Sạc không dây MagSafe lên đến 25W với bộ tiếp hợp 30W trở lênSạc không dây Qi2 lên đến 15WSạc không dây Qi lên đến 7,5WCổng sạc USB Type-C'\n",
      " 'Cổng sạc USB Type-C'\n",
      " 'Công nghệ sạc Sạc nhanh 20WSạc không dây chuẩn Magsafe 15wSạc không dây chuẩn Qi 7.5WCổng sạc Lightning'\n",
      " '3,240mAh'\n",
      " 'Công nghệ sạc Sạc không dây MagSafe lên đến 25W với bộ tiếp hợp 30W trở lên Sạc không dây Qi2 lên đến 15WSạc không dây Qi lên đến 7,5WCổng sạc USB Type-C'\n",
      " '5110mAh' '2,406mAh'\n",
      " 'Công nghệ sạc Sạc không dây lên đến 25W Sạc không dây Qi2 lên đến 15WSạc không dây Qi lên đến 7,5WCổng sạc USB Type-C'\n",
      " '3046 mAh'\n",
      " 'Công nghệ sạc Sạc nhanh PD 2.0 30W (30 phút sạc được 50%)  Sạc không dây MagSafe 15W  Sạc không dây chuẩn Qi 7.5WCổng sạc Lightning'\n",
      " '3,095mAh'\n",
      " 'Li-Ion, sạc nhanh 20W, sạc không dây 15W, USB Power Delivery 2.0'\n",
      " 'Pin 4500mAh' '4500mAh' '3240mAh' '5.500mAh' '4700 mAh' '4500 mAh'\n",
      " '3969 mAh' '4400 mAh'\n",
      " 'Công nghệ sạc Deep Fusion, Smart HDR 4,Panorama, Chụp đêm, Chân dung, QuickTake video, Time‑lapse, Slo-mo videoCổng sạc Lightning'\n",
      " '4000 mAh' '3349 mAh' '5000 MAh' '5410mAh'\n",
      " 'Công nghệ sạc Sạc nhanh 20W, Sạc không dây, Sạc ngược không dây 15W, Sạc pin nhanh, Tiết kiệm pinCổng sạc Lightning'\n",
      " '5000mAh' '3700 mAh' '5.000 mAh' 'Khoảng 3,240mAh' '5200 mAh' '4900 mAh'\n",
      " 'Li-Po 5000 mAh' '5160mAh' '6000 mAh' '5800mAh (Typ)' '5100mAh'\n",
      " 'Công nghệ sạc Sạc nhanh 20W Sạc không dây chuẩn Magsafe 15wSạc không dây chuẩn Qi 7.5WCổng sạc Lightning'\n",
      " '4,900 mAh' '4.000 mAh'\n",
      " 'Li-Ion 3110 mAh battery, Fast charging 18W, 50% in 30 min (advertised), USB Power Delivery 2.0, Qi wireless charging'\n",
      " '4383 mAh' '2300 mAh' 'Công nghệ sạc Sạc nhanh 20WCổng sạc Lightning'\n",
      " '1000 mAh' '4610 mAh' '3240 mAh' '1500 mAh' '2815 mAh' '4422 mAh'\n",
      " '3274 mAh' '4325 mAh' '5030 mAh' '5160 mAh' '5100 mAh' '22 giờ'\n",
      " '1400 mAh' '3279 mAh' '1600 mAh' '1450 mAh' '1800 mAh' '33 giờ'\n",
      " '3250 mAh' '1750 mAh' '2000 mAh' '4300 mAh' '2438 mAh' '3095 mAh'\n",
      " '3200 mAh' '4323 mAh' '4352 mAh' '2227 mAh' '5500 mAh' '27 giờ'\n",
      " '5800 mAh' '5600 mAh' '5110 mAh' '5240 mAh' '26 giờ' '5410 mAh'\n",
      " '5910 mAh' '5630 mAh' '6500 mAh' '6600 mAh']\n"
     ]
    }
   ],
   "source": [
    "print(data['battery'].unique())"
   ]
  },
  {
   "cell_type": "markdown",
   "id": "0dfdbc4d-b2c5-4c5c-97c9-1542547e56c0",
   "metadata": {},
   "source": [
    "Dữ liệu trong cột battery không thống nhất theo đơn vị mAh và loại bỏ thông tin không cần thiết"
   ]
  },
  {
   "cell_type": "markdown",
   "id": "adec3f86-ce34-4bac-adf9-296f5bc4b766",
   "metadata": {},
   "source": [
    "#### Với dữ liệu từ thế giới di động"
   ]
  },
  {
   "cell_type": "code",
   "execution_count": 26,
   "id": "3f2d1c8e-a547-464f-8381-70acc6cad0c5",
   "metadata": {},
   "outputs": [],
   "source": [
    "# Thống nhất dữ liệu trong cột 'battery' sang mAh\n",
    "condition = data['battery'] == '27 giờ'\n",
    "data.loc[condition, 'battery'] = '4674 mAh'\n",
    "condition = data['battery'] == '26 giờ'\n",
    "data.loc[condition, 'battery'] = '4005 mAh'\n",
    "condition = data['battery'] == '22 giờ'\n",
    "data.loc[condition, 'battery'] = '3561 mAh'\n",
    "condition = data['battery'] == '33 giờ'\n",
    "data.loc[condition, 'battery'] = '4685 mAh'"
   ]
  },
  {
   "cell_type": "markdown",
   "id": "f6da923b-c575-4105-8528-b18c3698dc4b",
   "metadata": {},
   "source": [
    "#### Với dữ liệu từ cellphones"
   ]
  },
  {
   "cell_type": "code",
   "execution_count": 27,
   "id": "bcdcf715-13c0-49a8-9e48-b3a9bfb268cb",
   "metadata": {
    "scrolled": true
   },
   "outputs": [
    {
     "name": "stdout",
     "output_type": "stream",
     "text": [
      "\n",
      "Sản phẩm có giá trị pin (mAh) là NaN:\n",
      "- apple iphone 14 pro max\n",
      "- apple iphone 14 pro\n",
      "- apple iphone 15 plus\n",
      "- apple iphone 15 pro\n",
      "- apple iphone 15 pro max\n",
      "- apple iphone 16 pro max\n",
      "- apple iphone 15\n",
      "- apple iphone 14 plus\n",
      "- apple iphone 16 pro\n",
      "- apple iphone 16\n",
      "- apple iphone 12\n",
      "- apple iphone 12 mini\n",
      "- apple iphone 16 plus\n",
      "- apple iphone 13\n",
      "- apple iphone 14\n"
     ]
    }
   ],
   "source": [
    "# Thống nhất dữ liệu trong cột 'battery' sang mAh\n",
    "data['battery'] = data['battery'].fillna('').astype(str).str.lower()\n",
    "data['battery'] = data['battery'].str.replace(r'\\s+', '', regex=True)\n",
    "data['battery'] = data['battery'].str.replace(r'[,.]', '', regex=True)\n",
    "extracted_mah = data['battery'].str.extract(r'(\\d+)mah', flags=re.IGNORECASE, expand=False)\n",
    "data['battery'] = pd.to_numeric(extracted_mah, errors='coerce')\n",
    "\n",
    "# Lọc các sản phẩm có 'battery' là NaN sau chuyển đổi\n",
    "products_with_nan_battery = data[data['battery'].isna()]\n",
    "unique_names_with_nan_battery = products_with_nan_battery['name'].unique()\n",
    "# In ra name của các sản phẩm đó\n",
    "if unique_names_with_nan_battery.size > 0:\n",
    "    print(\"\\nSản phẩm có giá trị pin (mAh) là NaN:\")\n",
    "    for name in unique_names_with_nan_battery:\n",
    "        print(f\"- {name}\")\n",
    "else:\n",
    "    print(\"\\nKhông có sản phẩm nào có giá trị pin (mAh) là NaN.\")"
   ]
  },
  {
   "cell_type": "code",
   "execution_count": 28,
   "id": "39c8ec31",
   "metadata": {},
   "outputs": [],
   "source": [
    "battery_dict = {\n",
    "    'apple iphone 12': 2815,\n",
    "    'apple iphone 12 mini': 2227,\n",
    "    'apple iphone 13': 3240,\n",
    "    'apple iphone 14': 3279,\n",
    "    'apple iphone 14 plus': 4325,\n",
    "    'apple iphone 14 pro': 3200,\n",
    "    'apple iphone 14 pro max': 4323,\n",
    "    'apple iphone 15': 3349,\n",
    "    'apple iphone 15 plus': 4383,\n",
    "    'apple iphone 15 pro': 3274,\n",
    "    'apple iphone 15 pro max': 4422,\n",
    "    'apple iphone 16': 3561,\n",
    "    'apple iphone 16 plus': 4676,\n",
    "    'apple iphone 16 pro': 3577,\n",
    "    'apple iphone 16 pro max': 4676\n",
    "}\n",
    "\n",
    "# Ánh xạ vào cột 'battery' nếu 'name' trùng với key trong dict\n",
    "data['battery'] = data['battery'].fillna(data['name'].map(battery_dict))\n"
   ]
  },
  {
   "cell_type": "code",
   "execution_count": 29,
   "id": "1c48b153",
   "metadata": {},
   "outputs": [
    {
     "name": "stdout",
     "output_type": "stream",
     "text": [
      "[4352. 4325. 4900. 5000. 4323. 3200. 4383. 3274. 4422. 3900. 3110. 3279.\n",
      " 4676. 3349. 3240. 3577. 5110. 2406. 3561. 3046. 3095. 2815. 2227. 4500.\n",
      " 5500. 4700. 3969. 4400. 4000. 5410. 3700. 5200. 5160. 6000. 5800. 5100.\n",
      " 2300. 1000. 4610. 1500. 5030. 1400. 1600. 1450. 1800. 4685. 3250. 1750.\n",
      " 2000. 4300. 2438. 4674. 5600. 5240. 4005. 5910. 5630. 6500. 6600.]\n"
     ]
    }
   ],
   "source": [
    "print(data['battery'].unique())"
   ]
  },
  {
   "cell_type": "markdown",
   "id": "87f9b348-651d-4df9-9f78-a45e44bfdfef",
   "metadata": {},
   "source": [
    "### Xử lí cột RAM và capacity"
   ]
  },
  {
   "cell_type": "code",
   "execution_count": 30,
   "id": "6d8a087f-5a36-4e18-8ca4-215026ea70aa",
   "metadata": {},
   "outputs": [
    {
     "name": "stdout",
     "output_type": "stream",
     "text": [
      "['6 GB' '12 GB' '8 GB' '4 GB' '16 GB' '3 GB' '8GB + Mở rộng 8GB'\n",
      " '4GB + Mở rộng 4GB' '48 MB']\n"
     ]
    }
   ],
   "source": [
    "print(data['RAM'].unique())"
   ]
  },
  {
   "cell_type": "markdown",
   "id": "c3b56cb6-92ac-4008-b4a1-88218d6fa8b7",
   "metadata": {},
   "source": [
    "Dữ liệu trong cột RAM không thống nhất theo đơn vị GB."
   ]
  },
  {
   "cell_type": "code",
   "execution_count": 31,
   "id": "9c89c474-c78b-4bd2-978c-19cf73a784ce",
   "metadata": {},
   "outputs": [
    {
     "name": "stdout",
     "output_type": "stream",
     "text": [
      "['128 GB' '256 GB' '64 GB' '512 GB' '1 TB' '128 MB']\n"
     ]
    }
   ],
   "source": [
    "print(data['capacity'].unique())"
   ]
  },
  {
   "cell_type": "markdown",
   "id": "58af66b1-1216-4e70-9a76-cdab91383d26",
   "metadata": {},
   "source": [
    "Dữ liệu theo cột capacity không thống nhất theo đơn vị GB."
   ]
  },
  {
   "cell_type": "code",
   "execution_count": 32,
   "id": "4f473a50-19f1-4807-ac27-c1deea94104b",
   "metadata": {},
   "outputs": [],
   "source": [
    "# 1. Chuẩn hóa cột RAM: lấy phần trước \"mở rộng\" nếu có\n",
    "data['RAM'] = data['RAM'].apply(lambda x: (\n",
    "    f\"{re.search(r'(\\d+)\\s*+', str(x).lower().split('mở rộng')[0]).group(1)} GB\"\n",
    "    if isinstance(x, str) and 'mở rộng' in x.lower() and re.search(r'(\\d+)\\s*+', x.lower().split('mở rộng')[0])\n",
    "    else x\n",
    "))\n",
    "\n",
    "# 2. Hàm convert sang số GB\n",
    "def convert_to_gb(value):\n",
    "    if pd.isna(value) or str(value).lower().strip() == 'nan':\n",
    "        return np.nan\n",
    "    value = str(value).upper().strip()\n",
    "    if 'GB' in value:\n",
    "        try:\n",
    "            return float(value.replace('GB', '').strip())\n",
    "        except ValueError:\n",
    "            return np.nan\n",
    "    elif 'MB' in value:\n",
    "        try:\n",
    "            return float(value.replace('MB', '').strip()) / 1024\n",
    "        except ValueError:\n",
    "            return np.nan\n",
    "    elif 'TB' in value:\n",
    "        try:\n",
    "            return float(value.replace('TB', '').strip()) * 1024\n",
    "        except ValueError:\n",
    "            return np.nan\n",
    "    else:\n",
    "        return np.nan\n",
    "\n",
    "# 3. Áp dụng convert_to_gb cho cột RAM và capacity\n",
    "data['RAM'] = data['RAM'].apply(convert_to_gb)\n",
    "data['capacity'] = data['capacity'].apply(convert_to_gb)"
   ]
  },
  {
   "cell_type": "markdown",
   "id": "9282c457-214c-40be-a387-410b525b8ca6",
   "metadata": {},
   "source": [
    "### Xử lý cột screen_resolution"
   ]
  },
  {
   "cell_type": "code",
   "execution_count": 33,
   "id": "8117e386-6f8d-446b-921b-291bd763f128",
   "metadata": {},
   "outputs": [
    {
     "name": "stdout",
     "output_type": "stream",
     "text": [
      "['2796 x 1290-pixel' '2778 x 1284 pixel' '3120 x 1440 pixels (Quad HD+)'\n",
      " '1440 x 3120 pixels' '2556 x 1179 pixels' '1440 x 3088 pixels (QHD+)'\n",
      " '1080 x 2400 pixels (FullHD+)' '1080 x 2340 pixels (FullHD+)'\n",
      " '1792 x 828 pixel' '2532 x 1170 pixels' '2868 x 1320 pixels'\n",
      " '2622 x 1206  pixels' '1600 x 720 pixels (HD+)' '2436 x 1125 pixels'\n",
      " '1170 x 2532 pixels' '2688 x 1242 pixels' '2160 x 1856 (QXGA+)'\n",
      " '1080 x 2640 pixels' 'Full HD+ (1080 x 2400 Pixels)' '3200 x 1440 pixel'\n",
      " 'Full HD+ (1080 x 2412 Pixels)' '2340 x 1080-pixel' '1080 x 2412 pixels'\n",
      " '1240 x 2772 pixels' '1080 x 2388 pixels' '720 x 1612 (HD+)'\n",
      " '720 x 1600 pixel' 'HD+ (720 x 1600 Pixels)' '1612x720 (HD+)'\n",
      " '720 x 1640 pixels' '1220 x 2712 pixels' '720 x 1604 (HD+)'\n",
      " 'HD+ (720 x 1604 Pixels)' '240 x 320 pixels'\n",
      " 'Chính: FHD+ (1080 x 2640 Pixels) x Phụ: HD+ (720 x 748 Pixels)'\n",
      " 'HD+ (720 x 1612 Pixels)' 'QQVGA (128 x 160 Pixels)'\n",
      " 'Full HD+ (1080 x 2340 Pixels)' '2K+ (1440 x 3120 Pixels)'\n",
      " '2K+ (1440 x 3088 Pixels)'\n",
      " 'Chính: QXGA+ (1856 x 2160 Pixels) & Phụ: HD+ (968 x 2376 Pixels)'\n",
      " '2K+ (1440 x 3200 Pixels)' 'Super Retina XDR (1179 x 2556 Pixels)'\n",
      " '1.5K (1200 x 2670 Pixels)' 'Super Retina XDR (1170 x 2532 Pixels)'\n",
      " 'QVGA (176 x 220 Pixels)' 'Super Retina XDR (1290 x 2796 Pixels)'\n",
      " 'Super Retina XDR (1284 x 2778 Pixels)' 'Full HD+ (1080 x 2460 Pixels)'\n",
      " 'HD+ (720 x 1650 Pixels)' 'HD+ (720 x 1640 Pixels)'\n",
      " '1.5K (1220 x 2712 Pixels)' 'QVGA (240 x 320 Pixels)'\n",
      " 'QQVGA (120 x 160 Pixels)' 'HD+ (720 x 1608 Pixels)'\n",
      " 'Super Retina XDR (1320 x 2868 Pixels)' 'Full HD+ (1080 x 2388 Pixels)'\n",
      " '1.5K+ (1240 x 2772 Pixels)' 'Full HD+ (1080 x 2408 Pixels)'\n",
      " 'Chính: FHD+ (1080 x 2520 Pixels) & Phụ: SD (382 x 720 Pixels)'\n",
      " '1.5K (1260 x 2800 Pixels)' 'Super Retina XDR (1206 x 2622 Pixels)'\n",
      " 'Liquid Retina (828 x 1792 Pixels)' '1.5K (1256 x 2760 Pixles)'\n",
      " '1.5K (1272 x 2800 Pixels)' '1.5K+ (1264 x 2780 Pixels)'\n",
      " '1.5K+ (1256 x 2760 Pixels)' 'Full HD+ (1080 x 2392 Pixels)'\n",
      " 'HD+ (720 x 1610 Pixels)' '1.5K (1224 x 2700 Pixels)']\n"
     ]
    }
   ],
   "source": [
    "print(data['screen_resolution'].unique())"
   ]
  },
  {
   "cell_type": "markdown",
   "id": "c94ed475-0df1-49ba-8a68-b1412cc5e154",
   "metadata": {},
   "source": [
    "Cần loại bỏ thông tin không cần thiết, tách cột"
   ]
  },
  {
   "cell_type": "code",
   "execution_count": 34,
   "id": "ae55809f-c191-4306-8d82-421d0df05938",
   "metadata": {},
   "outputs": [],
   "source": [
    "# Xử lí thông tin độ phân giải trong cột 'screen_resolution'\n",
    "data['screen_resolution_temp'] = data['screen_resolution'].apply(\n",
    "    lambda x: (\n",
    "        None if not isinstance(x, str) else\n",
    "        re.match(r\"^(?:Chính:\\s*)?(.*?)(?:\\s*(?:[xX&|]\\s*|,\\s*)?Phụ:.*)?$\", str(x)).group(1).strip()\n",
    "    )\n",
    ")\n",
    "\n",
    "data['screen_resolution_temp'] = data['screen_resolution_temp'].apply(\n",
    "    lambda x: None if x == 'nan' else x\n",
    ")\n",
    "\n",
    "data['screen_resolution_temp'] = data['screen_resolution_temp'].apply(\n",
    "    lambda x: (\n",
    "        re.search(r'(\\d+)\\s*[xX×]\\s*(\\d+)', str(x)).group(0)\n",
    "        if isinstance(x, str) and re.search(r'(\\d+)\\s*[xX×]\\s*(\\d+)', str(x))\n",
    "        else None\n",
    "    )\n",
    ")\n",
    "\n",
    "# Tách cột 'screen_resolution' thành 'resolution_width' và 'resolution_height'\n",
    "data[['resolution_width', 'resolution_height']] = data['screen_resolution_temp'].str.extract(r'(\\d+(?:\\.\\d+)?)\\s*[xX×]\\s*(\\d+(?:\\.\\d+)?)')\n",
    "\n",
    "# Chuyển đổi cột 'resolution_width' sang kiểu số\n",
    "data['resolution_width'] = data['resolution_width'].astype(str)\n",
    "data['resolution_width'] = pd.to_numeric(data['resolution_width'], errors='coerce')\n",
    "\n",
    "# Chuyển đổi cột 'resolution_height' sang kiểu số\n",
    "data['resolution_height'] = data['resolution_height'].astype(str)\n",
    "data['resolution_height'] = pd.to_numeric(data['resolution_height'], errors='coerce')\n",
    "\n",
    "# Gán lại cột screen_resolution thành số lượng điểm ảnh\n",
    "data['screen_resolution'] = data['resolution_width'] * data['resolution_height']\n",
    "# Xóa các cột không cần thiết.\n",
    "data = data.drop(columns=['screen_resolution_temp'])\n",
    "data.drop(columns=['resolution_height','resolution_width' ], inplace=True)\n"
   ]
  },
  {
   "cell_type": "markdown",
   "id": "d97997ad-6555-4275-b706-8977f71175d4",
   "metadata": {},
   "source": [
    "### Xử lý cột operating system"
   ]
  },
  {
   "cell_type": "code",
   "execution_count": 35,
   "id": "ff960074-e36a-4501-8c6c-29950f691c97",
   "metadata": {
    "scrolled": true
   },
   "outputs": [
    {
     "name": "stdout",
     "output_type": "stream",
     "text": [
      "['iOS 16' 'iOS15' 'Android 14, One UI 6.1' 'iOS 17' 'Android 13, One UI 5'\n",
      " 'ColorOS 13.1.1, nền tảng Android 13'\n",
      " 'iOS 13 hoặc cao hơn (Tùy vào phiên bản phát hành)' 'iOS 18' 'iOS 15'\n",
      " 'Android 14' 'Xiaomi HyperOS' 'iOS'\n",
      " 'iOS 14.1 hoặc cao hơn (Tùy vào phiên bản phát hành)' 'Android'\n",
      " 'MIUI 14, Android 13' 'Android 13' 'Android 15' 'Android 12'\n",
      " 'Xiaomi HyperOS 2' 'Android 13, One UI 5.1' 'ColorOS 13.1'\n",
      " 'ColorOS 12.1, nền tảng Android 12' 'Android 14 Go'\n",
      " 'ColorOS 12.1.1, nền tảng Android 12' 'ColorOS 15, nền tảng Android 15'\n",
      " 'Xiaomi HyperOS (Android 14)' 'ColorOS 14, nền tảng Android 14'\n",
      " 'Android 12 với giao diện FunTouch OS 12' 'Android 14, Funtouch OS 14'\n",
      " 'ColorOS 13.1, nền tảng Android 13' 'MIUI 13 dựa trên Android 11'\n",
      " 'Android 9.0 (Pie)' 'Series 30+' 'realme UI 4.0 Trên nền tảng Android 13'\n",
      " 'Android 12, ColorOS 12.1' 'Android 13 (Go Edition)' 'Mocor (RTOS)']\n"
     ]
    }
   ],
   "source": [
    "print(data['operating_system'].unique())"
   ]
  },
  {
   "cell_type": "code",
   "execution_count": 36,
   "id": "d14fc233",
   "metadata": {},
   "outputs": [],
   "source": [
    "def extract_os_version(os_string):\n",
    "    # iOS + version\n",
    "    match_ios = re.search(r'iOS\\s*\\d+', os_string, re.IGNORECASE)\n",
    "    if match_ios:\n",
    "        return match_ios.group(0).replace(\" \", \"\")  # iOS15\n",
    "\n",
    "    # Android + version\n",
    "    match_android = re.search(r'Android\\s*\\d+', os_string, re.IGNORECASE)\n",
    "    if match_android:\n",
    "        return match_android.group(0).replace(\" \", \"\")  # Android13\n",
    "\n",
    "    # Trường hợp Android đơn thuần\n",
    "    if re.search(r'\\bAndroid\\b', os_string, re.IGNORECASE):\n",
    "        return 'Android'\n",
    "\n",
    "    # Trường hợp iOS đơn thuần\n",
    "    if re.search(r'\\biOS\\b', os_string, re.IGNORECASE):\n",
    "        return 'iOS'\n",
    "\n",
    "    # Nếu không phải Android/iOS thì giữ lại hệ điều hành chính \n",
    "    match_other = re.search(r'^[^\\d,()]+', os_string)\n",
    "    if match_other:\n",
    "        return match_other.group(0).strip()\n",
    "\n",
    "    return os_string.strip()\n",
    "\n",
    "data['operating_system'] = data['operating_system'].apply(extract_os_version)\n"
   ]
  },
  {
   "cell_type": "code",
   "execution_count": 37,
   "id": "e35c9114",
   "metadata": {},
   "outputs": [
    {
     "name": "stdout",
     "output_type": "stream",
     "text": [
      "['iOS16' 'iOS15' 'Android14' 'iOS17' 'Android13' 'iOS13' 'iOS18'\n",
      " 'Xiaomi HyperOS' 'iOS' 'iOS14' 'Android' 'Android15' 'Android12'\n",
      " 'ColorOS' 'Android11' 'Android9' 'Series' 'Mocor']\n"
     ]
    }
   ],
   "source": [
    "print(data['operating_system'].unique())"
   ]
  },
  {
   "cell_type": "markdown",
   "id": "1bb7010a-c14d-4d61-8eaf-948ea3a26fae",
   "metadata": {},
   "source": [
    "### Xử lý cột SIM"
   ]
  },
  {
   "cell_type": "code",
   "execution_count": 38,
   "id": "304626b8-cc8b-49e2-bd90-eef1484de65c",
   "metadata": {},
   "outputs": [
    {
     "name": "stdout",
     "output_type": "stream",
     "text": [
      "['2 SIM (nano‑SIM và eSIM)' 'SIM 1 + SIM 2 / SIM 1 + eSIM / 2 eSIM'\n",
      " '2 Nano-SIM + eSIM' '2 SIM (Nano-SIM)' 'Nano-SIM + eSIM'\n",
      " 'Sim kép (nano-Sim và e-Sim) - Hỗ trợ 2 e-Sim' '2 Nano-SIM'\n",
      " '2 Nano SIM hoặc 1 Nano SIM + 1 eSIM' '2 Nano SIM hoặc 1 Nano + 1 eSIM'\n",
      " '2 Nano SIM' 'Nano-SIM' '2 Nano SIM (Sim 2 chung khe với thẻ nhớ)'\n",
      " 'Dual nano-SIM hoặc 1 nano-SIM + 1 eSIM' '1 Nano SIM & 1 eSIM'\n",
      " '1 Nano SIM + 1 eSIM hoặc 2 eSIM'\n",
      " '2 Nano SIM hoặc 2 eSIM hoặc 1 Nano SIM + 1 eSIM'\n",
      " '2 Nano SIM (SIM 2 chung khe thẻ nhớ)' '2 Nano SIM + 1 eSIM']\n"
     ]
    }
   ],
   "source": [
    "print(data['SIM'].unique())"
   ]
  },
  {
   "cell_type": "code",
   "execution_count": 39,
   "id": "35c88db4-de6d-45cd-8f14-f3debf2851ee",
   "metadata": {},
   "outputs": [],
   "source": [
    "# Xử lí thông tin cột 'SIM'\n",
    "data['processed_SIM'] = data['SIM'].astype(str).str.lower()\n",
    "data['processed_SIM'] = data['processed_SIM'].replace('nan', np.nan)\n",
    "\n",
    "# Tạo cột 'has_nano_sim' (nếu có là 1 - không có là 0)\n",
    "data['has_nano_sim'] = data['processed_SIM'].str.contains(r'nano[-]?sim', case=False, na=np.nan).astype(float)\n",
    "\n",
    "# Tạo cột 'has_esim' (nếu có là 1 - không có là 0)\n",
    "data['has_esim'] = data['processed_SIM'].str.contains(r'e[-]?sim', case=False, na=np.nan).astype(float)\n",
    "\n",
    "# Cập nhật regex để bắt 'SIM' hoặc 'SIM 1', 'SIM 2',\n",
    "mask_generic_sim = (\n",
    "    data['processed_SIM'].notna() &\n",
    "    data['processed_SIM'].str.contains(r'\\bSIM(?: \\d+| vật lý)?\\b', case=False, na=False)\n",
    ")\n",
    "\n",
    "data = data.drop(columns = 'processed_SIM')\n",
    "\n",
    "# Cập nhật has_nano_sim thành 1.0 cho các trường hợp này\n",
    "data.loc[mask_generic_sim, 'has_nano_sim'] = 1.0\n",
    "\n",
    "data.drop(columns=['SIM'], inplace=True)"
   ]
  },
  {
   "cell_type": "markdown",
   "id": "aecadcfe-42ed-45b5-8286-dbda2fe726eb",
   "metadata": {},
   "source": [
    "### Xử lý cột display_technology"
   ]
  },
  {
   "cell_type": "code",
   "execution_count": 40,
   "id": "ccfc2ac3-6366-4cb5-92ea-be03a535f8f7",
   "metadata": {},
   "outputs": [
    {
     "name": "stdout",
     "output_type": "stream",
     "text": [
      "['Super Retina XDR OLED' 'OLED' 'Dynamic AMOLED' 'Dynamic AMOLED 2X'\n",
      " 'AMOLED' 'IPS LCD' 'Super AMOLED' 'Super Retina XDR' 'Liquid Retina'\n",
      " 'LTPO AMOLED'\n",
      " 'Super Retina XDR OLED, HDR10, Dolby Vision, Wide color gamut, True-tone'\n",
      " 'LCD' 'PLS LCD'\n",
      " 'Liquid Retina IPS LCD capacitive touchscreen, 16M colors' 'TFT LCD'\n",
      " 'Super AMOLED Plus' 'LTPS LCD' 'TN']\n"
     ]
    }
   ],
   "source": [
    "print(data['display_technology'].unique())"
   ]
  },
  {
   "cell_type": "markdown",
   "id": "41458d2b-9ddf-4966-89cf-b5bf479392b7",
   "metadata": {},
   "source": [
    "Cần loại bỏ các thông tin không cần thiết "
   ]
  },
  {
   "cell_type": "code",
   "execution_count": 41,
   "id": "3fd78873-f913-41e2-82b7-d3b75c6c5f15",
   "metadata": {},
   "outputs": [],
   "source": [
    "display_info = data['display_technology']\n",
    "data['display_technology'] = data['display_technology'].fillna('').astype(str)\n",
    "data['display_technology'] = data['display_technology'].str.extract(r'(.*?lcd)', flags=re.IGNORECASE, expand=False)\n",
    "data['display_technology'] = data['display_technology'].fillna(display_info)\n",
    "data['display_technology'] = data['display_technology'].str.split(',').str[0]\n",
    "data['display_technology'] = data['display_technology'].str.strip()"
   ]
  },
  {
   "cell_type": "code",
   "execution_count": 42,
   "id": "77374da0",
   "metadata": {},
   "outputs": [
    {
     "name": "stdout",
     "output_type": "stream",
     "text": [
      "['Super Retina XDR OLED' 'OLED' 'Dynamic AMOLED' 'Dynamic AMOLED 2X'\n",
      " 'AMOLED' 'IPS LCD' 'Super AMOLED' 'Super Retina XDR' 'Liquid Retina'\n",
      " 'LTPO AMOLED' 'LCD' 'PLS LCD' 'Liquid Retina IPS LCD' 'TFT LCD'\n",
      " 'Super AMOLED Plus' 'LTPS LCD' 'TN']\n"
     ]
    }
   ],
   "source": [
    "print(data['display_technology'].unique())"
   ]
  },
  {
   "cell_type": "markdown",
   "id": "8e6b103c-9d25-4063-8ff0-00df9f753756",
   "metadata": {},
   "source": [
    "### Xử lý cột size"
   ]
  },
  {
   "cell_type": "code",
   "execution_count": 43,
   "id": "f7318f30-da56-4485-8406-0cdb3c8388d5",
   "metadata": {
    "scrolled": true
   },
   "outputs": [
    {
     "name": "stdout",
     "output_type": "stream",
     "text": [
      "['160.7 x 77.6 x 7.9 mm' '160.8 x 78.1 x 7.65mm' '158.5 x 75.9 x 7.75mm'\n",
      " '162.3 x 79.0 x 8.6mm' 'Dài 174.5mm - Ngang: 71.5mm - Dày 7.85mm'\n",
      " '160,9 x 77,8 x 7,80 mm' '163.4 x 78.1 x 8.9 mm'\n",
      " 'Đen: 160 x 73.23 x 7.93 mm  Xanh: 160 x 73.23 x 7.99 mm'\n",
      " '146,6 x 70,6 x 8,25 mm' '159,9 x 76,7 x 8,25 mm' '146.3 x 70.9 x 7.6 mm'\n",
      " '150.9mm - 75.7mm - 8.3mm' '146.7 x 71.5 x 7.80mm' '163 x 77,6 x 8,25 mm'\n",
      " '147.6 x 71.6 x 7.80 mm' 'Dọc 160.8 x Ngang 78.1 x Dày 7.8mm'\n",
      " '146,7 x 71,5 x 7,65mm' '161.7 x 78.0 x 8.2 mm'\n",
      " 'Rộng: 71,5 mm  Cao: 149,6 mm  Dày: 8,25 mm' '167.26 x 76.67 x 7.84mm'\n",
      " '162.4 x 75.7 x 7.99mm' '131,5 x 64,2 x 7,65mm' '147,6 x 71,6 x 7,80 mm'\n",
      " '144.0mm - 71.4mm - 8.1mm' '146,7 x 71.5 x 7,65mm'\n",
      " '146.7 x 71.5 x 7.4 mm' '131.5 x 64.2 x 7.4 mm' '162.2 x 77.5 x 7.4 mm'\n",
      " '152,8 x 71,5 x 7,98mm' '161.1 x 77.4 x 8.2 mm'\n",
      " \"['155.7', '74.5', '7.9']\" \"['162', '77.3', '8']\" '158 x 76.5 x 8.2 mm'\n",
      " '158.0mm - 77.8mm - 8.1mm'\n",
      " 'Kích thước: 153.5 x 132.6 x 5.6 mmKích thước gập: 153.5 x 68.1 x 12.1 mm'\n",
      " 'Dài 162.8mm - Ngang 77.6mm - Dày 8.2mm' '162.9 x 78.2 x 7.4 mm'\n",
      " 'Kích thước: 165.1 x 71.9 x 6.9 mmKích thước gập: 85.1 x 71.9 x 14.9 mm'\n",
      " \"['158.2', '76.7', '8.2']\" '165,5 x 75,5 x 8,3 mm'\n",
      " \"['168', '77.8', '8.8']\"\n",
      " '161.3 x 75.3 x 9.35mm (Đen, Trắng) (Bạc Chrome): 161.3 x 75.3 x 9.48mm'\n",
      " \"['163.1', '75.8', '7.76']\" \"['161.4', '74.1', '7.57']\"\n",
      " 'Dài 146.9mm - Ngang 70.5mm - Dày 7.2mm'\n",
      " 'Dài 162.4 mm - Ngang  74.3 mm - Dày 8.04mm (Xanh) | 7.9mm (Xám)'\n",
      " '162.9 x 74 x 8.3 mm' '164.4 x 77.9 x 7.9 mm' '147.0 x 70.6 x 7.6mm'\n",
      " '157.8 x 76.2 x 7.6 mm' \"['161', '76.5', '8.3']\"\n",
      " 'Mở: 165.1 x 71.9 x 6.9mm Gập: 85.1 x 71.9 x 15.1mm'\n",
      " '164.06 x 76.17 x 8.07 mm' '191.9 x 88.9 x 91 mm'\n",
      " 'Dài 158.4mm - Ngang 75.8mm - Dày 7.3mm'\n",
      " 'Dài 165.6 mm - Ngang 76 mm - Dày 7.99 mm (Đen) | 8.04 mm (Tím)'\n",
      " '163.7 x 75 x 7.99 mm' '168,8 x 78,2 x 8,8 mm' '165.6 x 77.0 x 8.35 mm'\n",
      " '167.3 x 77.3 x 8.0 mm' '161.1 x 74.95 x 7.98 mm' '164.2 x 75.6 x 8.3 mm'\n",
      " '163.74 × 75.43 × 8.09 mm' '171,88mm x 77,80mm x 8,22mm'\n",
      " '167.3 x 76.7 x  7.49 mm' '164.0 x 77.5 x 7.7 mm' '161.7 x 74.7 x 7.6 mm'\n",
      " '161.7 x 77.2 x 8.8 mm' '162.2 x 75.05 x 7.76mm'\n",
      " \"['161.3', '78.1', '8.2']\"\n",
      " '160,5mm x 75,1mm x 7,80mm (Kính)  160,5mm x 75,1mm x 7,95mm (PU)'\n",
      " '163.74 x 75.03 x 8.16 mm' '165.715 mm x 77.112 mm x 7.8 mm'\n",
      " '165.7 x 76 x 7.68 mm' '163.8 x 75 x 8 mm' '150.9 x 75.7 x 8.3 mm'\n",
      " '163.95 x 75.55 x 8.19 mm' '163.63 x 75.58 x 8.39 mm'\n",
      " '165.66 x 76.1 x 7.64 mm' '126 x 57 x 15.2 mm' \"['165.1', '71.9', '6.9']\"\n",
      " \"['165.1', '85.1', '71.9']\" \"['163.32', '75.07', '8.35']\"\n",
      " \"['113', '48', '14']\" \"['147', '70.6', '7.6']\" \"['158.5', '75.9', '7.7']\"\n",
      " \"['163.4', '78.1', '8.9']\" \"['162.3', '79', '8.6']\"\n",
      " \"['161.7', '78', '8.2']\" \"['163.9', '76.5', '7.8']\"\n",
      " \"['161.1', '77.4', '8.2']\" \"['164.9', '77.3', '8.4']\"\n",
      " \"['168.8', '78.2', '8.8']\" \"['167.3', '77.3', '8']\"\n",
      " \"['153.5', '132.6', '68.1']\" \"['162.1', '77.6', '8.3']\"\n",
      " \"['162.3', '78.6', '9.1']\" \"['161.4', '75.3', '9.2']\"\n",
      " \"['147.6', '71.6', '7.8']\" \"['161.7', '77.2', '8.8']\"\n",
      " \"['158', '76.5', '8.2']\" \"['160.1', '76.8', '8.4']\"\n",
      " \"['152.8', '71.5', '8.2']\" \"['146.7', '71.5', '7.65']\"\n",
      " \"['152.8', '71.5', '7.98']\" \"['122.7', '57', '17']\"\n",
      " \"['146.7', '71.5', '7.4']\" \"['160.1', '76.8', '9.3']\"\n",
      " \"['160.9', '77.8', '7.8']\" \"['159.9', '76.7', '8.25']\"\n",
      " \"['146.6', '70.6', '8.25']\" \"['160.8', '78.1', '7.8']\"\n",
      " \"['163.74', '75.03', '8.16']\" \"['168.6', '76.28', '8.3']\"\n",
      " \"['168.3', '76.3', '8.32']\" \"['171.88', '77.8', '8.22']\"\n",
      " \"['161.1', '74.95', '7.98']\" \"['161.15', '74.24', '7.98']\"\n",
      " \"['159.87', '73.87', '8.09']\" \"['162.9', '76', '7.9']\"\n",
      " \"['162.24', '75.55', '7.97']\" \"['121', '50', '12.8']\"\n",
      " \"['164.6', '75.4', '7.59']\" \"['126.5', '53.8', '13.4']\"\n",
      " \"['146.7', '71.5', '7.8']\" \"['167.3', '76.7', '7.49']\"\n",
      " \"['163.63', '75.58', '8.39']\" \"['125', '61.5', '13']\"\n",
      " \"['163.74', '75.43', '8.09']\" \"['121.5', '50', '14.4']\"\n",
      " \"['130.7', '54.2', '15']\" \"['165.7', '76', '7.99']\"\n",
      " \"['162.95', '75.45', '7.92']\" \"['167.2', '76.7', '7.99']\"\n",
      " \"['163', '77.6', '8.25']\" \"['165.6', '76.1', '8.2']\"\n",
      " \"['165.6', '76', '7.99']\" \"['165.65', '75.98', '7.99']\"\n",
      " \"['159.9', '73.3', '7.95']\" \"['130.5', '60', '24']\"\n",
      " \"['160', '73.23', '7.93']\" \"['163.74', '75.03', '7.99']\"\n",
      " \"['164.06', '76.17', '8.07']\" \"['162.9', '74', '8.28']\"\n",
      " \"['160', '73.4', '7.67']\" \"['161.6', '73.9', '8.7']\"\n",
      " \"['162.4', '74.1', '8.04']\" \"['165.65', '75.98', '7.89']\"\n",
      " \"['167.7', '78', '9.1']\" \"['164.2', '75.6', '8.3']\"\n",
      " \"['126', '57', '15.2']\" \"['130', '55.5', '12.5']\"\n",
      " \"['161.5', '74.8', '7.4']\" \"['165.71', '76.02', '7.68']\"\n",
      " \"['167.26', '76.67', '7.84']\" \"['167.26', '76.67', '7.74']\"\n",
      " \"['166.42', '75.78', '7.79']\" \"['131.5', '64.2', '7.65']\"\n",
      " \"['164.66', '75.4', '8.99']\" \"['147.5', '71.5', '7.85']\"\n",
      " \"['160.7', '77.6', '7.85']\" \"['160.8', '78.1', '7.65']\"\n",
      " \"['131.5', '64.2', '7.4']\" \"['165.66', '76.1', '7.64']\"\n",
      " \"['164.36', '74.75', '7.75']\" \"['164.36', '75.1', '7.45']\"\n",
      " \"['165.77', '76.08', '7.68']\" \"['149.6', '71.5', '8.25']\"\n",
      " \"['163.7', '75.6', '8.55']\" \"['161.05', '74.55', '6.78']\"\n",
      " \"['150.9', '75.7', '8.3']\" \"['163.1', '75.8', '7.69']\"\n",
      " \"['163.59', '75.33', '8.39']\" \"['162.2', '75.05', '7.76']\"\n",
      " \"['164.4', '77.9', '7.9']\" \"['160.5', '75.1', '7.8']\"\n",
      " \"['157.9', '74.73', '7.24']\" \"['165.69', '76.22', '7.99']\"\n",
      " \"['162.33', '74.42', '8.4']\" \"['162.2', '77.5', '7.4']\"\n",
      " \"['162.16', '74.92', '8.24']\" \"['164', '77.5', '7.7']\"\n",
      " \"['131.2', '54', '12']\" \"['152.3', '71.2', '8.08']\"\n",
      " \"['161.7', '74.7', '7.6']\" \"['164.16', '74.93', '7.58']\"\n",
      " \"['163.25', '76.55', '8.16']\" \"['162.8', '77.6', '8.2']\"\n",
      " \"['160.4', '75.1', '8.39']\" \"['162.9', '78.2', '7.4']\"\n",
      " \"['165.75', '76.1', '8.1']\" \"['162.73', '76.55', '7.55']\"\n",
      " \"['171.7', '77.8', '8.26']\" \"['158.4', '75.8', '7.3']\"\n",
      " \"['165.62', '77.01', '8.35']\" \"['164.82', '75.53', '7.76']\"\n",
      " \"['163.85', '75.75', '8.7']\" \"['146.9', '70.5', '7.2']\"\n",
      " \"['167.3', '76.95', '8.19']\" \"['168', '76.43', '7.7']\"\n",
      " \"['165.7', '77.1', '7.8']\" \"['162.4', '75.7', '7.99']\"\n",
      " \"['161.3', '75.3', '9.35']\" \"['162.27', '76.67', '8.24']\"\n",
      " \"['157.35', '74.33', '7.85']\" \"['163.15', '75.65', '7.97']\"\n",
      " \"['163.77', '76.28', '7.79']\" \"['166.9', '76.8', '8.09']\"\n",
      " \"['161.05', '74.55', '7.12']\" \"['165.82', '77.21', '8.3']\"\n",
      " \"['165.98', '75.8', '7.88']\" \"['162.8', '75.5', '7.98']\"]\n"
     ]
    }
   ],
   "source": [
    "print(data['size'].unique())"
   ]
  },
  {
   "cell_type": "markdown",
   "id": "5cc7c1c4-92f5-4bcf-92fd-ca14ef0f0843",
   "metadata": {},
   "source": [
    "Chỉ lấy kích thước, tạo ra các cột mới lưu thông tin dài, rộng, cao"
   ]
  },
  {
   "cell_type": "code",
   "execution_count": 44,
   "id": "ba2c345f-a127-4a1a-ad6d-b5d93142b6e8",
   "metadata": {},
   "outputs": [],
   "source": [
    "# Tạo một bản sao để xử lý cột 'size'\n",
    "data['size_cleaned'] = data['size'].astype(str).str.lower()\n",
    "\n",
    "# Ưu tiên lấy kích thước khi mở\n",
    "data['size_cleaned'] = data['size_cleaned'].apply(\n",
    "    lambda x: re.search(r'(\\d+(?:\\.\\d+)?\\s*(?:x|×|\\*|\\s+)\\s*\\d+(?:\\.\\d+)?\\s*(?:x|×|\\*|\\s+)\\s*\\d+(?:\\.\\d+)?)', x).group(1)\n",
    "    if re.search(r'(\\d+(?:\\.\\d+)?\\s*(?:x|×|\\*|\\s+)\\s*\\d+(?:\\.\\d+)?\\s*(?:x|×|\\*|\\s+)\\s*\\d+(?:\\.\\d+)?)', x) else x\n",
    ")\n",
    "\n",
    "# Loại bỏ các thông tin trong ngoặc đơn, tên màu sắc, tên bản, v.v.\n",
    "data['size_cleaned'] = data['size_cleaned'].str.replace(r'\\(.*?\\)', '', regex=True)\n",
    "data['size_cleaned'] = data['size_cleaned'].str.replace(r'(?:màu\\s*\\w+|\\w+\\s*(?:đỏ|xanh|tím|đen|vàng|trắng|kem|bạc).*?:\\s*|bản\\s*\\w+:\\s*|pha lê đen:)', '', regex=True)\n",
    "data['size_cleaned'] = data['size_cleaned'].str.replace(r'khi gập.*|kích thước gập.*|kích thước khi gập lại.*', '', regex=True)\n",
    "\n",
    "# Loại bỏ các từ khóa mô tả kích thước và đơn vị\n",
    "data['size_cleaned'] = data['size_cleaned'].str.replace(r'(?:dài|ngang|rộng|cao|độ dày|dày|mm|cm|in|g|inch|\\'|\")\\s*', '', regex=True)\n",
    "data['size_cleaned'] = data['size_cleaned'].str.replace(':', '', regex=False)\n",
    "data['size_cleaned'] = data['size_cleaned'].str.replace('~', '', regex=False)\n",
    "data['size_cleaned'] = data['size_cleaned'].str.replace('≈', '', regex=False)\n",
    "data['size_cleaned'] = data['size_cleaned'].str.replace(r'\\s*[x×*]\\s*', ' ', regex=True)\n",
    "data['size_cleaned'] = data['size_cleaned'].str.replace('-', ' ', regex=False)\n",
    "data['size_cleaned'] = data['size_cleaned'].str.replace(r'\\s+', ' ', regex=True).str.strip()\n",
    "\n",
    "# Trích xuất các số và chuyển đổi thành float\n",
    "data['size_cleaned'] = data['size_cleaned'].apply(\n",
    "    lambda x: ' '.join(re.findall(r'\\d+(?:\\.\\d+)?', x)[:3]) if re.findall(r'\\d+(?:\\.\\d+)?', x) else x\n",
    ")\n",
    "pattern_3_nums = r'(\\d+(?:\\.\\d+)?)\\s+(\\d+(?:\\.\\d+)?)\\s+(\\d+(?:\\.\\d+)?)'\n",
    "\n",
    "extracted_dims = data['size_cleaned'].str.extract(pattern_3_nums)\n",
    "\n",
    "data['val1'] = pd.to_numeric(extracted_dims[0], errors='coerce')\n",
    "data['val2'] = pd.to_numeric(extracted_dims[1], errors='coerce')\n",
    "data['val3'] = pd.to_numeric(extracted_dims[2], errors='coerce')\n",
    "\n",
    "# Sắp xếp và gán vào height, width, depth\n",
    "data['temp_dims'] = data[['val1', 'val2', 'val3']].values.tolist()\n",
    "\n",
    "# Hàm sắp xếp\n",
    "data['temp_dims'] = data['temp_dims'].apply(\n",
    "    lambda x: sorted([val for val in x if pd.notna(val)], reverse=True) if isinstance(x, list) else []\n",
    ")\n",
    "\n",
    "# Gán giá trị sau khi sắp xếp\n",
    "data['height'] = data['temp_dims'].apply(lambda x: x[0] if len(x) > 0 else np.nan)\n",
    "data['width'] = data['temp_dims'].apply(lambda x: x[1] if len(x) > 1 else np.nan)\n",
    "data['depth'] = data['temp_dims'].apply(lambda x: x[2] if len(x) > 2 else np.nan)\n",
    "\n",
    "# Tìm các hàng mà height, width, depth đều là NaN (chưa được xử lý)và size_cleaned chỉ chứa một số duy nhất\n",
    "single_num_mask = (data['height'].isna()) & (data['width'].isna()) & (data['depth'].isna())\n",
    "\n",
    "# Trích xuất giá trị duy nhất này (nếu có)\n",
    "data['single_val'] = data['size_cleaned'].apply(\n",
    "    lambda x: float(re.findall(r'\\d+(?:\\.\\d+)?', x)[0])\n",
    "    if re.findall(r'\\d+(?:\\.\\d+)?', x) and len(re.findall(r'\\d+(?:\\.\\d+)?', x)) == 1\n",
    "    else np.nan\n",
    ")\n",
    "\n",
    "for index, row in data.iterrows():\n",
    "    # Gán vào height (nếu single_val > 150 và height là NaN)\n",
    "    if row['single_val'] > 150 and pd.isna(row['height']):\n",
    "        data.at[index, 'height'] = row['single_val']\n",
    "    if 50 < row['single_val'] <= 150 and pd.isna(row['width']):\n",
    "         data.at[index, 'width'] = row['single_val']\n",
    "    if row['single_val'] <= 50 and pd.isna(row['depth']):\n",
    "        data.at[index, 'depth'] = row['single_val']\n",
    "\n",
    "# Loại bỏ cột tạm\n",
    "data = data.drop(columns=['single_val', 'val1', 'val2', 'val3', 'size_cleaned', 'temp_dims'])\n",
    "\n",
    "# Chuyển đổi kiểu dữ liệu\n",
    "data['height'] = data['height'].fillna(pd.NA).astype(float)\n",
    "data['width'] = data['width'].fillna(pd.NA).astype(float)\n",
    "data['depth'] = data['depth'].fillna(pd.NA).astype(float)"
   ]
  },
  {
   "cell_type": "code",
   "execution_count": 45,
   "id": "2a2f9e17",
   "metadata": {},
   "outputs": [
    {
     "data": {
      "image/png": "[encoded data removed]",
      "text/plain": [
       "<Figure size 600x400 with 1 Axes>"
      ]
     },
     "metadata": {},
     "output_type": "display_data"
    },
    {
     "data": {
      "image/png": "[encoded data removed]",
      "text/plain": [
       "<Figure size 600x400 with 1 Axes>"
      ]
     },
     "metadata": {},
     "output_type": "display_data"
    },
    {
     "data": {
      "image/png": "[encoded data removed]",
      "text/plain": [
       "<Figure size 600x400 with 1 Axes>"
      ]
     },
     "metadata": {},
     "output_type": "display_data"
    }
   ],
   "source": [
    "sns.set(style='whitegrid')\n",
    "\n",
    "# Danh sách cột cần vẽ\n",
    "columns = ['height', 'width', 'depth']\n",
    "\n",
    "# Lặp và vẽ biểu đồ phân phối từng biến\n",
    "for col in columns:\n",
    "    plt.figure(figsize=(6, 4))\n",
    "    sns.histplot(data[col].dropna(), kde=True, bins=30, color='mediumseagreen')\n",
    "    plt.title(f\"Phân phối của '{col}'\")\n",
    "    plt.xlabel(col)\n",
    "    plt.ylabel(\"Tần suất\")\n",
    "    plt.tight_layout()\n",
    "    plt.show()"
   ]
  },
  {
   "cell_type": "markdown",
   "id": "ddb6db8e",
   "metadata": {},
   "source": [
    "Các trường hợp chưa đúng logic:\n",
    "* Độ dày điện thoại trên 60mm là vô lý.\n",
    "* Chiều rộng điện thoại trên 120mm hay dưới 30mm cũng vô lý.\n",
    "\n",
    "Chuyển các thông số của các trường hợp này toàn bộ thành NaN vì vấn đề nằm ở một số mẫu điện thoại đã được trích xuất không đúng thông tin."
   ]
  },
  {
   "cell_type": "code",
   "execution_count": 46,
   "id": "b2b4621f",
   "metadata": {},
   "outputs": [],
   "source": [
    "# Điều kiện phát hiện các giá trị bất hợp lý\n",
    "condition = (data['depth'] > 60) | (data['width'] < 30) | (data['width'] > 120)\n",
    "\n",
    "# Gán NaN cho cả 3 cột nếu dòng vi phạm điều kiện\n",
    "data.loc[condition, ['height', 'width', 'depth']] = np.nan"
   ]
  },
  {
   "cell_type": "code",
   "execution_count": 47,
   "id": "3a3564ea",
   "metadata": {},
   "outputs": [
    {
     "name": "stdout",
     "output_type": "stream",
     "text": [
      "                        name  \\\n",
      "49       apple iphone 13 pro   \n",
      "82    samsung galaxy z fold6   \n",
      "158               realme c53   \n",
      "186         xiaomi redmi 14c   \n",
      "324   samsung galaxy z flip6   \n",
      "1705  samsung galaxy z fold6   \n",
      "\n",
      "                                                   size  \n",
      "49                                146,7 x 71.5 x 7,65mm  \n",
      "82    Kích thước: 153.5 x 132.6 x 5.6 mmKích thước g...  \n",
      "158                                191.9 x 88.9 x 91 mm  \n",
      "186                         171,88mm x 77,80mm x 8,22mm  \n",
      "324                           ['165.1', '85.1', '71.9']  \n",
      "1705                         ['153.5', '132.6', '68.1']  \n"
     ]
    }
   ],
   "source": [
    "# Lọc các dòng có NaN kích thước\n",
    "mask = data[['height', 'width', 'depth']].isna().any(axis=1)\n",
    "\n",
    "# Lấy cột 'name' và 'size' của những dòng này\n",
    "result = data.loc[mask, ['name', 'size']].drop_duplicates()\n",
    "\n",
    "# In kết quả\n",
    "print(result)"
   ]
  },
  {
   "cell_type": "markdown",
   "id": "4ea22051",
   "metadata": {},
   "source": [
    "* apple iphone 13 pro, xiaomi redmi 14c không có vấn đề -> Gán lại như bình thường.\n",
    "* các mẫu còn lại kiểm tra raw_data và bổ sung thủ công."
   ]
  },
  {
   "cell_type": "code",
   "execution_count": 48,
   "id": "043f4654",
   "metadata": {},
   "outputs": [],
   "source": [
    "data.loc[data['name'] == 'apple iphone 13 pro', ['height', 'width', 'depth']] = [146.7, 71.5, 7.65]\n",
    "data.loc[data['name'] == 'xiaomi redmi 14c', ['height', 'width', 'depth']] = [171.88, 77.80, 8.22]\n",
    "data.loc[data['name'] == 'samsung galaxy z fold6', ['height', 'width', 'depth']] = [153.5, 132.6, 5.6]\n",
    "data.loc[data['name'] == 'realme c53', ['height', 'width', 'depth']] = [167.3, 76.7, 7.49]\n",
    "data.loc[data['name'] == 'samsung galaxy z flip6', ['height', 'width', 'depth']] = [165.1, 71.9, 6.9]"
   ]
  },
  {
   "cell_type": "code",
   "execution_count": 49,
   "id": "012fee0b",
   "metadata": {},
   "outputs": [],
   "source": [
    "# Xóa cột size\n",
    "data = data.drop(columns=['size'])"
   ]
  },
  {
   "cell_type": "markdown",
   "id": "7e7b4add-14f7-436e-bb6b-d7160c4b54ce",
   "metadata": {},
   "source": [
    "### Xử lý cột GPU"
   ]
  },
  {
   "cell_type": "code",
   "execution_count": 50,
   "id": "ec516a5d-1562-4f32-acd8-5b1d5de00222",
   "metadata": {
    "scrolled": true
   },
   "outputs": [
    {
     "name": "stdout",
     "output_type": "stream",
     "text": [
      "['Apple GPU (5-core graphics)' 'GPU 5 nhân' 'Adreno 750'\n",
      " 'Adreno 750 (1 GHz)' 'Apple GPU 5 nhân' 'GPU 5 lõi' 'Adreno 740'\n",
      " 'Adreno 610' 'GPU 6 nhân mới' 'Apple GPU (4-core graphics)' '5‑core GPU'\n",
      " 'GPU 6 lõi mới' '5 nhân GPU' 'GPU 4 nhân' 'Mali-G68 MP5' 'Mali-G57'\n",
      " 'IMG BXM-8-256' 'GPU 5 lõi mới' 'Apple GPU 4 nhân'\n",
      " 'AMD Ariel 2WGP-1RB 1.3 GHz' 'GPU Qualcomm® Adreno™' 'AMD Titan 1WGP'\n",
      " 'Mali-G78 MP14' 'Xclipse 940' 'Xclipse 920' 'Adreno 830' 'Adreno 710'\n",
      " 'Mali-G52' 'Adreno GPU' 'Mali-G57 MC2' 'Mali-G615' 'Mali-G68 MC4'\n",
      " 'Adreno 730' 'Mali-G68' 'Adreno 660' 'Mali-G57 MC2 @950MHz'\n",
      " 'IMG GE8320 @ 680 MHz' 'Unknown' 'IMG PowerVR GE8320' 'Mali-G52 MC2'\n",
      " 'ARM Mali-G57' 'Arm® Mali-G615' 'Arm Mali-G615 MC6' 'Mali G52 MP2'\n",
      " 'MT676  G52 MC2 @820MHz' 'Mali-G52 MP2' 'Adreno 644' 'Mali-G57 MP2'\n",
      " 'Apple GPU 6 nhân' 'Adreno 619' 'Mali-G77 MC9' 'Immortalis-G715 MC11'\n",
      " 'Adreno 720' 'Adreno 640' 'Mali-G615 MC2' 'ARM Immortalis-G720 MP12'\n",
      " 'ARM Immortalis G925 MC12' 'Hãng không công bố']\n"
     ]
    }
   ],
   "source": [
    "print(data['GPU'].unique())"
   ]
  },
  {
   "cell_type": "markdown",
   "id": "79fa20de-685e-49e7-85d3-e3dab609586f",
   "metadata": {},
   "source": [
    "Loại bỏ các thông tin không cần thiết, sửa lỗi chính tả, chỉ giữ lại tên chip GPU"
   ]
  },
  {
   "cell_type": "code",
   "execution_count": 51,
   "id": "8d67f61c-6b0b-482b-a313-86866cc2d13a",
   "metadata": {},
   "outputs": [],
   "source": [
    "# Xoá ký tự đặc biệt, chuẩn hoá khoảng trắng, xoá từ khoá mô tả\n",
    "data['GPU'] = (data['GPU']\n",
    "               .str.replace(r'[^\\w\\s\\+\\.\\-]', ' ', regex=True)\n",
    "               .str.replace(r'\\s+', ' ', regex=True).str.strip()\n",
    "               .str.replace(r'\\b(Qualcomm|Graphics|đồ họa|mới|up to)\\b', '', regex=True, flags=re.IGNORECASE)\n",
    "               .str.strip())\n",
    "\n",
    "# Đổi \"core\", \"lõi\" thành \"nhân\"\n",
    "data['GPU'] = data['GPU'].str.replace(r'(\\d+)\\s*(?:lõi|core)s?\\b', r'\\1 nhân', regex=True, flags=re.IGNORECASE)\n",
    "\n",
    "# Ghép từ tách rời và định dạng lại Adreno\n",
    "data['GPU'] = (data['GPU']\n",
    "               .str.replace(r'\\b(Mali|G|MC|MP|Adreno|IMG|GE|Series|XT|Plus|Apple|PowerVR|Arm|ARM|Immortalis|Xclipse)\\s+([A-Za-z0-9]+)', r'\\1-\\2', regex=True)\n",
    "               .str.replace(r'\\bAdreno(?:\\s*\\bGPU\\b)?\\s*(\\d+)\\b', r'Adreno-\\1', regex=True, flags=re.IGNORECASE))\n",
    "\n",
    "# Loại bỏ tần số MHz, GHz\n",
    "data['GPU'] = data['GPU'].str.replace(r'\\s*\\d+\\s*(mhz|ghz)', '', regex=True, flags=re.IGNORECASE).str.strip()\n",
    "\n",
    "# Chuẩn hóa ARM Mali và sửa lỗi\n",
    "data['GPU'] = (data['GPU']\n",
    "               .str.replace(r'arm[-\\s]*mali', 'ARM-Mali', regex=True, flags=re.IGNORECASE)\n",
    "               .str.replace(r'\\bMail\\b', 'Mali', regex=True, flags=re.IGNORECASE)\n",
    "               .str.replace(r'ARM[-\\s]*Mail', 'ARM-Mali', regex=True, flags=re.IGNORECASE))\n",
    "\n",
    "# Chuẩn hóa GPU không chuẩn\n",
    "data.loc[data['GPU'].str.lower().str.contains('gpu adreno', na=False), 'GPU'] = 'Adreno-Unknown'\n",
    "data.loc[data['GPU'].str.lower().str.contains('adreno gpu', na=False), 'GPU'] = 'Adreno-Unknown'\n",
    "\n",
    "# Xử lý chuỗi GPU dạng \"GPU X nhân\"\n",
    "for n in [4, 5, 6]:\n",
    "    data.loc[data['GPU'].str.match(fr'gpu\\s*{n}\\s*nhân', na=False, case=False), 'GPU'] = f'Apple-GPU {n} nhân'\n",
    "\n",
    "# Các chuỗi lộn xộn hoặc không phải GPU\n",
    "non_gpu_patterns = ['SM-A146B', 'SM-A146P', 'Cortex', 'đang câ p nhâ t', 'hãng không công bố', 'unknown', 'amd', 'mt676']\n",
    "pattern_no_gpu = '|'.join(non_gpu_patterns)\n",
    "data.loc[data['GPU'].str.lower().str.contains(pattern_no_gpu, na=False), 'GPU'] = 'Unknown'\n",
    "\n",
    "# Đồng nhất định dạng và gộp alias\n",
    "data['GPU'] = data['GPU'].str.replace(r'ARM-Mali\\s+', 'ARM-Mali-', regex=True)\n",
    "alias_map = {'GPU 5 nhân': 'Apple-GPU 5 nhân', '5 nhân GPU': 'Apple-GPU 5 nhân', 'Apple-GPU 5-core': 'Apple-GPU 5 nhân',\n",
    "             'Apple-GPU 4-core': 'Apple-GPU 4 nhân', 'Adreno-750 1 GHz': 'Adreno-750',\n",
    "             'Mali-G57 MC2 950MHz': 'Mali-G57 MC2', 'IMG-GE8320 680 MHz': 'PowerVR-GE8320'}\n",
    "data['GPU'] = data['GPU'].replace(alias_map)\n"
   ]
  },
  {
   "cell_type": "code",
   "execution_count": 52,
   "id": "8c5923b0",
   "metadata": {},
   "outputs": [
    {
     "name": "stdout",
     "output_type": "stream",
     "text": [
      "['Apple-GPU 5 nhân' 'Adreno-750' 'Adreno-740' 'Adreno-610'\n",
      " 'Apple-GPU 6 nhân' 'Apple-GPU 4 nhân' 'Mali-G68 MP5' 'Mali-G57'\n",
      " 'IMG-BXM-8-256' 'Unknown' 'GPU  Adreno' 'Mali-G78 MP14' 'Xclipse-940'\n",
      " 'Xclipse-920' 'Adreno-830' 'Adreno-710' 'Mali-G52' 'Adreno-GPU'\n",
      " 'Mali-G57 MC2' 'Mali-G615' 'Mali-G68 MC4' 'Adreno-730' 'Mali-G68'\n",
      " 'Adreno-660' 'IMG-GE8320' 'IMG-PowerVR GE8320' 'Mali-G52 MC2'\n",
      " 'ARM-Mali-G57' 'ARM-Mali-G615' 'ARM-Mali-G615 MC6' 'Mali-G52 MP2'\n",
      " 'Adreno-644' 'Mali-G57 MP2' 'Adreno-619' 'Mali-G77 MC9'\n",
      " 'Immortalis-G715 MC11' 'Adreno-720' 'Adreno-640' 'Mali-G615 MC2'\n",
      " 'ARM-Immortalis-G720 MP12' 'ARM-Immortalis G925 MC12']\n"
     ]
    }
   ],
   "source": [
    "print(data['GPU'].unique())"
   ]
  },
  {
   "cell_type": "markdown",
   "id": "024eed6f-a0f7-4513-affd-96af53790ab4",
   "metadata": {},
   "source": [
    "### Xử lý cột bluetooth"
   ]
  },
  {
   "cell_type": "code",
   "execution_count": 53,
   "id": "899471d2-f05c-487d-af0f-a507fa8fc8ed",
   "metadata": {},
   "outputs": [
    {
     "name": "stdout",
     "output_type": "stream",
     "text": [
      "['v5.3, A2DP, LE' 'v5.0' 'Bluetooth 5.3' '5.3' 'A2DP, LE, v5.3' 'v5.3'\n",
      " '5.3, A2DP, LE' '5.0' 'v5.0, A2DP, LE' '5.0, A2DP, LE' '5.2, A2DP, LE'\n",
      " 'Có' 'v5.4' 'v5.2' 'v5.1' 'Bluetooth 6.0' 'Bluetooth v5.4'\n",
      " '5.2, A2DP, LE, aptX HD' 'Có 5.0, A2DP, LE' 'v5.1 BLE' '5.4'\n",
      " 'Bluetooth\\t5.0, BLE' '5.0, A2DP, LE, aptX HD' 'v5.3, LE, A2DP'\n",
      " 'v5.2, LE, A2DP' 'v4.2' 'v5.0, A2DP' 'v2.1' 'v5.3, LE, apt-X, A2DP'\n",
      " 'v5.0, LE, A2DP' 'v6.0']\n"
     ]
    }
   ],
   "source": [
    "print(data['bluetooth'].unique())"
   ]
  },
  {
   "cell_type": "markdown",
   "id": "dbe01cdf-77ab-4bb7-af48-988e05d30977",
   "metadata": {},
   "source": [
    "Loại bỏ thông tin không cần thiết"
   ]
  },
  {
   "cell_type": "code",
   "execution_count": 54,
   "id": "e9b52709-73e4-4b00-90be-b4e830098585",
   "metadata": {},
   "outputs": [],
   "source": [
    "# Chuẩn hóa chuỗi và sửa lỗi chính tả\n",
    "data['processed_bluetooth'] = data['bluetooth'].fillna('').astype(str)\n",
    "\n",
    "data['processed_bluetooth'] = data['processed_bluetooth'].str.replace(r'(\\d+),(\\d+)', r'\\1.\\2', regex=True)\n",
    "data['processed_bluetooth'] = data['processed_bluetooth'].str.replace(r'\\bv\\s*(\\d+\\.\\d+)', r'v\\1', regex=True, flags=re.IGNORECASE).str.strip() \n",
    "data['processed_bluetooth'] = data['processed_bluetooth'].str.replace(r'(?<!Dual[\\s\\-])\\bBluetooth\\b\\s*', '', regex=True).str.strip() \n",
    "data['processed_bluetooth'] = data['processed_bluetooth'].str.replace(r'\\baptX\\b', 'apt-X', regex=True, flags=re.IGNORECASE).str.strip()\n",
    "data['processed_bluetooth'] = data['processed_bluetooth'].str.replace(r'\\bBT\\s*(\\d+\\.\\d+.*)?\\b', r'\\1', regex=True, flags=re.IGNORECASE).str.strip() \n",
    "data['processed_bluetooth'] = data['processed_bluetooth'].str.replace(r'(?<!v)(\\b\\d+\\.\\d+(?:\\s*[a-zA-Z0-9]+)?\\b)', r'v\\1', regex=True, flags=re.IGNORECASE).str.strip()\n",
    "data['processed_bluetooth'] = data['processed_bluetooth'].str.replace(r'\\b(Có)\\b(?!$)', '', regex=True).str.strip() \n",
    "data['processed_bluetooth'] = data['processed_bluetooth'].str.replace(r',\\s*', ', ', regex=True)\n",
    "\n",
    "\n",
    "data['processed_bluetooth'] = data['processed_bluetooth'].replace({\n",
    "    'v 52': 'v5.2',         \n",
    "    'A2DPLEv5.2': 'A2DP, LE, v5.2',  \n",
    "    'A2DP, LE5.2, A2DP, LE': 'A2DP, LE, v5.2, A2DP, LE', \n",
    "    'Có': np.nan,         \n",
    "    'v 52': 'v5.2',        \n",
    "})\n",
    "\n",
    "data['bluetooth'] = data['processed_bluetooth'].replace('', np.nan)\n",
    "\n",
    "data = data.drop(columns=['processed_bluetooth'], errors='ignore')"
   ]
  },
  {
   "cell_type": "code",
   "execution_count": 55,
   "id": "0d08fd66",
   "metadata": {},
   "outputs": [
    {
     "name": "stdout",
     "output_type": "stream",
     "text": [
      "['v5.3, A2DP, LE' 'v5.0' 'v5.3' 'A2DP, LE, v5.3' 'v5.0, A2DP, LE'\n",
      " 'v5.2, A2DP, LE' nan 'v5.4' 'v5.2' 'v5.1' 'v6.0'\n",
      " 'v5.2, A2DP, LE, apt-X HD' 'v5.1 BLE' 'v5.0, BLE'\n",
      " 'v5.0, A2DP, LE, apt-X HD' 'v5.3, LE, A2DP' 'v5.2, LE, A2DP' 'v4.2'\n",
      " 'v5.0, A2DP' 'v2.1' 'v5.3, LE, apt-X, A2DP' 'v5.0, LE, A2DP']\n"
     ]
    }
   ],
   "source": [
    "print(data['bluetooth'].unique())"
   ]
  },
  {
   "cell_type": "markdown",
   "id": "66bd46d6-85e1-48e4-8a13-e95cdd166671",
   "metadata": {},
   "source": [
    "### Xử lý cột refresh_rate"
   ]
  },
  {
   "cell_type": "code",
   "execution_count": 56,
   "id": "7fc7927a-5eec-4ca7-b429-64c61f0af6c8",
   "metadata": {},
   "outputs": [
    {
     "name": "stdout",
     "output_type": "stream",
     "text": [
      "['120Hz' '60Hz' 'Tần số quét 120 Hz' '90Hz' 'Tần số quét 60 Hz'\n",
      " 'Tần số quét 90 Hz' '60' 'Tần số quét Chính: 120 Hz & Phụ: 60 Hz'\n",
      " 'Tần số quét 144 Hz' '30']\n"
     ]
    }
   ],
   "source": [
    "print(data['refresh_rate'].unique())"
   ]
  },
  {
   "cell_type": "markdown",
   "id": "fe179ec6-726c-48b8-94eb-9c240c4fded2",
   "metadata": {},
   "source": [
    "Lấy thông tin tần số quét chính, loại bỏ chữ Hz"
   ]
  },
  {
   "cell_type": "code",
   "execution_count": 57,
   "id": "846b11dc-5a06-43ef-bad8-6f0eafe4217e",
   "metadata": {},
   "outputs": [],
   "source": [
    "# Chuẩn hóa cột refresh_rate (chữ thường, loại bỏ các từ không cần thiết)\n",
    "data['refresh_rate_cleaned'] = data['refresh_rate'].astype(str).str.lower()\n",
    "data['refresh_rate_cleaned'] = data['refresh_rate_cleaned'].str.replace(r'tần số quét|hz|từ|trở lên|nan|\\(.*\\)|@\\d+p|phụ:', '', regex=True)\n",
    "data['refresh_rate_cleaned'] = data['refresh_rate_cleaned'].str.replace(r'&|\\s*-\\s*', ' ', regex=True)\n",
    "data['refresh_rate_cleaned'] = data['refresh_rate_cleaned'].str.strip()\n",
    "\n",
    "# Gán các giá trị về nan\n",
    "data['refresh_rate'] = np.nan\n",
    "\n",
    "# Xử lý các trường hợp có phân chia tần số quét chính/phụ\n",
    "main_hz_extracted = data['refresh_rate_cleaned'].str.extract(r'chính:\\s*(\\d+)')[0]\n",
    "main_hz_numeric = pd.to_numeric(main_hz_extracted, errors='coerce')\n",
    "data['refresh_rate'] = main_hz_numeric.fillna(data['refresh_rate'])\n",
    "\n",
    "# Xử lý các trường hợp còn lại (chưa được điền)\n",
    "remaining_hz_extracted = data['refresh_rate_cleaned'].str.extract(r'(\\d+)')[0]\n",
    "remaining_hz_numeric = pd.to_numeric(remaining_hz_extracted, errors='coerce')\n",
    "data['refresh_rate'] = data['refresh_rate'].fillna(remaining_hz_numeric)\n",
    "\n",
    "data = data.drop(columns=['refresh_rate_cleaned'], errors='ignore')"
   ]
  },
  {
   "cell_type": "markdown",
   "id": "d0089115",
   "metadata": {},
   "source": [
    "### Xử lí ngoại lai logic"
   ]
  },
  {
   "cell_type": "code",
   "execution_count": 58,
   "id": "5d876378",
   "metadata": {},
   "outputs": [],
   "source": [
    "# Giá cũ phải nhỏ hơn hoặc bằng giá mới\n",
    "data = data[data['price_old'] <= data['price_new']]"
   ]
  },
  {
   "cell_type": "markdown",
   "id": "c0047467-687d-433c-ae63-c157b3748f07",
   "metadata": {},
   "source": [
    "# Lưu dữ liệu đã qua xử lí"
   ]
  },
  {
   "cell_type": "code",
   "execution_count": 59,
   "id": "47724489",
   "metadata": {},
   "outputs": [
    {
     "data": {
      "text/plain": [
       "(11372, 26)"
      ]
     },
     "execution_count": 59,
     "metadata": {},
     "output_type": "execute_result"
    }
   ],
   "source": [
    "# Xóa các dòng trùng lặp\n",
    "data = data.drop_duplicates(keep=False)\n",
    "# Kiểm tra lại kích thước\n",
    "data.shape"
   ]
  },
  {
   "cell_type": "code",
   "execution_count": 60,
   "id": "bfb5e3e8",
   "metadata": {},
   "outputs": [],
   "source": [
    "# Xuất DataFrame ra file CSV\n",
    "data.to_csv('tidy_data.csv', index=False, encoding='utf-8-sig')"
   ]
  }
 ],
 "metadata": {
  "kernelspec": {
   "display_name": "base",
   "language": "python",
   "name": "python3"
  },
  "language_info": {
   "codemirror_mode": {
    "name": "ipython",
    "version": 3
   },
   "file_extension": ".py",
   "mimetype": "text/x-python",
   "name": "python",
   "nbconvert_exporter": "python",
   "pygments_lexer": "ipython3",
   "version": "3.12.3"
  }
 },
 "nbformat": 4,
 "nbformat_minor": 5
}
