{
 "cells": [
  {
   "cell_type": "code",
   "execution_count": 3,
   "id": "62c5380a-37d6-4ebf-8202-7636b8657d64",
   "metadata": {},
   "outputs": [],
   "source": [
    "from selenium import webdriver\n",
    "from selenium.webdriver.common.by import By\n",
    "import pandas as pd"
   ]
  },
  {
   "cell_type": "code",
   "execution_count": 5,
   "id": "93b458d1-da6b-49d7-a7ad-145a0d1a89e4",
   "metadata": {},
   "outputs": [],
   "source": [
    "driver = webdriver.Chrome()"
   ]
  },
  {
   "cell_type": "code",
   "execution_count": 7,
   "id": "3c4d19e1-4455-46ce-a33e-833abccf243c",
   "metadata": {},
   "outputs": [],
   "source": [
    "url = \"https://cellphones.com.vn/hang-cu/dien-thoai.html\"\n",
    "driver.get(url)"
   ]
  },
  {
   "cell_type": "code",
   "execution_count": 9,
   "id": "5db22344-be4c-4e42-b75f-03a42456e489",
   "metadata": {},
   "outputs": [],
   "source": [
    "elements = driver.find_elements(By.XPATH, \"//div[@class = 'product-info']//a\")"
   ]
  },
  {
   "cell_type": "code",
   "execution_count": 11,
   "id": "d2cf1869-3c28-4f8f-8b54-15e104dd18d4",
   "metadata": {},
   "outputs": [],
   "source": [
    "url_item = []"
   ]
  },
  {
   "cell_type": "code",
   "execution_count": 13,
   "id": "e3974225-0cc9-49e4-817e-9807356fa9fe",
   "metadata": {},
   "outputs": [],
   "source": [
    "for element in elements:\n",
    "    href_value = element.get_attribute(\"href\")\n",
    "    url_item.append(href_value)"
   ]
  },
  {
   "cell_type": "code",
   "execution_count": 15,
   "id": "54ebff94-e452-42b7-90b4-658c863377a8",
   "metadata": {},
   "outputs": [
    {
     "name": "stdout",
     "output_type": "stream",
     "text": [
      "1211\n"
     ]
    }
   ],
   "source": [
    "print(len(url_item))"
   ]
  },
  {
   "cell_type": "code",
   "execution_count": 17,
   "id": "144fb845-d5a0-4628-ac1d-5b1fde557026",
   "metadata": {},
   "outputs": [],
   "source": [
    "driver.quit()"
   ]
  },
  {
   "cell_type": "code",
   "execution_count": 19,
   "id": "aecd13b8-490d-47fe-8941-d32728c36edd",
   "metadata": {},
   "outputs": [],
   "source": [
    "df = pd.DataFrame(url_item, columns = [\"URL\"])"
   ]
  },
  {
   "cell_type": "code",
   "execution_count": 21,
   "id": "9577cc5b-c9b3-45de-bdeb-091e3bce4d66",
   "metadata": {},
   "outputs": [],
   "source": [
    "df.to_csv('urls.csv', index = False)"
   ]
  }
 ],
 "metadata": {
  "kernelspec": {
   "display_name": "Python [conda env:base] *",
   "language": "python",
   "name": "conda-base-py"
  },
  "language_info": {
   "codemirror_mode": {
    "name": "ipython",
    "version": 3
   },
   "file_extension": ".py",
   "mimetype": "text/x-python",
   "name": "python",
   "nbconvert_exporter": "python",
   "pygments_lexer": "ipython3",
   "version": "3.12.7"
  }
 },
 "nbformat": 4,
 "nbformat_minor": 5
}
