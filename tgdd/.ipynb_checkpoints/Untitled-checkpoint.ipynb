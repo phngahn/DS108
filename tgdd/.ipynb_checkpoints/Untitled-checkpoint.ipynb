{
 "cells": [
  {
   "cell_type": "code",
   "execution_count": 203,
   "id": "769deb30-7a19-4800-98a9-4e6b5479b0f4",
   "metadata": {},
   "outputs": [],
   "source": [
    "import pandas as pd"
   ]
  },
  {
   "cell_type": "code",
   "execution_count": 204,
   "id": "07b72c88-3ed8-4f0e-8007-c7b84acf00f2",
   "metadata": {},
   "outputs": [],
   "source": [
    "data = pd.read_csv('raw_data.csv')"
   ]
  },
  {
   "cell_type": "markdown",
   "id": "469fff09-6519-4db0-8206-6df1c816ad27",
   "metadata": {},
   "source": [
    "# Khám phá dữ liệu"
   ]
  },
  {
   "cell_type": "code",
   "execution_count": 206,
   "id": "59c6c19e-e086-42ab-b894-176e073a9080",
   "metadata": {},
   "outputs": [
    {
     "name": "stdout",
     "output_type": "stream",
     "text": [
      "(13481, 12)\n"
     ]
    }
   ],
   "source": [
    "# Kiểm tra số cột và dòng của dữ liệu\n",
    "print(data.shape)"
   ]
  },
  {
   "cell_type": "code",
   "execution_count": 207,
   "id": "7027511b-7bed-4c3c-a540-24e59ba5257a",
   "metadata": {},
   "outputs": [
    {
     "name": "stdout",
     "output_type": "stream",
     "text": [
      "Index(['name', 'color', 'price_old', 'price_new', 'image', 'warranty',\n",
      "       'condition', 'accessories', 'CPU', 'RAM', 'capacity', 'battery'],\n",
      "      dtype='object')\n"
     ]
    }
   ],
   "source": [
    "# Kiểm tra tên các cột của dữ liệu\n",
    "print(data.columns)"
   ]
  },
  {
   "cell_type": "code",
   "execution_count": 208,
   "id": "e9395550-3247-4edc-99a7-a48b91c6f1a5",
   "metadata": {},
   "outputs": [
    {
     "name": "stdout",
     "output_type": "stream",
     "text": [
      "<class 'pandas.core.frame.DataFrame'>\n",
      "RangeIndex: 13481 entries, 0 to 13480\n",
      "Data columns (total 12 columns):\n",
      " #   Column       Non-Null Count  Dtype \n",
      "---  ------       --------------  ----- \n",
      " 0   name         12885 non-null  object\n",
      " 1   color        12885 non-null  object\n",
      " 2   price_old    12885 non-null  object\n",
      " 3   price_new    12863 non-null  object\n",
      " 4   image        12885 non-null  object\n",
      " 5   warranty     12885 non-null  object\n",
      " 6   condition    12885 non-null  object\n",
      " 7   accessories  12885 non-null  object\n",
      " 8   CPU          12729 non-null  object\n",
      " 9   RAM          12743 non-null  object\n",
      " 10  capacity     12859 non-null  object\n",
      " 11  battery      12885 non-null  object\n",
      "dtypes: object(12)\n",
      "memory usage: 1.2+ MB\n"
     ]
    }
   ],
   "source": [
    "# Kiểu dữ liệu của thuộc tính\n",
    "data.info()"
   ]
  },
  {
   "cell_type": "markdown",
   "id": "272e999c-d4f2-4ada-bb08-de88b601dd3e",
   "metadata": {},
   "source": [
    "Cần đổi thuộc tính price_old, price_new, RAM, capacity và battery sang kiểu numeric."
   ]
  },
  {
   "cell_type": "code",
   "execution_count": 210,
   "id": "f72af919-e2d0-4a56-99ad-41c315b71972",
   "metadata": {},
   "outputs": [
    {
     "data": {
      "text/plain": [
       "name           596\n",
       "color          596\n",
       "price_old      596\n",
       "price_new      618\n",
       "image          596\n",
       "warranty       596\n",
       "condition      596\n",
       "accessories    596\n",
       "CPU            752\n",
       "RAM            738\n",
       "capacity       622\n",
       "battery        596\n",
       "dtype: int64"
      ]
     },
     "execution_count": 210,
     "metadata": {},
     "output_type": "execute_result"
    }
   ],
   "source": [
    "# Kiểm tra missing values trong dữ liệu\n",
    "data.isnull().sum()"
   ]
  },
  {
   "cell_type": "code",
   "execution_count": 211,
   "id": "b1551af7-3122-4792-a509-714cdf8de58f",
   "metadata": {},
   "outputs": [
    {
     "data": {
      "text/plain": [
       "1040"
      ]
     },
     "execution_count": 211,
     "metadata": {},
     "output_type": "execute_result"
    }
   ],
   "source": [
    "# Kiểm tra duplicate trong dữ liệu\n",
    "data.duplicated().sum()"
   ]
  },
  {
   "cell_type": "markdown",
   "id": "409987b9-183e-4acf-bea4-da4f0d0ea7b5",
   "metadata": {},
   "source": [
    "Một số máy có thông số giống nhau hoàn toàn -> Drop."
   ]
  },
  {
   "cell_type": "code",
   "execution_count": 213,
   "id": "f9af1b0f-30cf-4b0e-87ee-944d308cb0a8",
   "metadata": {},
   "outputs": [
    {
     "name": "stdout",
     "output_type": "stream",
     "text": [
      "596\n"
     ]
    }
   ],
   "source": [
    "# Tìm các dòng rỗng hoàn toàn (tất cả các cột đều là NaN)\n",
    "empty_rows = data.isnull().all(axis=1)\n",
    "print(empty_rows.sum())"
   ]
  },
  {
   "cell_type": "markdown",
   "id": "6e2b8fca-17c0-4670-8e09-45ad1e057a5f",
   "metadata": {},
   "source": [
    "Do việc crawl url và scrape data không thể tiến hành song song với nhau nên trong lúc scrape data, một số sản phẩm đã bị bán đi -> Một số urls không còn khả dụng -> Một số dòng trong dữ liệu bị rỗng hoàn toàn"
   ]
  },
  {
   "cell_type": "code",
   "execution_count": 215,
   "id": "fe513ce7-848b-4133-a692-643c137400b9",
   "metadata": {},
   "outputs": [
    {
     "name": "stdout",
     "output_type": "stream",
     "text": [
      "['1020 mAh' '3700 mAh' '1500 mAh' nan '1000 mAh' '3250 mAh' '1600 mAh'\n",
      " '1800 mAh' '2000 mAh' '2300 mAh' '1400 mAh' '4500 mAh' '1150 mAh'\n",
      " '1750 mAh' '4400 mAh' '1450 mAh' '4700 mAh' '4000 mAh' '5000 mAh'\n",
      " '4300 mAh' '3240 mAh' '4610 mAh' '4900 mAh' '5030 mAh' '3095 mAh'\n",
      " '4352 mAh' '6000 mAh' '5100 mAh' '2438 mAh' '5200 mAh' '3110 mAh'\n",
      " '4383 mAh' '3279 mAh' '2815 mAh' '5500 mAh' '2227 mAh' '5160 mAh'\n",
      " '3274 mAh' '3200 mAh' '4325 mAh' '3349 mAh' '4323 mAh' '4422 mAh'\n",
      " '22 giờ' '33 giờ' '27 giờ' '5800 mAh' '6500 mAh' '5600 mAh' '5110 mAh'\n",
      " '5240 mAh' '26 giờ' '5630 mAh' '6600 mAh' '5910 mAh' '5410 mAh'\n",
      " '5150 mAh' '3969 mAh' '3900 mAh' '3046 mAh' '2716 mAh' '5050 mAh']\n"
     ]
    }
   ],
   "source": [
    "print(data['battery'].unique())"
   ]
  },
  {
   "cell_type": "markdown",
   "id": "0dfdbc4d-b2c5-4c5c-97c9-1542547e56c0",
   "metadata": {},
   "source": [
    "Dữ liệu trong cột battery không thống nhất theo đơn vị mAh."
   ]
  },
  {
   "cell_type": "code",
   "execution_count": 217,
   "id": "6d8a087f-5a36-4e18-8ca4-215026ea70aa",
   "metadata": {},
   "outputs": [
    {
     "name": "stdout",
     "output_type": "stream",
     "text": [
      "['48 MB' '8 GB' nan '64 MB' '16 MB' '12 GB' '4 GB' '6 GB' '3 GB' '16 GB']\n"
     ]
    }
   ],
   "source": [
    "print(data['RAM'].unique())"
   ]
  },
  {
   "cell_type": "markdown",
   "id": "c3b56cb6-92ac-4008-b4a1-88218d6fa8b7",
   "metadata": {},
   "source": [
    "Dữ liệu trong cột RAM không thống nhất theo đơn vị GB."
   ]
  },
  {
   "cell_type": "code",
   "execution_count": 219,
   "id": "9c89c474-c78b-4bd2-978c-19cf73a784ce",
   "metadata": {},
   "outputs": [
    {
     "name": "stdout",
     "output_type": "stream",
     "text": [
      "['128 MB' '256 GB' nan '16 MB' '24 MB' '512 GB' '128 GB' '64 GB' '1 TB'\n",
      " '32 GB']\n"
     ]
    }
   ],
   "source": [
    "print(data['capacity'].unique())"
   ]
  },
  {
   "cell_type": "markdown",
   "id": "58af66b1-1216-4e70-9a76-cdab91383d26",
   "metadata": {},
   "source": [
    "Dữ liệu theo cột capacity không thống nhất theo đơn vị GB."
   ]
  },
  {
   "cell_type": "code",
   "execution_count": 221,
   "id": "677ca8fe-1a6b-431d-b3dc-14c0c07edd5e",
   "metadata": {},
   "outputs": [
    {
     "data": {
      "text/html": [
       "<div>\n",
       "<style scoped>\n",
       "    .dataframe tbody tr th:only-of-type {\n",
       "        vertical-align: middle;\n",
       "    }\n",
       "\n",
       "    .dataframe tbody tr th {\n",
       "        vertical-align: top;\n",
       "    }\n",
       "\n",
       "    .dataframe thead th {\n",
       "        text-align: right;\n",
       "    }\n",
       "</style>\n",
       "<table border=\"1\" class=\"dataframe\">\n",
       "  <thead>\n",
       "    <tr style=\"text-align: right;\">\n",
       "      <th></th>\n",
       "      <th>name</th>\n",
       "      <th>color</th>\n",
       "      <th>price_old</th>\n",
       "      <th>price_new</th>\n",
       "      <th>image</th>\n",
       "      <th>warranty</th>\n",
       "      <th>condition</th>\n",
       "      <th>accessories</th>\n",
       "      <th>CPU</th>\n",
       "      <th>RAM</th>\n",
       "      <th>capacity</th>\n",
       "      <th>battery</th>\n",
       "    </tr>\n",
       "  </thead>\n",
       "  <tbody>\n",
       "    <tr>\n",
       "      <th>0</th>\n",
       "      <td>Điện thoại Nokia 105</td>\n",
       "      <td>Màu: Đen</td>\n",
       "      <td>240.000₫</td>\n",
       "      <td>610.000₫</td>\n",
       "      <td>https://img.tgdd.vn/imgt/old/f_webp,fit_outsid...</td>\n",
       "      <td>1 tháng tại TGDĐ</td>\n",
       "      <td>Có trầy xước</td>\n",
       "      <td>Pin,Sách hướng dẫn,Hộp,Sạc liền cáp MicroUSB,T...</td>\n",
       "      <td>Unisoc T107</td>\n",
       "      <td>48 MB</td>\n",
       "      <td>128 MB</td>\n",
       "      <td>1020 mAh</td>\n",
       "    </tr>\n",
       "    <tr>\n",
       "      <th>1</th>\n",
       "      <td>Điện thoại Nokia 105</td>\n",
       "      <td>Màu: Đen</td>\n",
       "      <td>250.000₫</td>\n",
       "      <td>610.000₫</td>\n",
       "      <td>https://cdnv2.tgdd.vn/posimageused//posused/20...</td>\n",
       "      <td>1 tháng tại TGDĐ</td>\n",
       "      <td>Có trầy xước</td>\n",
       "      <td>Pin,Sách hướng dẫn,Hộp,Sạc liền cáp MicroUSB,T...</td>\n",
       "      <td>Unisoc T107</td>\n",
       "      <td>48 MB</td>\n",
       "      <td>128 MB</td>\n",
       "      <td>1020 mAh</td>\n",
       "    </tr>\n",
       "    <tr>\n",
       "      <th>2</th>\n",
       "      <td>Điện thoại Nokia 105</td>\n",
       "      <td>Màu: Xanh ngọc</td>\n",
       "      <td>250.000₫</td>\n",
       "      <td>610.000₫</td>\n",
       "      <td>https://img.tgdd.vn/imgt/old/f_webp,fit_outsid...</td>\n",
       "      <td>Chính hãng đến 03/08/2025</td>\n",
       "      <td>Có trầy xước</td>\n",
       "      <td>Pin,Sách hướng dẫn,Hộp,Sạc liền cáp MicroUSB,T...</td>\n",
       "      <td>Unisoc T107</td>\n",
       "      <td>48 MB</td>\n",
       "      <td>128 MB</td>\n",
       "      <td>1020 mAh</td>\n",
       "    </tr>\n",
       "    <tr>\n",
       "      <th>3</th>\n",
       "      <td>Điện thoại Nokia 105</td>\n",
       "      <td>Màu: Đen</td>\n",
       "      <td>250.000₫</td>\n",
       "      <td>610.000₫</td>\n",
       "      <td>https://cdnv2.tgdd.vn/posimageused//posused/20...</td>\n",
       "      <td>Chính hãng đến 09/06/2025</td>\n",
       "      <td>Có trầy xước</td>\n",
       "      <td>Pin,Hộp,Sạc liền cáp MicroUSB,Tai nghe dây đầu...</td>\n",
       "      <td>Unisoc T107</td>\n",
       "      <td>48 MB</td>\n",
       "      <td>128 MB</td>\n",
       "      <td>1020 mAh</td>\n",
       "    </tr>\n",
       "    <tr>\n",
       "      <th>4</th>\n",
       "      <td>Điện thoại Nokia 105</td>\n",
       "      <td>Màu: Đen</td>\n",
       "      <td>370.000₫</td>\n",
       "      <td>610.000₫</td>\n",
       "      <td>https://cdnv2.tgdd.vn/posimageused//posused/20...</td>\n",
       "      <td>Chính hãng đến 22/12/2025</td>\n",
       "      <td>Có trầy xước</td>\n",
       "      <td>Hộp, Pin, Sách hướng dẫn, Sạc liền cáp MicroUS...</td>\n",
       "      <td>Unisoc T107</td>\n",
       "      <td>48 MB</td>\n",
       "      <td>128 MB</td>\n",
       "      <td>1020 mAh</td>\n",
       "    </tr>\n",
       "  </tbody>\n",
       "</table>\n",
       "</div>"
      ],
      "text/plain": [
       "                   name           color price_old price_new  \\\n",
       "0  Điện thoại Nokia 105        Màu: Đen  240.000₫  610.000₫   \n",
       "1  Điện thoại Nokia 105        Màu: Đen  250.000₫  610.000₫   \n",
       "2  Điện thoại Nokia 105  Màu: Xanh ngọc  250.000₫  610.000₫   \n",
       "3  Điện thoại Nokia 105        Màu: Đen  250.000₫  610.000₫   \n",
       "4  Điện thoại Nokia 105        Màu: Đen  370.000₫  610.000₫   \n",
       "\n",
       "                                               image  \\\n",
       "0  https://img.tgdd.vn/imgt/old/f_webp,fit_outsid...   \n",
       "1  https://cdnv2.tgdd.vn/posimageused//posused/20...   \n",
       "2  https://img.tgdd.vn/imgt/old/f_webp,fit_outsid...   \n",
       "3  https://cdnv2.tgdd.vn/posimageused//posused/20...   \n",
       "4  https://cdnv2.tgdd.vn/posimageused//posused/20...   \n",
       "\n",
       "                    warranty     condition  \\\n",
       "0           1 tháng tại TGDĐ  Có trầy xước   \n",
       "1           1 tháng tại TGDĐ  Có trầy xước   \n",
       "2  Chính hãng đến 03/08/2025  Có trầy xước   \n",
       "3  Chính hãng đến 09/06/2025  Có trầy xước   \n",
       "4  Chính hãng đến 22/12/2025  Có trầy xước   \n",
       "\n",
       "                                         accessories          CPU    RAM  \\\n",
       "0  Pin,Sách hướng dẫn,Hộp,Sạc liền cáp MicroUSB,T...  Unisoc T107  48 MB   \n",
       "1  Pin,Sách hướng dẫn,Hộp,Sạc liền cáp MicroUSB,T...  Unisoc T107  48 MB   \n",
       "2  Pin,Sách hướng dẫn,Hộp,Sạc liền cáp MicroUSB,T...  Unisoc T107  48 MB   \n",
       "3  Pin,Hộp,Sạc liền cáp MicroUSB,Tai nghe dây đầu...  Unisoc T107  48 MB   \n",
       "4  Hộp, Pin, Sách hướng dẫn, Sạc liền cáp MicroUS...  Unisoc T107  48 MB   \n",
       "\n",
       "  capacity   battery  \n",
       "0   128 MB  1020 mAh  \n",
       "1   128 MB  1020 mAh  \n",
       "2   128 MB  1020 mAh  \n",
       "3   128 MB  1020 mAh  \n",
       "4   128 MB  1020 mAh  "
      ]
     },
     "execution_count": 221,
     "metadata": {},
     "output_type": "execute_result"
    }
   ],
   "source": [
    "data.head()"
   ]
  },
  {
   "cell_type": "markdown",
   "id": "6d116cbf-746b-4184-bc4c-eecddc7cc83d",
   "metadata": {},
   "source": [
    "# Tiền xử lí dữ liệu"
   ]
  },
  {
   "cell_type": "code",
   "execution_count": 223,
   "id": "aa843292-98d3-476a-99d4-5303673c7763",
   "metadata": {},
   "outputs": [],
   "source": [
    "# Drop các dòng rỗng hoàn toàn trong dữ liệu\n",
    "data.drop(index=data[pd.Series(empty_rows).values].index, inplace=True)"
   ]
  },
  {
   "cell_type": "code",
   "execution_count": 224,
   "id": "f1ea400e-b3a0-4375-88f2-a1f95335777b",
   "metadata": {},
   "outputs": [],
   "source": [
    "# Drop các dòng bị duplicated trong dữ liệu\n",
    "data.drop_duplicates(inplace=True)"
   ]
  },
  {
   "cell_type": "code",
   "execution_count": 225,
   "id": "8674e63c-218d-413f-a63e-fc537ef7da92",
   "metadata": {},
   "outputs": [],
   "source": [
    "# Chuyển đổi cột 'price_old' từ object sang numeric\n",
    "data['price_old'] = data['price_old'].astype(str)\n",
    "data['price_old'] = data['price_old'].str.replace('.', '', regex=False)\n",
    "data['price_old'] = data['price_old'].str.replace('₫', '', regex=False)\n",
    "data['price_old'] = pd.to_numeric(data['price_old'], errors='coerce')"
   ]
  },
  {
   "cell_type": "code",
   "execution_count": 226,
   "id": "25fcb8b5-0e06-43ad-9ce6-d2d8d4f187b8",
   "metadata": {},
   "outputs": [],
   "source": [
    "# Chuyển đổi cột 'price_new' từ object sang numeric\n",
    "data['price_new'] = data['price_new'].astype(str)\n",
    "data['price_new'] = data['price_new'].str.replace('.', '', regex=False)\n",
    "data['price_new'] = data['price_new'].str.replace('₫', '', regex=False)\n",
    "data['price_new'] = pd.to_numeric(data['price_new'], errors='coerce')"
   ]
  },
  {
   "cell_type": "code",
   "execution_count": 227,
   "id": "ca3fd06c-39ba-4ca1-b7e6-0c26a8a9b676",
   "metadata": {},
   "outputs": [],
   "source": [
    "# Loại bỏ chuỗi \"Màu: \" trong cột color\n",
    "data['color'] = data['color'].str.replace('Màu: ', '', regex=False)"
   ]
  },
  {
   "cell_type": "code",
   "execution_count": 228,
   "id": "5087bc77-3986-42ca-bc3d-afca5debe2ee",
   "metadata": {},
   "outputs": [],
   "source": [
    "# Loại bỏ các chuỗi không cần thiết trong cột warranty\n",
    "data['warranty'] = data['warranty'].str.replace(' tại TGDĐ', '', regex=False)\n",
    "data['warranty'] = data['warranty'].str.replace('Chính hãng đến ', '', regex=False)"
   ]
  },
  {
   "cell_type": "code",
   "execution_count": 229,
   "id": "8b6f33e6-e426-4869-ab70-d42aef9a4c41",
   "metadata": {},
   "outputs": [],
   "source": [
    "# Dữ liệu trong cột battery không thống nhất\n",
    "condition = data['battery'] == '27 giờ'\n",
    "data.loc[condition, 'battery'] = '4674 mAh'\n",
    "condition = data['battery'] == '26 giờ'\n",
    "data.loc[condition, 'battery'] = '4005 mAh'\n",
    "condition = data['battery'] == '22 giờ'\n",
    "data.loc[condition, 'battery'] = '3561 mAh'\n",
    "condition = data['battery'] == '33 giờ'\n",
    "data.loc[condition, 'battery'] = '4685 mAh'\n",
    "condition = data['name'] == 'Điện thoại iPhone 16 Pro 512GB'\n",
    "data.loc[condition, 'battery'] = '3582 mAh'\n",
    "\n",
    "data['battery'] = data['battery'].str.replace(' mAh', '', regex=False)\n",
    "data['battery'] = pd.to_numeric(data['battery'], errors='coerce').astype('Int64')"
   ]
  }
 ],
 "metadata": {
  "kernelspec": {
   "display_name": "Python [conda env:base] *",
   "language": "python",
   "name": "conda-base-py"
  },
  "language_info": {
   "codemirror_mode": {
    "name": "ipython",
    "version": 3
   },
   "file_extension": ".py",
   "mimetype": "text/x-python",
   "name": "python",
   "nbconvert_exporter": "python",
   "pygments_lexer": "ipython3",
   "version": "3.12.7"
  }
 },
 "nbformat": 4,
 "nbformat_minor": 5
}
