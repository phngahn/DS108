{
 "cells": [
  {
   "cell_type": "code",
   "execution_count": 127,
   "id": "ef81d286-f45b-4c0d-9d88-a8f2bb775bd4",
   "metadata": {},
   "outputs": [],
   "source": [
    "from selenium import webdriver\n",
    "from selenium.webdriver.common.by import By\n",
    "from selenium.webdriver.support.ui import WebDriverWait\n",
    "from selenium.webdriver.support import expected_conditions as EC\n",
    "import pandas as pd\n",
    "import time"
   ]
  },
  {
   "cell_type": "code",
   "execution_count": 19,
   "id": "3d70a8ce-2631-4a8c-8e95-5c5ab166aba5",
   "metadata": {},
   "outputs": [],
   "source": [
    "df = pd.read_csv('final_url.csv')"
   ]
  },
  {
   "cell_type": "code",
   "execution_count": 21,
   "id": "f16d3707-005b-4350-8744-5143acd06f2e",
   "metadata": {},
   "outputs": [],
   "source": [
    "urls = df[\"URL\"].tolist"
   ]
  },
  {
   "cell_type": "code",
   "execution_count": 31,
   "id": "12dafb9b-e1ef-47cb-b461-bd1119d03c23",
   "metadata": {},
   "outputs": [],
   "source": [
    "def get_price(driver):\n",
    "    new_price = None\n",
    "    old_price = None\n",
    "    \n",
    "    try:\n",
    "        # Tìm phần tử div có class \"mPrice\"\n",
    "        price_element = driver.find_element(By.CSS_SELECTOR, \"div.mPrice\")\n",
    "\n",
    "        # Giá cũ của sản phẩm nằm trong thẻ strong\n",
    "        strong_element = price_element.find_element(By.CSS_SELECTOR, \"strong\")\n",
    "        old_price = strong_element.text\n",
    "\n",
    "        # Giá mới của sản phẩm nằm trong thẻ span\n",
    "        span_element = price_element.find_element(By.CSS_SELECTOR, \"span\")\n",
    "        new_price = span_element.text\n",
    "    except:\n",
    "        return old_price, new_price\n",
    "\n",
    "    return old_price, new_price"
   ]
  },
  {
   "cell_type": "code",
   "execution_count": 43,
   "id": "f1976911-0403-43c6-8fed-595d3dd8ee2a",
   "metadata": {},
   "outputs": [],
   "source": [
    "def get_warranty(driver):\n",
    "    warranty = None\n",
    "\n",
    "    try:\n",
    "        # Tìm tất cả các phần tử li có chữ 'Bảo hành'\n",
    "        li_element = driver.find_element(By.XPATH, \"//li[contains(., 'Bảo hành')]\")\n",
    "        warranty_element = li_element.find_element(By.CSS_SELECTOR, \"strong\")\n",
    "        warranty = warranty_element.text\n",
    "    except:\n",
    "        return warranty\n",
    "\n",
    "    return warranty"
   ]
  },
  {
   "cell_type": "code",
   "execution_count": 45,
   "id": "b966bb6f-2fad-41dd-b12e-6aa524fe352f",
   "metadata": {},
   "outputs": [],
   "source": [
    "def get_condition(driver):\n",
    "    condition = None\n",
    "\n",
    "    try:\n",
    "        # Tìm tất cả các phần tử li có chữ 'Tình trạng sản phẩm'\n",
    "        li_element = driver.find_element(By.XPATH, \"//li[contains(., 'Tình trạng sản phẩm')]\")\n",
    "        condition_element = li_element.find_element(By.CSS_SELECTOR, \"strong\")\n",
    "        condition = condition_element.text\n",
    "    except:\n",
    "        return condition\n",
    "\n",
    "    return condition"
   ]
  },
  {
   "cell_type": "code",
   "execution_count": 51,
   "id": "563f27fb-c7bb-4771-b89d-8ddfe024c724",
   "metadata": {},
   "outputs": [],
   "source": [
    "def get_accessories(driver):\n",
    "    accessories = None\n",
    "\n",
    "    try:\n",
    "        # Tìm tất cả các phần tử li có chữ 'Phụ kiện'\n",
    "        li_element = driver.find_element(By.XPATH, \"//li[contains(., 'Phụ kiện')]\")\n",
    "        accessories_element = li_element.find_element(By.CSS_SELECTOR, \"strong\")\n",
    "        accessories = accessories_element.text\n",
    "    except:\n",
    "        return accessories\n",
    "\n",
    "    return accessories"
   ]
  },
  {
   "cell_type": "code",
   "execution_count": 57,
   "id": "435156a0-64cd-439c-9609-7539f90104af",
   "metadata": {},
   "outputs": [],
   "source": [
    "def get_color(driver):\n",
    "    color = None\n",
    "\n",
    "    try:\n",
    "        # Tìm tất cả phần tử div có class là 'infocl'\n",
    "        color_element = driver.find_element(By.XPATH, \"//div[@class = 'infocl']/span[1]\")\n",
    "        color = color_element.text\n",
    "    except:\n",
    "        return color\n",
    "\n",
    "    return color"
   ]
  },
  {
   "cell_type": "code",
   "execution_count": 37,
   "id": "d5ca7e7d-f8ad-4ab6-819c-89ae39168b2a",
   "metadata": {},
   "outputs": [],
   "source": [
    "def get_name(driver):\n",
    "    name = None\n",
    "    \n",
    "    try:\n",
    "        # Tìm tất cả các phần tử div với class \"titleName\"\n",
    "        name_element = driver.find_element(By.CSS_SELECTOR, \"div.titleName\")\n",
    "        name = name_element.text\n",
    "    except:\n",
    "        return name\n",
    "        \n",
    "    return name"
   ]
  },
  {
   "cell_type": "code",
   "execution_count": 59,
   "id": "e64cd59b-075b-4dc5-a282-232a4ebac3fe",
   "metadata": {},
   "outputs": [],
   "source": [
    "def get_image(driver):\n",
    "    image = None\n",
    "\n",
    "    try:\n",
    "        image_element = driver.find_element(By.XPATH, \"//div[@class = 'img-wrapper swiper-slide swiper-slide-active']/img\")\n",
    "        image = image_element.get_attribute(\"src\")\n",
    "    except:\n",
    "        return image\n",
    "\n",
    "    return image"
   ]
  },
  {
   "cell_type": "code",
   "execution_count": 129,
   "id": "e6a699f5-547c-41bd-975a-d76e41f8b721",
   "metadata": {},
   "outputs": [],
   "source": [
    "wait = WebDriverWait(driver, 2)\n",
    "button = wait.until(EC.visibility_of_element_located((By.CLASS_NAME, \"btnViewFullSpec\")))\n",
    "    \n",
    "        # Scroll tới button\n",
    "driver.execute_script(\"arguments[0].scrollIntoView({behavior: 'smooth', block: 'center'});\", button)\n",
    "time.sleep(1)  \n",
    "\n",
    "        # Click vào button\n",
    "button.click()"
   ]
  },
  {
   "cell_type": "code",
   "execution_count": 191,
   "id": "03fdca7a-9e19-4ef3-8d5c-2b17ace2e34d",
   "metadata": {},
   "outputs": [],
   "source": [
    "def scrape_data(driver):\n",
    "    CPU = None\n",
    "    RAM = None\n",
    "    Capacity = None\n",
    "    Time = None\n",
    "    Battery = None\n",
    "    \n",
    "    try:\n",
    "        button = wait.until(EC.visibility_of_element_located((By.CLASS_NAME, \"btnViewFullSpec\")))\n",
    "    \n",
    "        # Scroll tới button\n",
    "        driver.execute_script(\"arguments[0].scrollIntoView({behavior: 'smooth', block: 'center'});\", button)\n",
    "        time.sleep(1)  \n",
    "\n",
    "        # Click vào button\n",
    "        button.click()\n",
    "        \n",
    "        cpu_elements = driver.find_elements(By.XPATH, \"//div[contains(@class, 'speciTable speciFull')]//div[contains(text(), 'Cấu hình & Bộ nhớ')]/following-sibling::table//tr[2]/td[2]/span/span\")\n",
    "        ram_elements = driver.find_elements(By.XPATH, \"//div[contains(@class, 'speciTable speciFull')]//div[contains(text(), 'Cấu hình & Bộ nhớ')]/following-sibling::table//tr[3]/td[2]/span/span\")\n",
    "        capacity_elements = driver.find_elements(By.XPATH, \"//div[contains(@class, 'speciTable speciFull')]//div[contains(text(), 'Cấu hình & Bộ nhớ')]/following-sibling::table//tr[4]/td[2]/span/span\")\n",
    "        time_elements = driver.find_elements(By.XPATH, \"//div[contains(@class, 'speciTable speciFull')]//div[contains(text(), 'Thiết kế & Chất liệu')]/following-sibling::table//tr[4]/td[2]/span/span\")\n",
    "        battery_elements = driver.find_elements(By.XPATH, \"//div[contains(@class, 'speciTable speciFull')]//div[contains(text(), 'Pin & Sạc')]/following-sibling::table//tr[1]/td[2]/span/span\")\n",
    "        \n",
    "        # Lấy thông tin từ các thẻ\n",
    "        for cpu_element in cpu_elements:\n",
    "            CPU = cpu_element.text\n",
    "        for ram_element in ram_elements:\n",
    "            RAM = ram_element.text\n",
    "        for capacity_element in capacity_elements:\n",
    "            Capacity = capacity_element.text\n",
    "        for time_element in time_elements:\n",
    "            Time = time_element.text\n",
    "        for battery_element in battery_elements:\n",
    "            Battery = battery_element.text\n",
    "    except:\n",
    "        return CPU, RAM, Capacity, Time, Battery\n",
    "   \n",
    "    return CPU, RAM, Capacity, Time, Battery"
   ]
  },
  {
   "cell_type": "code",
   "execution_count": 199,
   "id": "1bfeebe2-aa34-4836-ac37-d67a8106a0a3",
   "metadata": {},
   "outputs": [],
   "source": [
    "driver.quit()"
   ]
  }
 ],
 "metadata": {
  "kernelspec": {
   "display_name": "Python [conda env:base] *",
   "language": "python",
   "name": "conda-base-py"
  },
  "language_info": {
   "codemirror_mode": {
    "name": "ipython",
    "version": 3
   },
   "file_extension": ".py",
   "mimetype": "text/x-python",
   "name": "python",
   "nbconvert_exporter": "python",
   "pygments_lexer": "ipython3",
   "version": "3.12.7"
  }
 },
 "nbformat": 4,
 "nbformat_minor": 5
}
