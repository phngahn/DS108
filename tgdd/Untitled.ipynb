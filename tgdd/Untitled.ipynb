{
 "cells": [
  {
   "cell_type": "code",
   "execution_count": 1,
   "id": "769deb30-7a19-4800-98a9-4e6b5479b0f4",
   "metadata": {},
   "outputs": [],
   "source": [
    "import pandas as pd\n",
    "import numpy as np"
   ]
  },
  {
   "cell_type": "code",
   "execution_count": 2,
   "id": "07b72c88-3ed8-4f0e-8007-c7b84acf00f2",
   "metadata": {},
   "outputs": [],
   "source": [
    "data = pd.read_csv('raw_data.csv')"
   ]
  },
  {
   "cell_type": "markdown",
   "id": "469fff09-6519-4db0-8206-6df1c816ad27",
   "metadata": {},
   "source": [
    "# Khám phá dữ liệu"
   ]
  },
  {
   "cell_type": "code",
   "execution_count": 4,
   "id": "59c6c19e-e086-42ab-b894-176e073a9080",
   "metadata": {},
   "outputs": [
    {
     "name": "stdout",
     "output_type": "stream",
     "text": [
      "(13481, 12)\n"
     ]
    }
   ],
   "source": [
    "# Kiểm tra số cột và dòng của dữ liệu\n",
    "print(data.shape)"
   ]
  },
  {
   "cell_type": "code",
   "execution_count": 5,
   "id": "7027511b-7bed-4c3c-a540-24e59ba5257a",
   "metadata": {},
   "outputs": [
    {
     "name": "stdout",
     "output_type": "stream",
     "text": [
      "Index(['name', 'color', 'price_old', 'price_new', 'image', 'warranty',\n",
      "       'condition', 'accessories', 'CPU', 'RAM', 'capacity', 'battery'],\n",
      "      dtype='object')\n"
     ]
    }
   ],
   "source": [
    "# Kiểm tra tên các cột của dữ liệu\n",
    "print(data.columns)"
   ]
  },
  {
   "cell_type": "code",
   "execution_count": 6,
   "id": "e9395550-3247-4edc-99a7-a48b91c6f1a5",
   "metadata": {},
   "outputs": [
    {
     "name": "stdout",
     "output_type": "stream",
     "text": [
      "<class 'pandas.core.frame.DataFrame'>\n",
      "RangeIndex: 13481 entries, 0 to 13480\n",
      "Data columns (total 12 columns):\n",
      " #   Column       Non-Null Count  Dtype \n",
      "---  ------       --------------  ----- \n",
      " 0   name         12885 non-null  object\n",
      " 1   color        12885 non-null  object\n",
      " 2   price_old    12885 non-null  object\n",
      " 3   price_new    12863 non-null  object\n",
      " 4   image        12885 non-null  object\n",
      " 5   warranty     12885 non-null  object\n",
      " 6   condition    12885 non-null  object\n",
      " 7   accessories  12885 non-null  object\n",
      " 8   CPU          12729 non-null  object\n",
      " 9   RAM          12743 non-null  object\n",
      " 10  capacity     12859 non-null  object\n",
      " 11  battery      12885 non-null  object\n",
      "dtypes: object(12)\n",
      "memory usage: 1.2+ MB\n"
     ]
    }
   ],
   "source": [
    "# Kiểu dữ liệu của thuộc tính\n",
    "data.info()"
   ]
  },
  {
   "cell_type": "markdown",
   "id": "272e999c-d4f2-4ada-bb08-de88b601dd3e",
   "metadata": {},
   "source": [
    "Cần đổi thuộc tính price_old, price_new, RAM, capacity và battery sang kiểu numeric."
   ]
  },
  {
   "cell_type": "code",
   "execution_count": 8,
   "id": "f72af919-e2d0-4a56-99ad-41c315b71972",
   "metadata": {},
   "outputs": [
    {
     "data": {
      "text/plain": [
       "name           596\n",
       "color          596\n",
       "price_old      596\n",
       "price_new      618\n",
       "image          596\n",
       "warranty       596\n",
       "condition      596\n",
       "accessories    596\n",
       "CPU            752\n",
       "RAM            738\n",
       "capacity       622\n",
       "battery        596\n",
       "dtype: int64"
      ]
     },
     "execution_count": 8,
     "metadata": {},
     "output_type": "execute_result"
    }
   ],
   "source": [
    "# Kiểm tra missing values trong dữ liệu\n",
    "data.isnull().sum()"
   ]
  },
  {
   "cell_type": "code",
   "execution_count": 9,
   "id": "b1551af7-3122-4792-a509-714cdf8de58f",
   "metadata": {},
   "outputs": [
    {
     "data": {
      "text/plain": [
       "1040"
      ]
     },
     "execution_count": 9,
     "metadata": {},
     "output_type": "execute_result"
    }
   ],
   "source": [
    "# Kiểm tra duplicate trong dữ liệu\n",
    "data.duplicated().sum()"
   ]
  },
  {
   "cell_type": "markdown",
   "id": "409987b9-183e-4acf-bea4-da4f0d0ea7b5",
   "metadata": {},
   "source": [
    "Một số máy có thông số giống nhau hoàn toàn -> Drop."
   ]
  },
  {
   "cell_type": "code",
   "execution_count": 11,
   "id": "f9af1b0f-30cf-4b0e-87ee-944d308cb0a8",
   "metadata": {},
   "outputs": [
    {
     "name": "stdout",
     "output_type": "stream",
     "text": [
      "596\n"
     ]
    }
   ],
   "source": [
    "# Tìm các dòng rỗng hoàn toàn (tất cả các cột đều là NaN)\n",
    "empty_rows = data.isnull().all(axis=1)\n",
    "print(empty_rows.sum())"
   ]
  },
  {
   "cell_type": "markdown",
   "id": "6e2b8fca-17c0-4670-8e09-45ad1e057a5f",
   "metadata": {},
   "source": [
    "Do việc crawl url và scrape data không thể tiến hành song song với nhau nên trong lúc scrape data, một số sản phẩm đã bị bán đi -> Một số urls không còn khả dụng -> Một số dòng trong dữ liệu bị rỗng hoàn toàn"
   ]
  },
  {
   "cell_type": "code",
   "execution_count": 13,
   "id": "fe513ce7-848b-4133-a692-643c137400b9",
   "metadata": {},
   "outputs": [
    {
     "name": "stdout",
     "output_type": "stream",
     "text": [
      "['1020 mAh' '3700 mAh' '1500 mAh' nan '1000 mAh' '3250 mAh' '1600 mAh'\n",
      " '1800 mAh' '2000 mAh' '2300 mAh' '1400 mAh' '4500 mAh' '1150 mAh'\n",
      " '1750 mAh' '4400 mAh' '1450 mAh' '4700 mAh' '4000 mAh' '5000 mAh'\n",
      " '4300 mAh' '3240 mAh' '4610 mAh' '4900 mAh' '5030 mAh' '3095 mAh'\n",
      " '4352 mAh' '6000 mAh' '5100 mAh' '2438 mAh' '5200 mAh' '3110 mAh'\n",
      " '4383 mAh' '3279 mAh' '2815 mAh' '5500 mAh' '2227 mAh' '5160 mAh'\n",
      " '3274 mAh' '3200 mAh' '4325 mAh' '3349 mAh' '4323 mAh' '4422 mAh'\n",
      " '22 giờ' '33 giờ' '27 giờ' '5800 mAh' '6500 mAh' '5600 mAh' '5110 mAh'\n",
      " '5240 mAh' '26 giờ' '5630 mAh' '6600 mAh' '5910 mAh' '5410 mAh'\n",
      " '5150 mAh' '3969 mAh' '3900 mAh' '3046 mAh' '2716 mAh' '5050 mAh']\n"
     ]
    }
   ],
   "source": [
    "print(data['battery'].unique())"
   ]
  },
  {
   "cell_type": "markdown",
   "id": "0dfdbc4d-b2c5-4c5c-97c9-1542547e56c0",
   "metadata": {},
   "source": [
    "Dữ liệu trong cột battery không thống nhất theo đơn vị mAh."
   ]
  },
  {
   "cell_type": "code",
   "execution_count": 15,
   "id": "6d8a087f-5a36-4e18-8ca4-215026ea70aa",
   "metadata": {},
   "outputs": [
    {
     "name": "stdout",
     "output_type": "stream",
     "text": [
      "['48 MB' '8 GB' nan '64 MB' '16 MB' '12 GB' '4 GB' '6 GB' '3 GB' '16 GB']\n"
     ]
    }
   ],
   "source": [
    "print(data['RAM'].unique())"
   ]
  },
  {
   "cell_type": "markdown",
   "id": "c3b56cb6-92ac-4008-b4a1-88218d6fa8b7",
   "metadata": {},
   "source": [
    "Dữ liệu trong cột RAM không thống nhất theo đơn vị GB."
   ]
  },
  {
   "cell_type": "code",
   "execution_count": 17,
   "id": "9c89c474-c78b-4bd2-978c-19cf73a784ce",
   "metadata": {},
   "outputs": [
    {
     "name": "stdout",
     "output_type": "stream",
     "text": [
      "['128 MB' '256 GB' nan '16 MB' '24 MB' '512 GB' '128 GB' '64 GB' '1 TB'\n",
      " '32 GB']\n"
     ]
    }
   ],
   "source": [
    "print(data['capacity'].unique())"
   ]
  },
  {
   "cell_type": "markdown",
   "id": "58af66b1-1216-4e70-9a76-cdab91383d26",
   "metadata": {},
   "source": [
    "Dữ liệu theo cột capacity không thống nhất theo đơn vị GB."
   ]
  },
  {
   "cell_type": "code",
   "execution_count": 19,
   "id": "677ca8fe-1a6b-431d-b3dc-14c0c07edd5e",
   "metadata": {},
   "outputs": [
    {
     "data": {
      "text/html": [
       "<div>\n",
       "<style scoped>\n",
       "    .dataframe tbody tr th:only-of-type {\n",
       "        vertical-align: middle;\n",
       "    }\n",
       "\n",
       "    .dataframe tbody tr th {\n",
       "        vertical-align: top;\n",
       "    }\n",
       "\n",
       "    .dataframe thead th {\n",
       "        text-align: right;\n",
       "    }\n",
       "</style>\n",
       "<table border=\"1\" class=\"dataframe\">\n",
       "  <thead>\n",
       "    <tr style=\"text-align: right;\">\n",
       "      <th></th>\n",
       "      <th>name</th>\n",
       "      <th>color</th>\n",
       "      <th>price_old</th>\n",
       "      <th>price_new</th>\n",
       "      <th>image</th>\n",
       "      <th>warranty</th>\n",
       "      <th>condition</th>\n",
       "      <th>accessories</th>\n",
       "      <th>CPU</th>\n",
       "      <th>RAM</th>\n",
       "      <th>capacity</th>\n",
       "      <th>battery</th>\n",
       "    </tr>\n",
       "  </thead>\n",
       "  <tbody>\n",
       "    <tr>\n",
       "      <th>0</th>\n",
       "      <td>Điện thoại Nokia 105</td>\n",
       "      <td>Màu: Đen</td>\n",
       "      <td>240.000₫</td>\n",
       "      <td>610.000₫</td>\n",
       "      <td>https://img.tgdd.vn/imgt/old/f_webp,fit_outsid...</td>\n",
       "      <td>1 tháng tại TGDĐ</td>\n",
       "      <td>Có trầy xước</td>\n",
       "      <td>Pin,Sách hướng dẫn,Hộp,Sạc liền cáp MicroUSB,T...</td>\n",
       "      <td>Unisoc T107</td>\n",
       "      <td>48 MB</td>\n",
       "      <td>128 MB</td>\n",
       "      <td>1020 mAh</td>\n",
       "    </tr>\n",
       "    <tr>\n",
       "      <th>1</th>\n",
       "      <td>Điện thoại Nokia 105</td>\n",
       "      <td>Màu: Đen</td>\n",
       "      <td>250.000₫</td>\n",
       "      <td>610.000₫</td>\n",
       "      <td>https://cdnv2.tgdd.vn/posimageused//posused/20...</td>\n",
       "      <td>1 tháng tại TGDĐ</td>\n",
       "      <td>Có trầy xước</td>\n",
       "      <td>Pin,Sách hướng dẫn,Hộp,Sạc liền cáp MicroUSB,T...</td>\n",
       "      <td>Unisoc T107</td>\n",
       "      <td>48 MB</td>\n",
       "      <td>128 MB</td>\n",
       "      <td>1020 mAh</td>\n",
       "    </tr>\n",
       "    <tr>\n",
       "      <th>2</th>\n",
       "      <td>Điện thoại Nokia 105</td>\n",
       "      <td>Màu: Xanh ngọc</td>\n",
       "      <td>250.000₫</td>\n",
       "      <td>610.000₫</td>\n",
       "      <td>https://img.tgdd.vn/imgt/old/f_webp,fit_outsid...</td>\n",
       "      <td>Chính hãng đến 03/08/2025</td>\n",
       "      <td>Có trầy xước</td>\n",
       "      <td>Pin,Sách hướng dẫn,Hộp,Sạc liền cáp MicroUSB,T...</td>\n",
       "      <td>Unisoc T107</td>\n",
       "      <td>48 MB</td>\n",
       "      <td>128 MB</td>\n",
       "      <td>1020 mAh</td>\n",
       "    </tr>\n",
       "    <tr>\n",
       "      <th>3</th>\n",
       "      <td>Điện thoại Nokia 105</td>\n",
       "      <td>Màu: Đen</td>\n",
       "      <td>250.000₫</td>\n",
       "      <td>610.000₫</td>\n",
       "      <td>https://cdnv2.tgdd.vn/posimageused//posused/20...</td>\n",
       "      <td>Chính hãng đến 09/06/2025</td>\n",
       "      <td>Có trầy xước</td>\n",
       "      <td>Pin,Hộp,Sạc liền cáp MicroUSB,Tai nghe dây đầu...</td>\n",
       "      <td>Unisoc T107</td>\n",
       "      <td>48 MB</td>\n",
       "      <td>128 MB</td>\n",
       "      <td>1020 mAh</td>\n",
       "    </tr>\n",
       "    <tr>\n",
       "      <th>4</th>\n",
       "      <td>Điện thoại Nokia 105</td>\n",
       "      <td>Màu: Đen</td>\n",
       "      <td>370.000₫</td>\n",
       "      <td>610.000₫</td>\n",
       "      <td>https://cdnv2.tgdd.vn/posimageused//posused/20...</td>\n",
       "      <td>Chính hãng đến 22/12/2025</td>\n",
       "      <td>Có trầy xước</td>\n",
       "      <td>Hộp, Pin, Sách hướng dẫn, Sạc liền cáp MicroUS...</td>\n",
       "      <td>Unisoc T107</td>\n",
       "      <td>48 MB</td>\n",
       "      <td>128 MB</td>\n",
       "      <td>1020 mAh</td>\n",
       "    </tr>\n",
       "  </tbody>\n",
       "</table>\n",
       "</div>"
      ],
      "text/plain": [
       "                   name           color price_old price_new  \\\n",
       "0  Điện thoại Nokia 105        Màu: Đen  240.000₫  610.000₫   \n",
       "1  Điện thoại Nokia 105        Màu: Đen  250.000₫  610.000₫   \n",
       "2  Điện thoại Nokia 105  Màu: Xanh ngọc  250.000₫  610.000₫   \n",
       "3  Điện thoại Nokia 105        Màu: Đen  250.000₫  610.000₫   \n",
       "4  Điện thoại Nokia 105        Màu: Đen  370.000₫  610.000₫   \n",
       "\n",
       "                                               image  \\\n",
       "0  https://img.tgdd.vn/imgt/old/f_webp,fit_outsid...   \n",
       "1  https://cdnv2.tgdd.vn/posimageused//posused/20...   \n",
       "2  https://img.tgdd.vn/imgt/old/f_webp,fit_outsid...   \n",
       "3  https://cdnv2.tgdd.vn/posimageused//posused/20...   \n",
       "4  https://cdnv2.tgdd.vn/posimageused//posused/20...   \n",
       "\n",
       "                    warranty     condition  \\\n",
       "0           1 tháng tại TGDĐ  Có trầy xước   \n",
       "1           1 tháng tại TGDĐ  Có trầy xước   \n",
       "2  Chính hãng đến 03/08/2025  Có trầy xước   \n",
       "3  Chính hãng đến 09/06/2025  Có trầy xước   \n",
       "4  Chính hãng đến 22/12/2025  Có trầy xước   \n",
       "\n",
       "                                         accessories          CPU    RAM  \\\n",
       "0  Pin,Sách hướng dẫn,Hộp,Sạc liền cáp MicroUSB,T...  Unisoc T107  48 MB   \n",
       "1  Pin,Sách hướng dẫn,Hộp,Sạc liền cáp MicroUSB,T...  Unisoc T107  48 MB   \n",
       "2  Pin,Sách hướng dẫn,Hộp,Sạc liền cáp MicroUSB,T...  Unisoc T107  48 MB   \n",
       "3  Pin,Hộp,Sạc liền cáp MicroUSB,Tai nghe dây đầu...  Unisoc T107  48 MB   \n",
       "4  Hộp, Pin, Sách hướng dẫn, Sạc liền cáp MicroUS...  Unisoc T107  48 MB   \n",
       "\n",
       "  capacity   battery  \n",
       "0   128 MB  1020 mAh  \n",
       "1   128 MB  1020 mAh  \n",
       "2   128 MB  1020 mAh  \n",
       "3   128 MB  1020 mAh  \n",
       "4   128 MB  1020 mAh  "
      ]
     },
     "execution_count": 19,
     "metadata": {},
     "output_type": "execute_result"
    }
   ],
   "source": [
    "data.head()"
   ]
  },
  {
   "cell_type": "markdown",
   "id": "6d116cbf-746b-4184-bc4c-eecddc7cc83d",
   "metadata": {},
   "source": [
    "# Tiền xử lí dữ liệu"
   ]
  },
  {
   "cell_type": "code",
   "execution_count": 21,
   "id": "aa843292-98d3-476a-99d4-5303673c7763",
   "metadata": {},
   "outputs": [],
   "source": [
    "# Drop các dòng rỗng hoàn toàn trong dữ liệu\n",
    "data.drop(index=data[pd.Series(empty_rows).values].index, inplace=True)"
   ]
  },
  {
   "cell_type": "code",
   "execution_count": 22,
   "id": "f1ea400e-b3a0-4375-88f2-a1f95335777b",
   "metadata": {},
   "outputs": [],
   "source": [
    "# Drop các dòng bị duplicated trong dữ liệu\n",
    "data.drop_duplicates(inplace=True)"
   ]
  },
  {
   "cell_type": "code",
   "execution_count": 23,
   "id": "8674e63c-218d-413f-a63e-fc537ef7da92",
   "metadata": {},
   "outputs": [],
   "source": [
    "# Chuyển đổi cột 'price_old' từ object sang numeric\n",
    "data['price_old'] = data['price_old'].astype(str)\n",
    "data['price_old'] = data['price_old'].str.replace('.', '', regex=False)\n",
    "data['price_old'] = data['price_old'].str.replace('₫', '', regex=False)\n",
    "data['price_old'] = pd.to_numeric(data['price_old'], errors='coerce')"
   ]
  },
  {
   "cell_type": "code",
   "execution_count": 24,
   "id": "25fcb8b5-0e06-43ad-9ce6-d2d8d4f187b8",
   "metadata": {},
   "outputs": [],
   "source": [
    "# Chuyển đổi cột 'price_new' từ object sang numeric\n",
    "data['price_new'] = data['price_new'].astype(str)\n",
    "data['price_new'] = data['price_new'].str.replace('.', '', regex=False)\n",
    "data['price_new'] = data['price_new'].str.replace('₫', '', regex=False)\n",
    "data['price_new'] = pd.to_numeric(data['price_new'], errors='coerce')"
   ]
  },
  {
   "cell_type": "code",
   "execution_count": 25,
   "id": "ca3fd06c-39ba-4ca1-b7e6-0c26a8a9b676",
   "metadata": {},
   "outputs": [],
   "source": [
    "# Loại bỏ chuỗi \"Màu: \" trong cột color\n",
    "data['color'] = data['color'].str.replace('Màu: ', '', regex=False)"
   ]
  },
  {
   "cell_type": "code",
   "execution_count": 26,
   "id": "5087bc77-3986-42ca-bc3d-afca5debe2ee",
   "metadata": {},
   "outputs": [],
   "source": [
    "# Loại bỏ các chuỗi không cần thiết trong cột warranty\n",
    "data['warranty'] = data['warranty'].str.replace(' tại TGDĐ', '', regex=False)\n",
    "data['warranty'] = data['warranty'].str.replace('Chính hãng đến ', '', regex=False)"
   ]
  },
  {
   "cell_type": "code",
   "execution_count": 27,
   "id": "8b6f33e6-e426-4869-ab70-d42aef9a4c41",
   "metadata": {},
   "outputs": [],
   "source": [
    "# Thống nhất dữ liệu trong cột 'battery' sang mAh\n",
    "condition = data['battery'] == '27 giờ'\n",
    "data.loc[condition, 'battery'] = '4674 mAh'\n",
    "condition = data['battery'] == '26 giờ'\n",
    "data.loc[condition, 'battery'] = '4005 mAh'\n",
    "condition = data['battery'] == '22 giờ'\n",
    "data.loc[condition, 'battery'] = '3561 mAh'\n",
    "condition = data['battery'] == '33 giờ'\n",
    "data.loc[condition, 'battery'] = '4685 mAh'\n",
    "condition = data['name'] == 'Điện thoại iPhone 16 Pro 512GB'\n",
    "data.loc[condition, 'battery'] = '3582 mAh'\n",
    "\n",
    "# Chuyển đổi cột 'battery' từ object sang int64\n",
    "data['battery'] = data['battery'].str.replace(' mAh', '', regex=False)\n",
    "data['battery'] = pd.to_numeric(data['battery'], errors='coerce').astype('Int64')"
   ]
  },
  {
   "cell_type": "code",
   "execution_count": 28,
   "id": "4f473a50-19f1-4807-ac27-c1deea94104b",
   "metadata": {},
   "outputs": [
    {
     "name": "stdout",
     "output_type": "stream",
     "text": [
      "[1.25000e-01 2.56000e+02 1.56250e-02 2.34375e-02 5.12000e+02 1.28000e+02\n",
      " 6.40000e+01 1.02400e+03         nan 3.20000e+01]\n",
      "[4.6875e-02 8.0000e+00 6.2500e-02 1.5625e-02 1.2000e+01 4.0000e+00\n",
      " 6.0000e+00 3.0000e+00 1.6000e+01        nan]\n"
     ]
    }
   ],
   "source": [
    "# Hàm chuyển đơn vị sang GB và chuyển đổi cột sang float\n",
    "def convert_to_gb(value):\n",
    "    if pd.isna(value) or str(value).lower().strip() == 'nan':\n",
    "        return np.nan\n",
    "    value = str(value).upper().strip()\n",
    "    if 'GB' in value:\n",
    "        return float(value.replace('GB', '').strip())\n",
    "    elif 'MB' in value:\n",
    "        return float(value.replace('MB', '').strip()) / 1024\n",
    "    elif 'TB' in value:\n",
    "        return float(value.replace('TB', '').strip()) * 1024\n",
    "    else:\n",
    "        return np.nan  \n",
    "\n",
    "# Chuyển đổi cột 'capacity' từ object sang float\n",
    "if data['capacity'].dtype == object:\n",
    "    data['capacity_GB'] = data['capacity'].apply(convert_to_gb)\n",
    "    data['capacity'] = data['capacity_GB']\n",
    "    data.drop(columns='capacity_GB', inplace=True)\n",
    " \n",
    "print(data['capacity'].unique())\n",
    "\n",
    "# Chuyển đổi cột 'RAM' từ object sang float\n",
    "if data['RAM'].dtype == object:\n",
    "    data['RAM_GB'] = data['RAM'].apply(convert_to_gb)\n",
    "    data['RAM'] = data['RAM_GB']\n",
    "    data.drop(columns='RAM_GB', inplace=True)\n",
    " \n",
    "print(data['RAM'].unique())"
   ]
  },
  {
   "cell_type": "code",
   "execution_count": 29,
   "id": "1889e30e-4670-41a7-b2dc-cfff37a4ba44",
   "metadata": {},
   "outputs": [],
   "source": [
    "# Xóa những thông tin không cần thiết trong cột name\n",
    "data['name'] = data['name'].str.replace(r'\\d+GB.*', '', regex=True).str.strip()\n",
    "data['name'] = data['name'].str.replace(r'\\d+TB.*', '', regex=True).str.strip()\n",
    "data['name'] = data['name'].str.replace(r'\\(.*', '', regex=True).str.strip()"
   ]
  },
  {
   "cell_type": "markdown",
   "id": "9282c457-214c-40be-a387-410b525b8ca6",
   "metadata": {},
   "source": [
    "# Xử lý giá trị thiếu"
   ]
  },
  {
   "cell_type": "code",
   "execution_count": 31,
   "id": "6c855f16-93d6-473e-9d1e-981f25993215",
   "metadata": {},
   "outputs": [
    {
     "data": {
      "text/plain": [
       "name             0\n",
       "color            0\n",
       "price_old        0\n",
       "price_new       22\n",
       "image            0\n",
       "warranty         0\n",
       "condition        0\n",
       "accessories      0\n",
       "CPU            155\n",
       "RAM            141\n",
       "capacity        26\n",
       "battery          0\n",
       "dtype: int64"
      ]
     },
     "execution_count": 31,
     "metadata": {},
     "output_type": "execute_result"
    }
   ],
   "source": [
    "data.isnull().sum()"
   ]
  },
  {
   "cell_type": "markdown",
   "id": "7e0b09bc-eed5-4243-91f9-d9fb11e235a5",
   "metadata": {},
   "source": [
    "Cột price_new, CPU, RAM, capacity có chứa giá trị thiếu, nghi ngờ bị thiếu theo dòng máy.\n"
   ]
  },
  {
   "cell_type": "code",
   "execution_count": 33,
   "id": "b1519aa9-75a1-4295-b09d-553465ffeee1",
   "metadata": {},
   "outputs": [
    {
     "name": "stdout",
     "output_type": "stream",
     "text": [
      "name\n",
      "Điện thoại Nokia C31                   1.0\n",
      "Điện thoại Samsung Galaxy A53 5G       1.0\n",
      "Điện thoại Samsung Galaxy S20+         1.0\n",
      "Điện thoại Samsung Galaxy S21 FE 5G    1.0\n",
      "Điện thoại Samsung Galaxy S23 5G       1.0\n",
      "Điện thoại Samsung Galaxy S23+ 5G      1.0\n",
      "Điện thoại iPhone 11 Pro               1.0\n",
      "Điện thoại iPhone 11 Pro Max           1.0\n",
      "Điện thoại iPhone X                    1.0\n",
      "Điện thoại vivo V25E                   1.0\n",
      "Điện thoại vivo Y16                    1.0\n",
      "Điện thoại vivo Y35                    1.0\n",
      "Name: price_new_missing, dtype: float64\n"
     ]
    }
   ],
   "source": [
    "# price_new\n",
    "data['price_new_missing'] = data['price_new'].isna().astype('int')\n",
    "# Tính tỷ lệ missing price_new theo tên điện thoại\n",
    "rate_prc_name = data.groupby('name')['price_new_missing'].mean()\n",
    "print(rate_prc_name[rate_prc_name > 0])\n",
    "\n",
    "data = data.drop(columns=['price_new_missing'])"
   ]
  },
  {
   "cell_type": "markdown",
   "id": "233ab675-4eb6-4ac2-8090-80b44b90bd4e",
   "metadata": {},
   "source": [
    "Rõ ràng thiếu do phụ thuộc vào dòng máy. Qua tra cứu thì các dòng máy trên đã ngừng kinh doanh sản phẩm mới -> không có giá bán mới. \n",
    "Xử lý: Do price_new là một thuộc tính quan trọng của bài toán -> drop những dòng bị missing ở thuộc tính price_new."
   ]
  },
  {
   "cell_type": "code",
   "execution_count": 35,
   "id": "b0a1bcd7-d965-4745-9922-8408cfa03cd0",
   "metadata": {},
   "outputs": [],
   "source": [
    "data = data.dropna(subset=['price_new'])"
   ]
  },
  {
   "cell_type": "code",
   "execution_count": 36,
   "id": "98162f6c-6ec9-4de9-809f-e8809526dafc",
   "metadata": {},
   "outputs": [
    {
     "name": "stdout",
     "output_type": "stream",
     "text": [
      "name\n",
      "Điện thoại Itel it2600         1.0\n",
      "Điện thoại Itel it9211         1.0\n",
      "Điện thoại Itel it9310         1.0\n",
      "Điện thoại Nokia HMD 105 4G    1.0\n",
      "Name: CPU_missing, dtype: float64\n"
     ]
    }
   ],
   "source": [
    "# CPU\n",
    "data['CPU_missing'] = data['CPU'].isna().astype('int')\n",
    "# Tính tỷ lệ missing CPU theo tên điện thoại\n",
    "rate_CPU_name = data.groupby('name')['CPU_missing'].mean()\n",
    "print(rate_CPU_name[rate_CPU_name > 0])\n",
    "\n",
    "data = data.drop(columns=['CPU_missing'])"
   ]
  },
  {
   "cell_type": "markdown",
   "id": "010599c6-a85e-4d33-b523-cab43ec2b7ee",
   "metadata": {},
   "source": [
    "Rõ ràng thiếu do phụ thuộc vào dòng máy. Qua tra cứu thì 2 dòng máy này không public thông số kỹ thuật CPU. \n",
    "Xử lý: Không cần xử lý, không thể điền thiếu do đây là thông số của nhà sản xuất."
   ]
  },
  {
   "cell_type": "code",
   "execution_count": 38,
   "id": "7a65d0a3-1b2b-4486-84c3-1f2dbf7cced2",
   "metadata": {},
   "outputs": [
    {
     "name": "stdout",
     "output_type": "stream",
     "text": [
      "name\n",
      "Điện thoại Itel it9211         1.0\n",
      "Điện thoại Nokia HMD 105 4G    1.0\n",
      "Name: RAM_missing, dtype: float64\n"
     ]
    }
   ],
   "source": [
    "# RAM\n",
    "data['RAM_missing'] = data['RAM'].isna().astype('int')\n",
    "# Tính tỷ lệ missing RAM theo tên điện thoại\n",
    "rate_RAM_name = data.groupby('name')['RAM_missing'].mean()\n",
    "print(rate_RAM_name[rate_RAM_name > 0])\n",
    "\n",
    "data = data.drop(columns=['RAM_missing'])"
   ]
  },
  {
   "cell_type": "markdown",
   "id": "df474d68-bfbc-4a49-9a11-838edcbf54cd",
   "metadata": {},
   "source": [
    "Rõ ràng thiếu do phụ thuộc vào dòng máy. Tương tự CPU, các dòng máy này không public thông số RAM.\n",
    "Xử lý: Tương tự CPU."
   ]
  },
  {
   "cell_type": "code",
   "execution_count": 40,
   "id": "6b835175-b6af-438b-a23f-b9621882946c",
   "metadata": {},
   "outputs": [
    {
     "name": "stdout",
     "output_type": "stream",
     "text": [
      "name\n",
      "Điện thoại Itel it9211    1.0\n",
      "Name: capacity_missing, dtype: float64\n"
     ]
    }
   ],
   "source": [
    "#capacity\n",
    "data['capacity_missing'] = data['capacity'].isna().astype('int')\n",
    "# Tính tỷ lệ missing RAM theo tên điện thoại\n",
    "rate_capacity_name = data.groupby('name')['capacity_missing'].mean()\n",
    "print(rate_capacity_name[rate_capacity_name > 0])\n",
    "\n",
    "data = data.drop(columns=['capacity_missing'])"
   ]
  },
  {
   "cell_type": "markdown",
   "id": "56f83498-f16b-406e-9144-5abe8f4cc66e",
   "metadata": {},
   "source": [
    "Rõ ràng thiếu do phụ thuộc vào dòng máy. Tương tự CPU, dòng máy này không public thông số dung lượng lưu trữ.\n",
    "Xử lý: Tương tự CPU. "
   ]
  },
  {
   "cell_type": "markdown",
   "id": "90048104-56a2-42c4-bb2e-5c9e478295f3",
   "metadata": {},
   "source": [
    "## Xử lý giá trị ngoại lai"
   ]
  },
  {
   "cell_type": "code",
   "execution_count": 78,
   "id": "04bf2069-700d-49af-b059-a263a2d3f143",
   "metadata": {},
   "outputs": [
    {
     "name": "stdout",
     "output_type": "stream",
     "text": [
      "Khoảng giá toàn cục\n",
      "count: 12,418\n",
      " mean: 10,712,652\n",
      "  std: 9,633,977\n",
      "  min: 380,000\n",
      "  25%: 3,990,000\n",
      "  50%: 7,290,000\n",
      "  75%: 14,990,000\n",
      "  max: 47,990,000\n"
     ]
    }
   ],
   "source": [
    "# Kiểm tra khoảng giá toàn cục\n",
    "print(\"Khoảng giá toàn cục\")\n",
    "for k, v in price_range.items():\n",
    "    print(f\"{k:>5}: {int(v):,}\")"
   ]
  },
  {
   "cell_type": "code",
   "execution_count": 80,
   "id": "f4c78efc-0f7a-412f-8e74-82e98b1884eb",
   "metadata": {},
   "outputs": [
    {
     "name": "stdout",
     "output_type": "stream",
     "text": [
      "\n",
      "Số lượng giá khác nhau trong mỗi dòng máy:\n",
      "name\n",
      "Điện thoại iPhone 16 Pro            4\n",
      "Điện thoại Samsung Galaxy A06       3\n",
      "Điện thoại Samsung Galaxy A56 5G    3\n",
      "Điện thoại OPPO A3                  3\n",
      "Điện thoại Samsung Galaxy A16       3\n",
      "                                   ..\n",
      "Điện thoại Xiaomi 13 5G             1\n",
      "Điện thoại Viettel Sumo 4G T2       1\n",
      "Điện thoại Tecno Spark GO 1         1\n",
      "Điện thoại Tecno Spark 30C          1\n",
      "Điện thoại Benco 4G G3              1\n",
      "Name: price_new, Length: 170, dtype: int64\n"
     ]
    }
   ],
   "source": [
    "# Đếm số giá khác nhau trong từng dòng máy\n",
    "unique_prices_per_model = data.groupby('name')['price_new'].nunique().sort_values(ascending=False)\n",
    "print(\"\\nSố lượng giá khác nhau trong mỗi dòng máy:\")\n",
    "print(unique_prices_per_model)"
   ]
  },
  {
   "cell_type": "code",
   "execution_count": 82,
   "id": "5cc2a26e-f6c9-4ddd-8b52-17f45b3cb842",
   "metadata": {
    "scrolled": true
   },
   "outputs": [
    {
     "name": "stdout",
     "output_type": "stream",
     "text": [
      "\n",
      "Số mẫu mỗi dòng máy:\n",
      "name\n",
      "Điện thoại Mobell M239 4G           425\n",
      "Điện thoại realme C75               376\n",
      "Điện thoại vivo Y29                 356\n",
      "Điện thoại OPPO Reno13 5G           330\n",
      "Điện thoại OPPO Reno13 F 5G         319\n",
      "                                   ... \n",
      "Điện thoại Samsung Galaxy A14 5G      1\n",
      "Điện thoại Samsung Galaxy A54 5G      1\n",
      "Điện thoại Samsung Galaxy A15         1\n",
      "Điện thoại iPhone 12 mini             1\n",
      "Điện thoại Masstel S9                 1\n",
      "Name: count, Length: 170, dtype: int64\n"
     ]
    }
   ],
   "source": [
    "# Đếm số mẫu mỗi dòng máy\n",
    "sample_count_per_model = data['name'].value_counts()\n",
    "print(\"\\nSố mẫu mỗi dòng máy:\")\n",
    "print(sample_count_per_model)"
   ]
  },
  {
   "cell_type": "markdown",
   "id": "63585f69-d209-4a52-9cf2-7da7363f459b",
   "metadata": {},
   "source": [
    "Giá và thông số khác biệt lớn giữa các dòng máy (từ vài trăm nghìn đến gần 50 triệu).\n",
    "Đa số dòng máy có giá giao động trong khoảng nhất định.\n",
    "Số lượng mẫu không đều giữa các dòng, xử lý toàn cục sẽ lệch kết quả.\n",
    "-> xử lý theo từng dòng máy (name)."
   ]
  },
  {
   "cell_type": "markdown",
   "id": "c0047467-687d-433c-ae63-c157b3748f07",
   "metadata": {},
   "source": []
  }
 ],
 "metadata": {
  "kernelspec": {
   "display_name": "Python [conda env:base] *",
   "language": "python",
   "name": "conda-base-py"
  },
  "language_info": {
   "codemirror_mode": {
    "name": "ipython",
    "version": 3
   },
   "file_extension": ".py",
   "mimetype": "text/x-python",
   "name": "python",
   "nbconvert_exporter": "python",
   "pygments_lexer": "ipython3",
   "version": "3.12.3"
  }
 },
 "nbformat": 4,
 "nbformat_minor": 5
}
