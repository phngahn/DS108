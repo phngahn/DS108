{
 "cells": [
  {
   "cell_type": "code",
   "execution_count": 2,
   "id": "a70be59a-5b58-4a4b-a37e-9824a5502d68",
   "metadata": {},
   "outputs": [],
   "source": [
    "from selenium import webdriver\n",
    "from selenium.webdriver.common.by import By\n",
    "from selenium.webdriver.support.ui import WebDriverWait\n",
    "from selenium.webdriver.support import expected_conditions as EC\n",
    "import pandas as pd\n",
    "import time"
   ]
  },
  {
   "cell_type": "code",
   "execution_count": 3,
   "id": "7325cca8-7225-456c-91a9-958faa34dd6e",
   "metadata": {},
   "outputs": [],
   "source": [
    "df = pd.read_csv(\"urls.csv\")"
   ]
  },
  {
   "cell_type": "code",
   "execution_count": 4,
   "id": "ff1d40a0-1997-4ff7-b7b6-c266cad2757f",
   "metadata": {},
   "outputs": [],
   "source": [
    "urls = df[\"URL\"].tolist"
   ]
  },
  {
   "cell_type": "code",
   "execution_count": 5,
   "id": "d1a893f7-188d-494b-823c-1d5e33c0a872",
   "metadata": {},
   "outputs": [],
   "source": [
    "def get_title(driver):\n",
    "    title = None\n",
    "    \n",
    "    try:\n",
    "        title_element = driver.find_element(By.XPATH, \"//div[@class = 'box-product-name']//h1\")\n",
    "        title = title_element.text\n",
    "    except:\n",
    "        return title\n",
    "\n",
    "    return title.split('-')"
   ]
  },
  {
   "cell_type": "code",
   "execution_count": 6,
   "id": "1bc65bb7-95e8-4b99-9a4c-8e1386662bd2",
   "metadata": {},
   "outputs": [],
   "source": [
    "def get_name(driver):\n",
    "    name = None\n",
    "\n",
    "    try:\n",
    "        title = get_title(driver)\n",
    "        name = title[0]\n",
    "    except:\n",
    "        return name\n",
    "        \n",
    "    return name.strip()"
   ]
  },
  {
   "cell_type": "code",
   "execution_count": 7,
   "id": "2b50d4a1-b942-48bc-831e-c903371fef72",
   "metadata": {},
   "outputs": [],
   "source": [
    "def get_condition(driver):\n",
    "    condition = None\n",
    "\n",
    "    try:\n",
    "        title = get_title(driver)\n",
    "        condition = title[1]\n",
    "    except:\n",
    "        return condition\n",
    "        \n",
    "    return condition.strip()"
   ]
  },
  {
   "cell_type": "code",
   "execution_count": 8,
   "id": "7684346b-8dc0-42ad-bdfb-55a1bb0b93cb",
   "metadata": {},
   "outputs": [],
   "source": [
    "def get_price(driver):\n",
    "    price_old = None\n",
    "    price_new = None\n",
    "\n",
    "    try:\n",
    "        price_element = driver.find_element(By.XPATH, \"//div[contains(@class, 'tpt-box has')]\")\n",
    "        price_old_element = price_element.find_element(By.CLASS_NAME, \"tpt---sale-price\")\n",
    "        price_new_element = price_element.find_element(By.CLASS_NAME, \"tpt---price\")\n",
    "\n",
    "        price_old = price_old_element.text\n",
    "        price_new = price_new_element.text\n",
    "    except:\n",
    "        return price_old, price_new\n",
    "\n",
    "    return price_old, price_new"
   ]
  },
  {
   "cell_type": "code",
   "execution_count": 9,
   "id": "c5587a7b-23c1-41c9-9641-95403ac45211",
   "metadata": {},
   "outputs": [],
   "source": [
    "def get_color(driver):\n",
    "    color = None\n",
    "\n",
    "    try:\n",
    "        color_elements = driver.find_elements(By.XPATH, \"//strong[@class = 'item-variant-name']\")\n",
    "        if color_elements:\n",
    "            color = []\n",
    "            for color_element in color_elements:\n",
    "                color.append(color_element.text)\n",
    "    except:\n",
    "        return color\n",
    "\n",
    "    return color"
   ]
  },
  {
   "cell_type": "code",
   "execution_count": 25,
   "id": "7cf8c423-798d-44fe-9e87-66efc4d14f85",
   "metadata": {},
   "outputs": [],
   "source": [
    "def get_image(driver):\n",
    "    image = None\n",
    "\n",
    "    try:\n",
    "        image_element = driver.find_element(By.XPATH, \"//div[@class ='box-gallery' ]//div[@class = 'swiper-slide swiper-slide-active']/img\")\n",
    "        image = image_element.get_attribute(\"src\")\n",
    "    except:\n",
    "        return image\n",
    "\n",
    "    return image     "
   ]
  },
  {
   "cell_type": "code",
   "execution_count": 10,
   "id": "1f0e6bc9-2dc5-493c-a1c1-1b4d333516c2",
   "metadata": {},
   "outputs": [],
   "source": [
    "def scroll_to_button(driver, button_class_name):\n",
    "    for _ in range(20):\n",
    "        try:\n",
    "            button = driver.find_element(By.CLASS_NAME, button_class_name)\n",
    "            \n",
    "            # Kiểm tra xem nút có trong viewport không\n",
    "            is_displayed = driver.execute_script(\n",
    "                \"var rect = arguments[0].getBoundingClientRect(); return rect.top >= 0 && rect.bottom <= window.innerHeight;\", button\n",
    "            )\n",
    "\n",
    "            if is_displayed:\n",
    "                return button\n",
    "            else:\n",
    "                driver.execute_script(\"window.scrollBy(0, 200);\")\n",
    "                time.sleep(0.5)\n",
    "        except:\n",
    "            driver.execute_script(\"window.scrollBy(0, 200);\")\n",
    "            time.sleep(0.5)\n",
    "    \n",
    "    return None  # Trả về None nếu không tìm thấy nút"
   ]
  },
  {
   "cell_type": "code",
   "execution_count": 29,
   "id": "7bab472d-451f-4e50-95f7-a0c9ea9dfd61",
   "metadata": {},
   "outputs": [],
   "source": [
    "def scrape_data(driver):\n",
    "    RAM = None\n",
    "    CPU = None\n",
    "    capacity = None\n",
    "    battery = None\n",
    "    time = None\n",
    "    wait = WebDriverWait(driver, 15)\n",
    "\n",
    "    try:\n",
    "        # Tắt quảng cáo nếu có\n",
    "        try:\n",
    "            wait.until(EC.element_to_be_clickable((By.CLASS_NAME, \"cancel-button-top\"))).click()\n",
    "        except:\n",
    "            pass\n",
    "\n",
    "        # Scroll down tới button\n",
    "        button = scroll_to_button(driver, \"button__show-modal-technical\")\n",
    "        if button:\n",
    "            driver.execute_script(\"arguments[0].click();\", button)\n",
    "            time.sleep(2)\n",
    "        else:\n",
    "            print(\"Không tìm thấy nút!\")\n",
    "\n",
    "        CPU_element = wait.until(EC.presence_of_element_located((By.XPATH, \"//p[contains(text(), 'Chip')]/following-sibling::div\")))\n",
    "        RAM_element = wait.until(EC.presence_of_element_located((By.XPATH, \"//p[contains(text(), 'Dung lượng RAM')]/following-sibling::div\")))\n",
    "        capacity_element = wait.until(EC.presence_of_element_located((By.XPATH, \"//p[contains(text(), 'Bộ nhớ trong')]/following-sibling::div\")))\n",
    "        time_element = wait.until(EC.presence_of_element_located((By.XPATH, \"//p[contains(text(), 'Thời điểm ra mắt')]/following-sibling::div\")))\n",
    "        battery_element = wait.until(EC.presence_of_element_located((By.XPATH, \"//p[contains(text(), 'Pin')]/following-sibling::div\")))\n",
    "        # Lấy thông tin từ các thẻ\n",
    "        RAM = RAM_element.text\n",
    "        CPU = CPU_element.text\n",
    "        capacity = capacity_element.text\n",
    "        time = time_element.text\n",
    "        battery = battery_element.text\n",
    "    except:\n",
    "        return CPU, RAM, capacity, time, battery\n",
    "\n",
    "    return  CPU, RAM, capacity, time, battery"
   ]
  },
  {
   "cell_type": "code",
   "execution_count": 83,
   "id": "04768bc2-85e2-40dc-8def-4fefd4056b0d",
   "metadata": {},
   "outputs": [],
   "source": [
    "def scrape_data(driver):\n",
    "    RAM = None\n",
    "    CPU = None\n",
    "    capacity = None\n",
    "    battery = None\n",
    "    Time = None\n",
    "    wait = WebDriverWait(driver, 15)\n",
    "\n",
    "    try:\n",
    "        # Tắt quảng cáo nếu có\n",
    "        try:\n",
    "            wait.until(EC.element_to_be_clickable((By.CLASS_NAME, \"cancel-button-top\"))).click()\n",
    "        except:\n",
    "            pass\n",
    "\n",
    "        # Scroll down tới button\n",
    "        button = scroll_to_button(driver, \"button__show-modal-technical\")\n",
    "        if button:\n",
    "            driver.execute_script(\"arguments[0].click();\", button)\n",
    "            time.sleep(2)\n",
    "        else:\n",
    "            print(\"Không tìm thấy nút!\")\n",
    "\n",
    "        CPU_element = wait.until(EC.presence_of_element_located((By.XPATH, \"//p[contains(text(), 'Chip')]/following-sibling::div\")))\n",
    "        RAM_element = wait.until(EC.presence_of_element_located((By.XPATH, \"//p[contains(text(), 'Dung lượng RAM')]/following-sibling::div\")))\n",
    "        capacity_element = wait.until(EC.presence_of_element_located((By.XPATH, \"//p[contains(text(), 'Bộ nhớ trong')]/following-sibling::div\")))\n",
    "        time_element = wait.until(EC.presence_of_element_located((By.XPATH, \"//p[contains(text(), 'Thời điểm ra mắt')]/following-sibling::div\")))\n",
    "        battery_element = wait.until(EC.presence_of_element_located((By.XPATH, \"//p[contains(text(), 'Pin')]/following-sibling::div\")))\n",
    "        # Lấy thông tin từ các thẻ\n",
    "        RAM = driver.execute_script(\"return arguments[0].textContent;\", RAM_element)\n",
    "        CPU = driver.execute_script(\"return arguments[0].textContent;\", CPU_element)\n",
    "        capacity = driver.execute_script(\"return arguments[0].textContent;\", capacity_element)\n",
    "        Time = driver.execute_script(\"return arguments[0].textContent;\", time_element)\n",
    "        battery = driver.execute_script(\"return arguments[0].textContent;\", battery_element)\n",
    "    except:\n",
    "        return CPU, RAM, capacity, Time, battery\n",
    "\n",
    "    return CPU, RAM, capacity, Time, battery"
   ]
  }
 ],
 "metadata": {
  "kernelspec": {
   "display_name": "Python (base)",
   "language": "python",
   "name": "base"
  },
  "language_info": {
   "codemirror_mode": {
    "name": "ipython",
    "version": 3
   },
   "file_extension": ".py",
   "mimetype": "text/x-python",
   "name": "python",
   "nbconvert_exporter": "python",
   "pygments_lexer": "ipython3",
   "version": "3.12.3"
  }
 },
 "nbformat": 4,
 "nbformat_minor": 5
}
